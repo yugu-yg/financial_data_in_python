{
 "cells": [
  {
   "attachments": {},
   "cell_type": "markdown",
   "id": "d0c93a2a-f4c9-46b6-9ec2-198281c545b3",
   "metadata": {},
   "source": [
    "# Working with Financial Data\n",
    "\n",
    "In this note, we will learn how to work with financial data. Our goal is twofold. First, we will learn the mechanics and syntax of working with data in `python` -- which command does what, and what code you need to write to produce a certain analysis or make a certain plot. Second, we will learn a _data workflow_, which is an overall approach to importing, arranging, modifying, analyzing, and visualizing data that is not specific to a particular programming language.\n",
    "\n",
    "We will accomplish all of this by following an example. Our goal will be to assess the historical stock performance of several large companies, and then to see whether this performance is explained well by the **Capital Asset Pricing Model (CAPM)** that you learned in your investments class.\n",
    "\n",
    "But first things first. Earlier, we learned about various libraries that we use to accomplish certain things in `python`. For working with data, our go-to library will be `pandas`, commonly abbreviated to (\"aliased\" as) `pd`. This library will provide us with two _data structures_ -- `Series` and `DataFrame`. We can think of them as being `pandas` analogs to vectors and matrices from `numpy`, but with some extra bells and whistles (e.g. row and column labels, ability to store non-numeric and missing data, etc.) that make them better suited for working with data.\n",
    "\n",
    "Let's import the library.\n"
   ]
  },
  {
   "cell_type": "code",
   "execution_count": 1,
   "id": "67488ecb-26d2-45c1-88db-0312db72bfd1",
   "metadata": {},
   "outputs": [],
   "source": [
    "import pandas as pd"
   ]
  },
  {
   "attachments": {},
   "cell_type": "markdown",
   "id": "e451f720-15fd-4ea6-9087-9237bc2f7c38",
   "metadata": {},
   "source": [
    "Broadly speaking, data can come from three sources. First, and least commonly, we can enter data directly in our code. Second, we can import data from a file, whether stored locally on our computer or on some server elsewhere. There are many formats in which data can be stored in a file. The most common and widely compatible format for tabular data (i.e. tables) is comma-separated values (CSV) files, which are regular text files which use commas to separate columns and line-breaks to separate rows. Third, we can import data from a remote source (e.g. a website). Many data providers make data available through interfaces especially designed for computers to access them programmatically (through a program) as opposed for users to access them interactively (i.e. by visiting a website in a web browser). These interfaces are called Application Programming Interfaces (APIs) and instructions for how to use them vary from provider to provider.\n",
    "\n",
    "Later on, we will explore importing financial and economic data using a few common APIs. But for now, let's focus on the second method -- importing data from a CSV file.\n",
    "\n",
    "## Importing Data\n",
    "\n",
    "We will import monthly stock prices and associated information for Microsoft, ticker MSFT:\n"
   ]
  },
  {
   "cell_type": "code",
   "execution_count": 2,
   "id": "a33a2963-4296-42f4-be59-305c13ee3cb5",
   "metadata": {},
   "outputs": [
    {
     "data": {
      "text/plain": [
       "pandas.core.frame.DataFrame"
      ]
     },
     "execution_count": 2,
     "metadata": {},
     "output_type": "execute_result"
    }
   ],
   "source": [
    "df = pd.read_csv('data/MSFT.csv')\n",
    "type(df)"
   ]
  },
  {
   "attachments": {},
   "cell_type": "markdown",
   "id": "65d95060-4643-445d-89d3-8cb181bac577",
   "metadata": {},
   "source": [
    "In the command above, we imported data in file `MSFT.csv` in subfolder `data`, and stored it in a variable called `df`. We chose this name b/c it's short for `DataFrame` (the type of data structure `pandas` created) and is a common name for variables containing imported data. Let's learn more about this dataframe:\n"
   ]
  },
  {
   "cell_type": "code",
   "execution_count": 3,
   "id": "b81452bc-c520-4826-b9a8-3e9f80669cec",
   "metadata": {},
   "outputs": [
    {
     "name": "stdout",
     "output_type": "stream",
     "text": [
      "<class 'pandas.core.frame.DataFrame'>\n",
      "RangeIndex: 264 entries, 0 to 263\n",
      "Data columns (total 8 columns):\n",
      " #   Column           Non-Null Count  Dtype  \n",
      "---  ------           --------------  -----  \n",
      " 0   timestamp        264 non-null    object \n",
      " 1   open             264 non-null    float64\n",
      " 2   high             264 non-null    float64\n",
      " 3   low              264 non-null    float64\n",
      " 4   close            264 non-null    float64\n",
      " 5   adjusted close   264 non-null    float64\n",
      " 6   volume           264 non-null    int64  \n",
      " 7   dividend amount  264 non-null    float64\n",
      "dtypes: float64(6), int64(1), object(1)\n",
      "memory usage: 16.6+ KB\n"
     ]
    }
   ],
   "source": [
    "df.info()"
   ]
  },
  {
   "attachments": {},
   "cell_type": "markdown",
   "id": "fcda342d-c647-4de3-88ae-7325713a81b0",
   "metadata": {},
   "source": [
    "The `info()` method gives us some useful summary information about the structure of the table. We've learned that it has 264 rows (which we call observations in statistics) and 8 columns (variables, in statistics). Most columns contain floating-point (decimal) numbers, but the `volume` column contains integers and `timestamp` contains data of type `object`. None of the data is missing or `null`. Let's now take a look at the data itself. Just the first few rows (or the \"head\" of the table) is enough to get an idea of what the data looks like. We certainly don't want to print all of it.\n"
   ]
  },
  {
   "cell_type": "code",
   "execution_count": 4,
   "id": "db7ed30b-1749-458a-9ecc-6aa8adf3649d",
   "metadata": {},
   "outputs": [
    {
     "data": {
      "text/html": [
       "<div>\n",
       "<style scoped>\n",
       "    .dataframe tbody tr th:only-of-type {\n",
       "        vertical-align: middle;\n",
       "    }\n",
       "\n",
       "    .dataframe tbody tr th {\n",
       "        vertical-align: top;\n",
       "    }\n",
       "\n",
       "    .dataframe thead th {\n",
       "        text-align: right;\n",
       "    }\n",
       "</style>\n",
       "<table border=\"1\" class=\"dataframe\">\n",
       "  <thead>\n",
       "    <tr style=\"text-align: right;\">\n",
       "      <th></th>\n",
       "      <th>timestamp</th>\n",
       "      <th>open</th>\n",
       "      <th>high</th>\n",
       "      <th>low</th>\n",
       "      <th>close</th>\n",
       "      <th>adjusted close</th>\n",
       "      <th>volume</th>\n",
       "      <th>dividend amount</th>\n",
       "    </tr>\n",
       "  </thead>\n",
       "  <tbody>\n",
       "    <tr>\n",
       "      <th>0</th>\n",
       "      <td>2021-11-05</td>\n",
       "      <td>331.3550</td>\n",
       "      <td>338.79</td>\n",
       "      <td>326.37</td>\n",
       "      <td>336.06</td>\n",
       "      <td>336.0600</td>\n",
       "      <td>120621826</td>\n",
       "      <td>0.00</td>\n",
       "    </tr>\n",
       "    <tr>\n",
       "      <th>1</th>\n",
       "      <td>2021-10-29</td>\n",
       "      <td>282.1217</td>\n",
       "      <td>332.00</td>\n",
       "      <td>280.25</td>\n",
       "      <td>331.62</td>\n",
       "      <td>331.6200</td>\n",
       "      <td>516523658</td>\n",
       "      <td>0.00</td>\n",
       "    </tr>\n",
       "    <tr>\n",
       "      <th>2</th>\n",
       "      <td>2021-09-30</td>\n",
       "      <td>302.8650</td>\n",
       "      <td>305.32</td>\n",
       "      <td>281.62</td>\n",
       "      <td>281.92</td>\n",
       "      <td>281.9200</td>\n",
       "      <td>502931199</td>\n",
       "      <td>0.00</td>\n",
       "    </tr>\n",
       "    <tr>\n",
       "      <th>3</th>\n",
       "      <td>2021-08-31</td>\n",
       "      <td>286.3600</td>\n",
       "      <td>305.84</td>\n",
       "      <td>283.74</td>\n",
       "      <td>301.88</td>\n",
       "      <td>301.8800</td>\n",
       "      <td>440360333</td>\n",
       "      <td>0.56</td>\n",
       "    </tr>\n",
       "    <tr>\n",
       "      <th>4</th>\n",
       "      <td>2021-07-30</td>\n",
       "      <td>269.6100</td>\n",
       "      <td>290.15</td>\n",
       "      <td>269.60</td>\n",
       "      <td>284.91</td>\n",
       "      <td>284.3623</td>\n",
       "      <td>522303043</td>\n",
       "      <td>0.00</td>\n",
       "    </tr>\n",
       "  </tbody>\n",
       "</table>\n",
       "</div>"
      ],
      "text/plain": [
       "    timestamp      open    high     low   close  adjusted close     volume  \\\n",
       "0  2021-11-05  331.3550  338.79  326.37  336.06        336.0600  120621826   \n",
       "1  2021-10-29  282.1217  332.00  280.25  331.62        331.6200  516523658   \n",
       "2  2021-09-30  302.8650  305.32  281.62  281.92        281.9200  502931199   \n",
       "3  2021-08-31  286.3600  305.84  283.74  301.88        301.8800  440360333   \n",
       "4  2021-07-30  269.6100  290.15  269.60  284.91        284.3623  522303043   \n",
       "\n",
       "   dividend amount  \n",
       "0             0.00  \n",
       "1             0.00  \n",
       "2             0.00  \n",
       "3             0.56  \n",
       "4             0.00  "
      ]
     },
     "execution_count": 4,
     "metadata": {},
     "output_type": "execute_result"
    }
   ],
   "source": [
    "df.head()"
   ]
  },
  {
   "attachments": {},
   "cell_type": "markdown",
   "id": "b82316d0-f709-4ac8-8211-8adc8d13a0d1",
   "metadata": {},
   "source": [
    "For every month indicated by the `timestamp` column and seemingly in recent-first order, we have Microsoft's open (beginning of the month), high (highest that month), low (lowest that month), and close (end of the month) prices. We also see volume (number of shares traded) and dividend paid, as well as a column called `adjusted close`, which we will discuss later. This type of data is often called OHLC (Open, High, Low, Close) and is the most common format for historical stock prices.\n",
    "\n",
    "Note the first column that numbers our rows from 0 onwards. This is the _index_ of the dataframe. By default, `pandas` uses the row number. But if there is a column or set of columns that **uniquely** identifies the row, perhaps it would be a better index, because it is more descriptive than just the initial row number. Here, such a column is `timestamp`, which identifies the calendar month of the stock prices in that row. We can make `timestamp` the index (semi-column is just so t\n"
   ]
  },
  {
   "cell_type": "code",
   "execution_count": 5,
   "id": "b179d510-5c74-4ed6-9e60-51be69d85dae",
   "metadata": {},
   "outputs": [
    {
     "data": {
      "text/html": [
       "<div>\n",
       "<style scoped>\n",
       "    .dataframe tbody tr th:only-of-type {\n",
       "        vertical-align: middle;\n",
       "    }\n",
       "\n",
       "    .dataframe tbody tr th {\n",
       "        vertical-align: top;\n",
       "    }\n",
       "\n",
       "    .dataframe thead th {\n",
       "        text-align: right;\n",
       "    }\n",
       "</style>\n",
       "<table border=\"1\" class=\"dataframe\">\n",
       "  <thead>\n",
       "    <tr style=\"text-align: right;\">\n",
       "      <th></th>\n",
       "      <th>open</th>\n",
       "      <th>high</th>\n",
       "      <th>low</th>\n",
       "      <th>close</th>\n",
       "      <th>adjusted close</th>\n",
       "      <th>volume</th>\n",
       "      <th>dividend amount</th>\n",
       "    </tr>\n",
       "    <tr>\n",
       "      <th>timestamp</th>\n",
       "      <th></th>\n",
       "      <th></th>\n",
       "      <th></th>\n",
       "      <th></th>\n",
       "      <th></th>\n",
       "      <th></th>\n",
       "      <th></th>\n",
       "    </tr>\n",
       "  </thead>\n",
       "  <tbody>\n",
       "    <tr>\n",
       "      <th>2021-11-05</th>\n",
       "      <td>331.3550</td>\n",
       "      <td>338.79</td>\n",
       "      <td>326.37</td>\n",
       "      <td>336.06</td>\n",
       "      <td>336.0600</td>\n",
       "      <td>120621826</td>\n",
       "      <td>0.00</td>\n",
       "    </tr>\n",
       "    <tr>\n",
       "      <th>2021-10-29</th>\n",
       "      <td>282.1217</td>\n",
       "      <td>332.00</td>\n",
       "      <td>280.25</td>\n",
       "      <td>331.62</td>\n",
       "      <td>331.6200</td>\n",
       "      <td>516523658</td>\n",
       "      <td>0.00</td>\n",
       "    </tr>\n",
       "    <tr>\n",
       "      <th>2021-09-30</th>\n",
       "      <td>302.8650</td>\n",
       "      <td>305.32</td>\n",
       "      <td>281.62</td>\n",
       "      <td>281.92</td>\n",
       "      <td>281.9200</td>\n",
       "      <td>502931199</td>\n",
       "      <td>0.00</td>\n",
       "    </tr>\n",
       "    <tr>\n",
       "      <th>2021-08-31</th>\n",
       "      <td>286.3600</td>\n",
       "      <td>305.84</td>\n",
       "      <td>283.74</td>\n",
       "      <td>301.88</td>\n",
       "      <td>301.8800</td>\n",
       "      <td>440360333</td>\n",
       "      <td>0.56</td>\n",
       "    </tr>\n",
       "    <tr>\n",
       "      <th>2021-07-30</th>\n",
       "      <td>269.6100</td>\n",
       "      <td>290.15</td>\n",
       "      <td>269.60</td>\n",
       "      <td>284.91</td>\n",
       "      <td>284.3623</td>\n",
       "      <td>522303043</td>\n",
       "      <td>0.00</td>\n",
       "    </tr>\n",
       "    <tr>\n",
       "      <th>...</th>\n",
       "      <td>...</td>\n",
       "      <td>...</td>\n",
       "      <td>...</td>\n",
       "      <td>...</td>\n",
       "      <td>...</td>\n",
       "      <td>...</td>\n",
       "      <td>...</td>\n",
       "    </tr>\n",
       "    <tr>\n",
       "      <th>2000-04-28</th>\n",
       "      <td>94.4400</td>\n",
       "      <td>96.50</td>\n",
       "      <td>65.00</td>\n",
       "      <td>69.75</td>\n",
       "      <td>22.1056</td>\n",
       "      <td>1129073300</td>\n",
       "      <td>0.00</td>\n",
       "    </tr>\n",
       "    <tr>\n",
       "      <th>2000-03-31</th>\n",
       "      <td>89.6200</td>\n",
       "      <td>115.00</td>\n",
       "      <td>88.94</td>\n",
       "      <td>106.25</td>\n",
       "      <td>33.6734</td>\n",
       "      <td>1014093800</td>\n",
       "      <td>0.00</td>\n",
       "    </tr>\n",
       "    <tr>\n",
       "      <th>2000-02-29</th>\n",
       "      <td>98.5000</td>\n",
       "      <td>110.00</td>\n",
       "      <td>88.12</td>\n",
       "      <td>89.37</td>\n",
       "      <td>28.3237</td>\n",
       "      <td>667243800</td>\n",
       "      <td>0.00</td>\n",
       "    </tr>\n",
       "    <tr>\n",
       "      <th>2000-01-31</th>\n",
       "      <td>117.3700</td>\n",
       "      <td>118.62</td>\n",
       "      <td>94.87</td>\n",
       "      <td>97.87</td>\n",
       "      <td>31.0176</td>\n",
       "      <td>637437600</td>\n",
       "      <td>0.00</td>\n",
       "    </tr>\n",
       "    <tr>\n",
       "      <th>1999-12-31</th>\n",
       "      <td>91.0600</td>\n",
       "      <td>119.94</td>\n",
       "      <td>90.87</td>\n",
       "      <td>116.75</td>\n",
       "      <td>37.0012</td>\n",
       "      <td>630488900</td>\n",
       "      <td>0.00</td>\n",
       "    </tr>\n",
       "  </tbody>\n",
       "</table>\n",
       "<p>264 rows × 7 columns</p>\n",
       "</div>"
      ],
      "text/plain": [
       "                open    high     low   close  adjusted close      volume  \\\n",
       "timestamp                                                                  \n",
       "2021-11-05  331.3550  338.79  326.37  336.06        336.0600   120621826   \n",
       "2021-10-29  282.1217  332.00  280.25  331.62        331.6200   516523658   \n",
       "2021-09-30  302.8650  305.32  281.62  281.92        281.9200   502931199   \n",
       "2021-08-31  286.3600  305.84  283.74  301.88        301.8800   440360333   \n",
       "2021-07-30  269.6100  290.15  269.60  284.91        284.3623   522303043   \n",
       "...              ...     ...     ...     ...             ...         ...   \n",
       "2000-04-28   94.4400   96.50   65.00   69.75         22.1056  1129073300   \n",
       "2000-03-31   89.6200  115.00   88.94  106.25         33.6734  1014093800   \n",
       "2000-02-29   98.5000  110.00   88.12   89.37         28.3237   667243800   \n",
       "2000-01-31  117.3700  118.62   94.87   97.87         31.0176   637437600   \n",
       "1999-12-31   91.0600  119.94   90.87  116.75         37.0012   630488900   \n",
       "\n",
       "            dividend amount  \n",
       "timestamp                    \n",
       "2021-11-05             0.00  \n",
       "2021-10-29             0.00  \n",
       "2021-09-30             0.00  \n",
       "2021-08-31             0.56  \n",
       "2021-07-30             0.00  \n",
       "...                     ...  \n",
       "2000-04-28             0.00  \n",
       "2000-03-31             0.00  \n",
       "2000-02-29             0.00  \n",
       "2000-01-31             0.00  \n",
       "1999-12-31             0.00  \n",
       "\n",
       "[264 rows x 7 columns]"
      ]
     },
     "execution_count": 5,
     "metadata": {},
     "output_type": "execute_result"
    }
   ],
   "source": [
    "df.set_index(\"timestamp\")"
   ]
  },
  {
   "attachments": {},
   "cell_type": "markdown",
   "id": "7898a80b-3cbd-4a79-b768-31432fc18f0f",
   "metadata": {},
   "source": [
    "Alternatively, we can set the index right away when importing the data:\n"
   ]
  },
  {
   "cell_type": "code",
   "execution_count": 6,
   "id": "bef16ab8-c64b-496f-8aca-31278ebe3b3f",
   "metadata": {},
   "outputs": [],
   "source": [
    "df = pd.read_csv(\"data/MSFT.csv\", index_col=\"timestamp\")\n"
   ]
  },
  {
   "attachments": {},
   "cell_type": "markdown",
   "id": "e8b53dd2-00e6-4308-a619-f2f752b2da6d",
   "metadata": {},
   "source": [
    "Now, when we display the dataframe's info, we see fewer columns (7 instead of 8) and the Index range now gives us more useful information -- that our monthly stock prices range from December 1999 to November 2021.\n"
   ]
  },
  {
   "cell_type": "code",
   "execution_count": 7,
   "id": "ce4db376-84e2-44ce-a9d0-43541586e50f",
   "metadata": {},
   "outputs": [
    {
     "name": "stdout",
     "output_type": "stream",
     "text": [
      "<class 'pandas.core.frame.DataFrame'>\n",
      "Index: 264 entries, 2021-11-05 to 1999-12-31\n",
      "Data columns (total 7 columns):\n",
      " #   Column           Non-Null Count  Dtype  \n",
      "---  ------           --------------  -----  \n",
      " 0   open             264 non-null    float64\n",
      " 1   high             264 non-null    float64\n",
      " 2   low              264 non-null    float64\n",
      " 3   close            264 non-null    float64\n",
      " 4   adjusted close   264 non-null    float64\n",
      " 5   volume           264 non-null    int64  \n",
      " 6   dividend amount  264 non-null    float64\n",
      "dtypes: float64(6), int64(1)\n",
      "memory usage: 16.5+ KB\n"
     ]
    }
   ],
   "source": [
    "df.info()"
   ]
  },
  {
   "attachments": {},
   "cell_type": "markdown",
   "id": "391d9027-3d23-4464-ad0c-1839c4f15b55",
   "metadata": {},
   "source": [
    "## Accessing Data\n",
    "\n",
    "There are multiple ways to access data in a dataframe. Like for a `numpy` `ndarray`, we can use row and column indices. For instance, to select the first two rows and second through third columns, we would index as follows (note the use of the `iloc` property. Try to index without it like you would an array, and see what happens).\n"
   ]
  },
  {
   "cell_type": "code",
   "execution_count": 8,
   "id": "cfa682d1-fe19-48f8-ac01-cd1dac72898b",
   "metadata": {},
   "outputs": [
    {
     "data": {
      "text/html": [
       "<div>\n",
       "<style scoped>\n",
       "    .dataframe tbody tr th:only-of-type {\n",
       "        vertical-align: middle;\n",
       "    }\n",
       "\n",
       "    .dataframe tbody tr th {\n",
       "        vertical-align: top;\n",
       "    }\n",
       "\n",
       "    .dataframe thead th {\n",
       "        text-align: right;\n",
       "    }\n",
       "</style>\n",
       "<table border=\"1\" class=\"dataframe\">\n",
       "  <thead>\n",
       "    <tr style=\"text-align: right;\">\n",
       "      <th></th>\n",
       "      <th>high</th>\n",
       "      <th>low</th>\n",
       "    </tr>\n",
       "    <tr>\n",
       "      <th>timestamp</th>\n",
       "      <th></th>\n",
       "      <th></th>\n",
       "    </tr>\n",
       "  </thead>\n",
       "  <tbody>\n",
       "    <tr>\n",
       "      <th>2021-11-05</th>\n",
       "      <td>338.79</td>\n",
       "      <td>326.37</td>\n",
       "    </tr>\n",
       "    <tr>\n",
       "      <th>2021-10-29</th>\n",
       "      <td>332.00</td>\n",
       "      <td>280.25</td>\n",
       "    </tr>\n",
       "  </tbody>\n",
       "</table>\n",
       "</div>"
      ],
      "text/plain": [
       "              high     low\n",
       "timestamp                 \n",
       "2021-11-05  338.79  326.37\n",
       "2021-10-29  332.00  280.25"
      ]
     },
     "execution_count": 8,
     "metadata": {},
     "output_type": "execute_result"
    }
   ],
   "source": [
    "df.iloc[0:2, 1:3]\n"
   ]
  },
  {
   "attachments": {},
   "cell_type": "markdown",
   "id": "bf0edf01-035f-4ed6-9705-7cc6f65051ef",
   "metadata": {},
   "source": [
    "But one of the main benefits of using dataframes is that we can refer to rows and columns not by their ordinal numbers (first, third, etc.), but by the index and column name:\n"
   ]
  },
  {
   "cell_type": "code",
   "execution_count": 9,
   "id": "32d88dc8-73fd-43b6-8854-7892ff6e42c1",
   "metadata": {},
   "outputs": [
    {
     "data": {
      "text/html": [
       "<div>\n",
       "<style scoped>\n",
       "    .dataframe tbody tr th:only-of-type {\n",
       "        vertical-align: middle;\n",
       "    }\n",
       "\n",
       "    .dataframe tbody tr th {\n",
       "        vertical-align: top;\n",
       "    }\n",
       "\n",
       "    .dataframe thead th {\n",
       "        text-align: right;\n",
       "    }\n",
       "</style>\n",
       "<table border=\"1\" class=\"dataframe\">\n",
       "  <thead>\n",
       "    <tr style=\"text-align: right;\">\n",
       "      <th></th>\n",
       "      <th>open</th>\n",
       "      <th>close</th>\n",
       "    </tr>\n",
       "    <tr>\n",
       "      <th>timestamp</th>\n",
       "      <th></th>\n",
       "      <th></th>\n",
       "    </tr>\n",
       "  </thead>\n",
       "  <tbody>\n",
       "    <tr>\n",
       "      <th>2021-11-05</th>\n",
       "      <td>331.3550</td>\n",
       "      <td>336.06</td>\n",
       "    </tr>\n",
       "    <tr>\n",
       "      <th>2021-10-29</th>\n",
       "      <td>282.1217</td>\n",
       "      <td>331.62</td>\n",
       "    </tr>\n",
       "  </tbody>\n",
       "</table>\n",
       "</div>"
      ],
      "text/plain": [
       "                open   close\n",
       "timestamp                   \n",
       "2021-11-05  331.3550  336.06\n",
       "2021-10-29  282.1217  331.62"
      ]
     },
     "execution_count": 9,
     "metadata": {},
     "output_type": "execute_result"
    }
   ],
   "source": [
    "df.loc[['2021-11-05', '2021-10-29'], ['open', 'close']]\n"
   ]
  },
  {
   "attachments": {},
   "cell_type": "markdown",
   "id": "7e9f0f04-251f-4e82-b601-6be75b519133",
   "metadata": {},
   "source": [
    "Now that we refer to rows and columns by their name, we use `loc` instead of `iloc`.\n",
    "\n",
    "Notice that both times, because we wanted multiple rows and multiple columns, the data structure returned was also a DataFrame. Suppose we only want one column. We have a choice in how we want this column to be returned. If we still want a dataframe, we will request the output column as a list `['open']` containing just one element -- the column we want:\n"
   ]
  },
  {
   "cell_type": "code",
   "execution_count": 10,
   "id": "a7333b0d-b635-4de8-8220-c7c5681d990a",
   "metadata": {},
   "outputs": [
    {
     "data": {
      "text/html": [
       "<div>\n",
       "<style scoped>\n",
       "    .dataframe tbody tr th:only-of-type {\n",
       "        vertical-align: middle;\n",
       "    }\n",
       "\n",
       "    .dataframe tbody tr th {\n",
       "        vertical-align: top;\n",
       "    }\n",
       "\n",
       "    .dataframe thead th {\n",
       "        text-align: right;\n",
       "    }\n",
       "</style>\n",
       "<table border=\"1\" class=\"dataframe\">\n",
       "  <thead>\n",
       "    <tr style=\"text-align: right;\">\n",
       "      <th></th>\n",
       "      <th>open</th>\n",
       "    </tr>\n",
       "    <tr>\n",
       "      <th>timestamp</th>\n",
       "      <th></th>\n",
       "    </tr>\n",
       "  </thead>\n",
       "  <tbody>\n",
       "    <tr>\n",
       "      <th>2021-11-05</th>\n",
       "      <td>331.3550</td>\n",
       "    </tr>\n",
       "    <tr>\n",
       "      <th>2021-10-29</th>\n",
       "      <td>282.1217</td>\n",
       "    </tr>\n",
       "  </tbody>\n",
       "</table>\n",
       "</div>"
      ],
      "text/plain": [
       "                open\n",
       "timestamp           \n",
       "2021-11-05  331.3550\n",
       "2021-10-29  282.1217"
      ]
     },
     "execution_count": 10,
     "metadata": {},
     "output_type": "execute_result"
    }
   ],
   "source": [
    "df.loc[['2021-11-05', '2021-10-29'], ['open']]\n"
   ]
  },
  {
   "attachments": {},
   "cell_type": "markdown",
   "id": "aa7fc0b8-3689-46b1-928c-ef3a083edbee",
   "metadata": {},
   "source": [
    "What if we left off the square brackets `[` and `]`?\n"
   ]
  },
  {
   "cell_type": "code",
   "execution_count": 11,
   "id": "91c48266-ac4b-47ee-9354-b4ac0439fdf5",
   "metadata": {},
   "outputs": [
    {
     "name": "stdout",
     "output_type": "stream",
     "text": [
      "timestamp\n",
      "2021-11-05    331.3550\n",
      "2021-10-29    282.1217\n",
      "Name: open, dtype: float64\n"
     ]
    },
    {
     "data": {
      "text/plain": [
       "pandas.core.series.Series"
      ]
     },
     "execution_count": 11,
     "metadata": {},
     "output_type": "execute_result"
    }
   ],
   "source": [
    "s = df.loc[['2021-11-05', '2021-10-29'], 'open']\n",
    "print(s)\n",
    "type(s)"
   ]
  },
  {
   "attachments": {},
   "cell_type": "markdown",
   "id": "94d670a6-2346-4c50-94a0-81ef4c0a5878",
   "metadata": {},
   "source": [
    "The `print()` function just prints `s`, and the `type()` command returns the data structure type. As you can see, this is no longer a `DataFrame` but a `Series`, the univariate data structure supplied by `pandas`. While `Series` only have one column while `DataFrames` can (but don't necessarily have to, as we saw above) have multiple columns, in practice the two data structures are very similar. Most methods that work for one work for another. One difference is that if we want to refer to rows by their number, we can do so directly for a `Series` whereas we have to use the `iloc` property for a `DataFrame`. But as you can see, this is a fairly minor difference.\n"
   ]
  },
  {
   "cell_type": "code",
   "execution_count": 12,
   "id": "09143c62-c32e-4a5c-9534-25160f4b512a",
   "metadata": {},
   "outputs": [
    {
     "data": {
      "text/plain": [
       "timestamp\n",
       "2021-11-05    331.3550\n",
       "2021-10-29    282.1217\n",
       "2021-09-30    302.8650\n",
       "Name: open, dtype: float64"
      ]
     },
     "execution_count": 12,
     "metadata": {},
     "output_type": "execute_result"
    }
   ],
   "source": [
    "df.loc[:, 'open'][0:3]\n"
   ]
  },
  {
   "attachments": {},
   "cell_type": "markdown",
   "id": "05b7f6c7-e70d-48bc-9d8d-9a573789ae14",
   "metadata": {},
   "source": [
    "One other convenient shorthand. If your column names do not contain spaces, you can retrieve one column at a time using the dot notation\n"
   ]
  },
  {
   "cell_type": "code",
   "execution_count": 13,
   "id": "28d3a926-53c1-46fa-820f-26e8cf1d1788",
   "metadata": {},
   "outputs": [
    {
     "data": {
      "text/plain": [
       "timestamp\n",
       "2021-11-05    331.3550\n",
       "2021-10-29    282.1217\n",
       "2021-09-30    302.8650\n",
       "Name: open, dtype: float64"
      ]
     },
     "execution_count": 13,
     "metadata": {},
     "output_type": "execute_result"
    }
   ],
   "source": [
    "df.open[0:3]"
   ]
  },
  {
   "attachments": {},
   "cell_type": "markdown",
   "id": "585eab7e-f4e3-42d6-8731-66e102909fb8",
   "metadata": {},
   "source": [
    "`df.open` is a litte easier to type than `df['open']` but, because it requires no spaces in column names, less flexible. So to be consistent, I recommend you stick with the `['open']` notation.\n",
    "\n",
    "In the examples above, we resricted both rows and columns i.e. we always selected some but not all rows, and some but not all columns. If we want all rows and some columns (i.e., entire columns), there is a convenient shorthand that avoids the `loc` property:\n"
   ]
  },
  {
   "cell_type": "code",
   "execution_count": 14,
   "id": "5ed67e8f-5fa7-4048-a182-23c7c73a8990",
   "metadata": {},
   "outputs": [
    {
     "name": "stdout",
     "output_type": "stream",
     "text": [
      "<class 'pandas.core.frame.DataFrame'>\n",
      "Index: 264 entries, 2021-11-05 to 1999-12-31\n",
      "Data columns (total 2 columns):\n",
      " #   Column  Non-Null Count  Dtype  \n",
      "---  ------  --------------  -----  \n",
      " 0   open    264 non-null    float64\n",
      " 1   close   264 non-null    float64\n",
      "dtypes: float64(2)\n",
      "memory usage: 14.3+ KB\n"
     ]
    }
   ],
   "source": [
    "subdf = df[['open', 'close']]\n",
    "subdf.info()"
   ]
  },
  {
   "attachments": {},
   "cell_type": "markdown",
   "id": "c6ee6f06-a809-4463-aa6c-227ad6eede52",
   "metadata": {},
   "source": [
    "returns a dataframe with all original rows but only the two requested columns. As before, if we only want closing prices, we can obtain it as a `DataFrame` `df[['close']]` or as a `Series` `df['close']`.\n",
    "\n",
    "If instead we wanted entire rows, i.e. some rows and all columns, we can use the `loc` property as before, but this time we can omit column names:\n"
   ]
  },
  {
   "cell_type": "code",
   "execution_count": 15,
   "id": "fbc427e7-dd03-4f70-8f16-cdcb8f6d5f5a",
   "metadata": {},
   "outputs": [
    {
     "data": {
      "text/html": [
       "<div>\n",
       "<style scoped>\n",
       "    .dataframe tbody tr th:only-of-type {\n",
       "        vertical-align: middle;\n",
       "    }\n",
       "\n",
       "    .dataframe tbody tr th {\n",
       "        vertical-align: top;\n",
       "    }\n",
       "\n",
       "    .dataframe thead th {\n",
       "        text-align: right;\n",
       "    }\n",
       "</style>\n",
       "<table border=\"1\" class=\"dataframe\">\n",
       "  <thead>\n",
       "    <tr style=\"text-align: right;\">\n",
       "      <th></th>\n",
       "      <th>open</th>\n",
       "      <th>high</th>\n",
       "      <th>low</th>\n",
       "      <th>close</th>\n",
       "      <th>adjusted close</th>\n",
       "      <th>volume</th>\n",
       "      <th>dividend amount</th>\n",
       "    </tr>\n",
       "    <tr>\n",
       "      <th>timestamp</th>\n",
       "      <th></th>\n",
       "      <th></th>\n",
       "      <th></th>\n",
       "      <th></th>\n",
       "      <th></th>\n",
       "      <th></th>\n",
       "      <th></th>\n",
       "    </tr>\n",
       "  </thead>\n",
       "  <tbody>\n",
       "    <tr>\n",
       "      <th>2021-11-05</th>\n",
       "      <td>331.3550</td>\n",
       "      <td>338.79</td>\n",
       "      <td>326.37</td>\n",
       "      <td>336.06</td>\n",
       "      <td>336.06</td>\n",
       "      <td>120621826</td>\n",
       "      <td>0.0</td>\n",
       "    </tr>\n",
       "    <tr>\n",
       "      <th>2021-10-29</th>\n",
       "      <td>282.1217</td>\n",
       "      <td>332.00</td>\n",
       "      <td>280.25</td>\n",
       "      <td>331.62</td>\n",
       "      <td>331.62</td>\n",
       "      <td>516523658</td>\n",
       "      <td>0.0</td>\n",
       "    </tr>\n",
       "  </tbody>\n",
       "</table>\n",
       "</div>"
      ],
      "text/plain": [
       "                open    high     low   close  adjusted close     volume  \\\n",
       "timestamp                                                                 \n",
       "2021-11-05  331.3550  338.79  326.37  336.06          336.06  120621826   \n",
       "2021-10-29  282.1217  332.00  280.25  331.62          331.62  516523658   \n",
       "\n",
       "            dividend amount  \n",
       "timestamp                    \n",
       "2021-11-05              0.0  \n",
       "2021-10-29              0.0  "
      ]
     },
     "execution_count": 15,
     "metadata": {},
     "output_type": "execute_result"
    }
   ],
   "source": [
    "df.loc[['2021-11-05', '2021-10-29']]\n"
   ]
  },
  {
   "attachments": {},
   "cell_type": "markdown",
   "id": "19443e73-a38f-485d-8285-5c329164b6bd",
   "metadata": {},
   "source": [
    "But we don't have to. You can confirm that `df.loc[['2021-11-05','2021-10-29'],:]` produces the same result.\n",
    "\n",
    "If we only wanted one row, we again have a choice between returning it as a DataFrame and returning it as a Series:\n"
   ]
  },
  {
   "cell_type": "code",
   "execution_count": 16,
   "id": "5a11c5d7-1edf-4fe5-8596-3213ce084802",
   "metadata": {},
   "outputs": [
    {
     "data": {
      "text/plain": [
       "pandas.core.series.Series"
      ]
     },
     "execution_count": 16,
     "metadata": {},
     "output_type": "execute_result"
    }
   ],
   "source": [
    "type(df.loc['2021-11-05'])"
   ]
  },
  {
   "cell_type": "code",
   "execution_count": 17,
   "id": "cdd37d0b-8ad6-4447-8dd1-a0c118497bec",
   "metadata": {},
   "outputs": [
    {
     "data": {
      "text/plain": [
       "pandas.core.frame.DataFrame"
      ]
     },
     "execution_count": 17,
     "metadata": {},
     "output_type": "execute_result"
    }
   ],
   "source": [
    "type(df.loc[['2021-11-05']])"
   ]
  },
  {
   "attachments": {},
   "cell_type": "markdown",
   "id": "b42610f6-e80e-4921-af9b-6d24614a8baf",
   "metadata": {},
   "source": [
    "One last note on referencing data in a dataframe. Often, we ultimately part of a dataframe -- for example, a few columns, a single column, or even a single value -- in a more familiar format. Instead of a `pandas` dataframe or a series, we may want a `numpy` array or, in the case of a single value, the value itself as a primitive type (e.g. double). We can get this using the `.values` attribute.\n"
   ]
  },
  {
   "cell_type": "code",
   "execution_count": 18,
   "id": "d419d067-aaf3-475a-b2c4-c4eb0c79cae0",
   "metadata": {},
   "outputs": [
    {
     "data": {
      "text/plain": [
       "array([[331.355 , 336.06  ],\n",
       "       [282.1217, 331.62  ]])"
      ]
     },
     "execution_count": 18,
     "metadata": {},
     "output_type": "execute_result"
    }
   ],
   "source": [
    "df.loc[['2021-11-05', '2021-10-29'], ['open', 'close']].values\n"
   ]
  },
  {
   "attachments": {},
   "cell_type": "markdown",
   "id": "f8f5b8b6-0ec3-4286-a7a4-27b85fdca5ea",
   "metadata": {},
   "source": [
    "The two rows and two columns of the dataframe have been extracted as a 2x2 array, which we can then index like we index any numpy array.\n"
   ]
  },
  {
   "cell_type": "code",
   "execution_count": 19,
   "id": "927bdf35-e8e5-4f27-a16a-e1dc69b216f0",
   "metadata": {},
   "outputs": [
    {
     "data": {
      "text/plain": [
       "282.1217"
      ]
     },
     "execution_count": 19,
     "metadata": {},
     "output_type": "execute_result"
    }
   ],
   "source": [
    "df.loc[['2021-11-05', '2021-10-29'], ['open', 'close']].values[1, 0]\n"
   ]
  },
  {
   "attachments": {},
   "cell_type": "markdown",
   "id": "80a81a3d-ff0f-4073-9d84-13d1db2567a8",
   "metadata": {},
   "source": [
    "## Dates\n",
    "\n",
    "So far, we have made the `timestamp` column the `index` of our dataframe, and have selected rows based on its value, but we haven't discussed its type. You may remember that when we requested the dataframe's `info()`, we found the `timestamp` to be of type `object`. Let's see what the type of an individual element of this column is:\n"
   ]
  },
  {
   "cell_type": "code",
   "execution_count": 20,
   "id": "a9e7bc5d-7c55-40d5-bda3-9c11f4a17e28",
   "metadata": {},
   "outputs": [
    {
     "data": {
      "text/plain": [
       "str"
      ]
     },
     "execution_count": 20,
     "metadata": {},
     "output_type": "execute_result"
    }
   ],
   "source": [
    "type(df.index[1])"
   ]
  },
  {
   "attachments": {},
   "cell_type": "markdown",
   "id": "7e0d5878-eb08-4ce6-a6de-dcfb22d7181d",
   "metadata": {},
   "source": [
    "It's a `str`ing of text. This is why we have always been putting it in quotes (by the way, it doesn't matter if you use single or double quotes as long as you're consistent). This is not the most helpful way to store dates since it doesn't allow us to perform any calculations using them. For instance, we may want to know the month of a given date, or find what date was two weeks earlier, or check if the date is after, say, December 31, 2010. To perform these calculations, we first need to make `python` aware that the index represents date information by converting, or _parsing_, it into the appropriate data type.\n"
   ]
  },
  {
   "attachments": {},
   "cell_type": "markdown",
   "id": "7e612758-44f7-48b2-b252-3e97117b6266",
   "metadata": {},
   "source": [
    "### Creating Dates\n",
    "\n",
    "We do this using `pandas`'s `to_datetime()` class method, supplying it with the variable containing string dates.\n",
    "\n",
    "Usually, it can figure out the format of the original text date on its own. If it does not -- perhaps because the date is stored in some unusual way -- we need to supply a description of the _format_, in which these dates are stored. In other words, we need to \"teach\" the `to_datetime()` function that '2021' in '2021-10-29' refers to the year, '10' refers to the month, '29' refers to the date, and the dashes '-' don't mean anything and are just visual separators. The specific way in which this format is specified dates back to the C language and isn't very intuitive, so it's handy to keep the following reference around: https://docs.python.org/3/library/datetime.html#strftime-and-strptime-format-codes.\n",
    "\n",
    "Thankfully, our dates are stored in a fairly standard year-month-date format, so we can let `pandas` figure it out, and just check afterwards that it worked.\n"
   ]
  },
  {
   "cell_type": "code",
   "execution_count": 21,
   "id": "5f40db3b-7faa-4f45-b780-39cf2b5cb49d",
   "metadata": {},
   "outputs": [
    {
     "data": {
      "text/plain": [
       "Timestamp('2021-11-05 00:00:00')"
      ]
     },
     "execution_count": 21,
     "metadata": {},
     "output_type": "execute_result"
    }
   ],
   "source": [
    "df.index = pd.to_datetime(df.index)\n",
    "df.index[0]"
   ]
  },
  {
   "attachments": {},
   "cell_type": "markdown",
   "id": "a9d65153-f24d-456f-9c83-fe79db68c3e8",
   "metadata": {},
   "source": [
    "The dates are now stored in `pandas` `Timestamp` type.\n",
    "\n",
    "When dates are easy to parse, we can even ask `pandas` to do it right away when importing:\n"
   ]
  },
  {
   "cell_type": "code",
   "execution_count": 22,
   "id": "16f1337f-174b-40b7-b922-ca02c3d76c6e",
   "metadata": {},
   "outputs": [
    {
     "data": {
      "text/html": [
       "<div>\n",
       "<style scoped>\n",
       "    .dataframe tbody tr th:only-of-type {\n",
       "        vertical-align: middle;\n",
       "    }\n",
       "\n",
       "    .dataframe tbody tr th {\n",
       "        vertical-align: top;\n",
       "    }\n",
       "\n",
       "    .dataframe thead th {\n",
       "        text-align: right;\n",
       "    }\n",
       "</style>\n",
       "<table border=\"1\" class=\"dataframe\">\n",
       "  <thead>\n",
       "    <tr style=\"text-align: right;\">\n",
       "      <th></th>\n",
       "      <th>open</th>\n",
       "      <th>high</th>\n",
       "      <th>low</th>\n",
       "      <th>close</th>\n",
       "      <th>adjusted close</th>\n",
       "      <th>volume</th>\n",
       "      <th>dividend amount</th>\n",
       "    </tr>\n",
       "    <tr>\n",
       "      <th>timestamp</th>\n",
       "      <th></th>\n",
       "      <th></th>\n",
       "      <th></th>\n",
       "      <th></th>\n",
       "      <th></th>\n",
       "      <th></th>\n",
       "      <th></th>\n",
       "    </tr>\n",
       "  </thead>\n",
       "  <tbody>\n",
       "    <tr>\n",
       "      <th>2021-11-05</th>\n",
       "      <td>331.3550</td>\n",
       "      <td>338.79</td>\n",
       "      <td>326.37</td>\n",
       "      <td>336.06</td>\n",
       "      <td>336.0600</td>\n",
       "      <td>120621826</td>\n",
       "      <td>0.00</td>\n",
       "    </tr>\n",
       "    <tr>\n",
       "      <th>2021-10-29</th>\n",
       "      <td>282.1217</td>\n",
       "      <td>332.00</td>\n",
       "      <td>280.25</td>\n",
       "      <td>331.62</td>\n",
       "      <td>331.6200</td>\n",
       "      <td>516523658</td>\n",
       "      <td>0.00</td>\n",
       "    </tr>\n",
       "    <tr>\n",
       "      <th>2021-09-30</th>\n",
       "      <td>302.8650</td>\n",
       "      <td>305.32</td>\n",
       "      <td>281.62</td>\n",
       "      <td>281.92</td>\n",
       "      <td>281.9200</td>\n",
       "      <td>502931199</td>\n",
       "      <td>0.00</td>\n",
       "    </tr>\n",
       "    <tr>\n",
       "      <th>2021-08-31</th>\n",
       "      <td>286.3600</td>\n",
       "      <td>305.84</td>\n",
       "      <td>283.74</td>\n",
       "      <td>301.88</td>\n",
       "      <td>301.8800</td>\n",
       "      <td>440360333</td>\n",
       "      <td>0.56</td>\n",
       "    </tr>\n",
       "    <tr>\n",
       "      <th>2021-07-30</th>\n",
       "      <td>269.6100</td>\n",
       "      <td>290.15</td>\n",
       "      <td>269.60</td>\n",
       "      <td>284.91</td>\n",
       "      <td>284.3623</td>\n",
       "      <td>522303043</td>\n",
       "      <td>0.00</td>\n",
       "    </tr>\n",
       "  </tbody>\n",
       "</table>\n",
       "</div>"
      ],
      "text/plain": [
       "                open    high     low   close  adjusted close     volume  \\\n",
       "timestamp                                                                 \n",
       "2021-11-05  331.3550  338.79  326.37  336.06        336.0600  120621826   \n",
       "2021-10-29  282.1217  332.00  280.25  331.62        331.6200  516523658   \n",
       "2021-09-30  302.8650  305.32  281.62  281.92        281.9200  502931199   \n",
       "2021-08-31  286.3600  305.84  283.74  301.88        301.8800  440360333   \n",
       "2021-07-30  269.6100  290.15  269.60  284.91        284.3623  522303043   \n",
       "\n",
       "            dividend amount  \n",
       "timestamp                    \n",
       "2021-11-05             0.00  \n",
       "2021-10-29             0.00  \n",
       "2021-09-30             0.00  \n",
       "2021-08-31             0.56  \n",
       "2021-07-30             0.00  "
      ]
     },
     "execution_count": 22,
     "metadata": {},
     "output_type": "execute_result"
    }
   ],
   "source": [
    "df = pd.read_csv(\"data/MSFT.csv\", index_col=\"timestamp\", parse_dates=True)\n",
    "df.head()"
   ]
  },
  {
   "attachments": {},
   "cell_type": "markdown",
   "id": "aed81a42-f93e-4c56-8495-123c0a6e291d",
   "metadata": {},
   "source": [
    "Of course, if we wanted to create a `Timestamp` from a particular date that we know, we can do that directly as well. As long as we use a reasonable format, `pandas` will figure it out.\n"
   ]
  },
  {
   "cell_type": "code",
   "execution_count": 23,
   "id": "b46749b4-2746-4a20-a604-b644b80baa7a",
   "metadata": {},
   "outputs": [
    {
     "data": {
      "text/plain": [
       "Timestamp('2021-10-15 00:00:00')"
      ]
     },
     "execution_count": 23,
     "metadata": {},
     "output_type": "execute_result"
    }
   ],
   "source": [
    "pd.to_datetime('2021-10-15')"
   ]
  },
  {
   "cell_type": "code",
   "execution_count": 24,
   "id": "50ae9531-acff-46b8-8d2e-c67e81f51285",
   "metadata": {},
   "outputs": [
    {
     "data": {
      "text/plain": [
       "Timestamp('2021-10-11 00:00:00')"
      ]
     },
     "execution_count": 24,
     "metadata": {},
     "output_type": "execute_result"
    }
   ],
   "source": [
    "pd.to_datetime('October 11, 2021')"
   ]
  },
  {
   "attachments": {},
   "cell_type": "markdown",
   "id": "0f9339d5-3441-4d73-b4b1-bc06704ccb0e",
   "metadata": {},
   "source": [
    "Let's consider one example where things aren't as simple. What if we wrote that last date as 10/11/2021? American users instantly understand this to be October 11, 2021. But European users would interpret it as November 10, 2021. Which one does `pandas` use?\n"
   ]
  },
  {
   "cell_type": "code",
   "execution_count": 25,
   "id": "632ed8e1-675d-4382-b123-ec9161fcb28a",
   "metadata": {},
   "outputs": [
    {
     "data": {
      "text/plain": [
       "Timestamp('2021-10-11 00:00:00')"
      ]
     },
     "execution_count": 25,
     "metadata": {},
     "output_type": "execute_result"
    }
   ],
   "source": [
    "pd.to_datetime('10/11/2021')"
   ]
  },
  {
   "attachments": {},
   "cell_type": "markdown",
   "id": "032479dc-7d60-4c03-a47b-010c1c323cbc",
   "metadata": {},
   "source": [
    "The American format, it seems. But would this still be the case if I was using a computer configured in Europe? To be honest, I'm not sure. So if you know that you have a European dataset and dates are written with the day first, tell `pandas` the day-first convention explicitly by setting the `dayfirst` argument of `to_datetime()` to `true`:\n"
   ]
  },
  {
   "cell_type": "code",
   "execution_count": 26,
   "id": "45241a51-4fb3-463f-b4be-8be03933d2e4",
   "metadata": {},
   "outputs": [
    {
     "data": {
      "text/plain": [
       "Timestamp('2021-11-10 00:00:00')"
      ]
     },
     "execution_count": 26,
     "metadata": {},
     "output_type": "execute_result"
    }
   ],
   "source": [
    "pd.to_datetime('10/11/2021', dayfirst=True)\n"
   ]
  },
  {
   "attachments": {},
   "cell_type": "markdown",
   "id": "41401bf2-d1ee-4e19-abd0-568f07c1fb15",
   "metadata": {},
   "source": [
    "Occasionally, you have dates stored as separate columns/variables of year, month, and day. If it's just one date, easiest way to create a `Timestamp` would be to use its constructor `Timestamp()`:\n"
   ]
  },
  {
   "cell_type": "code",
   "execution_count": 27,
   "id": "8b97cad7-2fa3-47f3-b065-6478b49b7b85",
   "metadata": {},
   "outputs": [
    {
     "data": {
      "text/plain": [
       "Timestamp('2021-10-11 00:00:00')"
      ]
     },
     "execution_count": 27,
     "metadata": {},
     "output_type": "execute_result"
    }
   ],
   "source": [
    "yr = 2021\n",
    "mo = 10\n",
    "d = 11\n",
    "pd.Timestamp(yr, mo, d)\n"
   ]
  },
  {
   "attachments": {},
   "cell_type": "markdown",
   "id": "5782ea67-5f6b-4e5f-bf3c-06fac4f4319c",
   "metadata": {},
   "source": [
    "If there are multiple dates, we can use `to_datetime()` with the exact syntax depending on how the dates are stored. If they are stored in separate lists or arrays,\n"
   ]
  },
  {
   "cell_type": "code",
   "execution_count": 28,
   "id": "64ba4d28-3c83-4b27-a43d-eea57e2fb688",
   "metadata": {},
   "outputs": [
    {
     "data": {
      "text/plain": [
       "0   2021-10-11\n",
       "1   2021-09-08\n",
       "dtype: datetime64[ns]"
      ]
     },
     "execution_count": 28,
     "metadata": {},
     "output_type": "execute_result"
    }
   ],
   "source": [
    "yr = [2021, 2021]\n",
    "mo = [10, 9]\n",
    "d = [11, 8]\n",
    "pd.to_datetime({'year': yr, 'month': mo, 'day': d})"
   ]
  },
  {
   "attachments": {},
   "cell_type": "markdown",
   "id": "51a2e104-9c48-4a3b-9f39-c794093d872a",
   "metadata": {},
   "source": [
    "If they are stored as columns in a dataframe **with names year, month, day**, it's easier. To illustrate, I will first add columns to our dataframe `df` for year, month, and day, and then reconstruct the original date from that column:\n"
   ]
  },
  {
   "cell_type": "code",
   "execution_count": 29,
   "id": "47b943f2-0f68-4748-909e-3e8da62ad3c7",
   "metadata": {},
   "outputs": [
    {
     "data": {
      "text/html": [
       "<div>\n",
       "<style scoped>\n",
       "    .dataframe tbody tr th:only-of-type {\n",
       "        vertical-align: middle;\n",
       "    }\n",
       "\n",
       "    .dataframe tbody tr th {\n",
       "        vertical-align: top;\n",
       "    }\n",
       "\n",
       "    .dataframe thead th {\n",
       "        text-align: right;\n",
       "    }\n",
       "</style>\n",
       "<table border=\"1\" class=\"dataframe\">\n",
       "  <thead>\n",
       "    <tr style=\"text-align: right;\">\n",
       "      <th></th>\n",
       "      <th>open</th>\n",
       "      <th>high</th>\n",
       "      <th>low</th>\n",
       "      <th>close</th>\n",
       "      <th>adjusted close</th>\n",
       "      <th>volume</th>\n",
       "      <th>dividend amount</th>\n",
       "      <th>year</th>\n",
       "      <th>month</th>\n",
       "      <th>day</th>\n",
       "    </tr>\n",
       "    <tr>\n",
       "      <th>timestamp</th>\n",
       "      <th></th>\n",
       "      <th></th>\n",
       "      <th></th>\n",
       "      <th></th>\n",
       "      <th></th>\n",
       "      <th></th>\n",
       "      <th></th>\n",
       "      <th></th>\n",
       "      <th></th>\n",
       "      <th></th>\n",
       "    </tr>\n",
       "  </thead>\n",
       "  <tbody>\n",
       "    <tr>\n",
       "      <th>2021-11-05</th>\n",
       "      <td>331.3550</td>\n",
       "      <td>338.79</td>\n",
       "      <td>326.37</td>\n",
       "      <td>336.06</td>\n",
       "      <td>336.0600</td>\n",
       "      <td>120621826</td>\n",
       "      <td>0.00</td>\n",
       "      <td>2021</td>\n",
       "      <td>11</td>\n",
       "      <td>5</td>\n",
       "    </tr>\n",
       "    <tr>\n",
       "      <th>2021-10-29</th>\n",
       "      <td>282.1217</td>\n",
       "      <td>332.00</td>\n",
       "      <td>280.25</td>\n",
       "      <td>331.62</td>\n",
       "      <td>331.6200</td>\n",
       "      <td>516523658</td>\n",
       "      <td>0.00</td>\n",
       "      <td>2021</td>\n",
       "      <td>10</td>\n",
       "      <td>29</td>\n",
       "    </tr>\n",
       "    <tr>\n",
       "      <th>2021-09-30</th>\n",
       "      <td>302.8650</td>\n",
       "      <td>305.32</td>\n",
       "      <td>281.62</td>\n",
       "      <td>281.92</td>\n",
       "      <td>281.9200</td>\n",
       "      <td>502931199</td>\n",
       "      <td>0.00</td>\n",
       "      <td>2021</td>\n",
       "      <td>9</td>\n",
       "      <td>30</td>\n",
       "    </tr>\n",
       "    <tr>\n",
       "      <th>2021-08-31</th>\n",
       "      <td>286.3600</td>\n",
       "      <td>305.84</td>\n",
       "      <td>283.74</td>\n",
       "      <td>301.88</td>\n",
       "      <td>301.8800</td>\n",
       "      <td>440360333</td>\n",
       "      <td>0.56</td>\n",
       "      <td>2021</td>\n",
       "      <td>8</td>\n",
       "      <td>31</td>\n",
       "    </tr>\n",
       "    <tr>\n",
       "      <th>2021-07-30</th>\n",
       "      <td>269.6100</td>\n",
       "      <td>290.15</td>\n",
       "      <td>269.60</td>\n",
       "      <td>284.91</td>\n",
       "      <td>284.3623</td>\n",
       "      <td>522303043</td>\n",
       "      <td>0.00</td>\n",
       "      <td>2021</td>\n",
       "      <td>7</td>\n",
       "      <td>30</td>\n",
       "    </tr>\n",
       "  </tbody>\n",
       "</table>\n",
       "</div>"
      ],
      "text/plain": [
       "                open    high     low   close  adjusted close     volume  \\\n",
       "timestamp                                                                 \n",
       "2021-11-05  331.3550  338.79  326.37  336.06        336.0600  120621826   \n",
       "2021-10-29  282.1217  332.00  280.25  331.62        331.6200  516523658   \n",
       "2021-09-30  302.8650  305.32  281.62  281.92        281.9200  502931199   \n",
       "2021-08-31  286.3600  305.84  283.74  301.88        301.8800  440360333   \n",
       "2021-07-30  269.6100  290.15  269.60  284.91        284.3623  522303043   \n",
       "\n",
       "            dividend amount  year  month  day  \n",
       "timestamp                                      \n",
       "2021-11-05             0.00  2021     11    5  \n",
       "2021-10-29             0.00  2021     10   29  \n",
       "2021-09-30             0.00  2021      9   30  \n",
       "2021-08-31             0.56  2021      8   31  \n",
       "2021-07-30             0.00  2021      7   30  "
      ]
     },
     "execution_count": 29,
     "metadata": {},
     "output_type": "execute_result"
    }
   ],
   "source": [
    "df['year'] = df.index.year\n",
    "df['month'] = df.index.month\n",
    "df['day'] = df.index.day\n",
    "df.head()"
   ]
  },
  {
   "cell_type": "code",
   "execution_count": 30,
   "id": "610fb64c-e2f1-495a-9237-8d8218bd2565",
   "metadata": {},
   "outputs": [
    {
     "data": {
      "text/html": [
       "<div>\n",
       "<style scoped>\n",
       "    .dataframe tbody tr th:only-of-type {\n",
       "        vertical-align: middle;\n",
       "    }\n",
       "\n",
       "    .dataframe tbody tr th {\n",
       "        vertical-align: top;\n",
       "    }\n",
       "\n",
       "    .dataframe thead th {\n",
       "        text-align: right;\n",
       "    }\n",
       "</style>\n",
       "<table border=\"1\" class=\"dataframe\">\n",
       "  <thead>\n",
       "    <tr style=\"text-align: right;\">\n",
       "      <th></th>\n",
       "      <th>open</th>\n",
       "      <th>high</th>\n",
       "      <th>low</th>\n",
       "      <th>close</th>\n",
       "      <th>adjusted close</th>\n",
       "      <th>volume</th>\n",
       "      <th>dividend amount</th>\n",
       "      <th>year</th>\n",
       "      <th>month</th>\n",
       "      <th>day</th>\n",
       "      <th>datecheck</th>\n",
       "    </tr>\n",
       "    <tr>\n",
       "      <th>timestamp</th>\n",
       "      <th></th>\n",
       "      <th></th>\n",
       "      <th></th>\n",
       "      <th></th>\n",
       "      <th></th>\n",
       "      <th></th>\n",
       "      <th></th>\n",
       "      <th></th>\n",
       "      <th></th>\n",
       "      <th></th>\n",
       "      <th></th>\n",
       "    </tr>\n",
       "  </thead>\n",
       "  <tbody>\n",
       "    <tr>\n",
       "      <th>2021-11-05</th>\n",
       "      <td>331.3550</td>\n",
       "      <td>338.79</td>\n",
       "      <td>326.37</td>\n",
       "      <td>336.06</td>\n",
       "      <td>336.0600</td>\n",
       "      <td>120621826</td>\n",
       "      <td>0.00</td>\n",
       "      <td>2021</td>\n",
       "      <td>11</td>\n",
       "      <td>5</td>\n",
       "      <td>2021-11-05</td>\n",
       "    </tr>\n",
       "    <tr>\n",
       "      <th>2021-10-29</th>\n",
       "      <td>282.1217</td>\n",
       "      <td>332.00</td>\n",
       "      <td>280.25</td>\n",
       "      <td>331.62</td>\n",
       "      <td>331.6200</td>\n",
       "      <td>516523658</td>\n",
       "      <td>0.00</td>\n",
       "      <td>2021</td>\n",
       "      <td>10</td>\n",
       "      <td>29</td>\n",
       "      <td>2021-10-29</td>\n",
       "    </tr>\n",
       "    <tr>\n",
       "      <th>2021-09-30</th>\n",
       "      <td>302.8650</td>\n",
       "      <td>305.32</td>\n",
       "      <td>281.62</td>\n",
       "      <td>281.92</td>\n",
       "      <td>281.9200</td>\n",
       "      <td>502931199</td>\n",
       "      <td>0.00</td>\n",
       "      <td>2021</td>\n",
       "      <td>9</td>\n",
       "      <td>30</td>\n",
       "      <td>2021-09-30</td>\n",
       "    </tr>\n",
       "    <tr>\n",
       "      <th>2021-08-31</th>\n",
       "      <td>286.3600</td>\n",
       "      <td>305.84</td>\n",
       "      <td>283.74</td>\n",
       "      <td>301.88</td>\n",
       "      <td>301.8800</td>\n",
       "      <td>440360333</td>\n",
       "      <td>0.56</td>\n",
       "      <td>2021</td>\n",
       "      <td>8</td>\n",
       "      <td>31</td>\n",
       "      <td>2021-08-31</td>\n",
       "    </tr>\n",
       "    <tr>\n",
       "      <th>2021-07-30</th>\n",
       "      <td>269.6100</td>\n",
       "      <td>290.15</td>\n",
       "      <td>269.60</td>\n",
       "      <td>284.91</td>\n",
       "      <td>284.3623</td>\n",
       "      <td>522303043</td>\n",
       "      <td>0.00</td>\n",
       "      <td>2021</td>\n",
       "      <td>7</td>\n",
       "      <td>30</td>\n",
       "      <td>2021-07-30</td>\n",
       "    </tr>\n",
       "  </tbody>\n",
       "</table>\n",
       "</div>"
      ],
      "text/plain": [
       "                open    high     low   close  adjusted close     volume  \\\n",
       "timestamp                                                                 \n",
       "2021-11-05  331.3550  338.79  326.37  336.06        336.0600  120621826   \n",
       "2021-10-29  282.1217  332.00  280.25  331.62        331.6200  516523658   \n",
       "2021-09-30  302.8650  305.32  281.62  281.92        281.9200  502931199   \n",
       "2021-08-31  286.3600  305.84  283.74  301.88        301.8800  440360333   \n",
       "2021-07-30  269.6100  290.15  269.60  284.91        284.3623  522303043   \n",
       "\n",
       "            dividend amount  year  month  day  datecheck  \n",
       "timestamp                                                 \n",
       "2021-11-05             0.00  2021     11    5 2021-11-05  \n",
       "2021-10-29             0.00  2021     10   29 2021-10-29  \n",
       "2021-09-30             0.00  2021      9   30 2021-09-30  \n",
       "2021-08-31             0.56  2021      8   31 2021-08-31  \n",
       "2021-07-30             0.00  2021      7   30 2021-07-30  "
      ]
     },
     "execution_count": 30,
     "metadata": {},
     "output_type": "execute_result"
    }
   ],
   "source": [
    "df['datecheck'] = pd.to_datetime(df[['year', 'month', 'day']])\n",
    "df.head()"
   ]
  },
  {
   "attachments": {},
   "cell_type": "markdown",
   "id": "11657bc0-8a02-4610-b5f1-95daea8fd7d6",
   "metadata": {},
   "source": [
    "We can see that `datecheck` is the same as the index `timestamp` so the creation of dates from year, month, and day worked correctly.\n",
    "\n",
    "Observe that, along the way, we learned two new things. First, we saw that it's very easy to obtain particular information about a date once we've stored it as a `Timestamp`. We were able to obtain the dates' years, months, and days just by referring to the relevant _attributes_ `year`, `month`, and `day`. There are many other attributes e.g. `quarter`, `week`, `dayofweek`, etc. See the documentation for details: https://pandas.pydata.org/docs/reference/api/pandas.Timestamp.html\n",
    "\n",
    "Second, we learned how to add new columns to the dataframe. For example, in `df['year'] = df.index.year`, we took the series `df.index.year` and stored in dataframe as a new column named `year`.\n",
    "\n",
    "There are two more things we can do with dates.\n",
    "\n",
    "### Converting Dates to Text\n",
    "\n",
    "Above, we saw how to convert text to dates. What about going the other way around? Displaying dates as text is useful for embedding them in your output and controlling precisely how they are displayed. For example, suppose wanted to print a sentence that said \"The second most recent month in our dataset is October 2021.\" Of course, we want the sentence to be true even if we use a different dataset, in which the second most recent month is no longer October 2021, so we want that part of the sentence to be _dynamic_ (that is, determined when we run the program).\n"
   ]
  },
  {
   "cell_type": "code",
   "execution_count": 31,
   "id": "10817876-0b3f-4fa2-942d-9d420454b353",
   "metadata": {},
   "outputs": [
    {
     "name": "stdout",
     "output_type": "stream",
     "text": [
      "The second most recent month in our dataset is October 2021\n"
     ]
    }
   ],
   "source": [
    "second_date = df.index[1]\n",
    "print('The second most recent month in our dataset is ' +\n",
    "      second_date.strftime('%B %Y'))\n"
   ]
  },
  {
   "attachments": {},
   "cell_type": "markdown",
   "id": "1aa96860-b085-481c-8594-6c6d30be8f91",
   "metadata": {},
   "source": [
    "Here, we retrieved the second date from the dataframe (recall: Python starts counting at zero, so `[1]` refers to the second element). It is stored as a `pandas` `Timestamp`. To convert it to string, we used its `strftime()` method and specified the format. `%B` refers to the long text month (`%b` would be a three-letter month like \"Oct\") and `%Y` refers to the 4-digit year (`%y` would be the 2-digit year). Finally, we combine the two strings together -- the initial part of the sentence and the dynamic date -- and print.\n",
    "\n",
    "As we've said before, these format codes are not the most intuitive, so keep this reference handy: https://docs.python.org/3/library/datetime.html#strftime-and-strptime-format-codes.\n",
    "\n",
    "### Date Comparisons & Arithmetic\n",
    "\n",
    "Finally, we can perform some date comparisons arithmetic such as determining whether one date is before another, finding the number of days between two dates, adding a week to a date, etc. Here are a few examples. Let's create a new column indicating whether the date is after October 11, 2021.\n"
   ]
  },
  {
   "cell_type": "code",
   "execution_count": 32,
   "id": "510db68c-2ce2-4d49-98aa-e78f9f0ea57b",
   "metadata": {},
   "outputs": [
    {
     "data": {
      "text/html": [
       "<div>\n",
       "<style scoped>\n",
       "    .dataframe tbody tr th:only-of-type {\n",
       "        vertical-align: middle;\n",
       "    }\n",
       "\n",
       "    .dataframe tbody tr th {\n",
       "        vertical-align: top;\n",
       "    }\n",
       "\n",
       "    .dataframe thead th {\n",
       "        text-align: right;\n",
       "    }\n",
       "</style>\n",
       "<table border=\"1\" class=\"dataframe\">\n",
       "  <thead>\n",
       "    <tr style=\"text-align: right;\">\n",
       "      <th></th>\n",
       "      <th>open</th>\n",
       "      <th>high</th>\n",
       "      <th>low</th>\n",
       "      <th>close</th>\n",
       "      <th>adjusted close</th>\n",
       "      <th>volume</th>\n",
       "      <th>dividend amount</th>\n",
       "      <th>year</th>\n",
       "      <th>month</th>\n",
       "      <th>day</th>\n",
       "      <th>datecheck</th>\n",
       "      <th>recent</th>\n",
       "    </tr>\n",
       "    <tr>\n",
       "      <th>timestamp</th>\n",
       "      <th></th>\n",
       "      <th></th>\n",
       "      <th></th>\n",
       "      <th></th>\n",
       "      <th></th>\n",
       "      <th></th>\n",
       "      <th></th>\n",
       "      <th></th>\n",
       "      <th></th>\n",
       "      <th></th>\n",
       "      <th></th>\n",
       "      <th></th>\n",
       "    </tr>\n",
       "  </thead>\n",
       "  <tbody>\n",
       "    <tr>\n",
       "      <th>2021-11-05</th>\n",
       "      <td>331.3550</td>\n",
       "      <td>338.79</td>\n",
       "      <td>326.37</td>\n",
       "      <td>336.06</td>\n",
       "      <td>336.0600</td>\n",
       "      <td>120621826</td>\n",
       "      <td>0.00</td>\n",
       "      <td>2021</td>\n",
       "      <td>11</td>\n",
       "      <td>5</td>\n",
       "      <td>2021-11-05</td>\n",
       "      <td>True</td>\n",
       "    </tr>\n",
       "    <tr>\n",
       "      <th>2021-10-29</th>\n",
       "      <td>282.1217</td>\n",
       "      <td>332.00</td>\n",
       "      <td>280.25</td>\n",
       "      <td>331.62</td>\n",
       "      <td>331.6200</td>\n",
       "      <td>516523658</td>\n",
       "      <td>0.00</td>\n",
       "      <td>2021</td>\n",
       "      <td>10</td>\n",
       "      <td>29</td>\n",
       "      <td>2021-10-29</td>\n",
       "      <td>True</td>\n",
       "    </tr>\n",
       "    <tr>\n",
       "      <th>2021-09-30</th>\n",
       "      <td>302.8650</td>\n",
       "      <td>305.32</td>\n",
       "      <td>281.62</td>\n",
       "      <td>281.92</td>\n",
       "      <td>281.9200</td>\n",
       "      <td>502931199</td>\n",
       "      <td>0.00</td>\n",
       "      <td>2021</td>\n",
       "      <td>9</td>\n",
       "      <td>30</td>\n",
       "      <td>2021-09-30</td>\n",
       "      <td>False</td>\n",
       "    </tr>\n",
       "    <tr>\n",
       "      <th>2021-08-31</th>\n",
       "      <td>286.3600</td>\n",
       "      <td>305.84</td>\n",
       "      <td>283.74</td>\n",
       "      <td>301.88</td>\n",
       "      <td>301.8800</td>\n",
       "      <td>440360333</td>\n",
       "      <td>0.56</td>\n",
       "      <td>2021</td>\n",
       "      <td>8</td>\n",
       "      <td>31</td>\n",
       "      <td>2021-08-31</td>\n",
       "      <td>False</td>\n",
       "    </tr>\n",
       "    <tr>\n",
       "      <th>2021-07-30</th>\n",
       "      <td>269.6100</td>\n",
       "      <td>290.15</td>\n",
       "      <td>269.60</td>\n",
       "      <td>284.91</td>\n",
       "      <td>284.3623</td>\n",
       "      <td>522303043</td>\n",
       "      <td>0.00</td>\n",
       "      <td>2021</td>\n",
       "      <td>7</td>\n",
       "      <td>30</td>\n",
       "      <td>2021-07-30</td>\n",
       "      <td>False</td>\n",
       "    </tr>\n",
       "  </tbody>\n",
       "</table>\n",
       "</div>"
      ],
      "text/plain": [
       "                open    high     low   close  adjusted close     volume  \\\n",
       "timestamp                                                                 \n",
       "2021-11-05  331.3550  338.79  326.37  336.06        336.0600  120621826   \n",
       "2021-10-29  282.1217  332.00  280.25  331.62        331.6200  516523658   \n",
       "2021-09-30  302.8650  305.32  281.62  281.92        281.9200  502931199   \n",
       "2021-08-31  286.3600  305.84  283.74  301.88        301.8800  440360333   \n",
       "2021-07-30  269.6100  290.15  269.60  284.91        284.3623  522303043   \n",
       "\n",
       "            dividend amount  year  month  day  datecheck  recent  \n",
       "timestamp                                                         \n",
       "2021-11-05             0.00  2021     11    5 2021-11-05    True  \n",
       "2021-10-29             0.00  2021     10   29 2021-10-29    True  \n",
       "2021-09-30             0.00  2021      9   30 2021-09-30   False  \n",
       "2021-08-31             0.56  2021      8   31 2021-08-31   False  \n",
       "2021-07-30             0.00  2021      7   30 2021-07-30   False  "
      ]
     },
     "execution_count": 32,
     "metadata": {},
     "output_type": "execute_result"
    }
   ],
   "source": [
    "df['recent'] = df.index > pd.Timestamp(2021, 10, 11)\n",
    "df.head()"
   ]
  },
  {
   "attachments": {},
   "cell_type": "markdown",
   "id": "f1b393aa-4b3d-4d4c-b740-c9c7947a9199",
   "metadata": {},
   "source": [
    "Take a look at the last column `recent`. It has a value of `True` for the two most recent days, and `False` otherwise, because only the two most recent days are after 10/11/2021. These comparisons will come in handy when we filter data.\n",
    "\n",
    "Next, let's find the difference between the first and second date in `df`:\n"
   ]
  },
  {
   "cell_type": "code",
   "execution_count": 33,
   "id": "e6a3afbf-a6f6-4eb9-baa3-9eb79a80821e",
   "metadata": {},
   "outputs": [
    {
     "data": {
      "text/plain": [
       "Timedelta('7 days 00:00:00')"
      ]
     },
     "execution_count": 33,
     "metadata": {},
     "output_type": "execute_result"
    }
   ],
   "source": [
    "df.index[0] - df.index[1]"
   ]
  },
  {
   "attachments": {},
   "cell_type": "markdown",
   "id": "78cc4149-b983-4a1a-82ae-65dab92de3d6",
   "metadata": {},
   "source": [
    "Note the type of this result -- it's a `Timedelta`. While `Timestamp` represents dates in a flexible way (such that we can obtain their year, month, week, etc.), `Timedelta` contains a flexible representation of duration i.e. the amount of time that passes between two dates. This is useful in some cases, but for our applications, we usually will want this information as a simple number e.g. as number of days. We can obtain it as follows:\n"
   ]
  },
  {
   "cell_type": "code",
   "execution_count": 34,
   "id": "a79bf72b-fb8a-4ff5-a52b-9196c94ef4b5",
   "metadata": {},
   "outputs": [
    {
     "data": {
      "text/plain": [
       "7"
      ]
     },
     "execution_count": 34,
     "metadata": {},
     "output_type": "execute_result"
    }
   ],
   "source": [
    "(df.index[0] - df.index[1]).days"
   ]
  },
  {
   "attachments": {},
   "cell_type": "markdown",
   "id": "87ffa8e0-4b5b-406d-8bf6-345915b899aa",
   "metadata": {},
   "source": [
    "Likewise, we can find the date corresponding to, say, 15 days, after the most recent date in our sample:\n"
   ]
  },
  {
   "cell_type": "code",
   "execution_count": 35,
   "id": "480f1177-4ffb-40e9-953c-303b98aae814",
   "metadata": {},
   "outputs": [
    {
     "data": {
      "text/plain": [
       "Timestamp('2021-11-20 00:00:00')"
      ]
     },
     "execution_count": 35,
     "metadata": {},
     "output_type": "execute_result"
    }
   ],
   "source": [
    "df.index[0] + pd.Timedelta(days=15)"
   ]
  },
  {
   "attachments": {},
   "cell_type": "markdown",
   "id": "db630dfa-fb29-4bf9-bd83-a4ff52c403c9",
   "metadata": {},
   "source": [
    "Now that we've seen what works, let's talk about what doesn't. `df.index[0] + 15` gives an error because `pandas` doesn't know what \"15\" means -- is it days, seconds, or something else? `pd.Timedelta(days=15)` makes the unit of the time interval clear. `pd.Timedelta(months=2)` doesn't work either. The longest unit available to `Timedelta` is a day because larger units are ambiguous. Months can have 28, 30, or 31 days. Years can have 365 or 366 days. So it is unclear what specific time interval you mean if you say \"1 month.\"\n",
    "\n",
    "These are just a few examples of operations with dates. Plenty of other use cases come up e.g. finding the number of business or trading days between two dates, determining the fraction of bond interest accrued between two dates based on the bond's day count conventions, etc. These are more specialized, and slightly more difficult, cases to handle, so we won't explicitly cover them in class. But the introduction above should put you in a position to Google whatever you need.\n",
    "\n",
    "Now that our dates are in good shape, let's proceed to plotting our data.\n",
    "\n",
    "## Plotting with `Matplotlib`\n",
    "\n",
    "Before transforming data or performing any analysis, it's always a good idea to make a few plots. These don't have to be \"publication-quality\" plots that go into your report, presentation, etc. These are just a quick way for you to get familiar with the data and spot anything unusual, which affects your intepretation or requires additional research and attention.\n",
    "\n",
    "There are many libraries to make plots in `python`, but the most common one is `matplotlib`. So let's import it:\n"
   ]
  },
  {
   "cell_type": "code",
   "execution_count": 36,
   "id": "a0baad22-7a23-4fb0-b793-c40b449f53a2",
   "metadata": {},
   "outputs": [],
   "source": [
    "import matplotlib as mpl\n",
    "import matplotlib.pyplot as plt"
   ]
  },
  {
   "attachments": {},
   "cell_type": "markdown",
   "id": "5c32e82e-51a7-487b-a6bd-58f3db995575",
   "metadata": {},
   "source": [
    "We use the common alias `mpl` for `matplotlib`. Additionally, we import its sublibrary `pyplot` that handles a lot of the actual plotting directly using the alias `plt`. This second step is optional. We could skip it. Then, to run a particular plotting method (e.g. `plot()`), we would type `mpl.pyplot.plot()`. But since we will use `pyplot`'s methods often, it saves a bit of typing when we can do `plt.plot()` instead.\n",
    "\n",
    "Let's plot the monthly closing prices (`close` column) on the y-axis and the dates (`df.index`) on the x-axis.\n"
   ]
  },
  {
   "cell_type": "code",
   "execution_count": 37,
   "id": "8dfc15a8-77c1-4dab-9ca8-d6df76b09e5b",
   "metadata": {},
   "outputs": [
    {
     "data": {
      "image/png": "[encoded data removed]",
      "text/plain": [
       "<Figure size 432x288 with 1 Axes>"
      ]
     },
     "metadata": {
      "needs_background": "light"
     },
     "output_type": "display_data"
    }
   ],
   "source": [
    "plt.plot(df.index, df['close'])\n",
    "plt.show()"
   ]
  },
  {
   "attachments": {},
   "cell_type": "markdown",
   "id": "02fb3cd5-1f5a-4900-a264-878e424edecd",
   "metadata": {},
   "source": [
    "The `plot()` method takes two arguments -- a set of x coordinates and a set of y coordinates -- and constructs a plot `object`. I use the word \"set\" loosely here. It can be a `python` list, a `numpy` one-dimensional ndarray, or a `pandas` series. You can check that `plot()` works with all of this by converting the `pandas` objects `df.index` index or the `df['close']` series to a `numpy` array using `.to_numpy()` or to a `python` list using `.tolist()`. For example, try `plt.plot(df.index.to_numpy(), df['close'].tolist())`. You will get the same result.\n",
    "\n",
    "The `show()` method displays this object. Why would you ever want to construct a plot but not show it? Maybe because your goal is to print many graphs to a file e.g. a PDF and you don't want your program to litter your screen with dozens of plot windows as it runs.\n",
    "\n",
    "By itself, this graph means nothing. To help someone understand what it is plotting, let us specify a title and axis labels.\n"
   ]
  },
  {
   "cell_type": "code",
   "execution_count": 38,
   "id": "b0601ec8-1a28-4ff9-9c05-5fe5f58e93b4",
   "metadata": {},
   "outputs": [
    {
     "data": {
      "image/png": "[encoded data removed]",
      "text/plain": [
       "<Figure size 432x288 with 1 Axes>"
      ]
     },
     "metadata": {
      "needs_background": "light"
     },
     "output_type": "display_data"
    }
   ],
   "source": [
    "plt.plot(df.index, df['close'])\n",
    "plt.title('Monthly Closing Stock Price of Microsoft')\n",
    "plt.xlabel('Date')\n",
    "plt.ylabel('U.S. Dollars')\n",
    "plt.show()"
   ]
  },
  {
   "attachments": {},
   "cell_type": "markdown",
   "id": "04f9c510-86a1-4b6f-8e55-3373766198d0",
   "metadata": {},
   "source": [
    "Let's also plot the opening price.\n"
   ]
  },
  {
   "cell_type": "code",
   "execution_count": 39,
   "id": "6ab9ff24-122c-4a5e-b002-eb28401c3510",
   "metadata": {},
   "outputs": [
    {
     "data": {
      "image/png": "[encoded data removed]",
      "text/plain": [
       "<Figure size 432x288 with 1 Axes>"
      ]
     },
     "metadata": {
      "needs_background": "light"
     },
     "output_type": "display_data"
    }
   ],
   "source": [
    "plt.plot(df.index, df['close'], label='Close')\n",
    "plt.plot(df.index, df['open'], '--', label='Open')\n",
    "plt.axhline(y=df.loc[min(df.index) == df.index, 'close'].values[0], color='g')\n",
    "plt.title('Monthly Stock Price of Microsoft')\n",
    "plt.xlabel('Date')\n",
    "plt.ylabel('U.S. Dollars')\n",
    "plt.legend(loc='upper left')\n",
    "plt.grid(True)\n",
    "plt.show()"
   ]
  },
  {
   "attachments": {},
   "cell_type": "markdown",
   "id": "65c3e282-98d2-4190-a291-365301a3b296",
   "metadata": {},
   "source": [
    "We plotted two different lines on the same set of axes by issuing two `plot()` commands. Each line received a `label`, which we then displayed using the `legend()` method in the upper-left-hand corner of the plot. We turned on grid lines. For the `open` plot, we also changed its line style from the default solid to a dashed line by specify `'--'` as the third argument.\n",
    "\n",
    "The most interesting line is probably `plt.axhline(y=df.loc[min(df.index)==df.index,'close'].values[0],color='g')`, which plots a horizontal green line at the level of the earliest closing price to help us compare subsequent prices with the first one.\n",
    "\n",
    "Let's examine this line closely. The `axhline()` method draws a horizontal line at a level specified by the value of the `y` argument. Its green color is given by the `color='g'` argument. To identify the closing price at the start of the dataset, we have several options. Recall that earlier we noticed that the data seemed to be in reverse order, with most recent observations first. We could assume that this is indeed true, in which case the last row of the data would be earliest, so we could have defined `y` to be `df['close'][-1]`. But this is not a good idea, because we have not done anything to make sure that the data is indeed sorted in reverse order, so we are effectively relying on the data provider to supply the data in a certain order.\n",
    "\n",
    "It's more robust to select the closing price that explicitly corresponds to the earliest date i.e. to select the value of `close` in the row whose date index is equal to the earliest date, or the minimum of all the dates. We select this value with\n"
   ]
  },
  {
   "cell_type": "code",
   "execution_count": 40,
   "id": "de5731a4-a714-488d-822b-3b1295151182",
   "metadata": {},
   "outputs": [
    {
     "data": {
      "text/plain": [
       "timestamp\n",
       "1999-12-31    116.75\n",
       "Name: close, dtype: float64"
      ]
     },
     "execution_count": 40,
     "metadata": {},
     "output_type": "execute_result"
    }
   ],
   "source": [
    "df.loc[min(df.index) == df.index, 'close']\n"
   ]
  },
  {
   "attachments": {},
   "cell_type": "markdown",
   "id": "4168eb1d-a455-4082-a772-c391a366bee2",
   "metadata": {},
   "source": [
    "Note that the result of this operation is a `pandas` Series object, while `axhline()` expects a number. To extract the number (the \"116.75\"), we extract its values as a `numpy` array, and then retrieve its first (and only) element.\n"
   ]
  },
  {
   "cell_type": "code",
   "execution_count": 41,
   "id": "65992d11-102f-4695-b55a-32375ed33435",
   "metadata": {},
   "outputs": [
    {
     "data": {
      "text/plain": [
       "116.75"
      ]
     },
     "execution_count": 41,
     "metadata": {},
     "output_type": "execute_result"
    }
   ],
   "source": [
    "df.loc[min(df.index) == df.index, 'close'].values[0]\n"
   ]
  },
  {
   "attachments": {},
   "cell_type": "markdown",
   "id": "1ff9fb25-a455-4a74-8667-40b050e40dbc",
   "metadata": {},
   "source": [
    "These are just a few things you can do with `matplotlib` and `pyplot`. To see many other examples of plots and borrow some of the code to adapt to your own needs, see the `plotting.ibnyb` Jupyter Notebook.\n",
    "\n",
    "Now that we've learned the mechanics of plotting, let's ponder the plot itself. One thing looks strange. Look at 2003 or so. Why did Microsoft's stock price drop so much? Let's zoom in a little further by plotting just the couple of years around then.\n",
    "\n",
    "## Filtering and Sorting\n",
    "\n",
    "To examine what happened with Microsoft's stock in 2003 more closely, let's plot only the stock prices in that year. In other words, let's _filter_ the data to only 2003 dates. We can do this using logical indexing, where we pass an array of `True`s and `False`s as indices to a series so that `pandas` selects only the elements corresponding to `True`.\n",
    "\n",
    "There are several ways to construct this filter. Here, since the date range in which we are interested contains the entire year, we can do\n"
   ]
  },
  {
   "cell_type": "code",
   "execution_count": 42,
   "id": "09e9f688-0bc8-48cf-ba38-a60cbfb7767c",
   "metadata": {},
   "outputs": [
    {
     "data": {
      "text/plain": [
       "DatetimeIndex(['2003-12-31', '2003-11-28', '2003-10-31', '2003-09-30',\n",
       "               '2003-08-29', '2003-07-31', '2003-06-30', '2003-05-30',\n",
       "               '2003-04-30', '2003-03-31', '2003-02-28', '2003-01-31'],\n",
       "              dtype='datetime64[ns]', name='timestamp', freq=None)"
      ]
     },
     "execution_count": 42,
     "metadata": {},
     "output_type": "execute_result"
    }
   ],
   "source": [
    "filter_year = df.index.year == 2003\n",
    "df.index[filter_year]"
   ]
  },
  {
   "attachments": {},
   "cell_type": "markdown",
   "id": "3151e82a-5823-46d3-a9b7-a9a4f3050604",
   "metadata": {},
   "source": [
    "Alternatively, and more generically (i.e. done in a way that accomodates a wider variety of use cases), we can select dates that are between January 1, 2003 and December 31, 2003 inclusively.\n"
   ]
  },
  {
   "cell_type": "code",
   "execution_count": 43,
   "id": "9c501355-cc2d-4c6d-9b6e-8613fb99f75f",
   "metadata": {},
   "outputs": [
    {
     "data": {
      "text/plain": [
       "DatetimeIndex(['2003-12-31', '2003-11-28', '2003-10-31', '2003-09-30',\n",
       "               '2003-08-29', '2003-07-31', '2003-06-30', '2003-05-30',\n",
       "               '2003-04-30', '2003-03-31', '2003-02-28', '2003-01-31'],\n",
       "              dtype='datetime64[ns]', name='timestamp', freq=None)"
      ]
     },
     "execution_count": 43,
     "metadata": {},
     "output_type": "execute_result"
    }
   ],
   "source": [
    "filter_daterange = (df.index >= pd.Timestamp(\n",
    "    2003, 1, 1)) & (df.index <= pd.Timestamp(2003, 12, 31))\n",
    "df.index[filter_daterange]"
   ]
  },
  {
   "attachments": {},
   "cell_type": "markdown",
   "id": "4326ca23-4ca3-425d-a86d-26c59879f3bb",
   "metadata": {},
   "source": [
    "We can use either `filter_year` or `filter_range` to plot only the 2003 observations.\n"
   ]
  },
  {
   "cell_type": "code",
   "execution_count": 44,
   "id": "adf2b34c-832f-4964-83ac-31192df15268",
   "metadata": {},
   "outputs": [
    {
     "data": {
      "image/png": "[encoded data removed]",
      "text/plain": [
       "<Figure size 432x288 with 1 Axes>"
      ]
     },
     "metadata": {
      "needs_background": "light"
     },
     "output_type": "display_data"
    }
   ],
   "source": [
    "plt.plot(df.index[filter_year], df.loc[df.index[filter_year], 'close'])\n",
    "plt.title('Monthly Closing Stock Price of Microsoft')\n",
    "plt.xlabel('Date')\n",
    "plt.ylabel('U.S. Dollars')\n",
    "plt.grid(True)\n",
    "plt.show()"
   ]
  },
  {
   "attachments": {},
   "cell_type": "markdown",
   "id": "01badeb4-ec43-42a4-b748-0ff86a2e8d11",
   "metadata": {},
   "source": [
    "Hmm, let's revise our filter to grab a few months at the end of 2002 to see the context for this drop better.\n"
   ]
  },
  {
   "cell_type": "code",
   "execution_count": 45,
   "id": "1a25bfb9-a9e4-476b-8b64-3632e7ba87dd",
   "metadata": {},
   "outputs": [
    {
     "data": {
      "image/png": "[encoded data removed]",
      "text/plain": [
       "<Figure size 432x288 with 1 Axes>"
      ]
     },
     "metadata": {
      "needs_background": "light"
     },
     "output_type": "display_data"
    }
   ],
   "source": [
    "filter_dates = df.index[(df.index >= pd.Timestamp(2002, 10, 1))\n",
    "                        & (df.index <= pd.Timestamp(2003, 12, 31))]\n",
    "plt.plot(filter_dates, df.loc[filter_dates, 'close'])\n",
    "plt.title('Monthly Closing Stock Price of Microsoft')\n",
    "plt.xlabel('Date')\n",
    "plt.ylabel('U.S. Dollars')\n",
    "plt.grid(True)\n",
    "plt.show()"
   ]
  },
  {
   "attachments": {},
   "cell_type": "markdown",
   "id": "3e3a1014-bd80-4472-bc8e-d1085cb4e479",
   "metadata": {},
   "source": [
    "We did a few things differently the second time around. First, rather than storing a vector of `True`s and `False`s in the filter variable, we stored the dates (as `pandas` indices) directly. This made the `plot()` command simpler because we can plot `filter_dates` directly as x-values and, because we mades dates `df`'s index earlier, we can pass them to `.loc()` to extract the corresponding closing prices directly. This is a good example of how useful indices can be for filtering.\n",
    "\n",
    "Back to the plot. It seems that over the course of February 2002, Microsoft's stock price fell from about 48 to about 24. Microsoft stock price halved. Did the company really lose half its value? Seems unlikely. What is more likely is that it underwent a 2-for-1 split. In other words, the company gave all existing shareholders 2 new shares worth \\\\$24 in exchange for 1 old share worth \\\\$48. Do we want this reflected as a big drop in the stock price in our graph? If all we want to plot is the level of the stock price, sure. But usually, the point of working with stock prices is looking at which investments performed well and which performed poorly. An investment in Microsoft did not\n",
    "lose half its value in February 2003. It was just redenominated. If I gave you two \\\\$10 bills in exchange for one \\\\$20, you did not lose \\\\$10, did you?\n",
    "\n",
    "So what we actually want to plot isn't the headline stock price at the end of the month but rather the increase in value of a hypothetical investment in Microsoft from December 1999 until today. And the history of closing prices does not accomplish this goal because prices go down in response to stock splits and dividends, while the value of one's investment does not.\n",
    "\n",
    "Thankfully, good data providers of historical stock data include another column, which allow us to plot what we want. Some include a column called \"return\" or \"total return,\" which represents the increase in the value of the investment between two dates inclusive of splits and dividends. Others _adjust_ the closing price, such that the most recent _adjusted closing price_ is the same as the actual closing price, but past prices are different (usually lower) than what they actually have been, such that the ratio of two consecutive adjusted closing prices represents the total return.\n",
    "\n",
    "Our dataset follows the latter approach. Let's see how a plot of the adjusted closing price looks like in the 2002-2003 period.\n"
   ]
  },
  {
   "cell_type": "code",
   "execution_count": 46,
   "id": "aca9d268-6019-4f5d-a74a-166990b112b8",
   "metadata": {},
   "outputs": [
    {
     "data": {
      "image/png": "[encoded data removed]",
      "text/plain": [
       "<Figure size 432x288 with 1 Axes>"
      ]
     },
     "metadata": {
      "needs_background": "light"
     },
     "output_type": "display_data"
    }
   ],
   "source": [
    "plt.plot(filter_dates, df.loc[filter_dates, 'adjusted close'])\n",
    "plt.title('Monthly Closing Stock Price of Microsoft')\n",
    "plt.xlabel('Date')\n",
    "plt.ylabel('U.S. Dollars')\n",
    "plt.grid(True)\n",
    "plt.show()"
   ]
  },
  {
   "attachments": {},
   "cell_type": "markdown",
   "id": "d90000a8-931c-4b79-80e5-fb08d17f579f",
   "metadata": {},
   "source": [
    "No more giant drop! Microsoft's stock split did not cause an appreciable change in the value of our investment.\n",
    "\n",
    "So now, we will compute returns from the `adjusted close` column, and then _cumulate_ them over time to plot the investment's performance over time.\n",
    "\n",
    "First, though, let's sort the dataset. To compute returns, we need to divide a given month's `adjusted close` by the previous month's `adjusted close` and it's easier for us to check our work if the prices are in chronological order. We do this using the `sort_values()` method of `DataFrame`.\n"
   ]
  },
  {
   "cell_type": "code",
   "execution_count": 47,
   "id": "381dbc48-dcfb-48ff-beed-c0967991d915",
   "metadata": {},
   "outputs": [],
   "source": [
    "df.sort_values('timestamp', inplace=True)\n"
   ]
  },
  {
   "attachments": {},
   "cell_type": "markdown",
   "id": "6aa7e6d9-90f8-4f31-be54-4518a58cdc38",
   "metadata": {},
   "source": [
    "`sort_values()` takes at least one argument, which is the name(s) of columns by which we are sorting. Note that here we can still refer to our index by its original column name `timestamp`. Optional arguments allow one to sort ascending (default) or descending, determine whether to collect missing data at the beginning or the end (default), and finally to produce a new dataset (default) or sort the existing one. We don't need to separately keep unsorted and sorted dataset in memory, so we sort it \"in-place,\" meaning we sort the existing dataset. When working with large datasets, performing as many operations \"in-place\" can significantly speed up your code, keep your computer memory free, and prevent crashes, because it avoids duplicating the dataset.\n",
    "\n",
    "Let's see how the first few rows of our dataframe look now:\n"
   ]
  },
  {
   "cell_type": "code",
   "execution_count": 48,
   "id": "10990046-bf1f-4dd6-b85b-faf0dbb3d78c",
   "metadata": {},
   "outputs": [
    {
     "data": {
      "text/html": [
       "<div>\n",
       "<style scoped>\n",
       "    .dataframe tbody tr th:only-of-type {\n",
       "        vertical-align: middle;\n",
       "    }\n",
       "\n",
       "    .dataframe tbody tr th {\n",
       "        vertical-align: top;\n",
       "    }\n",
       "\n",
       "    .dataframe thead th {\n",
       "        text-align: right;\n",
       "    }\n",
       "</style>\n",
       "<table border=\"1\" class=\"dataframe\">\n",
       "  <thead>\n",
       "    <tr style=\"text-align: right;\">\n",
       "      <th></th>\n",
       "      <th>open</th>\n",
       "      <th>high</th>\n",
       "      <th>low</th>\n",
       "      <th>close</th>\n",
       "      <th>adjusted close</th>\n",
       "      <th>volume</th>\n",
       "      <th>dividend amount</th>\n",
       "      <th>year</th>\n",
       "      <th>month</th>\n",
       "      <th>day</th>\n",
       "      <th>datecheck</th>\n",
       "      <th>recent</th>\n",
       "    </tr>\n",
       "    <tr>\n",
       "      <th>timestamp</th>\n",
       "      <th></th>\n",
       "      <th></th>\n",
       "      <th></th>\n",
       "      <th></th>\n",
       "      <th></th>\n",
       "      <th></th>\n",
       "      <th></th>\n",
       "      <th></th>\n",
       "      <th></th>\n",
       "      <th></th>\n",
       "      <th></th>\n",
       "      <th></th>\n",
       "    </tr>\n",
       "  </thead>\n",
       "  <tbody>\n",
       "    <tr>\n",
       "      <th>1999-12-31</th>\n",
       "      <td>91.06</td>\n",
       "      <td>119.94</td>\n",
       "      <td>90.87</td>\n",
       "      <td>116.75</td>\n",
       "      <td>37.0012</td>\n",
       "      <td>630488900</td>\n",
       "      <td>0.0</td>\n",
       "      <td>1999</td>\n",
       "      <td>12</td>\n",
       "      <td>31</td>\n",
       "      <td>1999-12-31</td>\n",
       "      <td>False</td>\n",
       "    </tr>\n",
       "    <tr>\n",
       "      <th>2000-01-31</th>\n",
       "      <td>117.37</td>\n",
       "      <td>118.62</td>\n",
       "      <td>94.87</td>\n",
       "      <td>97.87</td>\n",
       "      <td>31.0176</td>\n",
       "      <td>637437600</td>\n",
       "      <td>0.0</td>\n",
       "      <td>2000</td>\n",
       "      <td>1</td>\n",
       "      <td>31</td>\n",
       "      <td>2000-01-31</td>\n",
       "      <td>False</td>\n",
       "    </tr>\n",
       "    <tr>\n",
       "      <th>2000-02-29</th>\n",
       "      <td>98.50</td>\n",
       "      <td>110.00</td>\n",
       "      <td>88.12</td>\n",
       "      <td>89.37</td>\n",
       "      <td>28.3237</td>\n",
       "      <td>667243800</td>\n",
       "      <td>0.0</td>\n",
       "      <td>2000</td>\n",
       "      <td>2</td>\n",
       "      <td>29</td>\n",
       "      <td>2000-02-29</td>\n",
       "      <td>False</td>\n",
       "    </tr>\n",
       "    <tr>\n",
       "      <th>2000-03-31</th>\n",
       "      <td>89.62</td>\n",
       "      <td>115.00</td>\n",
       "      <td>88.94</td>\n",
       "      <td>106.25</td>\n",
       "      <td>33.6734</td>\n",
       "      <td>1014093800</td>\n",
       "      <td>0.0</td>\n",
       "      <td>2000</td>\n",
       "      <td>3</td>\n",
       "      <td>31</td>\n",
       "      <td>2000-03-31</td>\n",
       "      <td>False</td>\n",
       "    </tr>\n",
       "    <tr>\n",
       "      <th>2000-04-28</th>\n",
       "      <td>94.44</td>\n",
       "      <td>96.50</td>\n",
       "      <td>65.00</td>\n",
       "      <td>69.75</td>\n",
       "      <td>22.1056</td>\n",
       "      <td>1129073300</td>\n",
       "      <td>0.0</td>\n",
       "      <td>2000</td>\n",
       "      <td>4</td>\n",
       "      <td>28</td>\n",
       "      <td>2000-04-28</td>\n",
       "      <td>False</td>\n",
       "    </tr>\n",
       "  </tbody>\n",
       "</table>\n",
       "</div>"
      ],
      "text/plain": [
       "              open    high    low   close  adjusted close      volume  \\\n",
       "timestamp                                                               \n",
       "1999-12-31   91.06  119.94  90.87  116.75         37.0012   630488900   \n",
       "2000-01-31  117.37  118.62  94.87   97.87         31.0176   637437600   \n",
       "2000-02-29   98.50  110.00  88.12   89.37         28.3237   667243800   \n",
       "2000-03-31   89.62  115.00  88.94  106.25         33.6734  1014093800   \n",
       "2000-04-28   94.44   96.50  65.00   69.75         22.1056  1129073300   \n",
       "\n",
       "            dividend amount  year  month  day  datecheck  recent  \n",
       "timestamp                                                         \n",
       "1999-12-31              0.0  1999     12   31 1999-12-31   False  \n",
       "2000-01-31              0.0  2000      1   31 2000-01-31   False  \n",
       "2000-02-29              0.0  2000      2   29 2000-02-29   False  \n",
       "2000-03-31              0.0  2000      3   31 2000-03-31   False  \n",
       "2000-04-28              0.0  2000      4   28 2000-04-28   False  "
      ]
     },
     "execution_count": 48,
     "metadata": {},
     "output_type": "execute_result"
    }
   ],
   "source": [
    "df.head()"
   ]
  },
  {
   "attachments": {},
   "cell_type": "markdown",
   "id": "5b29322c-8247-4ded-9e53-b547692b4303",
   "metadata": {},
   "source": [
    "As expected, we now have the earliest date -- December 31, 1999 -- first.\n",
    "\n",
    "Let's also get rid of some of the extra columns we've created since won't be needing them:\n"
   ]
  },
  {
   "cell_type": "code",
   "execution_count": 49,
   "id": "1eb863b9-964f-45ec-a7b3-fd34dbf6251d",
   "metadata": {},
   "outputs": [
    {
     "data": {
      "text/html": [
       "<div>\n",
       "<style scoped>\n",
       "    .dataframe tbody tr th:only-of-type {\n",
       "        vertical-align: middle;\n",
       "    }\n",
       "\n",
       "    .dataframe tbody tr th {\n",
       "        vertical-align: top;\n",
       "    }\n",
       "\n",
       "    .dataframe thead th {\n",
       "        text-align: right;\n",
       "    }\n",
       "</style>\n",
       "<table border=\"1\" class=\"dataframe\">\n",
       "  <thead>\n",
       "    <tr style=\"text-align: right;\">\n",
       "      <th></th>\n",
       "      <th>open</th>\n",
       "      <th>high</th>\n",
       "      <th>low</th>\n",
       "      <th>close</th>\n",
       "      <th>adjusted close</th>\n",
       "      <th>volume</th>\n",
       "      <th>dividend amount</th>\n",
       "    </tr>\n",
       "    <tr>\n",
       "      <th>timestamp</th>\n",
       "      <th></th>\n",
       "      <th></th>\n",
       "      <th></th>\n",
       "      <th></th>\n",
       "      <th></th>\n",
       "      <th></th>\n",
       "      <th></th>\n",
       "    </tr>\n",
       "  </thead>\n",
       "  <tbody>\n",
       "    <tr>\n",
       "      <th>1999-12-31</th>\n",
       "      <td>91.06</td>\n",
       "      <td>119.94</td>\n",
       "      <td>90.87</td>\n",
       "      <td>116.75</td>\n",
       "      <td>37.0012</td>\n",
       "      <td>630488900</td>\n",
       "      <td>0.0</td>\n",
       "    </tr>\n",
       "    <tr>\n",
       "      <th>2000-01-31</th>\n",
       "      <td>117.37</td>\n",
       "      <td>118.62</td>\n",
       "      <td>94.87</td>\n",
       "      <td>97.87</td>\n",
       "      <td>31.0176</td>\n",
       "      <td>637437600</td>\n",
       "      <td>0.0</td>\n",
       "    </tr>\n",
       "    <tr>\n",
       "      <th>2000-02-29</th>\n",
       "      <td>98.50</td>\n",
       "      <td>110.00</td>\n",
       "      <td>88.12</td>\n",
       "      <td>89.37</td>\n",
       "      <td>28.3237</td>\n",
       "      <td>667243800</td>\n",
       "      <td>0.0</td>\n",
       "    </tr>\n",
       "    <tr>\n",
       "      <th>2000-03-31</th>\n",
       "      <td>89.62</td>\n",
       "      <td>115.00</td>\n",
       "      <td>88.94</td>\n",
       "      <td>106.25</td>\n",
       "      <td>33.6734</td>\n",
       "      <td>1014093800</td>\n",
       "      <td>0.0</td>\n",
       "    </tr>\n",
       "    <tr>\n",
       "      <th>2000-04-28</th>\n",
       "      <td>94.44</td>\n",
       "      <td>96.50</td>\n",
       "      <td>65.00</td>\n",
       "      <td>69.75</td>\n",
       "      <td>22.1056</td>\n",
       "      <td>1129073300</td>\n",
       "      <td>0.0</td>\n",
       "    </tr>\n",
       "  </tbody>\n",
       "</table>\n",
       "</div>"
      ],
      "text/plain": [
       "              open    high    low   close  adjusted close      volume  \\\n",
       "timestamp                                                               \n",
       "1999-12-31   91.06  119.94  90.87  116.75         37.0012   630488900   \n",
       "2000-01-31  117.37  118.62  94.87   97.87         31.0176   637437600   \n",
       "2000-02-29   98.50  110.00  88.12   89.37         28.3237   667243800   \n",
       "2000-03-31   89.62  115.00  88.94  106.25         33.6734  1014093800   \n",
       "2000-04-28   94.44   96.50  65.00   69.75         22.1056  1129073300   \n",
       "\n",
       "            dividend amount  \n",
       "timestamp                    \n",
       "1999-12-31              0.0  \n",
       "2000-01-31              0.0  \n",
       "2000-02-29              0.0  \n",
       "2000-03-31              0.0  \n",
       "2000-04-28              0.0  "
      ]
     },
     "execution_count": 49,
     "metadata": {},
     "output_type": "execute_result"
    }
   ],
   "source": [
    "df.drop(columns=['year', 'month', 'day', 'datecheck', 'recent'], inplace=True)\n",
    "df.head()"
   ]
  },
  {
   "attachments": {},
   "cell_type": "markdown",
   "id": "e6a16ac7-240a-41e1-9a3f-0ea056b4fbab",
   "metadata": {},
   "source": [
    "We are now ready to compute returns.\n",
    "\n",
    "## Computing and Analyzing Stock Returns\n",
    "\n",
    "Recall that the `adjusted close` column is defined such that the ratio of two closing prices represents the gross return between these two dates. For example, the gross return between Dec 31, 1999 and Jan 31, 2000 is the `31.0176 / 37.0012`. This is the return an investor in Microsoft would have received if she bought a share at market close on Dec 31 and held it for the entire month of January until Jan 31. In other words, it is the Jan 2000 monthly return. Similarly, the Feb monthly return is `28.3237 / 31.0176`. Typically, we think in terms of net returns. So, for example, the Jan return would be `31.0176 / 37.0012 - 1`.\n",
    "\n",
    "We can compute monthly returns for all of our observations, except for the first one. Why not? Well, to get the Dec 1999 return, we'd need to know the Nov 1999 adjusted closing price, and it is not in our dataset. Of course, if Microsoft was publicly traded in Nov 1999, we can find a different data source and look it up, but then we'd have the same problem with the Nov 1999 return -- we would not be able to compute it because we don't have the Oct 1999 closing price, and so on. It is always the case that given a series of $N$ prices, we can compute $N-1$ returns.\n",
    "\n",
    "This kind of operation naturally lends itself to vectorization because we need to perform the same calculation $N-1$ times. If we were doing this with `numpy` arrays, we would have to think about numeric indices carefully, and then deal with the fact that we have one fewer return than price when storing the result back in the dataframe. But because we've `df.set_index()`, `pandas` lets us not worry about any of that:\n"
   ]
  },
  {
   "cell_type": "code",
   "execution_count": 50,
   "id": "399f8943-732f-4f30-9b30-f58d1d5cfec4",
   "metadata": {},
   "outputs": [
    {
     "data": {
      "text/html": [
       "<div>\n",
       "<style scoped>\n",
       "    .dataframe tbody tr th:only-of-type {\n",
       "        vertical-align: middle;\n",
       "    }\n",
       "\n",
       "    .dataframe tbody tr th {\n",
       "        vertical-align: top;\n",
       "    }\n",
       "\n",
       "    .dataframe thead th {\n",
       "        text-align: right;\n",
       "    }\n",
       "</style>\n",
       "<table border=\"1\" class=\"dataframe\">\n",
       "  <thead>\n",
       "    <tr style=\"text-align: right;\">\n",
       "      <th></th>\n",
       "      <th>open</th>\n",
       "      <th>high</th>\n",
       "      <th>low</th>\n",
       "      <th>close</th>\n",
       "      <th>adjusted close</th>\n",
       "      <th>volume</th>\n",
       "      <th>dividend amount</th>\n",
       "      <th>ret</th>\n",
       "    </tr>\n",
       "    <tr>\n",
       "      <th>timestamp</th>\n",
       "      <th></th>\n",
       "      <th></th>\n",
       "      <th></th>\n",
       "      <th></th>\n",
       "      <th></th>\n",
       "      <th></th>\n",
       "      <th></th>\n",
       "      <th></th>\n",
       "    </tr>\n",
       "  </thead>\n",
       "  <tbody>\n",
       "    <tr>\n",
       "      <th>1999-12-31</th>\n",
       "      <td>91.06</td>\n",
       "      <td>119.94</td>\n",
       "      <td>90.87</td>\n",
       "      <td>116.75</td>\n",
       "      <td>37.0012</td>\n",
       "      <td>630488900</td>\n",
       "      <td>0.0</td>\n",
       "      <td>NaN</td>\n",
       "    </tr>\n",
       "    <tr>\n",
       "      <th>2000-01-31</th>\n",
       "      <td>117.37</td>\n",
       "      <td>118.62</td>\n",
       "      <td>94.87</td>\n",
       "      <td>97.87</td>\n",
       "      <td>31.0176</td>\n",
       "      <td>637437600</td>\n",
       "      <td>0.0</td>\n",
       "      <td>-0.161714</td>\n",
       "    </tr>\n",
       "    <tr>\n",
       "      <th>2000-02-29</th>\n",
       "      <td>98.50</td>\n",
       "      <td>110.00</td>\n",
       "      <td>88.12</td>\n",
       "      <td>89.37</td>\n",
       "      <td>28.3237</td>\n",
       "      <td>667243800</td>\n",
       "      <td>0.0</td>\n",
       "      <td>-0.086851</td>\n",
       "    </tr>\n",
       "    <tr>\n",
       "      <th>2000-03-31</th>\n",
       "      <td>89.62</td>\n",
       "      <td>115.00</td>\n",
       "      <td>88.94</td>\n",
       "      <td>106.25</td>\n",
       "      <td>33.6734</td>\n",
       "      <td>1014093800</td>\n",
       "      <td>0.0</td>\n",
       "      <td>0.188877</td>\n",
       "    </tr>\n",
       "    <tr>\n",
       "      <th>2000-04-28</th>\n",
       "      <td>94.44</td>\n",
       "      <td>96.50</td>\n",
       "      <td>65.00</td>\n",
       "      <td>69.75</td>\n",
       "      <td>22.1056</td>\n",
       "      <td>1129073300</td>\n",
       "      <td>0.0</td>\n",
       "      <td>-0.343529</td>\n",
       "    </tr>\n",
       "  </tbody>\n",
       "</table>\n",
       "</div>"
      ],
      "text/plain": [
       "              open    high    low   close  adjusted close      volume  \\\n",
       "timestamp                                                               \n",
       "1999-12-31   91.06  119.94  90.87  116.75         37.0012   630488900   \n",
       "2000-01-31  117.37  118.62  94.87   97.87         31.0176   637437600   \n",
       "2000-02-29   98.50  110.00  88.12   89.37         28.3237   667243800   \n",
       "2000-03-31   89.62  115.00  88.94  106.25         33.6734  1014093800   \n",
       "2000-04-28   94.44   96.50  65.00   69.75         22.1056  1129073300   \n",
       "\n",
       "            dividend amount       ret  \n",
       "timestamp                              \n",
       "1999-12-31              0.0       NaN  \n",
       "2000-01-31              0.0 -0.161714  \n",
       "2000-02-29              0.0 -0.086851  \n",
       "2000-03-31              0.0  0.188877  \n",
       "2000-04-28              0.0 -0.343529  "
      ]
     },
     "execution_count": 50,
     "metadata": {},
     "output_type": "execute_result"
    }
   ],
   "source": [
    "df['ret'] = df['adjusted close'] / df['adjusted close'].shift(1) - 1\n",
    "df.head()"
   ]
  },
  {
   "attachments": {},
   "cell_type": "markdown",
   "id": "8ee531c9-0b0c-41d7-ab3f-8364a33e9b3a",
   "metadata": {},
   "source": [
    "We took the `adjusted close` column and divided it by itself, shifted by one, and stored the result in a new column called `ret`. Note the Dec 1999 value -- `NaN`. This stands for \"not a number\" and indicates a missing value, as we expected.\n",
    "\n",
    "Let's look more closely at what the `shift()` method does:\n"
   ]
  },
  {
   "cell_type": "code",
   "execution_count": 51,
   "id": "7411af97-858b-44aa-8990-ab7b98262393",
   "metadata": {},
   "outputs": [
    {
     "data": {
      "text/plain": [
       "timestamp\n",
       "1999-12-31        NaN\n",
       "2000-01-31    37.0012\n",
       "2000-02-29    31.0176\n",
       "2000-03-31    28.3237\n",
       "2000-04-28    33.6734\n",
       "Name: adjusted close, dtype: float64"
      ]
     },
     "execution_count": 51,
     "metadata": {},
     "output_type": "execute_result"
    }
   ],
   "source": [
    "shifted_close = df['adjusted close'].shift()\n",
    "shifted_close.head()"
   ]
  },
  {
   "attachments": {},
   "cell_type": "markdown",
   "id": "cbd13f50-11f9-4410-97d2-48f807e5984d",
   "metadata": {},
   "source": [
    "It took the Dec 1999 value of 37.0012 and shifted it one forward to make it the Jan 2001 value, took the Jan 2000 value of 31.0176 and made it the Feb 2001 value, etc. So when we're dividing the original `adjusted close` by the shifted one, we are dividing the original Jan 2000 price of 31.0176 by the \"shifted\" Jan 2000 price of 37.0012 (which is of course the original Dec 1999 price), computing the return.\n",
    "\n",
    "Just for comparison, here is how we would do it using `numpy`. We would first convert the `adjusted close` column to an `ndarray`. We would use numeric indices to divide second through the last elements by first through the second-to-last. We would insert a `numpy` `nan` into the array before the 0th element, and then we would store the resulting array back in the dataframe.\n"
   ]
  },
  {
   "cell_type": "code",
   "execution_count": 52,
   "id": "86ef315a-417c-4fac-b0c2-e54d238bfcd7",
   "metadata": {},
   "outputs": [
    {
     "data": {
      "text/html": [
       "<div>\n",
       "<style scoped>\n",
       "    .dataframe tbody tr th:only-of-type {\n",
       "        vertical-align: middle;\n",
       "    }\n",
       "\n",
       "    .dataframe tbody tr th {\n",
       "        vertical-align: top;\n",
       "    }\n",
       "\n",
       "    .dataframe thead th {\n",
       "        text-align: right;\n",
       "    }\n",
       "</style>\n",
       "<table border=\"1\" class=\"dataframe\">\n",
       "  <thead>\n",
       "    <tr style=\"text-align: right;\">\n",
       "      <th></th>\n",
       "      <th>open</th>\n",
       "      <th>high</th>\n",
       "      <th>low</th>\n",
       "      <th>close</th>\n",
       "      <th>adjusted close</th>\n",
       "      <th>volume</th>\n",
       "      <th>dividend amount</th>\n",
       "      <th>ret</th>\n",
       "      <th>other_ret</th>\n",
       "    </tr>\n",
       "    <tr>\n",
       "      <th>timestamp</th>\n",
       "      <th></th>\n",
       "      <th></th>\n",
       "      <th></th>\n",
       "      <th></th>\n",
       "      <th></th>\n",
       "      <th></th>\n",
       "      <th></th>\n",
       "      <th></th>\n",
       "      <th></th>\n",
       "    </tr>\n",
       "  </thead>\n",
       "  <tbody>\n",
       "    <tr>\n",
       "      <th>1999-12-31</th>\n",
       "      <td>91.06</td>\n",
       "      <td>119.94</td>\n",
       "      <td>90.87</td>\n",
       "      <td>116.75</td>\n",
       "      <td>37.0012</td>\n",
       "      <td>630488900</td>\n",
       "      <td>0.0</td>\n",
       "      <td>NaN</td>\n",
       "      <td>NaN</td>\n",
       "    </tr>\n",
       "    <tr>\n",
       "      <th>2000-01-31</th>\n",
       "      <td>117.37</td>\n",
       "      <td>118.62</td>\n",
       "      <td>94.87</td>\n",
       "      <td>97.87</td>\n",
       "      <td>31.0176</td>\n",
       "      <td>637437600</td>\n",
       "      <td>0.0</td>\n",
       "      <td>-0.161714</td>\n",
       "      <td>-0.161714</td>\n",
       "    </tr>\n",
       "    <tr>\n",
       "      <th>2000-02-29</th>\n",
       "      <td>98.50</td>\n",
       "      <td>110.00</td>\n",
       "      <td>88.12</td>\n",
       "      <td>89.37</td>\n",
       "      <td>28.3237</td>\n",
       "      <td>667243800</td>\n",
       "      <td>0.0</td>\n",
       "      <td>-0.086851</td>\n",
       "      <td>-0.086851</td>\n",
       "    </tr>\n",
       "    <tr>\n",
       "      <th>2000-03-31</th>\n",
       "      <td>89.62</td>\n",
       "      <td>115.00</td>\n",
       "      <td>88.94</td>\n",
       "      <td>106.25</td>\n",
       "      <td>33.6734</td>\n",
       "      <td>1014093800</td>\n",
       "      <td>0.0</td>\n",
       "      <td>0.188877</td>\n",
       "      <td>0.188877</td>\n",
       "    </tr>\n",
       "    <tr>\n",
       "      <th>2000-04-28</th>\n",
       "      <td>94.44</td>\n",
       "      <td>96.50</td>\n",
       "      <td>65.00</td>\n",
       "      <td>69.75</td>\n",
       "      <td>22.1056</td>\n",
       "      <td>1129073300</td>\n",
       "      <td>0.0</td>\n",
       "      <td>-0.343529</td>\n",
       "      <td>-0.343529</td>\n",
       "    </tr>\n",
       "  </tbody>\n",
       "</table>\n",
       "</div>"
      ],
      "text/plain": [
       "              open    high    low   close  adjusted close      volume  \\\n",
       "timestamp                                                               \n",
       "1999-12-31   91.06  119.94  90.87  116.75         37.0012   630488900   \n",
       "2000-01-31  117.37  118.62  94.87   97.87         31.0176   637437600   \n",
       "2000-02-29   98.50  110.00  88.12   89.37         28.3237   667243800   \n",
       "2000-03-31   89.62  115.00  88.94  106.25         33.6734  1014093800   \n",
       "2000-04-28   94.44   96.50  65.00   69.75         22.1056  1129073300   \n",
       "\n",
       "            dividend amount       ret  other_ret  \n",
       "timestamp                                         \n",
       "1999-12-31              0.0       NaN        NaN  \n",
       "2000-01-31              0.0 -0.161714  -0.161714  \n",
       "2000-02-29              0.0 -0.086851  -0.086851  \n",
       "2000-03-31              0.0  0.188877   0.188877  \n",
       "2000-04-28              0.0 -0.343529  -0.343529  "
      ]
     },
     "execution_count": 52,
     "metadata": {},
     "output_type": "execute_result"
    }
   ],
   "source": [
    "import numpy as np\n",
    "\n",
    "adjclose = df['adjusted close'].to_numpy()\n",
    "ret = np.insert(adjclose[1:] / adjclose[0:-1] - 1, 0, np.NAN)\n",
    "df['other_ret'] = ret\n",
    "df.head()"
   ]
  },
  {
   "attachments": {},
   "cell_type": "markdown",
   "id": "63702aba-c14f-4dbc-b16e-4295fd4fea22",
   "metadata": {},
   "source": [
    "Same result. But quite a bit more work, isn't it?\n",
    "\n",
    "Last note on this. What would happen if used numeric indices on the `Series` directly, without first converting to an `ndarray`?\n"
   ]
  },
  {
   "cell_type": "code",
   "execution_count": 53,
   "id": "8cf1c9e3-a422-4489-a85d-06b16b005f99",
   "metadata": {},
   "outputs": [
    {
     "data": {
      "text/plain": [
       "timestamp\n",
       "1999-12-31    NaN\n",
       "2000-01-31    0.0\n",
       "2000-02-29    0.0\n",
       "2000-03-31    0.0\n",
       "2000-04-28    0.0\n",
       "             ... \n",
       "2021-07-30    0.0\n",
       "2021-08-31    0.0\n",
       "2021-09-30    0.0\n",
       "2021-10-29    0.0\n",
       "2021-11-05    NaN\n",
       "Name: adjusted close, Length: 264, dtype: float64"
      ]
     },
     "execution_count": 53,
     "metadata": {},
     "output_type": "execute_result"
    }
   ],
   "source": [
    "test = df['adjusted close'][1:] / df['adjusted close'][0:-1] - 1\n",
    "test"
   ]
  },
  {
   "attachments": {},
   "cell_type": "markdown",
   "id": "f5ed27bd-03da-45d7-b6cb-0fd5d5364f14",
   "metadata": {},
   "source": [
    "What happened here? `Series` division matches up elements by the `Series` index rather than the numeric one. So regardless of the order `Series` will divide the Jan value by Jan value, Feb value by Feb value, etc. Since $x/x-1=0$ always, we indeed get a bunch of zeros for the range of dates that are present in both series.\n",
    "\n",
    "So be careful -- use the `numpy` way of doing things with `ndarray`s, but the `pandas` way of doing things with `Series` and `DataFrame`s.\n",
    "\n",
    "Quick cleanup before we proceed. Let's delete the extra variables and extra column we've created.\n"
   ]
  },
  {
   "cell_type": "code",
   "execution_count": 54,
   "id": "75d9f27d-4d37-465b-ba9e-a704e98d2c73",
   "metadata": {},
   "outputs": [],
   "source": [
    "del test, adjclose, ret\n",
    "df.drop(columns='other_ret', inplace=True)\n"
   ]
  },
  {
   "attachments": {},
   "cell_type": "markdown",
   "id": "928696e3-dd96-4b03-b845-f4e1d02e0fc7",
   "metadata": {},
   "source": [
    "We transformed the data by creating a new column from an existing one. At this time, it's good to perform a basic _sanity check_ by plotting the returns. Strange results -- e.g. magnitudes that don't match what we know monthly returns to be, roughly, or some kind of overly regular pattern in what we know to be largely unpredictable numbers -- will quickly tell us we did something wrong.\n"
   ]
  },
  {
   "cell_type": "code",
   "execution_count": 55,
   "id": "795e815d-7fb8-47e1-9f41-6e54f54b4184",
   "metadata": {},
   "outputs": [
    {
     "data": {
      "image/png": "[encoded data removed]",
      "text/plain": [
       "<Figure size 432x288 with 1 Axes>"
      ]
     },
     "metadata": {
      "needs_background": "light"
     },
     "output_type": "display_data"
    }
   ],
   "source": [
    "plt.scatter(df.index, df['ret'])\n",
    "plt.title('Microsoft Monthly Stock Returns')\n",
    "plt.xlabel('Date')\n",
    "plt.show()"
   ]
  },
  {
   "attachments": {},
   "cell_type": "markdown",
   "id": "6dc2f661-dff3-4c23-b50a-ac1f31a308e8",
   "metadata": {},
   "source": [
    "The magnitudes make sense -- most returns are between -20\\% and +20\\%. There is a pattern to the volatility, it seems, in that it is higher early in the sample, but otherwise returns look as random as we'd expect. This doesn't guarantee that we calculated them correctly, of course. They're not necessarily right, but they are reasonable or \"sane.\"\n",
    "\n",
    "Having calculated monthly returns, we next want to cumulate them over time to see how an investment in Microsoft would have done if it was held from Dec 31, 1999 to every subsequent month in our dataset.\n",
    "\n",
    "You may remember the following formula for cumulative returns:\n",
    "\n",
    "$1 + R_{t->t+h} = (1 + R_{t+1}) \\times (1 + R_{t+2}) \\ldots \\times (1 + R_{t+h})$\n",
    "\n",
    "The cumulative gross return from time $t$ to time $t+h$ is the gross return from $t$ to $t+1$, from $t+1$ to $t+2$, etc. until $t+h-1$ to $t+h$. We can implement this exactly:\n"
   ]
  },
  {
   "cell_type": "code",
   "execution_count": 56,
   "id": "b2054534-afab-4d34-8033-3393151f21da",
   "metadata": {},
   "outputs": [
    {
     "data": {
      "text/html": [
       "<div>\n",
       "<style scoped>\n",
       "    .dataframe tbody tr th:only-of-type {\n",
       "        vertical-align: middle;\n",
       "    }\n",
       "\n",
       "    .dataframe tbody tr th {\n",
       "        vertical-align: top;\n",
       "    }\n",
       "\n",
       "    .dataframe thead th {\n",
       "        text-align: right;\n",
       "    }\n",
       "</style>\n",
       "<table border=\"1\" class=\"dataframe\">\n",
       "  <thead>\n",
       "    <tr style=\"text-align: right;\">\n",
       "      <th></th>\n",
       "      <th>open</th>\n",
       "      <th>high</th>\n",
       "      <th>low</th>\n",
       "      <th>close</th>\n",
       "      <th>adjusted close</th>\n",
       "      <th>volume</th>\n",
       "      <th>dividend amount</th>\n",
       "      <th>ret</th>\n",
       "      <th>cumulret</th>\n",
       "    </tr>\n",
       "    <tr>\n",
       "      <th>timestamp</th>\n",
       "      <th></th>\n",
       "      <th></th>\n",
       "      <th></th>\n",
       "      <th></th>\n",
       "      <th></th>\n",
       "      <th></th>\n",
       "      <th></th>\n",
       "      <th></th>\n",
       "      <th></th>\n",
       "    </tr>\n",
       "  </thead>\n",
       "  <tbody>\n",
       "    <tr>\n",
       "      <th>1999-12-31</th>\n",
       "      <td>91.06</td>\n",
       "      <td>119.94</td>\n",
       "      <td>90.87</td>\n",
       "      <td>116.75</td>\n",
       "      <td>37.0012</td>\n",
       "      <td>630488900</td>\n",
       "      <td>0.0</td>\n",
       "      <td>NaN</td>\n",
       "      <td>NaN</td>\n",
       "    </tr>\n",
       "    <tr>\n",
       "      <th>2000-01-31</th>\n",
       "      <td>117.37</td>\n",
       "      <td>118.62</td>\n",
       "      <td>94.87</td>\n",
       "      <td>97.87</td>\n",
       "      <td>31.0176</td>\n",
       "      <td>637437600</td>\n",
       "      <td>0.0</td>\n",
       "      <td>-0.161714</td>\n",
       "      <td>-0.161714</td>\n",
       "    </tr>\n",
       "    <tr>\n",
       "      <th>2000-02-29</th>\n",
       "      <td>98.50</td>\n",
       "      <td>110.00</td>\n",
       "      <td>88.12</td>\n",
       "      <td>89.37</td>\n",
       "      <td>28.3237</td>\n",
       "      <td>667243800</td>\n",
       "      <td>0.0</td>\n",
       "      <td>-0.086851</td>\n",
       "      <td>-0.234519</td>\n",
       "    </tr>\n",
       "    <tr>\n",
       "      <th>2000-03-31</th>\n",
       "      <td>89.62</td>\n",
       "      <td>115.00</td>\n",
       "      <td>88.94</td>\n",
       "      <td>106.25</td>\n",
       "      <td>33.6734</td>\n",
       "      <td>1014093800</td>\n",
       "      <td>0.0</td>\n",
       "      <td>0.188877</td>\n",
       "      <td>-0.089938</td>\n",
       "    </tr>\n",
       "    <tr>\n",
       "      <th>2000-04-28</th>\n",
       "      <td>94.44</td>\n",
       "      <td>96.50</td>\n",
       "      <td>65.00</td>\n",
       "      <td>69.75</td>\n",
       "      <td>22.1056</td>\n",
       "      <td>1129073300</td>\n",
       "      <td>0.0</td>\n",
       "      <td>-0.343529</td>\n",
       "      <td>-0.402571</td>\n",
       "    </tr>\n",
       "  </tbody>\n",
       "</table>\n",
       "</div>"
      ],
      "text/plain": [
       "              open    high    low   close  adjusted close      volume  \\\n",
       "timestamp                                                               \n",
       "1999-12-31   91.06  119.94  90.87  116.75         37.0012   630488900   \n",
       "2000-01-31  117.37  118.62  94.87   97.87         31.0176   637437600   \n",
       "2000-02-29   98.50  110.00  88.12   89.37         28.3237   667243800   \n",
       "2000-03-31   89.62  115.00  88.94  106.25         33.6734  1014093800   \n",
       "2000-04-28   94.44   96.50  65.00   69.75         22.1056  1129073300   \n",
       "\n",
       "            dividend amount       ret  cumulret  \n",
       "timestamp                                        \n",
       "1999-12-31              0.0       NaN       NaN  \n",
       "2000-01-31              0.0 -0.161714 -0.161714  \n",
       "2000-02-29              0.0 -0.086851 -0.234519  \n",
       "2000-03-31              0.0  0.188877 -0.089938  \n",
       "2000-04-28              0.0 -0.343529 -0.402571  "
      ]
     },
     "execution_count": 56,
     "metadata": {},
     "output_type": "execute_result"
    }
   ],
   "source": [
    "df['cumulret'] = (df['ret'] + 1).cumprod() - 1\n",
    "df.head()"
   ]
  },
  {
   "attachments": {},
   "cell_type": "markdown",
   "id": "227e054d-25ac-4186-8f94-c58e4ba991b6",
   "metadata": {},
   "source": [
    "As we can see, the first non-missing cumulative return is the same as the regular return - the Jan 2000 cumulative return from Dec 1999 only includes the Jan 2000 monthly return. But as we keep going, `cumulret` cumulates the successive monthly returns.\n",
    "\n",
    "There is another way to do this, which will come in handy whenever we do any statistics or econometrics with a time series of returns. To use it, we first need to do a little bit of math. Define the _log return_ to be $r_t = \\log(1+R_t)$. This is the same as saying $1+R_t = \\exp(r_t)$. Plugging into the definition of the cumulative return above, we see that the cumulative _log_ return $r_{t \\rightarrow t+h}$ satisfies\n",
    "\n",
    "$\\exp(r_{t \\rightarrow t+h}) = \\exp(r_{t+1}) \\times \\exp(r_{t+2}) \\ldots \\times \\exp(r_{t+h})$\n",
    "\n",
    "Using the fact that $\\exp(a) \\exp(b) = \\exp(a+b)$ for any $a$ and $b$, we simplify\n",
    "\n",
    "$\\exp(r_{t \\rightarrow t+h}) = \\exp(r_{t+1} + r_{t+2} \\ldots + r_{t+h})$\n",
    "\n",
    "Taking logs of both sides,\n",
    "\n",
    "$r_{t \\rightarrow t+h} = r_{t+1} + r_{t+2} \\ldots + r_{t+h}$\n",
    "\n",
    "Working with log returns is much easier because cumulative log returns are just sums of individual returns. And sums are easier to calculate, and easier to do statistics with because we know many more properties of sums of random variables than products.\n",
    "\n",
    "So let's calculate log returns and cumulative log returns. From there, it's easy to get cumulative returns by exponentiating\n"
   ]
  },
  {
   "cell_type": "code",
   "execution_count": 57,
   "id": "3afed3ca-0b0c-409f-8470-816ac404c0fb",
   "metadata": {},
   "outputs": [
    {
     "data": {
      "text/html": [
       "<div>\n",
       "<style scoped>\n",
       "    .dataframe tbody tr th:only-of-type {\n",
       "        vertical-align: middle;\n",
       "    }\n",
       "\n",
       "    .dataframe tbody tr th {\n",
       "        vertical-align: top;\n",
       "    }\n",
       "\n",
       "    .dataframe thead th {\n",
       "        text-align: right;\n",
       "    }\n",
       "</style>\n",
       "<table border=\"1\" class=\"dataframe\">\n",
       "  <thead>\n",
       "    <tr style=\"text-align: right;\">\n",
       "      <th></th>\n",
       "      <th>open</th>\n",
       "      <th>high</th>\n",
       "      <th>low</th>\n",
       "      <th>close</th>\n",
       "      <th>adjusted close</th>\n",
       "      <th>volume</th>\n",
       "      <th>dividend amount</th>\n",
       "      <th>ret</th>\n",
       "      <th>cumulret</th>\n",
       "      <th>logret</th>\n",
       "      <th>cumullogret</th>\n",
       "      <th>other_cumulret</th>\n",
       "    </tr>\n",
       "    <tr>\n",
       "      <th>timestamp</th>\n",
       "      <th></th>\n",
       "      <th></th>\n",
       "      <th></th>\n",
       "      <th></th>\n",
       "      <th></th>\n",
       "      <th></th>\n",
       "      <th></th>\n",
       "      <th></th>\n",
       "      <th></th>\n",
       "      <th></th>\n",
       "      <th></th>\n",
       "      <th></th>\n",
       "    </tr>\n",
       "  </thead>\n",
       "  <tbody>\n",
       "    <tr>\n",
       "      <th>1999-12-31</th>\n",
       "      <td>91.06</td>\n",
       "      <td>119.94</td>\n",
       "      <td>90.87</td>\n",
       "      <td>116.75</td>\n",
       "      <td>37.0012</td>\n",
       "      <td>630488900</td>\n",
       "      <td>0.0</td>\n",
       "      <td>NaN</td>\n",
       "      <td>NaN</td>\n",
       "      <td>NaN</td>\n",
       "      <td>NaN</td>\n",
       "      <td>NaN</td>\n",
       "    </tr>\n",
       "    <tr>\n",
       "      <th>2000-01-31</th>\n",
       "      <td>117.37</td>\n",
       "      <td>118.62</td>\n",
       "      <td>94.87</td>\n",
       "      <td>97.87</td>\n",
       "      <td>31.0176</td>\n",
       "      <td>637437600</td>\n",
       "      <td>0.0</td>\n",
       "      <td>-0.161714</td>\n",
       "      <td>-0.161714</td>\n",
       "      <td>-0.176396</td>\n",
       "      <td>-0.176396</td>\n",
       "      <td>-0.161714</td>\n",
       "    </tr>\n",
       "    <tr>\n",
       "      <th>2000-02-29</th>\n",
       "      <td>98.50</td>\n",
       "      <td>110.00</td>\n",
       "      <td>88.12</td>\n",
       "      <td>89.37</td>\n",
       "      <td>28.3237</td>\n",
       "      <td>667243800</td>\n",
       "      <td>0.0</td>\n",
       "      <td>-0.086851</td>\n",
       "      <td>-0.234519</td>\n",
       "      <td>-0.090856</td>\n",
       "      <td>-0.267251</td>\n",
       "      <td>-0.234519</td>\n",
       "    </tr>\n",
       "    <tr>\n",
       "      <th>2000-03-31</th>\n",
       "      <td>89.62</td>\n",
       "      <td>115.00</td>\n",
       "      <td>88.94</td>\n",
       "      <td>106.25</td>\n",
       "      <td>33.6734</td>\n",
       "      <td>1014093800</td>\n",
       "      <td>0.0</td>\n",
       "      <td>0.188877</td>\n",
       "      <td>-0.089938</td>\n",
       "      <td>0.173009</td>\n",
       "      <td>-0.094242</td>\n",
       "      <td>-0.089938</td>\n",
       "    </tr>\n",
       "    <tr>\n",
       "      <th>2000-04-28</th>\n",
       "      <td>94.44</td>\n",
       "      <td>96.50</td>\n",
       "      <td>65.00</td>\n",
       "      <td>69.75</td>\n",
       "      <td>22.1056</td>\n",
       "      <td>1129073300</td>\n",
       "      <td>0.0</td>\n",
       "      <td>-0.343529</td>\n",
       "      <td>-0.402571</td>\n",
       "      <td>-0.420877</td>\n",
       "      <td>-0.515119</td>\n",
       "      <td>-0.402571</td>\n",
       "    </tr>\n",
       "  </tbody>\n",
       "</table>\n",
       "</div>"
      ],
      "text/plain": [
       "              open    high    low   close  adjusted close      volume  \\\n",
       "timestamp                                                               \n",
       "1999-12-31   91.06  119.94  90.87  116.75         37.0012   630488900   \n",
       "2000-01-31  117.37  118.62  94.87   97.87         31.0176   637437600   \n",
       "2000-02-29   98.50  110.00  88.12   89.37         28.3237   667243800   \n",
       "2000-03-31   89.62  115.00  88.94  106.25         33.6734  1014093800   \n",
       "2000-04-28   94.44   96.50  65.00   69.75         22.1056  1129073300   \n",
       "\n",
       "            dividend amount       ret  cumulret    logret  cumullogret  \\\n",
       "timestamp                                                                \n",
       "1999-12-31              0.0       NaN       NaN       NaN          NaN   \n",
       "2000-01-31              0.0 -0.161714 -0.161714 -0.176396    -0.176396   \n",
       "2000-02-29              0.0 -0.086851 -0.234519 -0.090856    -0.267251   \n",
       "2000-03-31              0.0  0.188877 -0.089938  0.173009    -0.094242   \n",
       "2000-04-28              0.0 -0.343529 -0.402571 -0.420877    -0.515119   \n",
       "\n",
       "            other_cumulret  \n",
       "timestamp                   \n",
       "1999-12-31             NaN  \n",
       "2000-01-31       -0.161714  \n",
       "2000-02-29       -0.234519  \n",
       "2000-03-31       -0.089938  \n",
       "2000-04-28       -0.402571  "
      ]
     },
     "execution_count": 57,
     "metadata": {},
     "output_type": "execute_result"
    }
   ],
   "source": [
    "df['logret'] = np.log(1 + df['ret'])\n",
    "df['cumullogret'] = df['logret'].cumsum()\n",
    "df['other_cumulret'] = np.exp(df['cumullogret']) - 1\n",
    "df.head()"
   ]
  },
  {
   "attachments": {},
   "cell_type": "markdown",
   "id": "e9f7f2f1-a5f8-466d-bf10-20a556c734dc",
   "metadata": {},
   "source": [
    "Note that `df['cumulret'] == df['other_cumulret']`. Both methods produce the same result.\n",
    "\n",
    "One more note about log returns. Note that the values of `ret` and `logret` are pretty close, especially when `ret` is not too different from zero. This isn't a coincidence. It is generally true that $\\log(1+x) \\approx x$ when $x \\approx 0$.\n",
    "\n",
    "Why is this the case? Let's do a little bit more math to see. Well, first, consider $x = 0$. Then $\\log(1+x) = \\log(1) = 0$. So the approximaton holds exactly at zero. What about small deviations away from 0. We know that for a function $f(x)$ small changes in $f$ as you change $x$ near some number $x_0$ are approximated by the derivative $f'(x_0)$:\n",
    "\n",
    "$f(x) \\approx f(x_0) + f'(x_0) (x-x_0)$\n",
    "\n",
    "Taking the derivative,\n",
    "\n",
    "$f'(x) = \\frac{1}{1+x}$\n",
    "\n",
    "Plugging in $x=1$, we see that $f'(1) = 1$. So we've learned that in the neighborhood of $x=0$, $\\log(1+x)$ changes 1 for 1 with $x$. Therefore, in the neighborhood around 0, $\\log(1+x) \\approx 0 + 1 \\times x = x$.\n",
    "\n",
    "Just in case you don't believe the calculus/algebra, let's see it in a plot:\n"
   ]
  },
  {
   "cell_type": "code",
   "execution_count": 58,
   "id": "2dca365b-45a2-40e2-b80a-237534f9f539",
   "metadata": {},
   "outputs": [
    {
     "data": {
      "image/png": "[encoded data removed]",
      "text/plain": [
       "<Figure size 432x288 with 1 Axes>"
      ]
     },
     "metadata": {
      "needs_background": "light"
     },
     "output_type": "display_data"
    }
   ],
   "source": [
    "xvec = np.linspace(-0.2, 0.2, 100)\n",
    "plt.plot(xvec, np.log(1 + xvec), label='log(1+x)')\n",
    "plt.plot(xvec, xvec, label='x')\n",
    "plt.legend(loc='lower right')\n",
    "plt.xlabel('x')\n",
    "plt.grid(True)\n",
    "plt.title('log(1+x) is approximately x when x is near 0')\n",
    "plt.show()"
   ]
  },
  {
   "attachments": {},
   "cell_type": "markdown",
   "id": "bd73c68b-65df-4627-8d75-9cc6b3f489e7",
   "metadata": {},
   "source": [
    "Because most stock returns fall in this range, we will often refer to returns and log returns interchangeably. So I may refer to a log return of -0.1 as a return of -10%. It's not exactly true, but it's close enough.\n",
    "\n",
    "Let's clean up a bit.\n"
   ]
  },
  {
   "cell_type": "code",
   "execution_count": 59,
   "id": "bc67fa8d-c04a-46b0-8aa5-88b0a6e6c481",
   "metadata": {},
   "outputs": [],
   "source": [
    "del xvec\n",
    "df.drop(columns='other_cumulret', inplace=True)\n"
   ]
  },
  {
   "attachments": {},
   "cell_type": "markdown",
   "id": "1445ece5-5eb9-4bd9-9799-e84176ba5664",
   "metadata": {},
   "source": [
    "We can now assess Microsoft's performance by plotting cumulative returns. We can make this plot the familiar way i.e. `plt.plot(df.index,df['cumulret'])` and subsequently set axis labels, etc. But there's an even easier way:\n"
   ]
  },
  {
   "cell_type": "code",
   "execution_count": 60,
   "id": "973bcc5b-64cd-4cc6-8919-40672c302536",
   "metadata": {},
   "outputs": [
    {
     "data": {
      "image/png": "[encoded data removed]",
      "text/plain": [
       "<Figure size 432x288 with 1 Axes>"
      ]
     },
     "metadata": {
      "needs_background": "light"
     },
     "output_type": "display_data"
    }
   ],
   "source": [
    "df['cumulret'].plot(grid=True,\n",
    "                    xlabel='Date',\n",
    "                    title='Microsoft Cumulative Return from Dec 1999')\n"
   ]
  },
  {
   "attachments": {},
   "cell_type": "markdown",
   "id": "2cccdb93-5cce-4dda-a6f5-5a698ea61797",
   "metadata": {},
   "source": [
    "Let's change this plot in three ways. First, let's plot the cumulative return in percent. Second, let's make the date in the title dynamic so that if we ever get a different sample that starts at a different date, the title will still be correct. Third, let's add a horizontal line at zero so we can easily see times in which our investment would have been profitable vs. loss-making:\n"
   ]
  },
  {
   "cell_type": "code",
   "execution_count": 61,
   "id": "4bd2d98d-85e7-4ddd-bf5d-939c02380a25",
   "metadata": {},
   "outputs": [
    {
     "data": {
      "image/png": "[encoded data removed]",
      "text/plain": [
       "<Figure size 432x288 with 1 Axes>"
      ]
     },
     "metadata": {
      "needs_background": "light"
     },
     "output_type": "display_data"
    }
   ],
   "source": [
    "(100 * df['cumulret']).plot(grid=True,\n",
    "                            xlabel='Date',\n",
    "                            ylabel='Percent',\n",
    "                            title='Microsoft Cumulative Return from %s' %\n",
    "                            df.index[0].strftime('%b %Y'))\n",
    "plt.axhline(y=0, color='g')\n"
   ]
  },
  {
   "attachments": {},
   "cell_type": "markdown",
   "id": "06daefcd-01d6-4ee4-ba8d-a3c97d285b36",
   "metadata": {},
   "source": [
    "This is a pretty striking result. If we had invested in Microsoft in December 1999, we would not have made any money until... 2015! But if we had invested in Microsoft in 2015, over 6 years we would have made an 800% return, converting every \\\\$1 of investment into \\\\$9!\n",
    "\n",
    "Plotting is one useful way of analyzing the data. Looking at summary statistics is another, and that is what we will do next.\n",
    "\n",
    "## Summary Statistics\n",
    "\n",
    "Recall the many statistical functions we can apply to `ndarrays`: `np.mean()`, `np.std()`, etc. Most have `pandas` equivalents, and we can run them one at a time to compute the mean, standard deviation, etc. of our columns of interest. But there is a quicker way to get a bunch of summary statistics at once:\n"
   ]
  },
  {
   "cell_type": "code",
   "execution_count": 62,
   "id": "59be46d7-1b70-4519-966b-98b24ef39e44",
   "metadata": {},
   "outputs": [
    {
     "data": {
      "text/html": [
       "<div>\n",
       "<style scoped>\n",
       "    .dataframe tbody tr th:only-of-type {\n",
       "        vertical-align: middle;\n",
       "    }\n",
       "\n",
       "    .dataframe tbody tr th {\n",
       "        vertical-align: top;\n",
       "    }\n",
       "\n",
       "    .dataframe thead th {\n",
       "        text-align: right;\n",
       "    }\n",
       "</style>\n",
       "<table border=\"1\" class=\"dataframe\">\n",
       "  <thead>\n",
       "    <tr style=\"text-align: right;\">\n",
       "      <th></th>\n",
       "      <th>ret</th>\n",
       "      <th>logret</th>\n",
       "    </tr>\n",
       "  </thead>\n",
       "  <tbody>\n",
       "    <tr>\n",
       "      <th>count</th>\n",
       "      <td>263.000000</td>\n",
       "      <td>263.000000</td>\n",
       "    </tr>\n",
       "    <tr>\n",
       "      <th>mean</th>\n",
       "      <td>0.011789</td>\n",
       "      <td>0.008389</td>\n",
       "    </tr>\n",
       "    <tr>\n",
       "      <th>std</th>\n",
       "      <td>0.082364</td>\n",
       "      <td>0.082189</td>\n",
       "    </tr>\n",
       "    <tr>\n",
       "      <th>min</th>\n",
       "      <td>-0.343529</td>\n",
       "      <td>-0.420877</td>\n",
       "    </tr>\n",
       "    <tr>\n",
       "      <th>25%</th>\n",
       "      <td>-0.037291</td>\n",
       "      <td>-0.038004</td>\n",
       "    </tr>\n",
       "    <tr>\n",
       "      <th>50%</th>\n",
       "      <td>0.017244</td>\n",
       "      <td>0.017097</td>\n",
       "    </tr>\n",
       "    <tr>\n",
       "      <th>75%</th>\n",
       "      <td>0.055697</td>\n",
       "      <td>0.054201</td>\n",
       "    </tr>\n",
       "    <tr>\n",
       "      <th>max</th>\n",
       "      <td>0.407556</td>\n",
       "      <td>0.341855</td>\n",
       "    </tr>\n",
       "  </tbody>\n",
       "</table>\n",
       "</div>"
      ],
      "text/plain": [
       "              ret      logret\n",
       "count  263.000000  263.000000\n",
       "mean     0.011789    0.008389\n",
       "std      0.082364    0.082189\n",
       "min     -0.343529   -0.420877\n",
       "25%     -0.037291   -0.038004\n",
       "50%      0.017244    0.017097\n",
       "75%      0.055697    0.054201\n",
       "max      0.407556    0.341855"
      ]
     },
     "execution_count": 62,
     "metadata": {},
     "output_type": "execute_result"
    }
   ],
   "source": [
    "df[['ret', 'logret']].describe()\n"
   ]
  },
  {
   "attachments": {},
   "cell_type": "markdown",
   "id": "48746931-5044-4bca-b77d-0a666b1ac6e9",
   "metadata": {},
   "source": [
    "We selected the two columns we're interested in -- returns and log returns -- and `describe()`d them to get the number of observations (`count`), mean, standard deviation (`std`), extrema (`min` and `max`), and a few key percentiles.\n",
    "\n",
    "We find that Microsoft's monthly returns have had about 8.2% volatility and a mean of... either 1.17% or 0.84%, depending on which column you look at. So which column should it be?\n",
    "\n",
    "Like with any statistic, the answer depends on the question you are asking. If someone asks you what the average return for Microsoft has been, you should clarify -- why do you want to know? Typically, someone is interested in historical stock returns because they want to gauge how much money they could have or can make. Maybe the person asking you is interested in how much they could expect to make over the next month if they invested in Microsoft today and the probability distribution of its returns remained unchanged. This question is best answered by looking at the first column of simple `ret`urns -- about 1.17%.\n",
    "\n",
    "But, more commonly, one wants to know the average return because they would like to know much they would earn on average per month if they held the investment for a while. Another way of asking this question is: if I invested a risk-free investment that delivered the same return every month, what would that return need to be for me to earn the same amount as if I had invested in Microsoft stock?\n",
    "\n",
    "The answer to that question is **not** 1.17%. To see why, consider investing \\\\$100 in a hypothetical (very risky!) stock and holding the stock for two months. In the first month, the stock experiences a 50\\% return. In the second month, it experiences a -50\\% return. The *arithmetic average* return is $(0.5 - 0.5) / 2 = 0$. The cumulative return over two months, however, is $(1 + 0.5) \\times (1 - 0.5) -1 = -0.25$ or -25\\%. At the end of the first month, your investment is worth \\\\$150, so the negative 50\\% return in the second month is applied to a bigger base. The same 50\\% change loses you \\\\$75 instead of \\\\$50.\n",
    "\n",
    "An equivalent risk-free investment would need to earn $x$ every month to deliver a cumulative return of $(1+x)^2-1=-0.25$. Solving for $x$, we get $x = 1-(1-0.25)^\\frac{1}{2}=-0.134$ or -13.4\\% per month.\n",
    "\n",
    "So the answer to \"if I invested a risk-free investment that delivered the same return every month, what would that return need to be for me to earn the same amount as if I had invested in this stock\" is the _geometric mean_ of -13.4\\%. not 0\\%!\n",
    "\n",
    "The geometric mean of returns $R_{t+1}, R_{t+2}, \\ldots, R_{t+h}$ is defined as\n",
    "\n",
    "$ 1 + \\bar{R}_{t\\rightarrow t+h}^{geom} \\equiv \\left[ (1+R_{t+1}) (1+R*{t+2}) \\ldots (1 + R*{t+h}) \\right]^\\frac{1}{h} $\n",
    "\n",
    "This looks messy, but log returns come to the rescue. Plugging in the definition of log returns and doing some math, we get\n",
    "\n",
    "$ 1 + \\bar{R}_{t\\rightarrow t+h}^{geom} = \\exp( \\frac{r_{t+1} + r*{t+2} \\ldots + r*{t+h}}{h} )$\n",
    "\n",
    "Look at the expression inside $\\exp()$. This is just the regular arithmetic mean of log returns, which we can denote $\\bar{r}_{t \\rightarrow t+h}$. So the geometric mean of returns is just an exponentiated version of the arithmetic mean of log returns. And since we know that $\\log(1+x) \\approx x$ for $x \\approx 0$ (which _mean_ log returns usually are), the geometric mean is very well approximated by the arithmetic mean of log returns.\n",
    "\n",
    "This is why the second column in our table of summary statistics is useful. Let's use the mean log return to compute the geometric mean exactly:\n"
   ]
  },
  {
   "cell_type": "code",
   "execution_count": 63,
   "id": "2c9ccabd-bb47-4770-ada8-70b0d93370d2",
   "metadata": {},
   "outputs": [
    {
     "name": "stdout",
     "output_type": "stream",
     "text": [
      "Mean Returns (in percent)\n",
      "Arithmetic Mean Return:     1.17892\n",
      "Arithmetic Mean Log Return: 0.83891\n",
      "Geometric Mean Return (1):  0.84244\n",
      "Geometric Mean Return (2):  0.84244\n"
     ]
    }
   ],
   "source": [
    "summary_stats = df[['ret', 'logret']].describe()\n",
    "print('Mean Returns (in percent)')\n",
    "print('Arithmetic Mean Return:     %0.5f' %\n",
    "      (100 * summary_stats.loc['mean', 'ret']))\n",
    "print('Arithmetic Mean Log Return: %0.5f' %\n",
    "      (100 * summary_stats.loc['mean', 'logret']))\n",
    "print('Geometric Mean Return (1):  %0.5f' %\n",
    "      (100 * (np.exp(summary_stats.loc['mean', 'logret']) - 1)))\n",
    "print(\n",
    "    'Geometric Mean Return (2):  %0.5f' %\n",
    "    (100 *\n",
    "     ((1 + df['cumulret'][-1])**(1 / summary_stats.loc['count', 'ret']) - 1)))\n"
   ]
  },
  {
   "attachments": {},
   "cell_type": "markdown",
   "id": "462020c2-f4df-4cee-b67e-3ed920869b03",
   "metadata": {},
   "source": [
    "Note that the two methods of computing the geometric mean -- using log returns and directly -- produce identical results. The mean log return is very close to the geometric mean -- enough that, again, we can use them interchangeably. And all are substantially lower than the mean return.\n",
    "\n",
    "In fact, the geometric mean is **always** lower than the arithmetic mean, and this difference increases in volatility. This is why unscrupulous asset managers want to advertise the arithmetic mean of their strategies. This way, to naive investors they can seem to offer large returns while actually all they're doing is offering more risk for the same return.\n",
    "\n",
    "### Aside: The Distribution of Log Returns\n",
    "\n",
    "In other classes, you may have assumed, or will assume, that returns are log-normally distributed, or, in other words, log returns are normally distributed. One nice property of the normal family of distributions is that any normal distribution is fully described by two parameters identifying its mean and standard deviation. So if log returns are indeed normally distributed, then the mean and standard deviation estimated above fully describe their distribution.\n",
    "\n",
    "We can check if this is the case. Let us plot, on the same plot, two probability density functions (pdfs). The first will be the pdf of the normal distribution with a mean of 0.0083891 and a standard deviation of 0.082189, the statistics for log returns in our sample. The second will be a histogram of the data, scaled to resemble a pdf.\n"
   ]
  },
  {
   "cell_type": "code",
   "execution_count": 64,
   "id": "e509b886-cd2d-4357-b676-c5b8fe2c8961",
   "metadata": {},
   "outputs": [
    {
     "data": {
      "image/png": "[encoded data removed]",
      "text/plain": [
       "<Figure size 432x288 with 1 Axes>"
      ]
     },
     "metadata": {
      "needs_background": "light"
     },
     "output_type": "display_data"
    }
   ],
   "source": [
    "from scipy.stats import norm\n",
    "\n",
    "ss = summary_stats['logret']\n",
    "rvec = np.linspace(ss['min'], ss['max'], 100)\n",
    "plt.plot(rvec, norm.pdf(rvec, ss['mean'], ss['std']), label='Normal')\n",
    "plt.hist(df['logret'], bins=30, density=True, label='Data')\n",
    "plt.xlabel('Log Return')\n",
    "plt.legend(loc='upper left')\n",
    "plt.title('Distribution of Log Returns')\n",
    "plt.show()"
   ]
  },
  {
   "attachments": {},
   "cell_type": "markdown",
   "id": "c8728d31-ad15-473c-9076-4ade73bb5abd",
   "metadata": {},
   "source": [
    "Notice that the data doesn't look _that_ normally distributed. Sure, the overall pattern is there -- there is a single peak and most of the mass of the distribution is clustered around that peak. But it's not very symmetric, and extreme returns, whether positive or negative, occur more often than the normal distribution would suggest. Later in this course, when we discuss modeling stock returns, we will explore ways to relax the assumption of normality.\n"
   ]
  },
  {
   "attachments": {},
   "cell_type": "markdown",
   "id": "6375b5f2-74fb-4aeb-88d5-b3552095d194",
   "metadata": {},
   "source": [
    "### Aside: Adding Stats to `DataFrame.describe()`\n",
    "\n",
    "Sometimes, there are other statistics we would like to see in addition to count, mean, std.dev., and percentiles. For instance, with financial time series we are often interested in their autocorrelation. And to evaluate the non-normality of returns, we may want to report the sample's skewness or kurtosis. There is no argument of `DataFrame.describe()` that allows us to add stats. But we can write our own function that \"wraps\" `DataFrame.describe()` and augments its output with additional statistics.\n"
   ]
  },
  {
   "cell_type": "code",
   "execution_count": 65,
   "id": "f5ce7165-5cb7-4317-be69-75aace6756a7",
   "metadata": {},
   "outputs": [
    {
     "data": {
      "text/html": [
       "<div>\n",
       "<style scoped>\n",
       "    .dataframe tbody tr th:only-of-type {\n",
       "        vertical-align: middle;\n",
       "    }\n",
       "\n",
       "    .dataframe tbody tr th {\n",
       "        vertical-align: top;\n",
       "    }\n",
       "\n",
       "    .dataframe thead th {\n",
       "        text-align: right;\n",
       "    }\n",
       "</style>\n",
       "<table border=\"1\" class=\"dataframe\">\n",
       "  <thead>\n",
       "    <tr style=\"text-align: right;\">\n",
       "      <th></th>\n",
       "      <th>ret</th>\n",
       "      <th>logret</th>\n",
       "    </tr>\n",
       "  </thead>\n",
       "  <tbody>\n",
       "    <tr>\n",
       "      <th>count</th>\n",
       "      <td>263.000000</td>\n",
       "      <td>263.000000</td>\n",
       "    </tr>\n",
       "    <tr>\n",
       "      <th>mean</th>\n",
       "      <td>0.011789</td>\n",
       "      <td>0.008389</td>\n",
       "    </tr>\n",
       "    <tr>\n",
       "      <th>std</th>\n",
       "      <td>0.082364</td>\n",
       "      <td>0.082189</td>\n",
       "    </tr>\n",
       "    <tr>\n",
       "      <th>min</th>\n",
       "      <td>-0.343529</td>\n",
       "      <td>-0.420877</td>\n",
       "    </tr>\n",
       "    <tr>\n",
       "      <th>25%</th>\n",
       "      <td>-0.037291</td>\n",
       "      <td>-0.038004</td>\n",
       "    </tr>\n",
       "    <tr>\n",
       "      <th>50%</th>\n",
       "      <td>0.017244</td>\n",
       "      <td>0.017097</td>\n",
       "    </tr>\n",
       "    <tr>\n",
       "      <th>75%</th>\n",
       "      <td>0.055697</td>\n",
       "      <td>0.054201</td>\n",
       "    </tr>\n",
       "    <tr>\n",
       "      <th>max</th>\n",
       "      <td>0.407556</td>\n",
       "      <td>0.341855</td>\n",
       "    </tr>\n",
       "    <tr>\n",
       "      <th>autocorr</th>\n",
       "      <td>-0.154094</td>\n",
       "      <td>-0.129494</td>\n",
       "    </tr>\n",
       "    <tr>\n",
       "      <th>skew</th>\n",
       "      <td>0.215578</td>\n",
       "      <td>-0.440549</td>\n",
       "    </tr>\n",
       "  </tbody>\n",
       "</table>\n",
       "</div>"
      ],
      "text/plain": [
       "                 ret      logret\n",
       "count     263.000000  263.000000\n",
       "mean        0.011789    0.008389\n",
       "std         0.082364    0.082189\n",
       "min        -0.343529   -0.420877\n",
       "25%        -0.037291   -0.038004\n",
       "50%         0.017244    0.017097\n",
       "75%         0.055697    0.054201\n",
       "max         0.407556    0.341855\n",
       "autocorr   -0.154094   -0.129494\n",
       "skew        0.215578   -0.440549"
      ]
     },
     "execution_count": 65,
     "metadata": {},
     "output_type": "execute_result"
    }
   ],
   "source": [
    "def describe(df, stats):\n",
    "    ss = df.describe()\n",
    "    addl = df.agg(stats)\n",
    "    return pd.concat([ss, addl]).drop_duplicates()\n",
    "\n",
    "\n",
    "describe(df[['ret', 'logret']], ['autocorr', 'skew'])\n"
   ]
  },
  {
   "attachments": {},
   "cell_type": "markdown",
   "id": "de543480-0f60-46f6-8b80-de63a0a95069",
   "metadata": {},
   "source": [
    "The `describe()` function takes two arguments -- a `DataFrame` and a `list` of statistics in the format that `DataFrame.agg()` expects. We take advantage of the fact that `DataFrame.describe()` is already essentially a shorthand for `agg` -- a really useful `pandas` function that produces summary statistics. We can think of `DataFrame.describe()` as calling `DataFrame.agg()` with a specific pre-specified list of statistics. We are just adding a few more and `DataFrame.concat()`enating the two sets of summary statistics together. The last part -- `.drop_duplicates()` -- just deals with the possibility that we accidentally asked for a statistic that `DataFrame.describe()` already outputs.\n"
   ]
  },
  {
   "attachments": {},
   "cell_type": "markdown",
   "id": "5f5129a6-ee1e-4dca-bd8e-3d97b62d81da",
   "metadata": {},
   "source": [
    "## Constructing a Portfolio\n",
    "\n",
    "Usually, we don't just want to analyze one stock at a time. Rather, we want to compare the returns of multiple assets and construct portfolios.\n",
    "\n",
    "Many data providers will make historical stock data for multiple companies available in one table. Let's import such a table and take a look.\n"
   ]
  },
  {
   "cell_type": "code",
   "execution_count": 66,
   "id": "fb606287-562c-4b28-9e05-d201c4fb2ab4",
   "metadata": {},
   "outputs": [
    {
     "data": {
      "text/html": [
       "<div>\n",
       "<style scoped>\n",
       "    .dataframe tbody tr th:only-of-type {\n",
       "        vertical-align: middle;\n",
       "    }\n",
       "\n",
       "    .dataframe tbody tr th {\n",
       "        vertical-align: top;\n",
       "    }\n",
       "\n",
       "    .dataframe thead th {\n",
       "        text-align: right;\n",
       "    }\n",
       "</style>\n",
       "<table border=\"1\" class=\"dataframe\">\n",
       "  <thead>\n",
       "    <tr style=\"text-align: right;\">\n",
       "      <th></th>\n",
       "      <th>ticker</th>\n",
       "      <th>timestamp</th>\n",
       "      <th>open</th>\n",
       "      <th>high</th>\n",
       "      <th>low</th>\n",
       "      <th>close</th>\n",
       "      <th>adjusted close</th>\n",
       "      <th>volume</th>\n",
       "      <th>dividend amount</th>\n",
       "    </tr>\n",
       "  </thead>\n",
       "  <tbody>\n",
       "    <tr>\n",
       "      <th>0</th>\n",
       "      <td>C</td>\n",
       "      <td>2021-10-29</td>\n",
       "      <td>70.44</td>\n",
       "      <td>73.725</td>\n",
       "      <td>68.740</td>\n",
       "      <td>69.16</td>\n",
       "      <td>69.1600</td>\n",
       "      <td>379877026</td>\n",
       "      <td>0.51</td>\n",
       "    </tr>\n",
       "    <tr>\n",
       "      <th>1</th>\n",
       "      <td>C</td>\n",
       "      <td>2021-09-30</td>\n",
       "      <td>72.36</td>\n",
       "      <td>73.280</td>\n",
       "      <td>65.965</td>\n",
       "      <td>70.18</td>\n",
       "      <td>69.6663</td>\n",
       "      <td>409805625</td>\n",
       "      <td>0.00</td>\n",
       "    </tr>\n",
       "    <tr>\n",
       "      <th>2</th>\n",
       "      <td>C</td>\n",
       "      <td>2021-08-31</td>\n",
       "      <td>67.95</td>\n",
       "      <td>74.640</td>\n",
       "      <td>66.890</td>\n",
       "      <td>71.91</td>\n",
       "      <td>71.3836</td>\n",
       "      <td>350633101</td>\n",
       "      <td>0.00</td>\n",
       "    </tr>\n",
       "    <tr>\n",
       "      <th>3</th>\n",
       "      <td>C</td>\n",
       "      <td>2021-07-30</td>\n",
       "      <td>71.08</td>\n",
       "      <td>71.210</td>\n",
       "      <td>64.360</td>\n",
       "      <td>67.62</td>\n",
       "      <td>67.1250</td>\n",
       "      <td>427803836</td>\n",
       "      <td>0.51</td>\n",
       "    </tr>\n",
       "    <tr>\n",
       "      <th>4</th>\n",
       "      <td>C</td>\n",
       "      <td>2021-06-30</td>\n",
       "      <td>79.49</td>\n",
       "      <td>80.290</td>\n",
       "      <td>67.130</td>\n",
       "      <td>70.75</td>\n",
       "      <td>69.7064</td>\n",
       "      <td>518543105</td>\n",
       "      <td>0.00</td>\n",
       "    </tr>\n",
       "    <tr>\n",
       "      <th>...</th>\n",
       "      <td>...</td>\n",
       "      <td>...</td>\n",
       "      <td>...</td>\n",
       "      <td>...</td>\n",
       "      <td>...</td>\n",
       "      <td>...</td>\n",
       "      <td>...</td>\n",
       "      <td>...</td>\n",
       "      <td>...</td>\n",
       "    </tr>\n",
       "    <tr>\n",
       "      <th>3144</th>\n",
       "      <td>XOM</td>\n",
       "      <td>2000-04-28</td>\n",
       "      <td>77.75</td>\n",
       "      <td>83.130</td>\n",
       "      <td>75.000</td>\n",
       "      <td>77.69</td>\n",
       "      <td>20.0828</td>\n",
       "      <td>100710000</td>\n",
       "      <td>0.00</td>\n",
       "    </tr>\n",
       "    <tr>\n",
       "      <th>3145</th>\n",
       "      <td>XOM</td>\n",
       "      <td>2000-03-31</td>\n",
       "      <td>75.38</td>\n",
       "      <td>82.000</td>\n",
       "      <td>72.000</td>\n",
       "      <td>78.00</td>\n",
       "      <td>20.1629</td>\n",
       "      <td>139872700</td>\n",
       "      <td>0.00</td>\n",
       "    </tr>\n",
       "    <tr>\n",
       "      <th>3146</th>\n",
       "      <td>XOM</td>\n",
       "      <td>2000-02-29</td>\n",
       "      <td>83.31</td>\n",
       "      <td>84.880</td>\n",
       "      <td>69.880</td>\n",
       "      <td>75.31</td>\n",
       "      <td>19.4676</td>\n",
       "      <td>110523100</td>\n",
       "      <td>0.44</td>\n",
       "    </tr>\n",
       "    <tr>\n",
       "      <th>3147</th>\n",
       "      <td>XOM</td>\n",
       "      <td>2000-01-31</td>\n",
       "      <td>79.50</td>\n",
       "      <td>86.310</td>\n",
       "      <td>76.500</td>\n",
       "      <td>82.88</td>\n",
       "      <td>21.3015</td>\n",
       "      <td>125301100</td>\n",
       "      <td>0.00</td>\n",
       "    </tr>\n",
       "    <tr>\n",
       "      <th>3148</th>\n",
       "      <td>XOM</td>\n",
       "      <td>1999-12-31</td>\n",
       "      <td>79.25</td>\n",
       "      <td>86.560</td>\n",
       "      <td>79.250</td>\n",
       "      <td>80.56</td>\n",
       "      <td>20.7052</td>\n",
       "      <td>111068700</td>\n",
       "      <td>0.00</td>\n",
       "    </tr>\n",
       "  </tbody>\n",
       "</table>\n",
       "<p>3149 rows × 9 columns</p>\n",
       "</div>"
      ],
      "text/plain": [
       "     ticker  timestamp   open    high     low  close  adjusted close  \\\n",
       "0         C 2021-10-29  70.44  73.725  68.740  69.16         69.1600   \n",
       "1         C 2021-09-30  72.36  73.280  65.965  70.18         69.6663   \n",
       "2         C 2021-08-31  67.95  74.640  66.890  71.91         71.3836   \n",
       "3         C 2021-07-30  71.08  71.210  64.360  67.62         67.1250   \n",
       "4         C 2021-06-30  79.49  80.290  67.130  70.75         69.7064   \n",
       "...     ...        ...    ...     ...     ...    ...             ...   \n",
       "3144    XOM 2000-04-28  77.75  83.130  75.000  77.69         20.0828   \n",
       "3145    XOM 2000-03-31  75.38  82.000  72.000  78.00         20.1629   \n",
       "3146    XOM 2000-02-29  83.31  84.880  69.880  75.31         19.4676   \n",
       "3147    XOM 2000-01-31  79.50  86.310  76.500  82.88         21.3015   \n",
       "3148    XOM 1999-12-31  79.25  86.560  79.250  80.56         20.7052   \n",
       "\n",
       "         volume  dividend amount  \n",
       "0     379877026             0.51  \n",
       "1     409805625             0.00  \n",
       "2     350633101             0.00  \n",
       "3     427803836             0.51  \n",
       "4     518543105             0.00  \n",
       "...         ...              ...  \n",
       "3144  100710000             0.00  \n",
       "3145  139872700             0.00  \n",
       "3146  110523100             0.44  \n",
       "3147  125301100             0.00  \n",
       "3148  111068700             0.00  \n",
       "\n",
       "[3149 rows x 9 columns]"
      ]
     },
     "metadata": {},
     "output_type": "display_data"
    }
   ],
   "source": [
    "stockdata = pd.read_csv('data/stockdata.csv', parse_dates=['timestamp'])\n",
    "display(stockdata)"
   ]
  },
  {
   "attachments": {},
   "cell_type": "markdown",
   "id": "db3e1569-d449-42a7-9532-85de9f79bff8",
   "metadata": {},
   "source": [
    "Relative to how Microsoft's table looked, we see a new column at the beginning -- `ticker` -- indicating which company's information the row (\"obsetvation\") contains. It identifies the observation along with `timestamp`. If we just knew that the stock return is from August 2021, that wouldn't tell us enough information. Is it the August return for C (Citi) or for XOM (Exxon Mobil)? Every observation in this data -- every closing price, dividend amount, etc. -- has two _dimensions_: a ticker and a month. Both are necessary to identify it. Such two-dimensional data is sometimes called _panel_ data if one of the dimensions is time, like it is here.\n",
    "\n",
    "There are two different ways to store such two-dimensional observations. The format above contains a separate row for every combination of `ticker` and `timestamp` for which we have data. In other words, every obseration has its own row. This format is called the _long_ format. An alternative _wide_ format would use rows to identify one dimensions -- e.g. month -- and use columns to identify the other dimension -- ticker. It would look something like this:\n"
   ]
  },
  {
   "cell_type": "code",
   "execution_count": 67,
   "id": "b2b18e0b-8dd0-4673-95a5-6d3df5be955a",
   "metadata": {},
   "outputs": [
    {
     "data": {
      "text/html": [
       "<div>\n",
       "<style scoped>\n",
       "    .dataframe tbody tr th:only-of-type {\n",
       "        vertical-align: middle;\n",
       "    }\n",
       "\n",
       "    .dataframe tbody tr th {\n",
       "        vertical-align: top;\n",
       "    }\n",
       "\n",
       "    .dataframe thead th {\n",
       "        text-align: right;\n",
       "    }\n",
       "</style>\n",
       "<table border=\"1\" class=\"dataframe\">\n",
       "  <thead>\n",
       "    <tr style=\"text-align: right;\">\n",
       "      <th>ticker</th>\n",
       "      <th>C</th>\n",
       "      <th>CSCO</th>\n",
       "      <th>GE</th>\n",
       "      <th>HD</th>\n",
       "      <th>IBM</th>\n",
       "      <th>INTC</th>\n",
       "      <th>MRK</th>\n",
       "      <th>MSFT</th>\n",
       "      <th>ORCL</th>\n",
       "      <th>T</th>\n",
       "      <th>WMT</th>\n",
       "      <th>XOM</th>\n",
       "    </tr>\n",
       "    <tr>\n",
       "      <th>timestamp</th>\n",
       "      <th></th>\n",
       "      <th></th>\n",
       "      <th></th>\n",
       "      <th></th>\n",
       "      <th></th>\n",
       "      <th></th>\n",
       "      <th></th>\n",
       "      <th></th>\n",
       "      <th></th>\n",
       "      <th></th>\n",
       "      <th></th>\n",
       "      <th></th>\n",
       "    </tr>\n",
       "  </thead>\n",
       "  <tbody>\n",
       "    <tr>\n",
       "      <th>1999-12-31</th>\n",
       "      <td>NaN</td>\n",
       "      <td>39.2481</td>\n",
       "      <td>219.9107</td>\n",
       "      <td>44.5245</td>\n",
       "      <td>63.3510</td>\n",
       "      <td>25.2140</td>\n",
       "      <td>28.6654</td>\n",
       "      <td>37.0012</td>\n",
       "      <td>23.7312</td>\n",
       "      <td>14.4680</td>\n",
       "      <td>46.6625</td>\n",
       "      <td>20.7052</td>\n",
       "    </tr>\n",
       "    <tr>\n",
       "      <th>2000-01-31</th>\n",
       "      <td>NaN</td>\n",
       "      <td>40.1276</td>\n",
       "      <td>190.4235</td>\n",
       "      <td>36.6752</td>\n",
       "      <td>65.9234</td>\n",
       "      <td>30.3083</td>\n",
       "      <td>33.5461</td>\n",
       "      <td>31.0176</td>\n",
       "      <td>21.1485</td>\n",
       "      <td>12.7968</td>\n",
       "      <td>36.9560</td>\n",
       "      <td>21.3015</td>\n",
       "    </tr>\n",
       "    <tr>\n",
       "      <th>2000-02-29</th>\n",
       "      <td>NaN</td>\n",
       "      <td>48.4463</td>\n",
       "      <td>188.1214</td>\n",
       "      <td>37.2386</td>\n",
       "      <td>60.4051</td>\n",
       "      <td>34.6252</td>\n",
       "      <td>26.2635</td>\n",
       "      <td>28.3237</td>\n",
       "      <td>31.4370</td>\n",
       "      <td>11.2658</td>\n",
       "      <td>32.9061</td>\n",
       "      <td>19.4676</td>\n",
       "    </tr>\n",
       "    <tr>\n",
       "      <th>2000-03-31</th>\n",
       "      <td>NaN</td>\n",
       "      <td>56.6624</td>\n",
       "      <td>221.8210</td>\n",
       "      <td>41.8039</td>\n",
       "      <td>69.5878</td>\n",
       "      <td>40.4165</td>\n",
       "      <td>26.6348</td>\n",
       "      <td>33.6734</td>\n",
       "      <td>33.0501</td>\n",
       "      <td>12.5730</td>\n",
       "      <td>38.1817</td>\n",
       "      <td>20.1629</td>\n",
       "    </tr>\n",
       "    <tr>\n",
       "      <th>2000-04-28</th>\n",
       "      <td>NaN</td>\n",
       "      <td>50.8136</td>\n",
       "      <td>224.1300</td>\n",
       "      <td>36.6190</td>\n",
       "      <td>65.5490</td>\n",
       "      <td>38.8538</td>\n",
       "      <td>29.7942</td>\n",
       "      <td>22.1056</td>\n",
       "      <td>33.8461</td>\n",
       "      <td>13.1455</td>\n",
       "      <td>37.4248</td>\n",
       "      <td>20.0828</td>\n",
       "    </tr>\n",
       "    <tr>\n",
       "      <th>...</th>\n",
       "      <td>...</td>\n",
       "      <td>...</td>\n",
       "      <td>...</td>\n",
       "      <td>...</td>\n",
       "      <td>...</td>\n",
       "      <td>...</td>\n",
       "      <td>...</td>\n",
       "      <td>...</td>\n",
       "      <td>...</td>\n",
       "      <td>...</td>\n",
       "      <td>...</td>\n",
       "      <td>...</td>\n",
       "    </tr>\n",
       "    <tr>\n",
       "      <th>2021-06-30</th>\n",
       "      <td>69.7064</td>\n",
       "      <td>52.2796</td>\n",
       "      <td>107.5971</td>\n",
       "      <td>317.2725</td>\n",
       "      <td>138.5349</td>\n",
       "      <td>55.3977</td>\n",
       "      <td>77.0752</td>\n",
       "      <td>270.3792</td>\n",
       "      <td>77.2968</td>\n",
       "      <td>27.7263</td>\n",
       "      <td>140.5016</td>\n",
       "      <td>62.1374</td>\n",
       "    </tr>\n",
       "    <tr>\n",
       "      <th>2021-07-30</th>\n",
       "      <td>67.1250</td>\n",
       "      <td>54.9948</td>\n",
       "      <td>103.5202</td>\n",
       "      <td>326.5253</td>\n",
       "      <td>133.2143</td>\n",
       "      <td>53.0097</td>\n",
       "      <td>76.1833</td>\n",
       "      <td>284.3623</td>\n",
       "      <td>86.8456</td>\n",
       "      <td>27.5217</td>\n",
       "      <td>142.0260</td>\n",
       "      <td>56.7097</td>\n",
       "    </tr>\n",
       "    <tr>\n",
       "      <th>2021-08-31</th>\n",
       "      <td>71.3836</td>\n",
       "      <td>58.6200</td>\n",
       "      <td>105.3288</td>\n",
       "      <td>324.5255</td>\n",
       "      <td>134.1683</td>\n",
       "      <td>53.6892</td>\n",
       "      <td>75.6085</td>\n",
       "      <td>301.8800</td>\n",
       "      <td>88.8289</td>\n",
       "      <td>26.9036</td>\n",
       "      <td>148.1000</td>\n",
       "      <td>54.5200</td>\n",
       "    </tr>\n",
       "    <tr>\n",
       "      <th>2021-09-30</th>\n",
       "      <td>69.6663</td>\n",
       "      <td>54.0612</td>\n",
       "      <td>103.0300</td>\n",
       "      <td>328.2600</td>\n",
       "      <td>132.8203</td>\n",
       "      <td>52.9145</td>\n",
       "      <td>75.1100</td>\n",
       "      <td>281.9200</td>\n",
       "      <td>86.8356</td>\n",
       "      <td>26.5013</td>\n",
       "      <td>139.3800</td>\n",
       "      <td>58.8200</td>\n",
       "    </tr>\n",
       "    <tr>\n",
       "      <th>2021-10-29</th>\n",
       "      <td>69.1600</td>\n",
       "      <td>55.9700</td>\n",
       "      <td>104.8700</td>\n",
       "      <td>371.7400</td>\n",
       "      <td>119.5985</td>\n",
       "      <td>48.6639</td>\n",
       "      <td>88.0500</td>\n",
       "      <td>331.6200</td>\n",
       "      <td>95.9400</td>\n",
       "      <td>25.2600</td>\n",
       "      <td>149.4200</td>\n",
       "      <td>64.4700</td>\n",
       "    </tr>\n",
       "  </tbody>\n",
       "</table>\n",
       "<p>263 rows × 12 columns</p>\n",
       "</div>"
      ],
      "text/plain": [
       "ticker            C     CSCO        GE        HD       IBM     INTC      MRK  \\\n",
       "timestamp                                                                      \n",
       "1999-12-31      NaN  39.2481  219.9107   44.5245   63.3510  25.2140  28.6654   \n",
       "2000-01-31      NaN  40.1276  190.4235   36.6752   65.9234  30.3083  33.5461   \n",
       "2000-02-29      NaN  48.4463  188.1214   37.2386   60.4051  34.6252  26.2635   \n",
       "2000-03-31      NaN  56.6624  221.8210   41.8039   69.5878  40.4165  26.6348   \n",
       "2000-04-28      NaN  50.8136  224.1300   36.6190   65.5490  38.8538  29.7942   \n",
       "...             ...      ...       ...       ...       ...      ...      ...   \n",
       "2021-06-30  69.7064  52.2796  107.5971  317.2725  138.5349  55.3977  77.0752   \n",
       "2021-07-30  67.1250  54.9948  103.5202  326.5253  133.2143  53.0097  76.1833   \n",
       "2021-08-31  71.3836  58.6200  105.3288  324.5255  134.1683  53.6892  75.6085   \n",
       "2021-09-30  69.6663  54.0612  103.0300  328.2600  132.8203  52.9145  75.1100   \n",
       "2021-10-29  69.1600  55.9700  104.8700  371.7400  119.5985  48.6639  88.0500   \n",
       "\n",
       "ticker          MSFT     ORCL        T       WMT      XOM  \n",
       "timestamp                                                  \n",
       "1999-12-31   37.0012  23.7312  14.4680   46.6625  20.7052  \n",
       "2000-01-31   31.0176  21.1485  12.7968   36.9560  21.3015  \n",
       "2000-02-29   28.3237  31.4370  11.2658   32.9061  19.4676  \n",
       "2000-03-31   33.6734  33.0501  12.5730   38.1817  20.1629  \n",
       "2000-04-28   22.1056  33.8461  13.1455   37.4248  20.0828  \n",
       "...              ...      ...      ...       ...      ...  \n",
       "2021-06-30  270.3792  77.2968  27.7263  140.5016  62.1374  \n",
       "2021-07-30  284.3623  86.8456  27.5217  142.0260  56.7097  \n",
       "2021-08-31  301.8800  88.8289  26.9036  148.1000  54.5200  \n",
       "2021-09-30  281.9200  86.8356  26.5013  139.3800  58.8200  \n",
       "2021-10-29  331.6200  95.9400  25.2600  149.4200  64.4700  \n",
       "\n",
       "[263 rows x 12 columns]"
      ]
     },
     "execution_count": 67,
     "metadata": {},
     "output_type": "execute_result"
    }
   ],
   "source": [
    "stockdata.pivot(index='timestamp', columns='ticker', values='adjusted close')\n"
   ]
  },
  {
   "attachments": {},
   "cell_type": "markdown",
   "id": "6f071ab0-1130-4fcc-bfee-1ef75fb22f44",
   "metadata": {},
   "source": [
    "When you want to look at the data, the wide format seems more appealing. You can easily scan across a row and see what the stock prices were for different companies on a given day.\n",
    "\n",
    "But as a way of storing and manipulating data, wide format has a few shortcomings. Notice that it can only store one piece of information for every company-date. The above table displays the adjusted closing price. What if we also wanted to know the volume? We'd need another table -- we're already using rows to identify dates and columns to identify tickers so we don't have another dimension to identify variable i.e. adjusted close or volume.\n",
    "\n",
    "Suppose we wanted to find out the total dollar amount traded that day, approximately equal to close \\* volume. With long data, it would just be a matter of multiplying the two columns. But with wide format data, we'd need to have two tables, ensure that the order of dates and tickers is exactly the same, and then multiply their entire contents by each other. There are lots more opportunities to make a mistake here!\n",
    "\n",
    "Other shortcomings are additional difficulties in performing the same operation for every ticker, and \"wasted space\" created by imposing a balanced structure on potentially unbalanced data. For example, notice the `NaN` (not-a-number, or missing) values for the first few months of C. That's because we don't have data for Citigroup's stock prices for those months. Our panel is _unbalanced._ In the long data, those rows are just missing. But wide data is inherently a balanced representation, so we end up with these `NaN`s.\n",
    "\n",
    "For these reasons, we will work with long format data. Since rows are uniquely identified by the combination of `ticker` and `timestamp`, we will make both columns part of a `MultiIndex`.\n"
   ]
  },
  {
   "cell_type": "code",
   "execution_count": 68,
   "id": "c9a8303b-6785-4acf-a82c-37403dba186a",
   "metadata": {},
   "outputs": [],
   "source": [
    "stockdata.sort_values(['ticker', 'timestamp'], inplace=True)\n",
    "stockdata.set_index(['ticker', 'timestamp'], inplace=True)\n"
   ]
  },
  {
   "attachments": {},
   "cell_type": "markdown",
   "id": "f0b1bfc6-4eed-48c5-a51e-b24ad6a7724e",
   "metadata": {},
   "source": [
    "To access data that has a multi-column index, we need to specify the value of both columns. For instance, to get the adjusted closing price of Citi on July 30, 2021, we type\n"
   ]
  },
  {
   "cell_type": "code",
   "execution_count": 69,
   "id": "7fe55d5b-91ae-40f8-8e16-f812fb6003f3",
   "metadata": {},
   "outputs": [
    {
     "data": {
      "text/plain": [
       "67.125"
      ]
     },
     "execution_count": 69,
     "metadata": {},
     "output_type": "execute_result"
    }
   ],
   "source": [
    "stockdata.loc[('C', pd.Timestamp(2021, 7, 30)), 'adjusted close']\n"
   ]
  },
  {
   "attachments": {},
   "cell_type": "markdown",
   "id": "0ab094be-3196-4ef1-942c-e33c1d70994c",
   "metadata": {},
   "source": [
    "grouping the two values with parentheses.\n",
    "\n",
    "When working with long data, we usually want to perform some operations by group. For example, we want to construct a portfolio return from all stocks on a given months, or perhaps find the maximum stock price for a given ticker across all months. We may also want to compute returns as ratios of two sequential prices, of course making sure that we don't divide the first price of one ticker by the last price of another.\n",
    "\n",
    "These operations are part of what data scientists call the Split-Apply-Combine workflow. You split the datasets into groups (e.g. by date, or by ticker), you perform some operation for each group, and then you combine it back together.\n",
    "\n",
    "We will see two types of \"apply\" operations. One type is aggregating (or summarizing) operations, that produce one observation/row for each group. The other is transform operations, that produce the same number of rows/observations as there were in the original data.\n",
    "\n",
    "How many stocks do we have? To find out, let's see how many unique elements of the `ticker` component of the index there are.\n"
   ]
  },
  {
   "cell_type": "code",
   "execution_count": 70,
   "id": "095091c6-f09c-4a0a-846c-f7fe2017294f",
   "metadata": {},
   "outputs": [
    {
     "data": {
      "text/plain": [
       "12"
      ]
     },
     "execution_count": 70,
     "metadata": {},
     "output_type": "execute_result"
    }
   ],
   "source": [
    "stockdata.index.unique(level='ticker').size"
   ]
  },
  {
   "attachments": {},
   "cell_type": "markdown",
   "id": "e667b769-d172-4e27-bcf8-955f1f6e8b9a",
   "metadata": {},
   "source": [
    "But -- be careful! That there are 12 stocks total doesn't mean that there are 12 stocks for every date. We've already seen that this panel is unbalanced and Citigroup's stock prices are missing for a few months. Since we want to form a portfolio of all 12 stocks, let us restrict our sample to the period for which we have all observations. To do this, we need to find out when the data for each stock starts and ends.\n",
    "\n",
    "We will first group observations by `ticker`, then find the minimum and mazimum date for each group, and combine back into one dataset. This is an example of an aggregation -- the `min` and `max` functions return one number per group -- their minimum and maximum values, respectively.\n"
   ]
  },
  {
   "cell_type": "code",
   "execution_count": 71,
   "id": "3d8d5ed3-31e4-448b-a9fe-c8d1a2c7a1df",
   "metadata": {},
   "outputs": [
    {
     "data": {
      "text/html": [
       "<div>\n",
       "<style scoped>\n",
       "    .dataframe tbody tr th:only-of-type {\n",
       "        vertical-align: middle;\n",
       "    }\n",
       "\n",
       "    .dataframe tbody tr th {\n",
       "        vertical-align: top;\n",
       "    }\n",
       "\n",
       "    .dataframe thead tr th {\n",
       "        text-align: left;\n",
       "    }\n",
       "\n",
       "    .dataframe thead tr:last-of-type th {\n",
       "        text-align: right;\n",
       "    }\n",
       "</style>\n",
       "<table border=\"1\" class=\"dataframe\">\n",
       "  <thead>\n",
       "    <tr>\n",
       "      <th></th>\n",
       "      <th colspan=\"2\" halign=\"left\">date</th>\n",
       "    </tr>\n",
       "    <tr>\n",
       "      <th></th>\n",
       "      <th>min</th>\n",
       "      <th>max</th>\n",
       "    </tr>\n",
       "    <tr>\n",
       "      <th>ticker</th>\n",
       "      <th></th>\n",
       "      <th></th>\n",
       "    </tr>\n",
       "  </thead>\n",
       "  <tbody>\n",
       "    <tr>\n",
       "      <th>C</th>\n",
       "      <td>2000-07-31</td>\n",
       "      <td>2021-10-29</td>\n",
       "    </tr>\n",
       "    <tr>\n",
       "      <th>CSCO</th>\n",
       "      <td>1999-12-31</td>\n",
       "      <td>2021-10-29</td>\n",
       "    </tr>\n",
       "    <tr>\n",
       "      <th>GE</th>\n",
       "      <td>1999-12-31</td>\n",
       "      <td>2021-10-29</td>\n",
       "    </tr>\n",
       "    <tr>\n",
       "      <th>HD</th>\n",
       "      <td>1999-12-31</td>\n",
       "      <td>2021-10-29</td>\n",
       "    </tr>\n",
       "    <tr>\n",
       "      <th>IBM</th>\n",
       "      <td>1999-12-31</td>\n",
       "      <td>2021-10-29</td>\n",
       "    </tr>\n",
       "    <tr>\n",
       "      <th>INTC</th>\n",
       "      <td>1999-12-31</td>\n",
       "      <td>2021-10-29</td>\n",
       "    </tr>\n",
       "    <tr>\n",
       "      <th>MRK</th>\n",
       "      <td>1999-12-31</td>\n",
       "      <td>2021-10-29</td>\n",
       "    </tr>\n",
       "    <tr>\n",
       "      <th>MSFT</th>\n",
       "      <td>1999-12-31</td>\n",
       "      <td>2021-10-29</td>\n",
       "    </tr>\n",
       "    <tr>\n",
       "      <th>ORCL</th>\n",
       "      <td>1999-12-31</td>\n",
       "      <td>2021-10-29</td>\n",
       "    </tr>\n",
       "    <tr>\n",
       "      <th>T</th>\n",
       "      <td>1999-12-31</td>\n",
       "      <td>2021-10-29</td>\n",
       "    </tr>\n",
       "    <tr>\n",
       "      <th>WMT</th>\n",
       "      <td>1999-12-31</td>\n",
       "      <td>2021-10-29</td>\n",
       "    </tr>\n",
       "    <tr>\n",
       "      <th>XOM</th>\n",
       "      <td>1999-12-31</td>\n",
       "      <td>2021-10-29</td>\n",
       "    </tr>\n",
       "  </tbody>\n",
       "</table>\n",
       "</div>"
      ],
      "text/plain": [
       "             date           \n",
       "              min        max\n",
       "ticker                      \n",
       "C      2000-07-31 2021-10-29\n",
       "CSCO   1999-12-31 2021-10-29\n",
       "GE     1999-12-31 2021-10-29\n",
       "HD     1999-12-31 2021-10-29\n",
       "IBM    1999-12-31 2021-10-29\n",
       "INTC   1999-12-31 2021-10-29\n",
       "MRK    1999-12-31 2021-10-29\n",
       "MSFT   1999-12-31 2021-10-29\n",
       "ORCL   1999-12-31 2021-10-29\n",
       "T      1999-12-31 2021-10-29\n",
       "WMT    1999-12-31 2021-10-29\n",
       "XOM    1999-12-31 2021-10-29"
      ]
     },
     "execution_count": 71,
     "metadata": {},
     "output_type": "execute_result"
    }
   ],
   "source": [
    "stockdata['date'] = stockdata.index.get_level_values('timestamp')\n",
    "stockdata[['date']].groupby('ticker').aggregate(['min', 'max'])\n"
   ]
  },
  {
   "attachments": {},
   "cell_type": "markdown",
   "id": "81865751-2f2d-48ab-93f1-69780c5ab7d3",
   "metadata": {},
   "source": [
    "We see that for all but one company, data starts in Dec 1999 and goes to Oct 2021. The exception is Citi, for which the data only starts on July 31, 2000 (by the way, if you're curious why that is, the reason is pretty boring -- I deleted the first few months of Citi data specifically to force us to run into this issue :) ).\n",
    "\n",
    "So we want to keep only the sample from July 2000 to Oct 2021, or, in other words, from the latest min date until the earliest max date. Of course, this method isn't full-proof if there are missing months in the middle, but that almost never happens with stock price data for large companies.\n",
    "\n",
    "We will do this in two steps. First, we will identify the start and the end dates of the sample based on the rule described above.\n"
   ]
  },
  {
   "cell_type": "code",
   "execution_count": 72,
   "id": "150facde-aa59-434e-9647-44565fb0959c",
   "metadata": {},
   "outputs": [],
   "source": [
    "stockdata['date'] = stockdata.index.get_level_values('timestamp')\n",
    "dateranges = stockdata[['date']].groupby('ticker').aggregate(['min', 'max'])\n",
    "start_date = max(dateranges[('date', 'min')])\n",
    "end_date = min(dateranges[('date', 'max')])\n",
    "stockdata.drop('date', axis=1, inplace=True)\n"
   ]
  },
  {
   "attachments": {},
   "cell_type": "markdown",
   "id": "c37505ac-d65f-4e9e-a49a-f4037c67adc1",
   "metadata": {},
   "source": [
    "Then, we will filter observations from `stockdata` that are between the start and end dates and store them in a new dataframe. Selecting rows by date indices was straightforward when dates were the only index in our Microsoft dataset. But now that there are multiple variables in an index (both `ticker` and `timestamp`), the following wouldn't work:\n",
    "\n",
    "`stockdata.loc[start_date:end_date,:]`\n",
    "\n",
    "because it is not obvious whether `start_date` and `end_date` are slicing `timestamp` or `ticker`. To select rows based on elements of a `MultiIndex`, we need to use the `IndexSlice` object:\n"
   ]
  },
  {
   "cell_type": "code",
   "execution_count": 73,
   "id": "34d5515a-8eef-4d3c-a98b-a4baf64adcf9",
   "metadata": {},
   "outputs": [],
   "source": [
    "stockdata = stockdata.loc[pd.IndexSlice[:, start_date:end_date], :]\n"
   ]
  },
  {
   "attachments": {},
   "cell_type": "markdown",
   "id": "288380e1-9e4d-4026-b2d9-55bd04e47e53",
   "metadata": {},
   "source": [
    "It allows us to specify that we would like all `tickers` (the first colon) and only `timestamps` between `start_date` and `end_date`.\n",
    "\n",
    "Next, let's calculate returns. With one stock and data sorted by date, we saw that we can calculate returns by taking the ratios of successive adjusted closing prices using the `shift` method of a series. That worked because we made `timestamp` the index i.e. the column that uniquely identifies each row.\n",
    "\n",
    "With multiple stocks, we can't do the exact same thing. To see why, consider the following block of rows in the data.\n"
   ]
  },
  {
   "cell_type": "code",
   "execution_count": 74,
   "id": "ae94769b-87a3-4e1a-9be8-99cff5341a1f",
   "metadata": {},
   "outputs": [
    {
     "data": {
      "text/html": [
       "<div>\n",
       "<style scoped>\n",
       "    .dataframe tbody tr th:only-of-type {\n",
       "        vertical-align: middle;\n",
       "    }\n",
       "\n",
       "    .dataframe tbody tr th {\n",
       "        vertical-align: top;\n",
       "    }\n",
       "\n",
       "    .dataframe thead th {\n",
       "        text-align: right;\n",
       "    }\n",
       "</style>\n",
       "<table border=\"1\" class=\"dataframe\">\n",
       "  <thead>\n",
       "    <tr style=\"text-align: right;\">\n",
       "      <th></th>\n",
       "      <th></th>\n",
       "      <th>open</th>\n",
       "      <th>high</th>\n",
       "      <th>low</th>\n",
       "      <th>close</th>\n",
       "      <th>adjusted close</th>\n",
       "      <th>volume</th>\n",
       "      <th>dividend amount</th>\n",
       "    </tr>\n",
       "    <tr>\n",
       "      <th>ticker</th>\n",
       "      <th>timestamp</th>\n",
       "      <th></th>\n",
       "      <th></th>\n",
       "      <th></th>\n",
       "      <th></th>\n",
       "      <th></th>\n",
       "      <th></th>\n",
       "      <th></th>\n",
       "    </tr>\n",
       "  </thead>\n",
       "  <tbody>\n",
       "    <tr>\n",
       "      <th rowspan=\"3\" valign=\"top\">C</th>\n",
       "      <th>2021-08-31</th>\n",
       "      <td>67.95</td>\n",
       "      <td>74.640</td>\n",
       "      <td>66.890</td>\n",
       "      <td>71.91</td>\n",
       "      <td>71.3836</td>\n",
       "      <td>350633101</td>\n",
       "      <td>0.00</td>\n",
       "    </tr>\n",
       "    <tr>\n",
       "      <th>2021-09-30</th>\n",
       "      <td>72.36</td>\n",
       "      <td>73.280</td>\n",
       "      <td>65.965</td>\n",
       "      <td>70.18</td>\n",
       "      <td>69.6663</td>\n",
       "      <td>409805625</td>\n",
       "      <td>0.00</td>\n",
       "    </tr>\n",
       "    <tr>\n",
       "      <th>2021-10-29</th>\n",
       "      <td>70.44</td>\n",
       "      <td>73.725</td>\n",
       "      <td>68.740</td>\n",
       "      <td>69.16</td>\n",
       "      <td>69.1600</td>\n",
       "      <td>379877026</td>\n",
       "      <td>0.51</td>\n",
       "    </tr>\n",
       "    <tr>\n",
       "      <th rowspan=\"3\" valign=\"top\">CSCO</th>\n",
       "      <th>2000-07-31</th>\n",
       "      <td>63.38</td>\n",
       "      <td>69.750</td>\n",
       "      <td>60.880</td>\n",
       "      <td>65.44</td>\n",
       "      <td>47.9626</td>\n",
       "      <td>736369500</td>\n",
       "      <td>0.00</td>\n",
       "    </tr>\n",
       "    <tr>\n",
       "      <th>2000-08-31</th>\n",
       "      <td>64.75</td>\n",
       "      <td>70.000</td>\n",
       "      <td>58.500</td>\n",
       "      <td>68.63</td>\n",
       "      <td>50.3006</td>\n",
       "      <td>943606900</td>\n",
       "      <td>0.00</td>\n",
       "    </tr>\n",
       "    <tr>\n",
       "      <th>2000-09-29</th>\n",
       "      <td>68.88</td>\n",
       "      <td>69.630</td>\n",
       "      <td>54.630</td>\n",
       "      <td>55.25</td>\n",
       "      <td>40.4941</td>\n",
       "      <td>1098540700</td>\n",
       "      <td>0.00</td>\n",
       "    </tr>\n",
       "  </tbody>\n",
       "</table>\n",
       "</div>"
      ],
      "text/plain": [
       "                    open    high     low  close  adjusted close      volume  \\\n",
       "ticker timestamp                                                              \n",
       "C      2021-08-31  67.95  74.640  66.890  71.91         71.3836   350633101   \n",
       "       2021-09-30  72.36  73.280  65.965  70.18         69.6663   409805625   \n",
       "       2021-10-29  70.44  73.725  68.740  69.16         69.1600   379877026   \n",
       "CSCO   2000-07-31  63.38  69.750  60.880  65.44         47.9626   736369500   \n",
       "       2000-08-31  64.75  70.000  58.500  68.63         50.3006   943606900   \n",
       "       2000-09-29  68.88  69.630  54.630  55.25         40.4941  1098540700   \n",
       "\n",
       "                   dividend amount  \n",
       "ticker timestamp                    \n",
       "C      2021-08-31             0.00  \n",
       "       2021-09-30             0.00  \n",
       "       2021-10-29             0.51  \n",
       "CSCO   2000-07-31             0.00  \n",
       "       2000-08-31             0.00  \n",
       "       2000-09-29             0.00  "
      ]
     },
     "execution_count": 74,
     "metadata": {},
     "output_type": "execute_result"
    }
   ],
   "source": [
    "stockdata.iloc[253:259]"
   ]
  },
  {
   "attachments": {},
   "cell_type": "markdown",
   "id": "21ce69eb-c6fc-437c-b277-631206a63595",
   "metadata": {},
   "source": [
    "If we shift `adjusted close` by 1, we will compute a July 2000 return for CSCO to be CSCO's July 2000 `adjusted close` divided by C's October 2021 `adjusted close`. That's clearly wrong! To avoid this problem, we need to first group our data by `ticker` and only then `shift`:\n"
   ]
  },
  {
   "cell_type": "code",
   "execution_count": 75,
   "id": "fb5c33c2-3981-4ea3-ae35-f6ad9c4cd2fc",
   "metadata": {},
   "outputs": [
    {
     "data": {
      "text/html": [
       "<div>\n",
       "<style scoped>\n",
       "    .dataframe tbody tr th:only-of-type {\n",
       "        vertical-align: middle;\n",
       "    }\n",
       "\n",
       "    .dataframe tbody tr th {\n",
       "        vertical-align: top;\n",
       "    }\n",
       "\n",
       "    .dataframe thead th {\n",
       "        text-align: right;\n",
       "    }\n",
       "</style>\n",
       "<table border=\"1\" class=\"dataframe\">\n",
       "  <thead>\n",
       "    <tr style=\"text-align: right;\">\n",
       "      <th></th>\n",
       "      <th></th>\n",
       "      <th>open</th>\n",
       "      <th>high</th>\n",
       "      <th>low</th>\n",
       "      <th>close</th>\n",
       "      <th>adjusted close</th>\n",
       "      <th>volume</th>\n",
       "      <th>dividend amount</th>\n",
       "      <th>ret</th>\n",
       "    </tr>\n",
       "    <tr>\n",
       "      <th>ticker</th>\n",
       "      <th>timestamp</th>\n",
       "      <th></th>\n",
       "      <th></th>\n",
       "      <th></th>\n",
       "      <th></th>\n",
       "      <th></th>\n",
       "      <th></th>\n",
       "      <th></th>\n",
       "      <th></th>\n",
       "    </tr>\n",
       "  </thead>\n",
       "  <tbody>\n",
       "    <tr>\n",
       "      <th rowspan=\"3\" valign=\"top\">C</th>\n",
       "      <th>2021-08-31</th>\n",
       "      <td>67.95</td>\n",
       "      <td>74.640</td>\n",
       "      <td>66.890</td>\n",
       "      <td>71.91</td>\n",
       "      <td>71.3836</td>\n",
       "      <td>350633101</td>\n",
       "      <td>0.00</td>\n",
       "      <td>0.063443</td>\n",
       "    </tr>\n",
       "    <tr>\n",
       "      <th>2021-09-30</th>\n",
       "      <td>72.36</td>\n",
       "      <td>73.280</td>\n",
       "      <td>65.965</td>\n",
       "      <td>70.18</td>\n",
       "      <td>69.6663</td>\n",
       "      <td>409805625</td>\n",
       "      <td>0.00</td>\n",
       "      <td>-0.024057</td>\n",
       "    </tr>\n",
       "    <tr>\n",
       "      <th>2021-10-29</th>\n",
       "      <td>70.44</td>\n",
       "      <td>73.725</td>\n",
       "      <td>68.740</td>\n",
       "      <td>69.16</td>\n",
       "      <td>69.1600</td>\n",
       "      <td>379877026</td>\n",
       "      <td>0.51</td>\n",
       "      <td>-0.007268</td>\n",
       "    </tr>\n",
       "    <tr>\n",
       "      <th rowspan=\"3\" valign=\"top\">CSCO</th>\n",
       "      <th>2000-07-31</th>\n",
       "      <td>63.38</td>\n",
       "      <td>69.750</td>\n",
       "      <td>60.880</td>\n",
       "      <td>65.44</td>\n",
       "      <td>47.9626</td>\n",
       "      <td>736369500</td>\n",
       "      <td>0.00</td>\n",
       "      <td>NaN</td>\n",
       "    </tr>\n",
       "    <tr>\n",
       "      <th>2000-08-31</th>\n",
       "      <td>64.75</td>\n",
       "      <td>70.000</td>\n",
       "      <td>58.500</td>\n",
       "      <td>68.63</td>\n",
       "      <td>50.3006</td>\n",
       "      <td>943606900</td>\n",
       "      <td>0.00</td>\n",
       "      <td>0.048746</td>\n",
       "    </tr>\n",
       "    <tr>\n",
       "      <th>2000-09-29</th>\n",
       "      <td>68.88</td>\n",
       "      <td>69.630</td>\n",
       "      <td>54.630</td>\n",
       "      <td>55.25</td>\n",
       "      <td>40.4941</td>\n",
       "      <td>1098540700</td>\n",
       "      <td>0.00</td>\n",
       "      <td>-0.194958</td>\n",
       "    </tr>\n",
       "  </tbody>\n",
       "</table>\n",
       "</div>"
      ],
      "text/plain": [
       "                    open    high     low  close  adjusted close      volume  \\\n",
       "ticker timestamp                                                              \n",
       "C      2021-08-31  67.95  74.640  66.890  71.91         71.3836   350633101   \n",
       "       2021-09-30  72.36  73.280  65.965  70.18         69.6663   409805625   \n",
       "       2021-10-29  70.44  73.725  68.740  69.16         69.1600   379877026   \n",
       "CSCO   2000-07-31  63.38  69.750  60.880  65.44         47.9626   736369500   \n",
       "       2000-08-31  64.75  70.000  58.500  68.63         50.3006   943606900   \n",
       "       2000-09-29  68.88  69.630  54.630  55.25         40.4941  1098540700   \n",
       "\n",
       "                   dividend amount       ret  \n",
       "ticker timestamp                              \n",
       "C      2021-08-31             0.00  0.063443  \n",
       "       2021-09-30             0.00 -0.024057  \n",
       "       2021-10-29             0.51 -0.007268  \n",
       "CSCO   2000-07-31             0.00       NaN  \n",
       "       2000-08-31             0.00  0.048746  \n",
       "       2000-09-29             0.00 -0.194958  "
      ]
     },
     "execution_count": 75,
     "metadata": {},
     "output_type": "execute_result"
    }
   ],
   "source": [
    "stockdata['ret'] = stockdata['adjusted close'] / \\\n",
    "    stockdata.groupby('ticker')['adjusted close'].shift(1) - 1\n",
    "stockdata.iloc[253:259]"
   ]
  },
  {
   "attachments": {},
   "cell_type": "markdown",
   "id": "f8d06e19-e0c8-4820-8772-f794bb262d4e",
   "metadata": {},
   "source": [
    "This got the job done. The July 2000 return on Cisco stock is correctly missing (b/c we don't have June 2000 prices in the dataset).\n"
   ]
  },
  {
   "attachments": {},
   "cell_type": "markdown",
   "id": "b7a07e9a-40b8-43df-a971-9fb93e6f4fd4",
   "metadata": {},
   "source": [
    "We are now ready to _construct a portfolio._ When working with historical data, this term just means -- assign portfolio weights (fractions of our overall investment that we allocate into each stock) and use those weights to calculate the historical return on this portfolio.\n",
    "\n",
    "Let's start with a simple portfolio -- an equal-weighted (EW) portfolio, that invests 1/12th of the funds into each of the 12 stocks. In other words, the portfolio weight on each stock is 1/12, adding up to 1. We will compute its return as a weighted average of individual stock returns and then compute the portfolio log return.\n",
    "\n",
    "We again employ the split-apply-combine workflow. But this time, we split the data by `timestamp` instead of by `ticker`. For every `timestamp`, we will aggregate the returns on all 12 stocks into one number -- the portfolio return.\n",
    "\n",
    "Let's see a few ways to do this, going from easiest (and least general) to most general.\n",
    "\n",
    "First, we can take advantage of the fact that the return on an equal-weighted portfolio of N stocks is just their mean return:\n",
    "$R_{EW} \\equiv \\sum_{i=1}^N \\frac{1}{N} R_i = \\frac{\\sum_{i=1}^N R_i}{N} \\equiv \\bar{R}$\n"
   ]
  },
  {
   "cell_type": "code",
   "execution_count": 76,
   "id": "2f5180a3-357c-4214-a02f-68f66996b06e",
   "metadata": {},
   "outputs": [
    {
     "data": {
      "text/html": [
       "<div>\n",
       "<style scoped>\n",
       "    .dataframe tbody tr th:only-of-type {\n",
       "        vertical-align: middle;\n",
       "    }\n",
       "\n",
       "    .dataframe tbody tr th {\n",
       "        vertical-align: top;\n",
       "    }\n",
       "\n",
       "    .dataframe thead th {\n",
       "        text-align: right;\n",
       "    }\n",
       "</style>\n",
       "<table border=\"1\" class=\"dataframe\">\n",
       "  <thead>\n",
       "    <tr style=\"text-align: right;\">\n",
       "      <th></th>\n",
       "      <th>ret</th>\n",
       "    </tr>\n",
       "    <tr>\n",
       "      <th>timestamp</th>\n",
       "      <th></th>\n",
       "    </tr>\n",
       "  </thead>\n",
       "  <tbody>\n",
       "    <tr>\n",
       "      <th>2000-07-31</th>\n",
       "      <td>NaN</td>\n",
       "    </tr>\n",
       "    <tr>\n",
       "      <th>2000-08-31</th>\n",
       "      <td>0.047920</td>\n",
       "    </tr>\n",
       "    <tr>\n",
       "      <th>2000-09-29</th>\n",
       "      <td>-0.056575</td>\n",
       "    </tr>\n",
       "    <tr>\n",
       "      <th>2000-10-31</th>\n",
       "      <td>-0.003287</td>\n",
       "    </tr>\n",
       "    <tr>\n",
       "      <th>2000-11-30</th>\n",
       "      <td>-0.065720</td>\n",
       "    </tr>\n",
       "    <tr>\n",
       "      <th>...</th>\n",
       "      <td>...</td>\n",
       "    </tr>\n",
       "    <tr>\n",
       "      <th>2021-06-30</th>\n",
       "      <td>0.006247</td>\n",
       "    </tr>\n",
       "    <tr>\n",
       "      <th>2021-07-30</th>\n",
       "      <td>0.000372</td>\n",
       "    </tr>\n",
       "    <tr>\n",
       "      <th>2021-08-31</th>\n",
       "      <td>0.018273</td>\n",
       "    </tr>\n",
       "    <tr>\n",
       "      <th>2021-09-30</th>\n",
       "      <td>-0.018895</td>\n",
       "    </tr>\n",
       "    <tr>\n",
       "      <th>2021-10-29</th>\n",
       "      <td>0.047762</td>\n",
       "    </tr>\n",
       "  </tbody>\n",
       "</table>\n",
       "<p>256 rows × 1 columns</p>\n",
       "</div>"
      ],
      "text/plain": [
       "                 ret\n",
       "timestamp           \n",
       "2000-07-31       NaN\n",
       "2000-08-31  0.047920\n",
       "2000-09-29 -0.056575\n",
       "2000-10-31 -0.003287\n",
       "2000-11-30 -0.065720\n",
       "...              ...\n",
       "2021-06-30  0.006247\n",
       "2021-07-30  0.000372\n",
       "2021-08-31  0.018273\n",
       "2021-09-30 -0.018895\n",
       "2021-10-29  0.047762\n",
       "\n",
       "[256 rows x 1 columns]"
      ]
     },
     "metadata": {},
     "output_type": "display_data"
    }
   ],
   "source": [
    "ew = stockdata[['ret']].groupby('timestamp').mean()\n",
    "display(ew)"
   ]
  },
  {
   "attachments": {},
   "cell_type": "markdown",
   "id": "c6e54ae3-92e5-48d7-9203-1673e9004d85",
   "metadata": {},
   "source": [
    "Of course, this only works for an equal-weighted portfolio. What if the weights are not equal? Let us construct a long-short portfolio, where long (positive) positions in some stocks were funded by short (negative) positions in other stocks. This is one of the most common hedge fund investment strategies.\n",
    "\n",
    "Suppose that an investor in July 2000 believed that tech stocks will significantly outperfrom non-tech stocks. So she decided to take equal positions in Microsoft (MSFT), Cisco (CSCO), Intel (INTC), Oracle (ORCL), and IBM (IBM), while taking short positions in Citi (C), GE (GE), Home Depot (HD), MRK (Merck), T (AT&T), WMT (Walmart), and XOM (ExxonMobil)?\n",
    "\n",
    "The weights on the long \"leg\" of a portfolio are positive and add up to 1. The weights on the short \"leg\" of a portfolio are negative and add up to -1. Since we have 5 stocks in the long leg and 7 stocks in the short leg, the weights in the long leg are 1/5 on each stock and the weights in the short leg are -1/7 on each stock.\n",
    "\n",
    "Let's construct a `Series` of weights:\n"
   ]
  },
  {
   "cell_type": "code",
   "execution_count": 77,
   "id": "1247c99e-4e40-440c-982b-5820b24774af",
   "metadata": {},
   "outputs": [
    {
     "data": {
      "text/plain": [
       "ticker\n",
       "C      -0.142857\n",
       "CSCO    0.200000\n",
       "GE     -0.142857\n",
       "HD     -0.142857\n",
       "IBM     0.200000\n",
       "INTC    0.200000\n",
       "MRK    -0.142857\n",
       "MSFT    0.200000\n",
       "ORCL    0.200000\n",
       "T      -0.142857\n",
       "WMT    -0.142857\n",
       "XOM    -0.142857\n",
       "dtype: float64"
      ]
     },
     "metadata": {},
     "output_type": "display_data"
    }
   ],
   "source": [
    "lsweights = pd.Series(0.0, index=stockdata.index.unique(level='ticker'))\n",
    "lsweights[['MSFT', 'CSCO', 'INTC', 'ORCL', 'IBM']] = 1 / 5\n",
    "lsweights[['C', 'GE', 'HD', 'MRK', 'T', 'WMT', 'XOM']] = -1 / 7\n",
    "display(lsweights)"
   ]
  },
  {
   "attachments": {},
   "cell_type": "markdown",
   "id": "b212cfdf-ceaf-404f-9bd7-18116175c2c1",
   "metadata": {},
   "source": [
    "To construct our long-short portfolio, we will, for each `timestamp`, multiply a given `ticker`'s weight by its return in that month, and then add up the products. To do this, we will define a function that takes a series of returns and computes the portfolio return given the weights. Will then use this function to aggregate our grouped data:\n"
   ]
  },
  {
   "cell_type": "code",
   "execution_count": 78,
   "id": "10c6aa5e-3c6a-4553-a94f-252f2521320d",
   "metadata": {},
   "outputs": [
    {
     "data": {
      "text/html": [
       "<div>\n",
       "<style scoped>\n",
       "    .dataframe tbody tr th:only-of-type {\n",
       "        vertical-align: middle;\n",
       "    }\n",
       "\n",
       "    .dataframe tbody tr th {\n",
       "        vertical-align: top;\n",
       "    }\n",
       "\n",
       "    .dataframe thead th {\n",
       "        text-align: right;\n",
       "    }\n",
       "</style>\n",
       "<table border=\"1\" class=\"dataframe\">\n",
       "  <thead>\n",
       "    <tr style=\"text-align: right;\">\n",
       "      <th></th>\n",
       "      <th>ret</th>\n",
       "    </tr>\n",
       "    <tr>\n",
       "      <th>timestamp</th>\n",
       "      <th></th>\n",
       "    </tr>\n",
       "  </thead>\n",
       "  <tbody>\n",
       "    <tr>\n",
       "      <th>2000-07-31</th>\n",
       "      <td>NaN</td>\n",
       "    </tr>\n",
       "    <tr>\n",
       "      <th>2000-08-31</th>\n",
       "      <td>0.109086</td>\n",
       "    </tr>\n",
       "    <tr>\n",
       "      <th>2000-09-29</th>\n",
       "      <td>-0.265419</td>\n",
       "    </tr>\n",
       "    <tr>\n",
       "      <th>2000-10-31</th>\n",
       "      <td>-0.024321</td>\n",
       "    </tr>\n",
       "    <tr>\n",
       "      <th>2000-11-30</th>\n",
       "      <td>-0.119982</td>\n",
       "    </tr>\n",
       "    <tr>\n",
       "      <th>...</th>\n",
       "      <td>...</td>\n",
       "    </tr>\n",
       "    <tr>\n",
       "      <th>2021-06-30</th>\n",
       "      <td>0.016076</td>\n",
       "    </tr>\n",
       "    <tr>\n",
       "      <th>2021-07-30</th>\n",
       "      <td>0.049308</td>\n",
       "    </tr>\n",
       "    <tr>\n",
       "      <th>2021-08-31</th>\n",
       "      <td>0.027076</td>\n",
       "    </tr>\n",
       "    <tr>\n",
       "      <th>2021-09-30</th>\n",
       "      <td>-0.033028</td>\n",
       "    </tr>\n",
       "    <tr>\n",
       "      <th>2021-10-29</th>\n",
       "      <td>-0.035054</td>\n",
       "    </tr>\n",
       "  </tbody>\n",
       "</table>\n",
       "<p>256 rows × 1 columns</p>\n",
       "</div>"
      ],
      "text/plain": [
       "                 ret\n",
       "timestamp           \n",
       "2000-07-31       NaN\n",
       "2000-08-31  0.109086\n",
       "2000-09-29 -0.265419\n",
       "2000-10-31 -0.024321\n",
       "2000-11-30 -0.119982\n",
       "...              ...\n",
       "2021-06-30  0.016076\n",
       "2021-07-30  0.049308\n",
       "2021-08-31  0.027076\n",
       "2021-09-30 -0.033028\n",
       "2021-10-29 -0.035054\n",
       "\n",
       "[256 rows x 1 columns]"
      ]
     },
     "metadata": {},
     "output_type": "display_data"
    }
   ],
   "source": [
    "def lssum(returns):\n",
    "    return sum(lsweights * returns)\n",
    "\n",
    "\n",
    "ls = stockdata[['ret']].groupby('timestamp').agg(lssum)\n",
    "display(ls)"
   ]
  },
  {
   "attachments": {},
   "cell_type": "markdown",
   "id": "d113fb9c-8013-4444-a442-6f2dc03fba60",
   "metadata": {},
   "source": [
    "Let's combine both portfolios into the same long dataframe with the same index structure as the original data. In other words, we will assign \"tickers\" to these portfolios -- EW for the equal-weighted one, and LS for the long-short one:\n"
   ]
  },
  {
   "cell_type": "code",
   "execution_count": 79,
   "id": "a8a5a03e-e1b3-4957-88d3-926574008942",
   "metadata": {},
   "outputs": [
    {
     "data": {
      "text/html": [
       "<div>\n",
       "<style scoped>\n",
       "    .dataframe tbody tr th:only-of-type {\n",
       "        vertical-align: middle;\n",
       "    }\n",
       "\n",
       "    .dataframe tbody tr th {\n",
       "        vertical-align: top;\n",
       "    }\n",
       "\n",
       "    .dataframe thead th {\n",
       "        text-align: right;\n",
       "    }\n",
       "</style>\n",
       "<table border=\"1\" class=\"dataframe\">\n",
       "  <thead>\n",
       "    <tr style=\"text-align: right;\">\n",
       "      <th></th>\n",
       "      <th></th>\n",
       "      <th>ret</th>\n",
       "    </tr>\n",
       "    <tr>\n",
       "      <th>ticker</th>\n",
       "      <th>timestamp</th>\n",
       "      <th></th>\n",
       "    </tr>\n",
       "  </thead>\n",
       "  <tbody>\n",
       "    <tr>\n",
       "      <th rowspan=\"5\" valign=\"top\">EW</th>\n",
       "      <th>2000-07-31</th>\n",
       "      <td>NaN</td>\n",
       "    </tr>\n",
       "    <tr>\n",
       "      <th>2000-08-31</th>\n",
       "      <td>0.047920</td>\n",
       "    </tr>\n",
       "    <tr>\n",
       "      <th>2000-09-29</th>\n",
       "      <td>-0.056575</td>\n",
       "    </tr>\n",
       "    <tr>\n",
       "      <th>2000-10-31</th>\n",
       "      <td>-0.003287</td>\n",
       "    </tr>\n",
       "    <tr>\n",
       "      <th>2000-11-30</th>\n",
       "      <td>-0.065720</td>\n",
       "    </tr>\n",
       "    <tr>\n",
       "      <th>...</th>\n",
       "      <th>...</th>\n",
       "      <td>...</td>\n",
       "    </tr>\n",
       "    <tr>\n",
       "      <th rowspan=\"5\" valign=\"top\">LS</th>\n",
       "      <th>2021-06-30</th>\n",
       "      <td>0.016076</td>\n",
       "    </tr>\n",
       "    <tr>\n",
       "      <th>2021-07-30</th>\n",
       "      <td>0.049308</td>\n",
       "    </tr>\n",
       "    <tr>\n",
       "      <th>2021-08-31</th>\n",
       "      <td>0.027076</td>\n",
       "    </tr>\n",
       "    <tr>\n",
       "      <th>2021-09-30</th>\n",
       "      <td>-0.033028</td>\n",
       "    </tr>\n",
       "    <tr>\n",
       "      <th>2021-10-29</th>\n",
       "      <td>-0.035054</td>\n",
       "    </tr>\n",
       "  </tbody>\n",
       "</table>\n",
       "<p>512 rows × 1 columns</p>\n",
       "</div>"
      ],
      "text/plain": [
       "                        ret\n",
       "ticker timestamp           \n",
       "EW     2000-07-31       NaN\n",
       "       2000-08-31  0.047920\n",
       "       2000-09-29 -0.056575\n",
       "       2000-10-31 -0.003287\n",
       "       2000-11-30 -0.065720\n",
       "...                     ...\n",
       "LS     2021-06-30  0.016076\n",
       "       2021-07-30  0.049308\n",
       "       2021-08-31  0.027076\n",
       "       2021-09-30 -0.033028\n",
       "       2021-10-29 -0.035054\n",
       "\n",
       "[512 rows x 1 columns]"
      ]
     },
     "metadata": {},
     "output_type": "display_data"
    }
   ],
   "source": [
    "portfolios = pd.concat([ew, ls], keys=['EW', 'LS'], names=['ticker'])\n",
    "display(portfolios)"
   ]
  },
  {
   "attachments": {},
   "cell_type": "markdown",
   "id": "5ae0c535-8678-4018-bb5e-4a3866eccce3",
   "metadata": {},
   "source": [
    "We can combine these portfolio returns with our original data, and define log returns:\n"
   ]
  },
  {
   "cell_type": "code",
   "execution_count": 80,
   "id": "14d4abb8-68df-44c3-8a69-d21bec4f7f11",
   "metadata": {},
   "outputs": [
    {
     "data": {
      "text/html": [
       "<div>\n",
       "<style scoped>\n",
       "    .dataframe tbody tr th:only-of-type {\n",
       "        vertical-align: middle;\n",
       "    }\n",
       "\n",
       "    .dataframe tbody tr th {\n",
       "        vertical-align: top;\n",
       "    }\n",
       "\n",
       "    .dataframe thead th {\n",
       "        text-align: right;\n",
       "    }\n",
       "</style>\n",
       "<table border=\"1\" class=\"dataframe\">\n",
       "  <thead>\n",
       "    <tr style=\"text-align: right;\">\n",
       "      <th></th>\n",
       "      <th></th>\n",
       "      <th>ret</th>\n",
       "      <th>logret</th>\n",
       "    </tr>\n",
       "    <tr>\n",
       "      <th>ticker</th>\n",
       "      <th>timestamp</th>\n",
       "      <th></th>\n",
       "      <th></th>\n",
       "    </tr>\n",
       "  </thead>\n",
       "  <tbody>\n",
       "    <tr>\n",
       "      <th rowspan=\"5\" valign=\"top\">C</th>\n",
       "      <th>2000-07-31</th>\n",
       "      <td>NaN</td>\n",
       "      <td>NaN</td>\n",
       "    </tr>\n",
       "    <tr>\n",
       "      <th>2000-08-31</th>\n",
       "      <td>0.106471</td>\n",
       "      <td>0.101175</td>\n",
       "    </tr>\n",
       "    <tr>\n",
       "      <th>2000-09-29</th>\n",
       "      <td>-0.074157</td>\n",
       "      <td>-0.077050</td>\n",
       "    </tr>\n",
       "    <tr>\n",
       "      <th>2000-10-31</th>\n",
       "      <td>-0.026452</td>\n",
       "      <td>-0.026808</td>\n",
       "    </tr>\n",
       "    <tr>\n",
       "      <th>2000-11-30</th>\n",
       "      <td>-0.051085</td>\n",
       "      <td>-0.052436</td>\n",
       "    </tr>\n",
       "    <tr>\n",
       "      <th>...</th>\n",
       "      <th>...</th>\n",
       "      <td>...</td>\n",
       "      <td>...</td>\n",
       "    </tr>\n",
       "    <tr>\n",
       "      <th rowspan=\"5\" valign=\"top\">LS</th>\n",
       "      <th>2021-06-30</th>\n",
       "      <td>0.016076</td>\n",
       "      <td>0.015948</td>\n",
       "    </tr>\n",
       "    <tr>\n",
       "      <th>2021-07-30</th>\n",
       "      <td>0.049308</td>\n",
       "      <td>0.048131</td>\n",
       "    </tr>\n",
       "    <tr>\n",
       "      <th>2021-08-31</th>\n",
       "      <td>0.027076</td>\n",
       "      <td>0.026716</td>\n",
       "    </tr>\n",
       "    <tr>\n",
       "      <th>2021-09-30</th>\n",
       "      <td>-0.033028</td>\n",
       "      <td>-0.033586</td>\n",
       "    </tr>\n",
       "    <tr>\n",
       "      <th>2021-10-29</th>\n",
       "      <td>-0.035054</td>\n",
       "      <td>-0.035684</td>\n",
       "    </tr>\n",
       "  </tbody>\n",
       "</table>\n",
       "<p>3584 rows × 2 columns</p>\n",
       "</div>"
      ],
      "text/plain": [
       "                        ret    logret\n",
       "ticker timestamp                     \n",
       "C      2000-07-31       NaN       NaN\n",
       "       2000-08-31  0.106471  0.101175\n",
       "       2000-09-29 -0.074157 -0.077050\n",
       "       2000-10-31 -0.026452 -0.026808\n",
       "       2000-11-30 -0.051085 -0.052436\n",
       "...                     ...       ...\n",
       "LS     2021-06-30  0.016076  0.015948\n",
       "       2021-07-30  0.049308  0.048131\n",
       "       2021-08-31  0.027076  0.026716\n",
       "       2021-09-30 -0.033028 -0.033586\n",
       "       2021-10-29 -0.035054 -0.035684\n",
       "\n",
       "[3584 rows x 2 columns]"
      ]
     },
     "metadata": {},
     "output_type": "display_data"
    }
   ],
   "source": [
    "returns = pd.concat([stockdata[['ret']], portfolios])\n",
    "returns['logret'] = np.log(1 + returns['ret'])\n",
    "display(returns)"
   ]
  },
  {
   "attachments": {},
   "cell_type": "markdown",
   "id": "29f3b5bc-b624-4bbb-8a99-1a590db171cb",
   "metadata": {},
   "source": [
    "We would like to see a few summary statistics -- the mean log return, its volatility, and its autocorrelation -- for each stock. Yet again, we will group the data -- this time the log return -- by `ticker`, aggregate it, and combine the result back into one dataset.\n",
    "\n",
    "For common functions like mean and standard deviations, there are predefined string function names 'mean' and 'std'. But really, we can pass in any function as long as it takes a Series as an argument and returns a scalar as a result. Here, for autocorrelation, we will use the `autocorr` method of the `Series` class.\n"
   ]
  },
  {
   "cell_type": "code",
   "execution_count": 81,
   "id": "09b22b09-63bc-4475-8232-b3533f1b0dd8",
   "metadata": {},
   "outputs": [
    {
     "data": {
      "text/html": [
       "<div>\n",
       "<style scoped>\n",
       "    .dataframe tbody tr th:only-of-type {\n",
       "        vertical-align: middle;\n",
       "    }\n",
       "\n",
       "    .dataframe tbody tr th {\n",
       "        vertical-align: top;\n",
       "    }\n",
       "\n",
       "    .dataframe thead tr th {\n",
       "        text-align: left;\n",
       "    }\n",
       "\n",
       "    .dataframe thead tr:last-of-type th {\n",
       "        text-align: right;\n",
       "    }\n",
       "</style>\n",
       "<table border=\"1\" class=\"dataframe\">\n",
       "  <thead>\n",
       "    <tr>\n",
       "      <th></th>\n",
       "      <th colspan=\"3\" halign=\"left\">logret</th>\n",
       "    </tr>\n",
       "    <tr>\n",
       "      <th></th>\n",
       "      <th>mean</th>\n",
       "      <th>std</th>\n",
       "      <th>autocorr</th>\n",
       "    </tr>\n",
       "    <tr>\n",
       "      <th>ticker</th>\n",
       "      <th></th>\n",
       "      <th></th>\n",
       "      <th></th>\n",
       "    </tr>\n",
       "  </thead>\n",
       "  <tbody>\n",
       "    <tr>\n",
       "      <th>C</th>\n",
       "      <td>-0.006045</td>\n",
       "      <td>0.127821</td>\n",
       "      <td>0.140381</td>\n",
       "    </tr>\n",
       "    <tr>\n",
       "      <th>CSCO</th>\n",
       "      <td>0.000605</td>\n",
       "      <td>0.097566</td>\n",
       "      <td>-0.019827</td>\n",
       "    </tr>\n",
       "    <tr>\n",
       "      <th>EW</th>\n",
       "      <td>0.005089</td>\n",
       "      <td>0.049272</td>\n",
       "      <td>0.021478</td>\n",
       "    </tr>\n",
       "    <tr>\n",
       "      <th>GE</th>\n",
       "      <td>-0.002934</td>\n",
       "      <td>0.086506</td>\n",
       "      <td>0.174621</td>\n",
       "    </tr>\n",
       "    <tr>\n",
       "      <th>HD</th>\n",
       "      <td>0.009430</td>\n",
       "      <td>0.070928</td>\n",
       "      <td>0.005123</td>\n",
       "    </tr>\n",
       "    <tr>\n",
       "      <th>IBM</th>\n",
       "      <td>0.002327</td>\n",
       "      <td>0.071724</td>\n",
       "      <td>-0.137711</td>\n",
       "    </tr>\n",
       "    <tr>\n",
       "      <th>INTC</th>\n",
       "      <td>0.000680</td>\n",
       "      <td>0.100099</td>\n",
       "      <td>-0.078067</td>\n",
       "    </tr>\n",
       "    <tr>\n",
       "      <th>LS</th>\n",
       "      <td>0.000526</td>\n",
       "      <td>0.054150</td>\n",
       "      <td>-0.135643</td>\n",
       "    </tr>\n",
       "    <tr>\n",
       "      <th>MRK</th>\n",
       "      <td>0.004114</td>\n",
       "      <td>0.067183</td>\n",
       "      <td>-0.077636</td>\n",
       "    </tr>\n",
       "    <tr>\n",
       "      <th>MSFT</th>\n",
       "      <td>0.010617</td>\n",
       "      <td>0.074825</td>\n",
       "      <td>-0.105863</td>\n",
       "    </tr>\n",
       "    <tr>\n",
       "      <th>ORCL</th>\n",
       "      <td>0.004326</td>\n",
       "      <td>0.088762</td>\n",
       "      <td>0.032993</td>\n",
       "    </tr>\n",
       "    <tr>\n",
       "      <th>T</th>\n",
       "      <td>0.002652</td>\n",
       "      <td>0.063261</td>\n",
       "      <td>-0.043164</td>\n",
       "    </tr>\n",
       "    <tr>\n",
       "      <th>WMT</th>\n",
       "      <td>0.005434</td>\n",
       "      <td>0.052307</td>\n",
       "      <td>-0.115521</td>\n",
       "    </tr>\n",
       "    <tr>\n",
       "      <th>XOM</th>\n",
       "      <td>0.004429</td>\n",
       "      <td>0.059814</td>\n",
       "      <td>0.018024</td>\n",
       "    </tr>\n",
       "  </tbody>\n",
       "</table>\n",
       "</div>"
      ],
      "text/plain": [
       "          logret                    \n",
       "            mean       std  autocorr\n",
       "ticker                              \n",
       "C      -0.006045  0.127821  0.140381\n",
       "CSCO    0.000605  0.097566 -0.019827\n",
       "EW      0.005089  0.049272  0.021478\n",
       "GE     -0.002934  0.086506  0.174621\n",
       "HD      0.009430  0.070928  0.005123\n",
       "IBM     0.002327  0.071724 -0.137711\n",
       "INTC    0.000680  0.100099 -0.078067\n",
       "LS      0.000526  0.054150 -0.135643\n",
       "MRK     0.004114  0.067183 -0.077636\n",
       "MSFT    0.010617  0.074825 -0.105863\n",
       "ORCL    0.004326  0.088762  0.032993\n",
       "T       0.002652  0.063261 -0.043164\n",
       "WMT     0.005434  0.052307 -0.115521\n",
       "XOM     0.004429  0.059814  0.018024"
      ]
     },
     "metadata": {},
     "output_type": "display_data"
    }
   ],
   "source": [
    "stats = returns[['logret'\n",
    "                 ]].groupby('ticker').agg(['mean', 'std', pd.Series.autocorr])\n",
    "display(stats)"
   ]
  },
  {
   "attachments": {},
   "cell_type": "markdown",
   "id": "3c851b03-5b70-4886-a163-d365ceff7060",
   "metadata": {},
   "source": [
    "This looks pretty good, but we can improve it in several ways. First, it's a little bit unwieldy to have the two-level column name. If we wanted to extract the mean return of Microsoft, we would need to type in\n"
   ]
  },
  {
   "cell_type": "code",
   "execution_count": 82,
   "id": "76129647-84cc-4a6f-8387-b592ec53de10",
   "metadata": {},
   "outputs": [
    {
     "data": {
      "text/plain": [
       "0.01061686126838709"
      ]
     },
     "execution_count": 82,
     "metadata": {},
     "output_type": "execute_result"
    }
   ],
   "source": [
    "stats.loc['MSFT', ('logret', 'mean')]\n"
   ]
  },
  {
   "attachments": {},
   "cell_type": "markdown",
   "id": "0e85a63e-931d-4946-8948-5446b1349da3",
   "metadata": {},
   "source": [
    "This can be handy if we're summarizing multiple variables and thus need to specify both the variable being summarized and the aggregating function. But since here we're only summarizing logreturns, it would be easier to just have a single-level of labels: mean, std, etc.\n"
   ]
  },
  {
   "cell_type": "code",
   "execution_count": 83,
   "id": "1013aa33-5ccd-4ced-9109-22e41d837dd0",
   "metadata": {},
   "outputs": [],
   "source": [
    "stats = stats.droplevel(0, axis=1)\n"
   ]
  },
  {
   "attachments": {},
   "cell_type": "markdown",
   "id": "c2991762-a74d-4382-97ad-2e0a52a83c6f",
   "metadata": {},
   "source": [
    "Second, it's common to report stock returns statistics as annualized (i.e. how much one would earn over the whole year at this rate) and in percent:\n"
   ]
  },
  {
   "cell_type": "code",
   "execution_count": 84,
   "id": "5a66732a-4f13-4a08-b3d9-edfbb112a4d1",
   "metadata": {},
   "outputs": [
    {
     "data": {
      "text/html": [
       "<div>\n",
       "<style scoped>\n",
       "    .dataframe tbody tr th:only-of-type {\n",
       "        vertical-align: middle;\n",
       "    }\n",
       "\n",
       "    .dataframe tbody tr th {\n",
       "        vertical-align: top;\n",
       "    }\n",
       "\n",
       "    .dataframe thead th {\n",
       "        text-align: right;\n",
       "    }\n",
       "</style>\n",
       "<table border=\"1\" class=\"dataframe\">\n",
       "  <thead>\n",
       "    <tr style=\"text-align: right;\">\n",
       "      <th></th>\n",
       "      <th>mean</th>\n",
       "      <th>std</th>\n",
       "      <th>autocorr</th>\n",
       "    </tr>\n",
       "    <tr>\n",
       "      <th>ticker</th>\n",
       "      <th></th>\n",
       "      <th></th>\n",
       "      <th></th>\n",
       "    </tr>\n",
       "  </thead>\n",
       "  <tbody>\n",
       "    <tr>\n",
       "      <th>C</th>\n",
       "      <td>-7.253874</td>\n",
       "      <td>44.278464</td>\n",
       "      <td>0.140381</td>\n",
       "    </tr>\n",
       "    <tr>\n",
       "      <th>CSCO</th>\n",
       "      <td>0.726561</td>\n",
       "      <td>33.797843</td>\n",
       "      <td>-0.019827</td>\n",
       "    </tr>\n",
       "    <tr>\n",
       "      <th>EW</th>\n",
       "      <td>6.106395</td>\n",
       "      <td>17.068488</td>\n",
       "      <td>0.021478</td>\n",
       "    </tr>\n",
       "    <tr>\n",
       "      <th>GE</th>\n",
       "      <td>-3.521304</td>\n",
       "      <td>29.966443</td>\n",
       "      <td>0.174621</td>\n",
       "    </tr>\n",
       "    <tr>\n",
       "      <th>HD</th>\n",
       "      <td>11.315936</td>\n",
       "      <td>24.570190</td>\n",
       "      <td>0.005123</td>\n",
       "    </tr>\n",
       "    <tr>\n",
       "      <th>IBM</th>\n",
       "      <td>2.792726</td>\n",
       "      <td>24.845819</td>\n",
       "      <td>-0.137711</td>\n",
       "    </tr>\n",
       "    <tr>\n",
       "      <th>INTC</th>\n",
       "      <td>0.815950</td>\n",
       "      <td>34.675175</td>\n",
       "      <td>-0.078067</td>\n",
       "    </tr>\n",
       "    <tr>\n",
       "      <th>LS</th>\n",
       "      <td>0.631345</td>\n",
       "      <td>18.757964</td>\n",
       "      <td>-0.135643</td>\n",
       "    </tr>\n",
       "    <tr>\n",
       "      <th>MRK</th>\n",
       "      <td>4.936890</td>\n",
       "      <td>23.273035</td>\n",
       "      <td>-0.077636</td>\n",
       "    </tr>\n",
       "    <tr>\n",
       "      <th>MSFT</th>\n",
       "      <td>12.740234</td>\n",
       "      <td>25.920098</td>\n",
       "      <td>-0.105863</td>\n",
       "    </tr>\n",
       "    <tr>\n",
       "      <th>ORCL</th>\n",
       "      <td>5.191326</td>\n",
       "      <td>30.747981</td>\n",
       "      <td>0.032993</td>\n",
       "    </tr>\n",
       "    <tr>\n",
       "      <th>T</th>\n",
       "      <td>3.182545</td>\n",
       "      <td>21.914168</td>\n",
       "      <td>-0.043164</td>\n",
       "    </tr>\n",
       "    <tr>\n",
       "      <th>WMT</th>\n",
       "      <td>6.520892</td>\n",
       "      <td>18.119737</td>\n",
       "      <td>-0.115521</td>\n",
       "    </tr>\n",
       "    <tr>\n",
       "      <th>XOM</th>\n",
       "      <td>5.314700</td>\n",
       "      <td>20.720254</td>\n",
       "      <td>0.018024</td>\n",
       "    </tr>\n",
       "  </tbody>\n",
       "</table>\n",
       "</div>"
      ],
      "text/plain": [
       "             mean        std  autocorr\n",
       "ticker                                \n",
       "C       -7.253874  44.278464  0.140381\n",
       "CSCO     0.726561  33.797843 -0.019827\n",
       "EW       6.106395  17.068488  0.021478\n",
       "GE      -3.521304  29.966443  0.174621\n",
       "HD      11.315936  24.570190  0.005123\n",
       "IBM      2.792726  24.845819 -0.137711\n",
       "INTC     0.815950  34.675175 -0.078067\n",
       "LS       0.631345  18.757964 -0.135643\n",
       "MRK      4.936890  23.273035 -0.077636\n",
       "MSFT    12.740234  25.920098 -0.105863\n",
       "ORCL     5.191326  30.747981  0.032993\n",
       "T        3.182545  21.914168 -0.043164\n",
       "WMT      6.520892  18.119737 -0.115521\n",
       "XOM      5.314700  20.720254  0.018024"
      ]
     },
     "metadata": {},
     "output_type": "display_data"
    }
   ],
   "source": [
    "PERCENT = 100\n",
    "MONTHS_PER_YEAR = 12\n",
    "stats['mean'] = PERCENT * MONTHS_PER_YEAR * stats['mean']\n",
    "stats['std'] = PERCENT * np.sqrt(MONTHS_PER_YEAR) * stats['std']\n",
    "display(stats)"
   ]
  },
  {
   "attachments": {},
   "cell_type": "markdown",
   "id": "cda4f3d8-9d1b-44ca-8fa5-b73a7022718a",
   "metadata": {},
   "source": [
    "We see that over the 20 year period there are huge differences between how these stocks performed. Microsoft was the best performer with an average annual log return of 12.7% while Citi was the worst, losing about 7% of its value on average every year. Our best that tech stocks would perform non-tech stocks turned out to be true, but just barely. Long-short portfolio earnes less than 1% per year on average with still substantial volatility of 18.8%. The equal-weighted portfolio does better, earning a 6% average annual return.\n",
    "\n",
    "In the last part of the code above, we annualized the statistics and converted them to percent. For means, this is straightforward -- just multiply the monthly return by 12 (months in a year). For standard deviations, the square root should be familiar from your statistics and Investments classes. If not, here's a quick refresher.\n",
    "\n",
    "### Asset Return Statistics\n",
    "\n",
    "Recall that we defined $r_{t\\rightarrow t+1}$ as the log return from time $t$ to time $t+1$, where time $t$ is in units of months. The annual return then is the cumulative return over 12 months:\n",
    "\n",
    "$r_{y\\rightarrow y+1} = \\sum_{m=1}^{12} r_{y:m-1\\rightarrow y:m}$\n",
    "\n",
    "For example, the 2019 annual log return is the sum of Jan 2019, Feb 2019, ... Dec 2019 monthly log returns.\n",
    "\n",
    "Think of each monthly return as a sample from a random variable. Note, here I am assuming that each month's return has the same distribution i.e. that monthly returns are identically distributed. Within a year, this assumption holds quite well in the data. We know the sample mean and standard deviation of monthly returns, which are estimators for the expected value $\\mu$ and standard deviation $\\sigma$ of the distribution. We can use formulas we know from Statistics to calculate the expected value and standard deviation of the annual return because the annual return is just a sum of identically distributed random variables.\n",
    "\n",
    "For the expected value, we have\n",
    "\n",
    "$E[r_{y\\rightarrow y+1}] = \\sum_{m=1}^{12} E[r_{y:m-1\\rightarrow y:m}] = \\sum_{m=1}^{12} \\mu = 12 \\mu$\n",
    "\n",
    "just like in the code above. To compute the standard deviation, let us first compute the variance:\n",
    "\n",
    "$\\text{Var}[r_{y\\rightarrow y+1}] = \\text{Var}\\left[\\sum_{m=1}^{12} r_{y:m-1\\rightarrow y:m}\\right]$\n",
    "\n",
    "Recall, generally, it is not true that the variance of a sum of random variables is equal to the sum of their individual variances. Usually, there are covariance terms present. But when it comes to stock returns, we can rely on the Efficient Market Hypothesis to make another assumption -- that stock returns are uncorrelated over time i.e. that knowing the January stock return does not help you predict the February return. This assumption holds well in the data -- notice that the autocorrelations in the table above are usually pretty close to zero.\n",
    "\n",
    "Under the assumption of no correlations, all the covariances are equal to zero. Only in this case, we can write the variance of a sum as a sum of variances:\n",
    "\n",
    "$\\text{Var}[r_{y\\rightarrow y+1}] = \\sum*{m=1}^{12} \\text{Var}[r*{y:m-1\\rightarrow y:m}] = \\sum\\_{m=1}^{12} \\sigma^2 = 12 \\sigma^2 $\n",
    "\n",
    "Standard deviation is the square root of the variance:\n",
    "\n",
    "$ \\text{std}[r_{y\\rightarrow y+1}]] = \\sigma \\sqrt{12} $\n",
    "\n",
    "which is why we multiplied by `np.sqrt(MONTHS_PER_YEAR)` above.\n",
    "\n",
    "## Assessing Performance\n",
    "\n",
    "Let's take another look at the summary statistics, but this time using a mean-variance plot of the type you've seen in your Investment class:\n"
   ]
  },
  {
   "cell_type": "code",
   "execution_count": 85,
   "id": "4c5980e9-971b-49bf-bd01-8fec98446434",
   "metadata": {},
   "outputs": [
    {
     "data": {
      "image/png": "[encoded data removed]",
      "text/plain": [
       "<Figure size 432x288 with 1 Axes>"
      ]
     },
     "metadata": {
      "needs_background": "light"
     },
     "output_type": "display_data"
    }
   ],
   "source": [
    "plt.scatter(stats['std'], stats['mean'])\n",
    "plt.xlabel('Standard Deviation (Annual Pct)')\n",
    "plt.ylabel('Mean (Annual Pct')\n",
    "[\n",
    "    plt.annotate(txt, (x, y))\n",
    "    for (x, y, txt) in zip(stats['std'], stats['mean'], stats.index)\n",
    "]\n",
    "plt.show()"
   ]
  },
  {
   "attachments": {},
   "cell_type": "markdown",
   "id": "e1497ef1-f03e-4d88-9f2a-b53487beeeee",
   "metadata": {},
   "source": [
    "We can see that in general it seems like riskier stocks command higher returns, though there are some significant outliers like GE and especially C. We also see that the asset with the lowest volatility is the equal-weighted portfolio, and the long-short portfolio isn't far behind. This is diversification in action!\n"
   ]
  },
  {
   "attachments": {},
   "cell_type": "markdown",
   "id": "211b5e5d-a8f8-44c7-9c28-8aaba93b2381",
   "metadata": {},
   "source": [
    "But of course to gauge stock performance it's not enough to compare average returns to its volatility. Recall, there is not much reason for investors to care about volatility itself if that volatility is idiosyncratic i.e. if it is not correlated with the volatility of the investors' overall portfolio, which we usually measure using the aggregate market portfolio.\n",
    "\n",
    "This logic is formalized in the Capital Asset Pricing Model (CAPM), which you learned in your Investments class. Recall that the CAPM states that excess returns (returns in excess of the risk-free rate) of a particular asset are proportional to the excess return on the market. The coefficient of proportionality $\\beta_i$ is specific to each asset and is referred to as the asset's beta.\n",
    "\n",
    "$ E*t[r*{i,t+1}] - r*{f,t} = \\beta_i E_t[r*{m,t+1} - r\\_{f,t}] $\n",
    "\n",
    "Since the market excess return is positive on average, the CAPM implies that stocks with higher betas should have higher excess returns. Rather than compare stock returns to volatilities, we should compare stock returns to their betas.\n",
    "\n",
    "We can estimate an asset's beta by running the following regression for each asset $i$:\n",
    "\n",
    "$ r*{i,t+1} - r*{f,t} = \\alpha*i + \\beta_i (r*{m,t+1} - r*{f,t} ) + \\epsilon*{i,t+1} $\n",
    "\n",
    "To do this, we will need two pieces of data that we haven't yet used -- market returns, and risk-free rates, which we will use to compute excess returns. There are many sources for these data, but one easy and free place to get them from is the website of Ken French, a finance professor at Dartmouth and one of the authors of the famous Fama-French model.\n",
    "\n",
    "There is actually a Python package called `pandas_datareader` that can download these data directly! Before running the cell below for the first time, install it by opening your terminal (on Mac) or CMD.EXE (on Windows, from the Anaconda dashboard) and run `pip install pandas-datareader`.\n",
    "\n",
    "There are lots of datasets we can download. You can see the full list here: https://mba.tuck.dartmouth.edu/pages/faculty/ken.french/data_library.html\n",
    "\n",
    "or directly using the package's API:\n"
   ]
  },
  {
   "cell_type": "code",
   "execution_count": 86,
   "id": "7b3e67d7-ac37-427e-ada3-2523daf19335",
   "metadata": {},
   "outputs": [
    {
     "data": {
      "text/plain": [
       "297"
      ]
     },
     "execution_count": 86,
     "metadata": {},
     "output_type": "execute_result"
    }
   ],
   "source": [
    "from pandas_datareader.famafrench import get_available_datasets\n",
    "\n",
    "ffds_names = get_available_datasets()\n",
    "len(ffds_names)"
   ]
  },
  {
   "attachments": {},
   "cell_type": "markdown",
   "id": "5bdd6f48-2802-4764-839f-308c3c37a68d",
   "metadata": {},
   "source": [
    "If you want to see their names, print `ffds_names` (it's long!). But we need the one called `'F-F_Research_Data_Factors'`. Let's download it and take a look at the description:\n"
   ]
  },
  {
   "cell_type": "code",
   "execution_count": 87,
   "id": "fc493aa5-fe2e-482e-853d-9452ace4561d",
   "metadata": {},
   "outputs": [
    {
     "name": "stdout",
     "output_type": "stream",
     "text": [
      "F-F Research Data Factors\n",
      "-------------------------\n",
      "\n",
      "This file was created by CMPT_ME_BEME_RETS using the 202209 CRSP database. The 1-month TBill return is from Ibbotson and Associates, Inc. Copyright 2022 Kenneth R. French\n",
      "\n",
      "  0 : (267 rows x 4 cols)\n",
      "  1 : Annual Factors: January-December (22 rows x 4 cols)\n"
     ]
    }
   ],
   "source": [
    "import pandas_datareader.data as pdrweb\n",
    "\n",
    "kfds = pdrweb.DataReader('F-F_Research_Data_Factors',\n",
    "                         'famafrench',\n",
    "                         start='07/31/2000')\n",
    "print(kfds['DESCR'])"
   ]
  },
  {
   "attachments": {},
   "cell_type": "markdown",
   "id": "f1153024-a688-44e5-94c3-4ac2147e857c",
   "metadata": {},
   "source": [
    "As you can see, this dataset actually consists of two `DataFrames` -- one with monthly returns and one with annual returns. Since our individual stock data is monthly, we will use the monthly dataset:\n"
   ]
  },
  {
   "cell_type": "code",
   "execution_count": 88,
   "id": "5a9ff089-ebe7-4dcd-99a2-adcecbaeff8a",
   "metadata": {},
   "outputs": [
    {
     "data": {
      "text/html": [
       "<div>\n",
       "<style scoped>\n",
       "    .dataframe tbody tr th:only-of-type {\n",
       "        vertical-align: middle;\n",
       "    }\n",
       "\n",
       "    .dataframe tbody tr th {\n",
       "        vertical-align: top;\n",
       "    }\n",
       "\n",
       "    .dataframe thead th {\n",
       "        text-align: right;\n",
       "    }\n",
       "</style>\n",
       "<table border=\"1\" class=\"dataframe\">\n",
       "  <thead>\n",
       "    <tr style=\"text-align: right;\">\n",
       "      <th></th>\n",
       "      <th>Mkt-RF</th>\n",
       "      <th>SMB</th>\n",
       "      <th>HML</th>\n",
       "      <th>RF</th>\n",
       "    </tr>\n",
       "    <tr>\n",
       "      <th>Date</th>\n",
       "      <th></th>\n",
       "      <th></th>\n",
       "      <th></th>\n",
       "      <th></th>\n",
       "    </tr>\n",
       "  </thead>\n",
       "  <tbody>\n",
       "    <tr>\n",
       "      <th>2000-07</th>\n",
       "      <td>-2.51</td>\n",
       "      <td>-3.06</td>\n",
       "      <td>8.30</td>\n",
       "      <td>0.48</td>\n",
       "    </tr>\n",
       "    <tr>\n",
       "      <th>2000-08</th>\n",
       "      <td>7.03</td>\n",
       "      <td>-0.62</td>\n",
       "      <td>-1.38</td>\n",
       "      <td>0.50</td>\n",
       "    </tr>\n",
       "    <tr>\n",
       "      <th>2000-09</th>\n",
       "      <td>-5.45</td>\n",
       "      <td>-1.82</td>\n",
       "      <td>7.17</td>\n",
       "      <td>0.51</td>\n",
       "    </tr>\n",
       "    <tr>\n",
       "      <th>2000-10</th>\n",
       "      <td>-2.76</td>\n",
       "      <td>-3.87</td>\n",
       "      <td>5.70</td>\n",
       "      <td>0.56</td>\n",
       "    </tr>\n",
       "    <tr>\n",
       "      <th>2000-11</th>\n",
       "      <td>-10.72</td>\n",
       "      <td>-3.43</td>\n",
       "      <td>12.32</td>\n",
       "      <td>0.51</td>\n",
       "    </tr>\n",
       "  </tbody>\n",
       "</table>\n",
       "</div>"
      ],
      "text/plain": [
       "         Mkt-RF   SMB    HML    RF\n",
       "Date                              \n",
       "2000-07   -2.51 -3.06   8.30  0.48\n",
       "2000-08    7.03 -0.62  -1.38  0.50\n",
       "2000-09   -5.45 -1.82   7.17  0.51\n",
       "2000-10   -2.76 -3.87   5.70  0.56\n",
       "2000-11  -10.72 -3.43  12.32  0.51"
      ]
     },
     "execution_count": 88,
     "metadata": {},
     "output_type": "execute_result"
    }
   ],
   "source": [
    "kfdf = kfds[0]\n",
    "kfdf.head()"
   ]
  },
  {
   "attachments": {},
   "cell_type": "markdown",
   "id": "489199db-84c4-4290-8bc1-3e9ea554b7d1",
   "metadata": {},
   "source": [
    "This table is indexed by a monthly Date, and has four columns. `Mkt-RF` is the market excess return (market return minus risk-free rate). `RF` is the risk-free rate. The other two columns `SMB` and `HML` contain returns on two long-short portfolios that serve as additional factors in the Fama-French model. We won't be using them today.\n",
    "\n",
    "The units in this table are unclear, but we can use some common sense and our general knowledge of stock returns and interest rates to figure them out. First, the fact that some returns are smaller than -1 suggests that they are in percent. Remember: limited liability means that you can never lose more than 100% of your investment i.e. experience a worse than -1 return.\n",
    "\n",
    "Second, despite some of these numbers being quite large, they are in fact monthly un-annualized returns and rates. One way to confirm this is to plot the history of risk-free rates:\n"
   ]
  },
  {
   "cell_type": "code",
   "execution_count": 89,
   "id": "db2b1360-bde1-4783-9c99-dd191567f40a",
   "metadata": {},
   "outputs": [
    {
     "data": {
      "image/png": "[encoded data removed]",
      "text/plain": [
       "<Figure size 432x288 with 1 Axes>"
      ]
     },
     "metadata": {
      "needs_background": "light"
     },
     "output_type": "display_data"
    }
   ],
   "source": [
    "plt.plot(kfdf.index.to_timestamp(), kfdf['RF'])\n",
    "plt.xlabel('Date')\n",
    "plt.ylabel('Risk-Free Rate (Percent)')\n",
    "plt.show()"
   ]
  },
  {
   "attachments": {},
   "cell_type": "markdown",
   "id": "62c7b88a-cc8e-4e29-b7f7-3512b9a9b119",
   "metadata": {},
   "source": [
    "Note: the `to_timestamp()` function was needed to convert these monthly dates into regular datetime objects that can be plotted. Why did we have to do this? What were they originally? We'll come back to this in a few paragraphs.\n",
    "\n",
    "Notice that the risk-free rate in 2018-2019 is about 0.2% (or 20 basis points). But we know that the federal funds rate at this time (the most watched interest rate in the economy) was over 2% annually, as it is typically quoted. So 0.2% must be the monthly number (annual / 12).\n",
    "\n",
    "Finally, we don't know if these returns and rates are already logs. There is no good way to tell, unfortunately. But it is rare for a data provider to supply log returns directly, so let's assume that they are not in logs.\n",
    "\n",
    "We will want to estimate betas using log returns. So let's convert the Ken French data:\n"
   ]
  },
  {
   "cell_type": "code",
   "execution_count": 90,
   "id": "b0d1f107-e1d3-4e54-b616-22cdb72feb48",
   "metadata": {},
   "outputs": [
    {
     "data": {
      "text/html": [
       "<div>\n",
       "<style scoped>\n",
       "    .dataframe tbody tr th:only-of-type {\n",
       "        vertical-align: middle;\n",
       "    }\n",
       "\n",
       "    .dataframe tbody tr th {\n",
       "        vertical-align: top;\n",
       "    }\n",
       "\n",
       "    .dataframe thead th {\n",
       "        text-align: right;\n",
       "    }\n",
       "</style>\n",
       "<table border=\"1\" class=\"dataframe\">\n",
       "  <thead>\n",
       "    <tr style=\"text-align: right;\">\n",
       "      <th></th>\n",
       "      <th>Mkt-RF</th>\n",
       "      <th>SMB</th>\n",
       "      <th>HML</th>\n",
       "      <th>RF</th>\n",
       "    </tr>\n",
       "    <tr>\n",
       "      <th>Date</th>\n",
       "      <th></th>\n",
       "      <th></th>\n",
       "      <th></th>\n",
       "      <th></th>\n",
       "    </tr>\n",
       "  </thead>\n",
       "  <tbody>\n",
       "    <tr>\n",
       "      <th>2022-05</th>\n",
       "      <td>-0.003406</td>\n",
       "      <td>-0.018673</td>\n",
       "      <td>0.080750</td>\n",
       "      <td>0.000300</td>\n",
       "    </tr>\n",
       "    <tr>\n",
       "      <th>2022-06</th>\n",
       "      <td>-0.088066</td>\n",
       "      <td>0.020685</td>\n",
       "      <td>-0.061556</td>\n",
       "      <td>0.000600</td>\n",
       "    </tr>\n",
       "    <tr>\n",
       "      <th>2022-07</th>\n",
       "      <td>0.091393</td>\n",
       "      <td>0.027712</td>\n",
       "      <td>-0.041864</td>\n",
       "      <td>0.000800</td>\n",
       "    </tr>\n",
       "    <tr>\n",
       "      <th>2022-08</th>\n",
       "      <td>-0.038533</td>\n",
       "      <td>0.013804</td>\n",
       "      <td>0.003095</td>\n",
       "      <td>0.001898</td>\n",
       "    </tr>\n",
       "    <tr>\n",
       "      <th>2022-09</th>\n",
       "      <td>-0.098275</td>\n",
       "      <td>-0.008133</td>\n",
       "      <td>0.000500</td>\n",
       "      <td>0.001898</td>\n",
       "    </tr>\n",
       "  </tbody>\n",
       "</table>\n",
       "</div>"
      ],
      "text/plain": [
       "           Mkt-RF       SMB       HML        RF\n",
       "Date                                           \n",
       "2022-05 -0.003406 -0.018673  0.080750  0.000300\n",
       "2022-06 -0.088066  0.020685 -0.061556  0.000600\n",
       "2022-07  0.091393  0.027712 -0.041864  0.000800\n",
       "2022-08 -0.038533  0.013804  0.003095  0.001898\n",
       "2022-09 -0.098275 -0.008133  0.000500  0.001898"
      ]
     },
     "execution_count": 90,
     "metadata": {},
     "output_type": "execute_result"
    }
   ],
   "source": [
    "kfdf = np.log(1 + kfdf / 100)\n",
    "kfdf.tail()"
   ]
  },
  {
   "attachments": {},
   "cell_type": "markdown",
   "id": "577bc682-6c0d-4ca3-b2f2-06ab077a1652",
   "metadata": {},
   "source": [
    "Now, we want to combine `returns` and `kfdf` so that we can subtract the correct risk-free rate from each of our asset returns to get excess returns. Recall, our `returns` dataframe has one row for each date and ticker. So for example, there are 12 rows corresponding to July 2000 -- one for each company. The data starts in July 2000 and goes until October 2021. In contrast, `kfdf` has only one row for each date, and the date goes through August 2022, almost a year later than `returns`. We have no use for these recent data on risk-free rates and market excess returns, because we don't have the corresponding returns on the assets, whose performance we are trying to assess.\n",
    "\n",
    "Therefore, our goal is to perform a **many-to-one** **inner join**. Let's talk about each of these terms separately. The \"many-to-one\" is referring to us merging many rows in `returns` -- 12 for each date -- to one row in `kfdata`. The \"inner join\" part is referring to the fact that we only want to keep observations for dates present in both tables. If we wanted to keep observations that don't have a match in the other dataset, we would do an **outer join**. If our preference towards keeping or discarding non-matching observations differs by dataset, we can keep them only from the first (left) or the second (right) dataset by doing a left, or right, join respectively.\n",
    "\n",
    "Before we do this merge, we have another problem to deal with. The the way dates are expressed in the two datasets are different. The index of `returns` is a daily date in `datetime` format. The index of `kfdf`, however, is\n"
   ]
  },
  {
   "cell_type": "code",
   "execution_count": 91,
   "id": "678d3b68-2af6-4215-b27a-121c57d838bc",
   "metadata": {},
   "outputs": [
    {
     "data": {
      "text/plain": [
       "pandas.core.indexes.period.PeriodIndex"
      ]
     },
     "execution_count": 91,
     "metadata": {},
     "output_type": "execute_result"
    }
   ],
   "source": [
    "type(kfdf.index)"
   ]
  },
  {
   "attachments": {},
   "cell_type": "markdown",
   "id": "3cb42a51-8d39-4e09-bad7-bf33e164b589",
   "metadata": {},
   "source": [
    "Period indices are a really useful `pandas` feature because they allow us to identify dates at a particular frequency, not necessarily daily. This can be very helpful if you want to offset your data by a given number of months, regardless of which month you're starting in.\n",
    "\n",
    "This is easier to see with an example. Suppose your monthly observation is labeled with a particular date e.g. April 1, 2021. What is one month before then? Well, that depends -- months have different lengths. Do you want to always subtract 31? 30? 28 or 29? If you subtract 31 days from April 1, you get March 1. But if you subtract 31 from March 1, you get a day in January, skipping February altogether! Maybe you want to subtract the correct number of days for a given month e.g. 31 here because March has 31 days?\n",
    "\n",
    "This gets tricky. And also unnecessary. We don't really care about the day of the month, so why keep track of it and deal with all the associated problems. A `PeriodIndex` allows us to define a monthly date e.g. 2021-04 (April 2021). There are no more days to subtract, just months. One month before is unambiguously March 2021.\n",
    "\n",
    "So let's convert the `timestamp` level of the index of `returns` to be a monthly `PeriodIndex`. To make this fast, we will extract all unique `timestamp` (second level i.e. `level=1` values; recall: there are many duplicates because we have multiple tickers), convert them to `PeriodIndex` using the `to_period()` method, and then set the second index level to these new values:\n"
   ]
  },
  {
   "cell_type": "code",
   "execution_count": 92,
   "id": "35c93faa-09be-4735-9c1e-b2f97b902739",
   "metadata": {},
   "outputs": [
    {
     "data": {
      "text/html": [
       "<div>\n",
       "<style scoped>\n",
       "    .dataframe tbody tr th:only-of-type {\n",
       "        vertical-align: middle;\n",
       "    }\n",
       "\n",
       "    .dataframe tbody tr th {\n",
       "        vertical-align: top;\n",
       "    }\n",
       "\n",
       "    .dataframe thead th {\n",
       "        text-align: right;\n",
       "    }\n",
       "</style>\n",
       "<table border=\"1\" class=\"dataframe\">\n",
       "  <thead>\n",
       "    <tr style=\"text-align: right;\">\n",
       "      <th></th>\n",
       "      <th></th>\n",
       "      <th>ret</th>\n",
       "      <th>logret</th>\n",
       "    </tr>\n",
       "    <tr>\n",
       "      <th>ticker</th>\n",
       "      <th>Date</th>\n",
       "      <th></th>\n",
       "      <th></th>\n",
       "    </tr>\n",
       "  </thead>\n",
       "  <tbody>\n",
       "    <tr>\n",
       "      <th rowspan=\"5\" valign=\"top\">C</th>\n",
       "      <th>2000-07</th>\n",
       "      <td>NaN</td>\n",
       "      <td>NaN</td>\n",
       "    </tr>\n",
       "    <tr>\n",
       "      <th>2000-08</th>\n",
       "      <td>0.106471</td>\n",
       "      <td>0.101175</td>\n",
       "    </tr>\n",
       "    <tr>\n",
       "      <th>2000-09</th>\n",
       "      <td>-0.074157</td>\n",
       "      <td>-0.077050</td>\n",
       "    </tr>\n",
       "    <tr>\n",
       "      <th>2000-10</th>\n",
       "      <td>-0.026452</td>\n",
       "      <td>-0.026808</td>\n",
       "    </tr>\n",
       "    <tr>\n",
       "      <th>2000-11</th>\n",
       "      <td>-0.051085</td>\n",
       "      <td>-0.052436</td>\n",
       "    </tr>\n",
       "  </tbody>\n",
       "</table>\n",
       "</div>"
      ],
      "text/plain": [
       "                     ret    logret\n",
       "ticker Date                       \n",
       "C      2000-07       NaN       NaN\n",
       "       2000-08  0.106471  0.101175\n",
       "       2000-09 -0.074157 -0.077050\n",
       "       2000-10 -0.026452 -0.026808\n",
       "       2000-11 -0.051085 -0.052436"
      ]
     },
     "execution_count": 92,
     "metadata": {},
     "output_type": "execute_result"
    }
   ],
   "source": [
    "returns.index = returns.index.set_levels(\n",
    "    returns.index.unique(level=1).to_period('M'), level=1)\n",
    "returns.index.names = [returns.index.names[0], 'Date']\n",
    "returns.head()"
   ]
  },
  {
   "attachments": {},
   "cell_type": "markdown",
   "id": "658ba2a9-95b7-48c4-b625-9229dbaaa51f",
   "metadata": {},
   "source": [
    "Now that both indices are in the same format, we are now ready to merge/join.\n"
   ]
  },
  {
   "cell_type": "code",
   "execution_count": 93,
   "id": "7cd89fd8-343f-4f86-bde7-f9560ff93b33",
   "metadata": {},
   "outputs": [
    {
     "data": {
      "text/html": [
       "<div>\n",
       "<style scoped>\n",
       "    .dataframe tbody tr th:only-of-type {\n",
       "        vertical-align: middle;\n",
       "    }\n",
       "\n",
       "    .dataframe tbody tr th {\n",
       "        vertical-align: top;\n",
       "    }\n",
       "\n",
       "    .dataframe thead th {\n",
       "        text-align: right;\n",
       "    }\n",
       "</style>\n",
       "<table border=\"1\" class=\"dataframe\">\n",
       "  <thead>\n",
       "    <tr style=\"text-align: right;\">\n",
       "      <th></th>\n",
       "      <th></th>\n",
       "      <th>RF</th>\n",
       "      <th>ret</th>\n",
       "      <th>logret</th>\n",
       "    </tr>\n",
       "    <tr>\n",
       "      <th>ticker</th>\n",
       "      <th>Date</th>\n",
       "      <th></th>\n",
       "      <th></th>\n",
       "      <th></th>\n",
       "    </tr>\n",
       "  </thead>\n",
       "  <tbody>\n",
       "    <tr>\n",
       "      <th rowspan=\"5\" valign=\"top\">C</th>\n",
       "      <th>2000-07</th>\n",
       "      <td>0.004789</td>\n",
       "      <td>NaN</td>\n",
       "      <td>NaN</td>\n",
       "    </tr>\n",
       "    <tr>\n",
       "      <th>2000-08</th>\n",
       "      <td>0.004988</td>\n",
       "      <td>0.106471</td>\n",
       "      <td>0.101175</td>\n",
       "    </tr>\n",
       "    <tr>\n",
       "      <th>2000-09</th>\n",
       "      <td>0.005087</td>\n",
       "      <td>-0.074157</td>\n",
       "      <td>-0.077050</td>\n",
       "    </tr>\n",
       "    <tr>\n",
       "      <th>2000-10</th>\n",
       "      <td>0.005584</td>\n",
       "      <td>-0.026452</td>\n",
       "      <td>-0.026808</td>\n",
       "    </tr>\n",
       "    <tr>\n",
       "      <th>2000-11</th>\n",
       "      <td>0.005087</td>\n",
       "      <td>-0.051085</td>\n",
       "      <td>-0.052436</td>\n",
       "    </tr>\n",
       "    <tr>\n",
       "      <th>...</th>\n",
       "      <th>...</th>\n",
       "      <td>...</td>\n",
       "      <td>...</td>\n",
       "      <td>...</td>\n",
       "    </tr>\n",
       "    <tr>\n",
       "      <th rowspan=\"5\" valign=\"top\">LS</th>\n",
       "      <th>2021-06</th>\n",
       "      <td>0.000000</td>\n",
       "      <td>0.016076</td>\n",
       "      <td>0.015948</td>\n",
       "    </tr>\n",
       "    <tr>\n",
       "      <th>2021-07</th>\n",
       "      <td>0.000000</td>\n",
       "      <td>0.049308</td>\n",
       "      <td>0.048131</td>\n",
       "    </tr>\n",
       "    <tr>\n",
       "      <th>2021-08</th>\n",
       "      <td>0.000000</td>\n",
       "      <td>0.027076</td>\n",
       "      <td>0.026716</td>\n",
       "    </tr>\n",
       "    <tr>\n",
       "      <th>2021-09</th>\n",
       "      <td>0.000000</td>\n",
       "      <td>-0.033028</td>\n",
       "      <td>-0.033586</td>\n",
       "    </tr>\n",
       "    <tr>\n",
       "      <th>2021-10</th>\n",
       "      <td>0.000000</td>\n",
       "      <td>-0.035054</td>\n",
       "      <td>-0.035684</td>\n",
       "    </tr>\n",
       "  </tbody>\n",
       "</table>\n",
       "<p>3584 rows × 3 columns</p>\n",
       "</div>"
      ],
      "text/plain": [
       "                      RF       ret    logret\n",
       "ticker Date                                 \n",
       "C      2000-07  0.004789       NaN       NaN\n",
       "       2000-08  0.004988  0.106471  0.101175\n",
       "       2000-09  0.005087 -0.074157 -0.077050\n",
       "       2000-10  0.005584 -0.026452 -0.026808\n",
       "       2000-11  0.005087 -0.051085 -0.052436\n",
       "...                  ...       ...       ...\n",
       "LS     2021-06  0.000000  0.016076  0.015948\n",
       "       2021-07  0.000000  0.049308  0.048131\n",
       "       2021-08  0.000000  0.027076  0.026716\n",
       "       2021-09  0.000000 -0.033028 -0.033586\n",
       "       2021-10  0.000000 -0.035054 -0.035684\n",
       "\n",
       "[3584 rows x 3 columns]"
      ]
     },
     "metadata": {},
     "output_type": "display_data"
    }
   ],
   "source": [
    "returns = pd.merge(kfdf[['RF']],\n",
    "                   returns,\n",
    "                   how='inner',\n",
    "                   left_index=True,\n",
    "                   right_index=True)\n",
    "display(returns)"
   ]
  },
  {
   "attachments": {},
   "cell_type": "markdown",
   "id": "918373f5-db73-444c-b344-489f0451d4c9",
   "metadata": {},
   "source": [
    "With everything in one table, it is easy to compute excess log returns:\n"
   ]
  },
  {
   "cell_type": "code",
   "execution_count": 94,
   "id": "41e33efd-1f4d-400b-ad75-74724cb43af9",
   "metadata": {},
   "outputs": [
    {
     "data": {
      "text/html": [
       "<div>\n",
       "<style scoped>\n",
       "    .dataframe tbody tr th:only-of-type {\n",
       "        vertical-align: middle;\n",
       "    }\n",
       "\n",
       "    .dataframe tbody tr th {\n",
       "        vertical-align: top;\n",
       "    }\n",
       "\n",
       "    .dataframe thead th {\n",
       "        text-align: right;\n",
       "    }\n",
       "</style>\n",
       "<table border=\"1\" class=\"dataframe\">\n",
       "  <thead>\n",
       "    <tr style=\"text-align: right;\">\n",
       "      <th></th>\n",
       "      <th></th>\n",
       "      <th>RF</th>\n",
       "      <th>ret</th>\n",
       "      <th>logret</th>\n",
       "      <th>exret</th>\n",
       "    </tr>\n",
       "    <tr>\n",
       "      <th>ticker</th>\n",
       "      <th>Date</th>\n",
       "      <th></th>\n",
       "      <th></th>\n",
       "      <th></th>\n",
       "      <th></th>\n",
       "    </tr>\n",
       "  </thead>\n",
       "  <tbody>\n",
       "    <tr>\n",
       "      <th rowspan=\"5\" valign=\"top\">C</th>\n",
       "      <th>2000-07</th>\n",
       "      <td>0.004789</td>\n",
       "      <td>NaN</td>\n",
       "      <td>NaN</td>\n",
       "      <td>NaN</td>\n",
       "    </tr>\n",
       "    <tr>\n",
       "      <th>2000-08</th>\n",
       "      <td>0.004988</td>\n",
       "      <td>0.106471</td>\n",
       "      <td>0.101175</td>\n",
       "      <td>0.096188</td>\n",
       "    </tr>\n",
       "    <tr>\n",
       "      <th>2000-09</th>\n",
       "      <td>0.005087</td>\n",
       "      <td>-0.074157</td>\n",
       "      <td>-0.077050</td>\n",
       "      <td>-0.082137</td>\n",
       "    </tr>\n",
       "    <tr>\n",
       "      <th>2000-10</th>\n",
       "      <td>0.005584</td>\n",
       "      <td>-0.026452</td>\n",
       "      <td>-0.026808</td>\n",
       "      <td>-0.032392</td>\n",
       "    </tr>\n",
       "    <tr>\n",
       "      <th>2000-11</th>\n",
       "      <td>0.005087</td>\n",
       "      <td>-0.051085</td>\n",
       "      <td>-0.052436</td>\n",
       "      <td>-0.057523</td>\n",
       "    </tr>\n",
       "  </tbody>\n",
       "</table>\n",
       "</div>"
      ],
      "text/plain": [
       "                      RF       ret    logret     exret\n",
       "ticker Date                                           \n",
       "C      2000-07  0.004789       NaN       NaN       NaN\n",
       "       2000-08  0.004988  0.106471  0.101175  0.096188\n",
       "       2000-09  0.005087 -0.074157 -0.077050 -0.082137\n",
       "       2000-10  0.005584 -0.026452 -0.026808 -0.032392\n",
       "       2000-11  0.005087 -0.051085 -0.052436 -0.057523"
      ]
     },
     "execution_count": 94,
     "metadata": {},
     "output_type": "execute_result"
    }
   ],
   "source": [
    "returns['exret'] = returns['logret'] - returns['RF']\n",
    "returns.loc[pd.IndexSlice['LS', :],\n",
    "            'exret'] = returns.loc[pd.IndexSlice['LS', :], 'logret']\n",
    "returns.head()"
   ]
  },
  {
   "attachments": {},
   "cell_type": "markdown",
   "id": "573f45ad-af38-4ecb-a7dd-56e984060b99",
   "metadata": {},
   "source": [
    "To compute excess returns, we subtracted the risk-free rate from all asset log returns except for the long-short portfolio. Why? Well, let's think about what excess returns mean. They are not just the return on an asset in excess of the risk-free rate. It is also the return on an investment strategy, where one borrows a \\\\$1 at the risk-free rate and invests it in the asset. After a period, one pays back the \\\\$1 with interest and is left with the excess return as profit.\n",
    "\n",
    "But a long-short portfolio is self-financing i.e. one does not need to borrow any money to invest in. The short leg is already the borrowing one needs to finance the long leg. So the return on a financed long-short investment strategy is already the long-short return.\n",
    "\n",
    "We are now (finally!) ready to estimate betas. We will use Ordinary Least Squares (OLS) to do this. There are many ways to run OLS regressions in `python`. In other classes e.g. Linear Econometrics you will learn how to do it using the `statsmodels` package, or maybe the `scikit-learn` package.\n",
    "\n",
    "Here, since we need to run many univariate regressions, we will use the formula for the univariate OLS coefficient directly. Recall, for a linear model of the type $y_i = a + b x_i + u_i$, the OLS estimate of $b$ is given by $\\hat{b} = \\frac{ \\text{Cov}[x,y]  }{ \\text{Var}[x] }$. In our case, $x$ is the market excess return and $y$ is each asset's excess return. So we need to divide the covariance of the asset's return with the market by the variance of the market return.\n",
    "\n",
    "We can estimate the 14 x 14 covariance matrix of all assets' excess returns -- the market's and the 13 test assets. The first row of this covariance matrix will contain the covariances of each test asset with the market. The first element of the first row will be the covariance of the market return with itself i.e. its variance.\n",
    "\n",
    "First, let's convert a table of excess returns from long to wide. In addition to `pivot()`, we can use the `unstack()` method for this, which is more appropriate when the variables defining rows and columns are indices:\n"
   ]
  },
  {
   "cell_type": "code",
   "execution_count": 95,
   "id": "c467e94b-bb0e-4a00-9bb5-e7ced8892674",
   "metadata": {},
   "outputs": [
    {
     "data": {
      "text/html": [
       "<div>\n",
       "<style scoped>\n",
       "    .dataframe tbody tr th:only-of-type {\n",
       "        vertical-align: middle;\n",
       "    }\n",
       "\n",
       "    .dataframe tbody tr th {\n",
       "        vertical-align: top;\n",
       "    }\n",
       "\n",
       "    .dataframe thead th {\n",
       "        text-align: right;\n",
       "    }\n",
       "</style>\n",
       "<table border=\"1\" class=\"dataframe\">\n",
       "  <thead>\n",
       "    <tr style=\"text-align: right;\">\n",
       "      <th>ticker</th>\n",
       "      <th>C</th>\n",
       "      <th>CSCO</th>\n",
       "      <th>EW</th>\n",
       "      <th>GE</th>\n",
       "      <th>HD</th>\n",
       "      <th>IBM</th>\n",
       "      <th>INTC</th>\n",
       "      <th>LS</th>\n",
       "      <th>MRK</th>\n",
       "      <th>MSFT</th>\n",
       "      <th>ORCL</th>\n",
       "      <th>T</th>\n",
       "      <th>WMT</th>\n",
       "      <th>XOM</th>\n",
       "    </tr>\n",
       "    <tr>\n",
       "      <th>Date</th>\n",
       "      <th></th>\n",
       "      <th></th>\n",
       "      <th></th>\n",
       "      <th></th>\n",
       "      <th></th>\n",
       "      <th></th>\n",
       "      <th></th>\n",
       "      <th></th>\n",
       "      <th></th>\n",
       "      <th></th>\n",
       "      <th></th>\n",
       "      <th></th>\n",
       "      <th></th>\n",
       "      <th></th>\n",
       "    </tr>\n",
       "  </thead>\n",
       "  <tbody>\n",
       "    <tr>\n",
       "      <th>2000-07</th>\n",
       "      <td>NaN</td>\n",
       "      <td>NaN</td>\n",
       "      <td>NaN</td>\n",
       "      <td>NaN</td>\n",
       "      <td>NaN</td>\n",
       "      <td>NaN</td>\n",
       "      <td>NaN</td>\n",
       "      <td>NaN</td>\n",
       "      <td>NaN</td>\n",
       "      <td>NaN</td>\n",
       "      <td>NaN</td>\n",
       "      <td>NaN</td>\n",
       "      <td>NaN</td>\n",
       "      <td>NaN</td>\n",
       "    </tr>\n",
       "    <tr>\n",
       "      <th>2000-08</th>\n",
       "      <td>0.096188</td>\n",
       "      <td>0.042608</td>\n",
       "      <td>0.041820</td>\n",
       "      <td>0.120995</td>\n",
       "      <td>-0.078157</td>\n",
       "      <td>0.158330</td>\n",
       "      <td>0.110252</td>\n",
       "      <td>0.103536</td>\n",
       "      <td>-0.025230</td>\n",
       "      <td>-0.004988</td>\n",
       "      <td>0.185193</td>\n",
       "      <td>-0.023722</td>\n",
       "      <td>-0.153394</td>\n",
       "      <td>0.018352</td>\n",
       "    </tr>\n",
       "    <tr>\n",
       "      <th>2000-09</th>\n",
       "      <td>-0.082137</td>\n",
       "      <td>-0.221948</td>\n",
       "      <td>-0.063325</td>\n",
       "      <td>-0.016811</td>\n",
       "      <td>0.091623</td>\n",
       "      <td>-0.164021</td>\n",
       "      <td>-0.593836</td>\n",
       "      <td>-0.308454</td>\n",
       "      <td>0.057986</td>\n",
       "      <td>-0.151367</td>\n",
       "      <td>-0.149010</td>\n",
       "      <td>0.172353</td>\n",
       "      <td>0.006471</td>\n",
       "      <td>0.082462</td>\n",
       "    </tr>\n",
       "    <tr>\n",
       "      <th>2000-10</th>\n",
       "      <td>-0.032392</td>\n",
       "      <td>-0.030693</td>\n",
       "      <td>-0.008876</td>\n",
       "      <td>-0.058873</td>\n",
       "      <td>-0.213545</td>\n",
       "      <td>-0.139548</td>\n",
       "      <td>0.073942</td>\n",
       "      <td>-0.024622</td>\n",
       "      <td>0.183563</td>\n",
       "      <td>0.127139</td>\n",
       "      <td>-0.182206</td>\n",
       "      <td>0.144608</td>\n",
       "      <td>-0.064419</td>\n",
       "      <td>-0.004687</td>\n",
       "    </tr>\n",
       "    <tr>\n",
       "      <th>2000-11</th>\n",
       "      <td>-0.057523</td>\n",
       "      <td>-0.123150</td>\n",
       "      <td>-0.073066</td>\n",
       "      <td>-0.105776</td>\n",
       "      <td>-0.096854</td>\n",
       "      <td>-0.055883</td>\n",
       "      <td>-0.172150</td>\n",
       "      <td>-0.127813</td>\n",
       "      <td>0.025032</td>\n",
       "      <td>-0.187613</td>\n",
       "      <td>-0.224449</td>\n",
       "      <td>-0.053930</td>\n",
       "      <td>0.134732</td>\n",
       "      <td>-0.013633</td>\n",
       "    </tr>\n",
       "  </tbody>\n",
       "</table>\n",
       "</div>"
      ],
      "text/plain": [
       "ticker          C      CSCO        EW        GE        HD       IBM      INTC  \\\n",
       "Date                                                                            \n",
       "2000-07       NaN       NaN       NaN       NaN       NaN       NaN       NaN   \n",
       "2000-08  0.096188  0.042608  0.041820  0.120995 -0.078157  0.158330  0.110252   \n",
       "2000-09 -0.082137 -0.221948 -0.063325 -0.016811  0.091623 -0.164021 -0.593836   \n",
       "2000-10 -0.032392 -0.030693 -0.008876 -0.058873 -0.213545 -0.139548  0.073942   \n",
       "2000-11 -0.057523 -0.123150 -0.073066 -0.105776 -0.096854 -0.055883 -0.172150   \n",
       "\n",
       "ticker         LS       MRK      MSFT      ORCL         T       WMT       XOM  \n",
       "Date                                                                           \n",
       "2000-07       NaN       NaN       NaN       NaN       NaN       NaN       NaN  \n",
       "2000-08  0.103536 -0.025230 -0.004988  0.185193 -0.023722 -0.153394  0.018352  \n",
       "2000-09 -0.308454  0.057986 -0.151367 -0.149010  0.172353  0.006471  0.082462  \n",
       "2000-10 -0.024622  0.183563  0.127139 -0.182206  0.144608 -0.064419 -0.004687  \n",
       "2000-11 -0.127813  0.025032 -0.187613 -0.224449 -0.053930  0.134732 -0.013633  "
      ]
     },
     "execution_count": 95,
     "metadata": {},
     "output_type": "execute_result"
    }
   ],
   "source": [
    "exrets = returns['exret'].unstack('ticker')\n",
    "exrets.head()"
   ]
  },
  {
   "attachments": {},
   "cell_type": "markdown",
   "id": "e0078aa9-2d2b-4614-b871-b0fb81587e6e",
   "metadata": {},
   "source": [
    "Next, let's merge with market excess returns. In addition to `merge()`, we can use the `join()` method:\n"
   ]
  },
  {
   "cell_type": "code",
   "execution_count": 96,
   "id": "3ed6aa61-c656-4500-95bb-8ace365f883b",
   "metadata": {},
   "outputs": [],
   "source": [
    "exrets = exrets.join(kfdf[['Mkt-RF']])"
   ]
  },
  {
   "attachments": {},
   "cell_type": "markdown",
   "id": "48957fba-67b5-43dc-a53d-5f639b556a2c",
   "metadata": {},
   "source": [
    "Next, we compute the covariance matrix starting of returns starting with the second row (b/c the first is missing). To get the betas, we divide the covariance with the last column (market excess return) by the variance of the last column:\n"
   ]
  },
  {
   "cell_type": "code",
   "execution_count": 97,
   "id": "d7cefa26-b929-47da-a780-93044edb0164",
   "metadata": {},
   "outputs": [
    {
     "data": {
      "text/plain": [
       "array([1.93601018, 1.39764314, 0.97846404, 1.15232254, 0.97060202,\n",
       "       1.00440565, 1.24391618, 0.28413084, 0.49350915, 0.99564851,\n",
       "       1.13601547, 0.57703429, 0.33533615, 0.71495944, 1.        ])"
      ]
     },
     "execution_count": 97,
     "metadata": {},
     "output_type": "execute_result"
    }
   ],
   "source": [
    "covariance_matrix = np.cov(exrets.iloc[1:, :].transpose())\n",
    "betas = covariance_matrix[-1, :] / covariance_matrix[-1, -1]\n",
    "betas"
   ]
  },
  {
   "attachments": {},
   "cell_type": "markdown",
   "id": "e1b6486c-b922-4e0e-8f34-fe85aa577711",
   "metadata": {},
   "source": [
    "We take the `numpy` array of betas that we've calculated, convert it into a `pandas` Series, and combine it with summary statistics for each asset, now recomputed for excess returns:\n"
   ]
  },
  {
   "cell_type": "code",
   "execution_count": 98,
   "id": "2acbb84b-384f-4cb0-be15-d7ec1400d54e",
   "metadata": {},
   "outputs": [
    {
     "data": {
      "text/html": [
       "<div>\n",
       "<style scoped>\n",
       "    .dataframe tbody tr th:only-of-type {\n",
       "        vertical-align: middle;\n",
       "    }\n",
       "\n",
       "    .dataframe tbody tr th {\n",
       "        vertical-align: top;\n",
       "    }\n",
       "\n",
       "    .dataframe thead th {\n",
       "        text-align: right;\n",
       "    }\n",
       "</style>\n",
       "<table border=\"1\" class=\"dataframe\">\n",
       "  <thead>\n",
       "    <tr style=\"text-align: right;\">\n",
       "      <th></th>\n",
       "      <th>mean</th>\n",
       "      <th>std</th>\n",
       "      <th>beta</th>\n",
       "    </tr>\n",
       "  </thead>\n",
       "  <tbody>\n",
       "    <tr>\n",
       "      <th>C</th>\n",
       "      <td>-8.647644</td>\n",
       "      <td>44.290344</td>\n",
       "      <td>1.936010</td>\n",
       "    </tr>\n",
       "    <tr>\n",
       "      <th>CSCO</th>\n",
       "      <td>-0.667208</td>\n",
       "      <td>33.868813</td>\n",
       "      <td>1.397643</td>\n",
       "    </tr>\n",
       "    <tr>\n",
       "      <th>EW</th>\n",
       "      <td>4.712625</td>\n",
       "      <td>17.119052</td>\n",
       "      <td>0.978464</td>\n",
       "    </tr>\n",
       "    <tr>\n",
       "      <th>GE</th>\n",
       "      <td>-4.915073</td>\n",
       "      <td>30.000243</td>\n",
       "      <td>1.152323</td>\n",
       "    </tr>\n",
       "    <tr>\n",
       "      <th>HD</th>\n",
       "      <td>9.922166</td>\n",
       "      <td>24.662808</td>\n",
       "      <td>0.970602</td>\n",
       "    </tr>\n",
       "    <tr>\n",
       "      <th>IBM</th>\n",
       "      <td>1.398956</td>\n",
       "      <td>24.856132</td>\n",
       "      <td>1.004406</td>\n",
       "    </tr>\n",
       "    <tr>\n",
       "      <th>INTC</th>\n",
       "      <td>-0.577820</td>\n",
       "      <td>34.736343</td>\n",
       "      <td>1.243916</td>\n",
       "    </tr>\n",
       "    <tr>\n",
       "      <th>LS</th>\n",
       "      <td>0.631345</td>\n",
       "      <td>18.757964</td>\n",
       "      <td>0.284131</td>\n",
       "    </tr>\n",
       "    <tr>\n",
       "      <th>MRK</th>\n",
       "      <td>3.543120</td>\n",
       "      <td>23.266571</td>\n",
       "      <td>0.493509</td>\n",
       "    </tr>\n",
       "    <tr>\n",
       "      <th>MSFT</th>\n",
       "      <td>11.346464</td>\n",
       "      <td>25.957213</td>\n",
       "      <td>0.995649</td>\n",
       "    </tr>\n",
       "    <tr>\n",
       "      <th>ORCL</th>\n",
       "      <td>3.797556</td>\n",
       "      <td>30.807391</td>\n",
       "      <td>1.136015</td>\n",
       "    </tr>\n",
       "    <tr>\n",
       "      <th>T</th>\n",
       "      <td>1.788775</td>\n",
       "      <td>21.899456</td>\n",
       "      <td>0.577034</td>\n",
       "    </tr>\n",
       "    <tr>\n",
       "      <th>WMT</th>\n",
       "      <td>5.127122</td>\n",
       "      <td>18.145532</td>\n",
       "      <td>0.335336</td>\n",
       "    </tr>\n",
       "    <tr>\n",
       "      <th>XOM</th>\n",
       "      <td>3.920930</td>\n",
       "      <td>20.724344</td>\n",
       "      <td>0.714959</td>\n",
       "    </tr>\n",
       "    <tr>\n",
       "      <th>Mkt-RF</th>\n",
       "      <td>6.321773</td>\n",
       "      <td>15.795343</td>\n",
       "      <td>1.000000</td>\n",
       "    </tr>\n",
       "  </tbody>\n",
       "</table>\n",
       "</div>"
      ],
      "text/plain": [
       "             mean        std      beta\n",
       "C       -8.647644  44.290344  1.936010\n",
       "CSCO    -0.667208  33.868813  1.397643\n",
       "EW       4.712625  17.119052  0.978464\n",
       "GE      -4.915073  30.000243  1.152323\n",
       "HD       9.922166  24.662808  0.970602\n",
       "IBM      1.398956  24.856132  1.004406\n",
       "INTC    -0.577820  34.736343  1.243916\n",
       "LS       0.631345  18.757964  0.284131\n",
       "MRK      3.543120  23.266571  0.493509\n",
       "MSFT    11.346464  25.957213  0.995649\n",
       "ORCL     3.797556  30.807391  1.136015\n",
       "T        1.788775  21.899456  0.577034\n",
       "WMT      5.127122  18.145532  0.335336\n",
       "XOM      3.920930  20.724344  0.714959\n",
       "Mkt-RF   6.321773  15.795343  1.000000"
      ]
     },
     "execution_count": 98,
     "metadata": {},
     "output_type": "execute_result"
    }
   ],
   "source": [
    "betas = pd.Series(data=betas, index=exrets.columns)\n",
    "combostats = exrets.agg(['mean', 'std']).transpose()\n",
    "combostats['mean'] = PERCENT * MONTHS_PER_YEAR * combostats['mean']\n",
    "combostats['std'] = PERCENT * np.sqrt(MONTHS_PER_YEAR) * combostats['std']\n",
    "combostats['beta'] = betas\n",
    "combostats"
   ]
  },
  {
   "attachments": {},
   "cell_type": "markdown",
   "id": "db703f33-d281-4022-82f8-dab640f993be",
   "metadata": {},
   "source": [
    "Our single-stock estimated betas range from 0.34 for WMT (Walmart) to 1.98 for C (Citigroup, a financial services company). This means that, on average, when the stock market goes up by 1%, Merck's stock goes up by 0.34% while Citi's goes up by 1.98%. EW, the equal-weighted portfolio, has a beta close to 1, which makes sense. The more stock you add to a portfolio, the more it resembles the market. The long-short portfolio LS has the lowest beta of all assets at 0.28. This is the main advantage of long-short strategies. By going long some stocks and short others, they aim to immunize market exposure i.e. to bet on particular stocks while reducing the effect market fluctuations have on portfolio returns.\n",
    "\n",
    "Higher beta stocks are riskier. According to the CAPM, they should command a higher average excess return. In fact, the CAPM makes an even stronger prediction:\n",
    "\n",
    "$ E*t[r*{i,t+1}] - r*{f,t} = \\beta_i E_t[r*{m,t+1} - r\\_{f,t}] $\n",
    "\n",
    "It says that expected excess returns are _linear_ in betas, and the slope of the line (called the Security Market Line) is the expected excess market returns.\n",
    "\n",
    "Let's see if this is the case:\n"
   ]
  },
  {
   "cell_type": "code",
   "execution_count": 99,
   "id": "1f35319b-d0cc-4f74-844d-0274e5d7793d",
   "metadata": {},
   "outputs": [
    {
     "data": {
      "image/png": "[encoded data removed]",
      "text/plain": [
       "<Figure size 432x288 with 1 Axes>"
      ]
     },
     "metadata": {
      "needs_background": "light"
     },
     "output_type": "display_data"
    }
   ],
   "source": [
    "mkt_return = np.mean(exrets['Mkt-RF']) * PERCENT * MONTHS_PER_YEAR\n",
    "plt.scatter(combostats['beta'], combostats['mean'], label='Data')\n",
    "plt.scatter(combostats['beta'], combostats['beta'] * mkt_return, label='CAPM')\n",
    "plt.xlabel('Beta')\n",
    "plt.ylabel('Excess Return (Annualized Percent)')\n",
    "plt.legend()\n",
    "[\n",
    "    plt.annotate(txt, (x, y))\n",
    "    for (x, y,\n",
    "         txt) in zip(combostats['beta'], combostats['mean'], combostats.index)\n",
    "]\n",
    "plt.show()"
   ]
  },
  {
   "attachments": {},
   "cell_type": "markdown",
   "id": "0f50dcac-de2d-4a02-9d7e-264387eaaa0b",
   "metadata": {},
   "source": [
    "To put it mildly, the CAPM predictions do not hold. If they did, the blue dots would be where the orange dots are. The relationship between betas and excess returns doesn't even appear to be positive, much less linear.\n",
    "\n",
    "All the work that we did in importing, cleaning, re-arranging, merging and analyzing data proved to be very useful. It showed us that our theory explaining stock returns doesn't do a very good job.\n",
    "\n",
    "That said, the LS and EW portfolios are pretty close to their CAPM predicted values. Perhaps the CAPM works better for portfolios than individual assets?\n",
    "\n",
    "## Aside: Investigating the Failure of the CAPM\n",
    "\n",
    "So why not? There are many reasons, some simpler than others. \"Pricing\" the cross-section of stock returns i.e. explaining why some stocks have higher returns on average than others is an active ongoing field of financial research. We don't have all the answers yet.\n",
    "\n",
    "Let's put aside some theoretical reasons for CAPM's failure and focus on the more data-oriented, or empirical, ones. CAPM is written in terms of conditional one-month ahead expectations of stock returns. We don't observe these expectations in the data. Instead, we observe many _realizations_ of stock returns, which consist of an expected part and a surprise. If (1) we have many months of observations, (2) the surprises are that big relative to expectations, and (3) each month's realized return comes from the same distribution, then the surprises mostly cancel out, and the sample average of realized returns is a good estimator of the expected return. In statistics, this is known as the **Law of Large Numbers** (LLN).\n",
    "\n",
    "Earlier, we said that over short horizons e.g. one year, (3) is a pretty good assumption. The distribution of stock returns, even if it varies, don't vary very fast. But over short horizons, (1) doesn't hold -- there aren't enough observations for LLN to kick in. Over longer horizons, though, expected stock returns may differ. We face a trade-off between (1) and (3). So our best bet is to deal with (2) i.e. to try to find assets for which the surprises are relatively small, such that LLN kicks in faster, and we can use relatively short samples.\n",
    "\n",
    "What are such such assets? Portfolios! Earlier, we saw the benefits of diversification when we constructed the EW portfolio. Diversification reduces volatility because some stock's surprises get canceled out by others'. Now, of course, if we form very large portfolios that include most stocks, we may get very few surprises but we will also get a beta of 1 for every portfolio. We won't actually be able to see if higher betas are associated with higher returns if all betas are 1. So again, we face a trade-off. We want to include enough stocks in a portfolio that the _idiosyncratic_ (i.e. asset-specific) volatility is low, but not so many as to get rid of the variety in betas.\n",
    "\n",
    "There is a rich literature on coming up with good _test_ portfolios i.e. portfolios we can use to test the CAPM. Let's try just one approach -- let's group stocks by industry. So rather than looking at Microsoft, Citigroup, and Merck, we'll look at portfolios of tech, financial, and pharma firms.\n",
    "\n",
    "Luckily for us, Ken French already sorted stocks into portfolios, so we can download these portfolio returns directly.\n"
   ]
  },
  {
   "cell_type": "code",
   "execution_count": 100,
   "id": "9d76dccb-68cb-4e02-a9e4-68ecabe53617",
   "metadata": {},
   "outputs": [
    {
     "data": {
      "text/html": [
       "<div>\n",
       "<style scoped>\n",
       "    .dataframe tbody tr th:only-of-type {\n",
       "        vertical-align: middle;\n",
       "    }\n",
       "\n",
       "    .dataframe tbody tr th {\n",
       "        vertical-align: top;\n",
       "    }\n",
       "\n",
       "    .dataframe thead th {\n",
       "        text-align: right;\n",
       "    }\n",
       "</style>\n",
       "<table border=\"1\" class=\"dataframe\">\n",
       "  <thead>\n",
       "    <tr style=\"text-align: right;\">\n",
       "      <th></th>\n",
       "      <th>Agric</th>\n",
       "      <th>Food</th>\n",
       "      <th>Soda</th>\n",
       "      <th>Beer</th>\n",
       "      <th>Smoke</th>\n",
       "      <th>Toys</th>\n",
       "      <th>Fun</th>\n",
       "      <th>Books</th>\n",
       "      <th>Hshld</th>\n",
       "      <th>Clths</th>\n",
       "      <th>...</th>\n",
       "      <th>Boxes</th>\n",
       "      <th>Trans</th>\n",
       "      <th>Whlsl</th>\n",
       "      <th>Rtail</th>\n",
       "      <th>Meals</th>\n",
       "      <th>Banks</th>\n",
       "      <th>Insur</th>\n",
       "      <th>RlEst</th>\n",
       "      <th>Fin</th>\n",
       "      <th>Other</th>\n",
       "    </tr>\n",
       "    <tr>\n",
       "      <th>Date</th>\n",
       "      <th></th>\n",
       "      <th></th>\n",
       "      <th></th>\n",
       "      <th></th>\n",
       "      <th></th>\n",
       "      <th></th>\n",
       "      <th></th>\n",
       "      <th></th>\n",
       "      <th></th>\n",
       "      <th></th>\n",
       "      <th></th>\n",
       "      <th></th>\n",
       "      <th></th>\n",
       "      <th></th>\n",
       "      <th></th>\n",
       "      <th></th>\n",
       "      <th></th>\n",
       "      <th></th>\n",
       "      <th></th>\n",
       "      <th></th>\n",
       "      <th></th>\n",
       "    </tr>\n",
       "  </thead>\n",
       "  <tbody>\n",
       "    <tr>\n",
       "      <th>2000-12</th>\n",
       "      <td>12.14</td>\n",
       "      <td>6.12</td>\n",
       "      <td>-4.81</td>\n",
       "      <td>-2.57</td>\n",
       "      <td>17.02</td>\n",
       "      <td>2.35</td>\n",
       "      <td>4.64</td>\n",
       "      <td>10.12</td>\n",
       "      <td>3.15</td>\n",
       "      <td>15.85</td>\n",
       "      <td>...</td>\n",
       "      <td>18.56</td>\n",
       "      <td>2.23</td>\n",
       "      <td>12.93</td>\n",
       "      <td>4.31</td>\n",
       "      <td>2.39</td>\n",
       "      <td>9.97</td>\n",
       "      <td>6.71</td>\n",
       "      <td>3.69</td>\n",
       "      <td>17.07</td>\n",
       "      <td>-1.25</td>\n",
       "    </tr>\n",
       "    <tr>\n",
       "      <th>2001-01</th>\n",
       "      <td>6.15</td>\n",
       "      <td>-4.90</td>\n",
       "      <td>2.24</td>\n",
       "      <td>-4.75</td>\n",
       "      <td>0.10</td>\n",
       "      <td>9.94</td>\n",
       "      <td>16.98</td>\n",
       "      <td>2.82</td>\n",
       "      <td>-3.97</td>\n",
       "      <td>3.64</td>\n",
       "      <td>...</td>\n",
       "      <td>7.09</td>\n",
       "      <td>5.66</td>\n",
       "      <td>-1.88</td>\n",
       "      <td>9.95</td>\n",
       "      <td>-3.76</td>\n",
       "      <td>1.95</td>\n",
       "      <td>-10.42</td>\n",
       "      <td>4.51</td>\n",
       "      <td>8.83</td>\n",
       "      <td>-3.85</td>\n",
       "    </tr>\n",
       "    <tr>\n",
       "      <th>2001-02</th>\n",
       "      <td>-5.75</td>\n",
       "      <td>1.09</td>\n",
       "      <td>7.22</td>\n",
       "      <td>-6.25</td>\n",
       "      <td>9.48</td>\n",
       "      <td>5.03</td>\n",
       "      <td>-4.86</td>\n",
       "      <td>-0.23</td>\n",
       "      <td>-1.08</td>\n",
       "      <td>-11.70</td>\n",
       "      <td>...</td>\n",
       "      <td>-5.51</td>\n",
       "      <td>-6.67</td>\n",
       "      <td>-4.68</td>\n",
       "      <td>-6.21</td>\n",
       "      <td>-0.04</td>\n",
       "      <td>-4.56</td>\n",
       "      <td>-0.71</td>\n",
       "      <td>1.81</td>\n",
       "      <td>-15.30</td>\n",
       "      <td>1.25</td>\n",
       "    </tr>\n",
       "    <tr>\n",
       "      <th>2001-03</th>\n",
       "      <td>2.67</td>\n",
       "      <td>-2.76</td>\n",
       "      <td>-13.25</td>\n",
       "      <td>-9.39</td>\n",
       "      <td>-0.11</td>\n",
       "      <td>-0.82</td>\n",
       "      <td>-9.43</td>\n",
       "      <td>-6.57</td>\n",
       "      <td>-8.86</td>\n",
       "      <td>-1.20</td>\n",
       "      <td>...</td>\n",
       "      <td>-3.47</td>\n",
       "      <td>-1.14</td>\n",
       "      <td>-5.60</td>\n",
       "      <td>-2.03</td>\n",
       "      <td>-5.01</td>\n",
       "      <td>-1.74</td>\n",
       "      <td>-1.04</td>\n",
       "      <td>-1.52</td>\n",
       "      <td>-12.94</td>\n",
       "      <td>-8.01</td>\n",
       "    </tr>\n",
       "    <tr>\n",
       "      <th>2001-04</th>\n",
       "      <td>-1.78</td>\n",
       "      <td>-2.01</td>\n",
       "      <td>2.31</td>\n",
       "      <td>-2.20</td>\n",
       "      <td>5.59</td>\n",
       "      <td>-0.13</td>\n",
       "      <td>16.11</td>\n",
       "      <td>5.06</td>\n",
       "      <td>1.77</td>\n",
       "      <td>6.86</td>\n",
       "      <td>...</td>\n",
       "      <td>7.01</td>\n",
       "      <td>3.11</td>\n",
       "      <td>8.17</td>\n",
       "      <td>4.98</td>\n",
       "      <td>6.84</td>\n",
       "      <td>2.76</td>\n",
       "      <td>2.74</td>\n",
       "      <td>3.85</td>\n",
       "      <td>12.84</td>\n",
       "      <td>13.44</td>\n",
       "    </tr>\n",
       "  </tbody>\n",
       "</table>\n",
       "<p>5 rows × 49 columns</p>\n",
       "</div>"
      ],
      "text/plain": [
       "         Agric  Food   Soda   Beer   Smoke  Toys   Fun    Books  Hshld  Clths  \\\n",
       "Date                                                                            \n",
       "2000-12  12.14   6.12  -4.81  -2.57  17.02   2.35   4.64  10.12   3.15  15.85   \n",
       "2001-01   6.15  -4.90   2.24  -4.75   0.10   9.94  16.98   2.82  -3.97   3.64   \n",
       "2001-02  -5.75   1.09   7.22  -6.25   9.48   5.03  -4.86  -0.23  -1.08 -11.70   \n",
       "2001-03   2.67  -2.76 -13.25  -9.39  -0.11  -0.82  -9.43  -6.57  -8.86  -1.20   \n",
       "2001-04  -1.78  -2.01   2.31  -2.20   5.59  -0.13  16.11   5.06   1.77   6.86   \n",
       "\n",
       "         ...  Boxes  Trans  Whlsl  Rtail  Meals  Banks  Insur  RlEst  Fin    \\\n",
       "Date     ...                                                                  \n",
       "2000-12  ...  18.56   2.23  12.93   4.31   2.39   9.97   6.71   3.69  17.07   \n",
       "2001-01  ...   7.09   5.66  -1.88   9.95  -3.76   1.95 -10.42   4.51   8.83   \n",
       "2001-02  ...  -5.51  -6.67  -4.68  -6.21  -0.04  -4.56  -0.71   1.81 -15.30   \n",
       "2001-03  ...  -3.47  -1.14  -5.60  -2.03  -5.01  -1.74  -1.04  -1.52 -12.94   \n",
       "2001-04  ...   7.01   3.11   8.17   4.98   6.84   2.76   2.74   3.85  12.84   \n",
       "\n",
       "         Other  \n",
       "Date            \n",
       "2000-12  -1.25  \n",
       "2001-01  -3.85  \n",
       "2001-02   1.25  \n",
       "2001-03  -8.01  \n",
       "2001-04  13.44  \n",
       "\n",
       "[5 rows x 49 columns]"
      ]
     },
     "execution_count": 100,
     "metadata": {},
     "output_type": "execute_result"
    }
   ],
   "source": [
    "kfindds = pdrweb.DataReader('49_Industry_Portfolios',\n",
    "                            'famafrench',\n",
    "                            start='12/31/2000')\n",
    "kfinddf = kfindds[0]\n",
    "kfinddf.head()"
   ]
  },
  {
   "attachments": {},
   "cell_type": "markdown",
   "id": "1282c40e-d7da-48ee-a2c9-8d2f28a1881d",
   "metadata": {},
   "source": [
    "Convert to log returns, merge with market/risk-free rate data, and compute excess returns:\n"
   ]
  },
  {
   "cell_type": "code",
   "execution_count": 101,
   "id": "803f7851-619b-4e70-be1f-434cc85bbf54",
   "metadata": {},
   "outputs": [],
   "source": [
    "kfinddf = np.log(1 + kfinddf / 100)\n",
    "capmind = kfdf[['Mkt-RF', 'RF']].join(kfinddf, how='inner')\n",
    "capmind[kfinddf.columns] = capmind[kfinddf.columns].subtract(capmind['RF'],\n",
    "                                                             axis=0)\n",
    "capmind.drop('RF', axis=1, inplace=True)\n"
   ]
  },
  {
   "attachments": {},
   "cell_type": "markdown",
   "id": "f5d95118-7558-4c88-a26c-ad155bdee982",
   "metadata": {},
   "source": [
    "Compute betas and plot:\n"
   ]
  },
  {
   "cell_type": "code",
   "execution_count": 102,
   "id": "c572188a-4cf1-4de6-91e5-b5fb0167a571",
   "metadata": {},
   "outputs": [
    {
     "data": {
      "image/png": "[encoded data removed]",
      "text/plain": [
       "<Figure size 432x288 with 1 Axes>"
      ]
     },
     "metadata": {
      "needs_background": "light"
     },
     "output_type": "display_data"
    }
   ],
   "source": [
    "def test_capm(df):\n",
    "    covariance_matrix = np.cov(df.transpose())\n",
    "    betas = covariance_matrix[0, 1:] / covariance_matrix[0, 0]\n",
    "    betas = pd.Series(data=betas, index=df.columns[1:])\n",
    "    combostats = df.agg(['mean']).transpose()\n",
    "    combostats['mean'] = PERCENT * MONTHS_PER_YEAR * combostats['mean']\n",
    "    combostats['beta'] = betas\n",
    "    plt.scatter(combostats['beta'], combostats['mean'], label='Data')\n",
    "    plt.scatter(combostats['beta'],\n",
    "                combostats['beta'] * combostats.loc['Mkt-RF', 'mean'],\n",
    "                label='CAPM')\n",
    "    plt.xlabel('Beta')\n",
    "    plt.ylabel('Excess Return (Annualized Percent)')\n",
    "    plt.legend()\n",
    "    [\n",
    "        plt.annotate(txt, (x, y))\n",
    "        for (x, y, txt\n",
    "             ) in zip(combostats['beta'], combostats['mean'], combostats.index)\n",
    "    ]\n",
    "    plt.show()\n",
    "\n",
    "\n",
    "test_capm(capmind)"
   ]
  },
  {
   "attachments": {},
   "cell_type": "markdown",
   "id": "fd1d32e5-ebb0-47ec-9140-a0100644df95",
   "metadata": {},
   "source": [
    "That doesn't look much better. The relationship between betas and excess returns still looks negative. Maybe the problem is that the sample is too long and unconditional means are poor estimates of conditional means that the CAPM relates to each other. Let's split the sample by decade:\n"
   ]
  },
  {
   "cell_type": "code",
   "execution_count": 103,
   "id": "60d778a2-28dc-4c76-bf2d-2827e5a898a5",
   "metadata": {},
   "outputs": [
    {
     "data": {
      "image/png": "[encoded data removed]",
      "text/plain": [
       "<Figure size 432x288 with 1 Axes>"
      ]
     },
     "metadata": {
      "needs_background": "light"
     },
     "output_type": "display_data"
    },
    {
     "data": {
      "image/png": "[encoded data removed]",
      "text/plain": [
       "<Figure size 432x288 with 1 Axes>"
      ]
     },
     "metadata": {
      "needs_background": "light"
     },
     "output_type": "display_data"
    }
   ],
   "source": [
    "yr = capmind.index.year\n",
    "test_capm(capmind.loc[(yr >= 2000) & (yr <= 2009)])\n",
    "test_capm(capmind.loc[(yr >= 2010) & (yr <= 2019)])\n"
   ]
  },
  {
   "attachments": {},
   "cell_type": "markdown",
   "id": "2dc1ac9e-fc6a-4628-9fca-42c50399f150",
   "metadata": {},
   "source": [
    "The separate plots look a bit better than the combined one, suggesting that maybe we were onto something with time-varying return expectations.\n",
    "\n",
    "Lastly, let's try the opposite approach. Let's use the longest possible sample:\n"
   ]
  },
  {
   "cell_type": "code",
   "execution_count": 104,
   "id": "0cccb0c6-3116-42d5-85f7-794e38676995",
   "metadata": {},
   "outputs": [],
   "source": [
    "kflonginddf = pdrweb.DataReader('49_Industry_Portfolios',\n",
    "                                'famafrench',\n",
    "                                start='7/31/1926')[0]\n",
    "kflongdf = pdrweb.DataReader('F-F_Research_Data_Factors',\n",
    "                             'famafrench',\n",
    "                             start='7/31/1926')[0]\n"
   ]
  },
  {
   "cell_type": "code",
   "execution_count": 105,
   "id": "0758d738-4e9c-4dfe-8f23-cbd590dea094",
   "metadata": {},
   "outputs": [],
   "source": [
    "missing_data_ind = np.any(kflonginddf == -99.99, axis=0)\n",
    "kflonginddf = kflonginddf.loc[:, ~missing_data_ind]\n"
   ]
  },
  {
   "cell_type": "code",
   "execution_count": 106,
   "id": "1d71acbd-931f-4803-b46d-b15eb605182f",
   "metadata": {},
   "outputs": [
    {
     "data": {
      "image/png": "[encoded data removed]",
      "text/plain": [
       "<Figure size 432x288 with 1 Axes>"
      ]
     },
     "metadata": {
      "needs_background": "light"
     },
     "output_type": "display_data"
    }
   ],
   "source": [
    "capmindlong = kflongdf[['Mkt-RF', 'RF']].join(kflonginddf, how='inner')\n",
    "capmindlong = np.log(1 + capmindlong / 100)\n",
    "capmindlong[kflonginddf.columns] = capmindlong[kflonginddf.columns].subtract(\n",
    "    capmindlong['RF'], axis=0)\n",
    "capmindlong.drop('RF', axis=1, inplace=True)\n",
    "\n",
    "test_capm(capmindlong)"
   ]
  },
  {
   "attachments": {},
   "cell_type": "markdown",
   "id": "eee16e8b-921c-4810-ada8-0d9c53ab1514",
   "metadata": {},
   "source": [
    "So maybe the problem isn't just empirical after all. It's not just our choice of test assets that is to blame. No matter how hard we try, the CAPM does not do a good job of explaining the cross-section of stock returns.\n"
   ]
  }
 ],
 "metadata": {
  "kernelspec": {
   "display_name": "Python 3 (ipykernel)",
   "language": "python",
   "name": "python3"
  },
  "language_info": {
   "codemirror_mode": {
    "name": "ipython",
    "version": 3
   },
   "file_extension": ".py",
   "mimetype": "text/x-python",
   "name": "python",
   "nbconvert_exporter": "python",
   "pygments_lexer": "ipython3",
   "version": "3.9.13"
  }
 },
 "nbformat": 4,
 "nbformat_minor": 5
}
