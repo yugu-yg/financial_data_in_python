{
 "cells": [
  {
   "attachments": {},
   "cell_type": "markdown",
   "id": "2575f190-3ecd-4d03-a235-1d19ce1b8f15",
   "metadata": {},
   "source": [
    "# Python Tutorial\n"
   ]
  },
  {
   "attachments": {},
   "cell_type": "markdown",
   "id": "728aff8b-d38c-41e1-ab3e-681b694a1e04",
   "metadata": {},
   "source": [
    "# Python Script: Must print to see!\n"
   ]
  },
  {
   "cell_type": "code",
   "execution_count": 432,
   "id": "53beb836-2a7f-4e9b-a1b0-9098fb860ecf",
   "metadata": {},
   "outputs": [
    {
     "name": "stdout",
     "output_type": "stream",
     "text": [
      "15\n",
      "\n",
      "\n"
     ]
    }
   ],
   "source": [
    "# This is a comment.\n",
    "# in the next line, we try to enter Shakeseare:\n",
    "'To be, or not to be: that is the questions'\n",
    "# let's try some sensible math:\n",
    "print((1 + 2) * 5)\n",
    "16**0.5\n",
    "print('\\n')"
   ]
  },
  {
   "cell_type": "code",
   "execution_count": 5,
   "id": "fe5cc909-6e6d-4726-9608-1049cbb33f9c",
   "metadata": {},
   "outputs": [
    {
     "name": "stdout",
     "output_type": "stream",
     "text": [
      "result1: 2\n",
      "\n",
      "result2: 45\n",
      "\n",
      "result3: \n",
      "[2, 45]\n",
      "\n"
     ]
    }
   ],
   "source": [
    "result1 = 1 + 1\n",
    "print(f'result1: {result1}\\n')\n",
    "result2 = 5 * (4 - 1)**2\n",
    "print(f'result2: {result2}\\n')\n",
    "result3 = [result1, result2]\n",
    "print(f'result3: \\n{result3}\\n')"
   ]
  },
  {
   "cell_type": "code",
   "execution_count": 7,
   "id": "cb2e3808-86dc-45e7-b9eb-0ea60e737da8",
   "metadata": {},
   "outputs": [
    {
     "name": "stdout",
     "output_type": "stream",
     "text": [
      "result1: 4.0\n",
      "\n",
      "Pi: 3.141592653589793\n",
      "\n",
      "Euler number: 2.718281828459045\n",
      "\n"
     ]
    }
   ],
   "source": [
    "import math as someAlias\n",
    "\n",
    "result1 = someAlias.sqrt(16)\n",
    "print(f'result1: {result1}\\n')\n",
    "\n",
    "result2 = someAlias.pi\n",
    "print(f'Pi: {result2}\\n')\n",
    "\n",
    "result3 = someAlias.e\n",
    "print(f'Euler number: {result3}\\n')"
   ]
  },
  {
   "attachments": {},
   "cell_type": "markdown",
   "id": "356c2e6a-b7a4-4110-9152-611f24f21100",
   "metadata": {},
   "source": [
    "# Types\n"
   ]
  },
  {
   "cell_type": "code",
   "execution_count": 10,
   "id": "9d5d0fac-a3fa-455a-a93b-768ab1f16052",
   "metadata": {},
   "outputs": [
    {
     "name": "stdout",
     "output_type": "stream",
     "text": [
      "type_result1: <class 'int'>\n",
      "type_result2: <class 'float'>\n",
      "\n",
      "type_result3: <class 'str'> \n",
      "\n"
     ]
    }
   ],
   "source": [
    "result1 = 1 + 1\n",
    "#determine the type:\n",
    "type_result1 = type(result1)\n",
    "# print the result:\n",
    "print(f'type_result1: {type_result1}')\n",
    "\n",
    "result2 = 2.5\n",
    "type_result2 = type(result2)\n",
    "print(f'type_result2: {type_result2}\\n')\n",
    "\n",
    "result3 = 'To be, or not to be: that is the question'\n",
    "type_result3 = type(result3)\n",
    "print(f'type_result3: {type_result3} \\n')\n"
   ]
  },
  {
   "cell_type": "code",
   "execution_count": 12,
   "id": "67dcf5ba-7945-49f8-a12d-688d4f7d53c2",
   "metadata": {},
   "outputs": [
    {
     "ename": "TypeError",
     "evalue": "unsupported operand type(s) for +: 'int' and 'str'",
     "output_type": "error",
     "traceback": [
      "\u001b[1;31m---------------------------------------------------------------------------\u001b[0m",
      "\u001b[1;31mTypeError\u001b[0m                                 Traceback (most recent call last)",
      "Input \u001b[1;32mIn [12]\u001b[0m, in \u001b[0;36m<cell line: 2>\u001b[1;34m()\u001b[0m\n\u001b[0;32m      1\u001b[0m \u001b[38;5;28mtype\u001b[39m(result1\u001b[38;5;241m+\u001b[39mresult2)\n\u001b[1;32m----> 2\u001b[0m \u001b[38;5;28mtype\u001b[39m(\u001b[43mresult1\u001b[49m\u001b[38;5;241;43m+\u001b[39;49m\u001b[43mresult3\u001b[49m)\n",
      "\u001b[1;31mTypeError\u001b[0m: unsupported operand type(s) for +: 'int' and 'str'"
     ]
    }
   ],
   "source": [
    "type(result1 + result2)\n",
    "type(result1 + result3)\n"
   ]
  },
  {
   "attachments": {},
   "cell_type": "markdown",
   "id": "c038e150-3e08-41da-9a9a-399c022d6e22",
   "metadata": {},
   "source": [
    "# Data Entry\n"
   ]
  },
  {
   "cell_type": "code",
   "execution_count": 21,
   "id": "daae2fc3-bbd3-4cf3-9515-19185e569349",
   "metadata": {},
   "outputs": [
    {
     "name": "stdout",
     "output_type": "stream",
     "text": [
      "type(example_list): <class 'list'> \n",
      "\n",
      "first_entry: 1 \n",
      "\n",
      "range2to4: [5, 41.3, 2.0] \n",
      "\n",
      "range2to4a: [5, 41.3] \n",
      "\n",
      "example_list: [1, 5, 3, 2.0] \n",
      "\n",
      "function_output: 1 \n",
      "\n",
      "function_output1: 11.0 \n",
      "\n",
      "example_list: [1, 2.0, 3, 5] \n",
      "\n",
      "example_list: [1, 2.0, 5] \n",
      "\n"
     ]
    }
   ],
   "source": [
    "# define a list:\n",
    "example_list = [1, 5, 41.3, 2.0]\n",
    "print(f'type(example_list): {type(example_list)} \\n')\n",
    "\n",
    "# access first entry by index:\n",
    "first_entry = example_list[0]\n",
    "print(f'first_entry: {first_entry} \\n')\n",
    "\n",
    "# access second to fourth entry by index:\n",
    "range2to4 = example_list[1:4]\n",
    "print(f'range2to4: {range2to4} \\n')\n",
    "# remember \"the upper boundary -1\"\n",
    "\n",
    "range2to4a = example_list[1:3]\n",
    "print(f'range2to4a: {range2to4a} \\n')\n",
    "\n",
    "# replace third entry by new value:\n",
    "example_list[2] = 3\n",
    "print(f'example_list: {example_list} \\n')\n",
    "\n",
    "# apply a function:\n",
    "function_output = min(example_list)\n",
    "print(f'function_output: {function_output} \\n')\n",
    "\n",
    "function_output1 = sum(example_list)\n",
    "print(f'function_output1: {function_output1} \\n')\n",
    "\n",
    "# function_output2=mean(example_list)\n",
    "# print(f'function_output2: {function_output2} \\n')\n",
    "# mean is not a built-in function in Python. Need a module/library like numpy\n",
    "\n",
    "# apply a method:\n",
    "example_list.sort()\n",
    "print(f'example_list: {example_list} \\n')\n",
    "\n",
    "# delete third element of sorted list:\n",
    "del example_list[2]\n",
    "print(f'example_list: {example_list} \\n')\n"
   ]
  },
  {
   "cell_type": "code",
   "execution_count": 24,
   "id": "470c9060-28f1-43bd-a1a7-12db57c9e755",
   "metadata": {},
   "outputs": [
    {
     "name": "stdout",
     "output_type": "stream",
     "text": [
      "example_dict: \n",
      " {'name': ['gege', 'didi'], 'points': [96, 49], 'passed': [True, False]} \n",
      "\n",
      "example_dict2: \n",
      " {'name': ['gege', 'didi'], 'points': [96, 49], 'passed': [True, False]} \n",
      "\n",
      "type(example_dict): <class 'dict'> \n",
      "\n",
      "points_all: [96, 49] \n",
      "\n",
      "points_didi: 49 \n",
      "\n",
      "points_gege: 96 \n",
      "\n",
      "example_dict: \n",
      " {'name': ['gege', 'didi'], 'points': [96, 53], 'passed': [True, True]} \n",
      " \n",
      "example_dict: {'name': ['gege', 'didi'], 'passed': [True, True], 'grade': [1.3, 4.0]} \n",
      " \n"
     ]
    }
   ],
   "source": [
    "# dictionaries are unordered sets of components\n",
    "\n",
    "# deinfe and print a dict:\n",
    "var1 = ['gege', 'didi']\n",
    "var2 = [96, 49]\n",
    "var3 = [True, False]\n",
    "example_dict = dict(name=var1, points=var2, passed=var3)\n",
    "print(f'example_dict: \\n {example_dict} \\n')\n",
    "\n",
    "# anohter way to define the dict:\n",
    "example_dict2 = {'name': var1, 'points': var2, 'passed': var3}\n",
    "print(f'example_dict2: \\n {example_dict2} \\n')\n",
    "\n",
    "# get data type:\n",
    "print(f'type(example_dict): {type(example_dict)} \\n')\n",
    "\n",
    "# access 'points':\n",
    "points_all = example_dict['points']\n",
    "print(f'points_all: {points_all} \\n')\n",
    "\n",
    "# access 'points' of didi\n",
    "points_didi = example_dict['points'][1]\n",
    "print(f'points_didi: {points_didi} \\n')\n",
    "points_gege = example_dict['points'][0]\n",
    "print(f'points_gege: {points_gege} \\n')\n",
    "\n",
    "# add 4 to \"points\" of didi and let him pass:\n",
    "example_dict['points'][1] = example_dict['points'][1] + 4\n",
    "example_dict['passed'][1] = True\n",
    "print(f'example_dict: \\n {example_dict} \\n ')\n",
    "\n",
    "# add a new variable \"grade':\n",
    "example_dict['grade'] = [1.3, 4.0]\n",
    "\n",
    "# delete variable \"points\":\n",
    "del example_dict['points']\n",
    "\n",
    "print(f'example_dict: {example_dict} \\n ')\n"
   ]
  },
  {
   "attachments": {},
   "cell_type": "markdown",
   "id": "13c05524-d3e6-4c82-a593-410c61e93857",
   "metadata": {},
   "source": [
    "### Install numpy\n",
    "\n",
    "## Install numpy\n",
    "\n",
    "# Install numpy\n",
    "\n",
    "**Install numpy**\n",
    "\n",
    "_Install numpy_\n"
   ]
  },
  {
   "cell_type": "code",
   "execution_count": 77,
   "id": "bab333ae-339d-4b4a-87f3-4c7fffb53429",
   "metadata": {},
   "outputs": [
    {
     "name": "stdout",
     "output_type": "stream",
     "text": [
      "Requirement already satisfied: numpy in c:\\programdata\\anaconda3\\lib\\site-packages (1.21.5)\n"
     ]
    }
   ],
   "source": [
    "\n",
    "!pip install numpy\n"
   ]
  },
  {
   "cell_type": "code",
   "execution_count": 59,
   "id": "2732d6e0-8451-4e5e-9a82-3527bd52fcd5",
   "metadata": {},
   "outputs": [
    {
     "name": "stdout",
     "output_type": "stream",
     "text": [
      "function_output2: 2.75 \n",
      "\n",
      "type(testarray1D): <class 'numpy.ndarray'>\n",
      "\n",
      "dim: (3, 4) \n",
      " \n",
      "third_elem: 41.3 \n",
      "\n",
      "third_elem2: [1 1 7 4] \n",
      "\n",
      "second_third_elem: 3 \n",
      "\n",
      "what:  [[2 6 3 2]\n",
      " [1 1 7 4]] \n",
      "\n",
      "what: \n",
      " [[2 6 3 2]\n",
      " [1 1 7 4]] \n",
      "\n",
      "second_to_third_col: \n",
      " [[9 8]\n",
      " [6 3]\n",
      " [1 7]] \n",
      " \n",
      "first_third_elem: [ 1.  41.3] \n",
      "\n",
      "first_third_elem2: [ 1.  41.3] \n",
      "\n",
      "elem_by_index: [4 3 1 7] \n",
      "\n"
     ]
    }
   ],
   "source": [
    "import numpy as np\n",
    "\n",
    "# remember mean was not in Python default\n",
    "ex_list = [1, 5, 3, 2.0]\n",
    "function_output2 = np.mean(ex_list)\n",
    "print(f'function_output2: {function_output2} \\n')\n",
    "\n",
    "# define arrages n numpy:\n",
    "testarray1D = np.array([1, 5, 41.3, 2.0])\n",
    "print(f'type(testarray1D): {type(testarray1D)}\\n')\n",
    "\n",
    "testarray2D = np.array([[4, 9, 8, 3], [2, 6, 3, 2], [1, 1, 7, 4]])\n",
    "\n",
    "# get dimmetions of testarrray2D\n",
    "dim = testarray2D.shape\n",
    "print(f'dim: {dim} \\n ')\n",
    "\n",
    "# access elements by indices:\n",
    "third_elem = testarray1D[2]\n",
    "print(f'third_elem: {third_elem} \\n')\n",
    "\n",
    "third_elem2 = testarray2D[2]\n",
    "print(f'third_elem2: {third_elem2} \\n')\n",
    "\n",
    "# element in 2nd row and 3rd column\n",
    "second_third_elem = testarray2D[1, 2]\n",
    "print(f'second_third_elem: {second_third_elem} \\n')\n",
    "\n",
    "# compare with this:\n",
    "what = testarray2D[[1, 2]]\n",
    "print(f'what:  {what} \\n')\n",
    "print(f'what: \\n {what} \\n')\n",
    "\n",
    "second_to_third_col = testarray2D[:, 1:3]\n",
    "print(f'second_to_third_col: \\n {second_to_third_col} \\n ')\n",
    "\n",
    "#access elements by lists:\n",
    "first_third_elem = testarray1D[[0, 2]]\n",
    "print(f'first_third_elem: {first_third_elem} \\n')\n",
    "\n",
    "# same with Boolean lists:\n",
    "first_third_elem2 = testarray1D[[True, False, True, False]]\n",
    "print(f'first_third_elem2: {first_third_elem2} \\n')\n",
    "\n",
    "k = np.array([[True, False, False, False], [False, False, True, False],\n",
    "              [True, False, True, False]])\n",
    "\n",
    "elem_by_index = testarray2D[k]\n",
    "print(f'elem_by_index: {elem_by_index} \\n')\n"
   ]
  },
  {
   "cell_type": "code",
   "execution_count": 76,
   "id": "e551328f-98e3-467f-b200-051e017d698d",
   "metadata": {},
   "outputs": [
    {
     "name": "stdout",
     "output_type": "stream",
     "text": [
      "sequence: \n",
      " [0.  0.2 0.4 0.6 0.8 1.  1.2 1.4 1.6 1.8 2. ] \n",
      "\n",
      "sequence_int: [0 1 2 3 4] \n",
      "\n",
      "zero_array: \n",
      " [[0. 0. 0.]\n",
      " [0. 0. 0.]\n",
      " [0. 0. 0.]\n",
      " [0. 0. 0.]] \n",
      " \n",
      "zero_array2: \n",
      " [0. 0. 0. 0.] \n",
      " \n",
      "one_array: \n",
      " [[1. 1. 1.]\n",
      " [1. 1. 1.]\n",
      " [1. 1. 1.]\n",
      " [1. 1. 1.]] \n",
      " \n",
      "empty_array: \n",
      " [[1.90979621e-313 6.36598738e-314 1.27319747e-313]\n",
      " [4.24399158e-314 2.12199579e-314 8.48798317e-314]] \n",
      " \n",
      "empty_array2: \n",
      " [[6.23042070e-307 4.67296746e-307]\n",
      " [1.69121096e-306 1.06810268e-306]\n",
      " [1.02360867e-306 1.42413555e-306]\n",
      " [1.78019082e-306 1.37959740e-306]] \n",
      " \n"
     ]
    }
   ],
   "source": [
    "# array of integers deifned by the arguments start, end and sequence length:\n",
    "sequence = np.linspace(0, 2, num=11)\n",
    "print(f'sequence: \\n {sequence} \\n')\n",
    "\n",
    "#sequence of integers starting at 0, ending at 5-1:\n",
    "sequence_int = np.arange(5)\n",
    "print(f'sequence_int: {sequence_int} \\n')\n",
    "\n",
    "# initialize array with each element set to zero:\n",
    "zero_array = np.zeros((4, 3))\n",
    "print(f'zero_array: \\n {zero_array} \\n ')\n",
    "\n",
    "zero_array2 = np.zeros(4)\n",
    "print(f'zero_array2: \\n {zero_array2} \\n ')\n",
    "\n",
    "# initialize array with each element set to one:\n",
    "one_array = np.ones((4, 3))\n",
    "print(f'one_array: \\n {one_array} \\n ')\n",
    "\n",
    "# unintialized or empty array (filled with arbitrary nonsense elements):\n",
    "empty_array = np.empty((2, 3))\n",
    "print(f'empty_array: \\n {empty_array} \\n ')\n",
    "\n",
    "empty_array2 = np.empty((4, 2))\n",
    "print(f'empty_array2: \\n {empty_array2} \\n ')\n"
   ]
  },
  {
   "cell_type": "code",
   "execution_count": 107,
   "id": "0ba02235-75f0-4b95-b92d-8389f692a8b7",
   "metadata": {},
   "outputs": [
    {
     "name": "stdout",
     "output_type": "stream",
     "text": [
      "result1: \n",
      " [[5.45981500e+01 8.10308393e+03 2.98095799e+03]\n",
      " [7.38905610e+00 4.03428793e+02 2.00855369e+01]] \n",
      "\n",
      "54.598150033144236\n",
      "54.598150033144236\n",
      "result2: \n",
      " [[ 5 14 10]\n",
      " [ 8 12  3]] \n",
      " \n",
      "result3: \n",
      " [[ 5 14 10]\n",
      " [ 8 12  3]] \n",
      " \n",
      "mat1_tr: \n",
      " [[4 2]\n",
      " [9 6]\n",
      " [8 3]] \n",
      " \n",
      "matprod: \n",
      " [[ 90 138  32]\n",
      " [ 50  70  13]] \n",
      " \n",
      "matprod2: \n",
      " [[ 90 138  32]\n",
      " [ 50  70  13]] \n",
      " \n"
     ]
    }
   ],
   "source": [
    "# Matrix operations\n",
    "\n",
    "# define arrays in numpy\n",
    "\n",
    "import numpy as np\n",
    "\n",
    "mat1 = np.array([[4, 9, 8], [2, 6, 3]])\n",
    "mat2 = np.array([[1, 5, 2], [6, 6, 0], [4, 8, 3]])\n",
    "\n",
    "# Use a numpy function:\n",
    "result1 = np.exp(mat1)\n",
    "print(f'result1: \\n {result1} \\n')\n",
    "\n",
    "print(np.exp(4))\n",
    "print(someAlias.exp(4))\n",
    "\n",
    "result2 = mat1 + mat2[[0, 1]]\n",
    "print(f'result2: \\n {result2} \\n ')\n",
    "\n",
    "result3 = np.add(mat1, mat2[[0, 1]])\n",
    "print(f'result3: \\n {result3} \\n ')\n",
    "\n",
    "# use a method:\n",
    "mat1_tr = mat1.transpose()\n",
    "print(f'mat1_tr: \\n {mat1_tr} \\n ')\n",
    "\n",
    "# matrix algebra:\n",
    "matprod = mat1.dot(mat2)\n",
    "print(f'matprod: \\n {matprod} \\n ')\n",
    "\n",
    "matprod2 = mat1 @ mat2\n",
    "print(f'matprod2: \\n {matprod2} \\n ')\n"
   ]
  },
  {
   "attachments": {},
   "cell_type": "markdown",
   "id": "6dcde30a-dda5-47b3-9b80-a2a507da09ab",
   "metadata": {},
   "source": [
    "# **Install Pandas**\n",
    "\n",
    "## _necessary for econometric analysis_\n"
   ]
  },
  {
   "cell_type": "code",
   "execution_count": 108,
   "id": "4dd41534-157d-4fc5-b64f-d8183bef0077",
   "metadata": {},
   "outputs": [
    {
     "name": "stdout",
     "output_type": "stream",
     "text": [
      "Requirement already satisfied: pandas in c:\\programdata\\anaconda3\\lib\\site-packages (1.4.2)\n",
      "Requirement already satisfied: pytz>=2020.1 in c:\\programdata\\anaconda3\\lib\\site-packages (from pandas) (2021.3)\n",
      "Requirement already satisfied: python-dateutil>=2.8.1 in c:\\programdata\\anaconda3\\lib\\site-packages (from pandas) (2.8.2)\n",
      "Requirement already satisfied: numpy>=1.18.5 in c:\\programdata\\anaconda3\\lib\\site-packages (from pandas) (1.21.5)\n",
      "Requirement already satisfied: six>=1.5 in c:\\programdata\\anaconda3\\lib\\site-packages (from python-dateutil>=2.8.1->pandas) (1.16.0)\n"
     ]
    }
   ],
   "source": [
    "!pip install pandas"
   ]
  },
  {
   "cell_type": "code",
   "execution_count": 109,
   "id": "dd40925e-55cb-4bb4-a8ac-dc4ee20018ae",
   "metadata": {},
   "outputs": [],
   "source": [
    "import pandas as pd"
   ]
  },
  {
   "cell_type": "code",
   "execution_count": 122,
   "id": "ac7529c9-a9c1-4329-8bf5-3a8845a1525a",
   "metadata": {},
   "outputs": [
    {
     "name": "stdout",
     "output_type": "stream",
     "text": [
      "df: \n",
      "            icecream_sales  weather_coded  customers\n",
      "2021-04-30              30              0       2000\n",
      "2021-05-31              40              1       2100\n",
      "2021-06-30              35              0       1500\n",
      "2021-07-31             130              1       8000\n",
      "2021-08-31             120              1       7200\n",
      "2021-09-30              60              0       2000\n",
      "\n",
      "subset1: \n",
      "             icecream_sales  customers\n",
      "2021-04-30              30       2000\n",
      "2021-05-31              40       2100\n",
      "2021-06-30              35       1500\n",
      "2021-07-31             130       8000\n",
      "2021-08-31             120       7200\n",
      "2021-09-30              60       2000 \n",
      " \n",
      "subset2: \n",
      "             icecream_sales  weather_coded  customers\n",
      "2021-05-31              40              1       2100\n",
      "2021-06-30              35              0       1500\n",
      "2021-07-31             130              1       8000 \n",
      " \n",
      "subset3: \n",
      "             icecream_sales  weather_coded  customers\n",
      "2021-05-31              40              1       2100\n",
      "2021-06-30              35              0       1500\n",
      "2021-07-31             130              1       8000 \n",
      " \n",
      "subset4: 2100 \n",
      "subset5: 2100 \n",
      "subset6: \n",
      "             icecream_sales  weather_coded\n",
      "2021-05-31              40              1\n",
      "2021-06-30              35              0\n",
      "2021-07-31             130              1 \n",
      " \n",
      "subset7: \n",
      "             icecream_sales  weather_coded\n",
      "2021-05-31              40              1\n",
      "2021-06-30              35              0\n",
      "2021-07-31             130              1 \n",
      " \n"
     ]
    }
   ],
   "source": [
    "# define a pandas DataFrame:\n",
    "icecream_sales = np.array([30, 40, 35, 130, 120, 60])\n",
    "weather_coded = np.array([0, 1, 0, 1, 1, 0])\n",
    "customers = np.array([2000, 2100, 1500, 8000, 7200, 2000])\n",
    "\n",
    "df = pd.DataFrame({\n",
    "    'icecream_sales': icecream_sales,\n",
    "    'weather_coded': weather_coded,\n",
    "    'customers': customers\n",
    "})\n",
    "\n",
    "# define and assign an index (six ends of month starting in April, 2021)\n",
    "# (details will be discussed later in Ch.10 Time Series Data)\n",
    "ourIndex = pd.date_range(start='04/2021', freq='M', periods=6)\n",
    "df.set_index(ourIndex, inplace=True)\n",
    "\n",
    "# print the DataFrame\n",
    "print(f'df: \\n{df}\\n')\n",
    "\n",
    "# access colummns by variable names:\n",
    "subset1 = df[['icecream_sales', 'customers']]\n",
    "print(f'subset1: \\n {subset1} \\n ')\n",
    "\n",
    "# access second to fourth rows:\n",
    "subset2 = df[1:4]\n",
    "print(f'subset2: \\n {subset2} \\n ')\n",
    "\n",
    "subset3 = df['2021-05-31':'2021-07-31']\n",
    "print(f'subset3: \\n {subset3} \\n ')\n",
    "\n",
    "# access columns and rows by index and variable names:\n",
    "subset4 = df.loc['2021-05-31', 'customers']\n",
    "print(f'subset4: {subset4} ')\n",
    "\n",
    "subset5 = df.iloc[1, 2]\n",
    "print(f'subset5: {subset5} ')\n",
    "\n",
    "# access columns and rows by index and variable integer positions:\n",
    "# look for Rows 2 to 4 and columns 1 to 2\n",
    "subset6 = df.iloc[1:4, 0:2]\n",
    "print(f'subset6: \\n {subset6} \\n ')\n",
    "\n",
    "subset7 = df.loc['2021-05-31':'2021-07-31',\n",
    "                 ['icecream_sales', 'weather_coded']]\n",
    "print(f'subset7: \\n {subset7} \\n ')\n"
   ]
  },
  {
   "cell_type": "code",
   "execution_count": 124,
   "id": "5f99e9da-51c3-4a93-92f1-5e7f21f0a3af",
   "metadata": {},
   "outputs": [
    {
     "name": "stdout",
     "output_type": "stream",
     "text": [
      "            icecream_sales  weather_coded  customers\n",
      "2021-04-30              30              0       2000\n",
      "2021-05-31              40              1       2100\n",
      "            icecream_sales  weather_coded  customers\n",
      "2021-07-31             130              1       8000\n",
      "2021-08-31             120              1       7200\n",
      "2021-09-30              60              0       2000\n",
      "       icecream_sales  weather_coded    customers\n",
      "count        6.000000       6.000000     6.000000\n",
      "mean        69.166667       0.500000  3800.000000\n",
      "std         44.543986       0.547723  2961.756236\n",
      "min         30.000000       0.000000  1500.000000\n",
      "25%         36.250000       0.000000  2000.000000\n",
      "50%         50.000000       0.500000  2050.000000\n",
      "75%        105.000000       1.000000  5925.000000\n",
      "max        130.000000       1.000000  8000.000000\n"
     ]
    }
   ],
   "source": [
    "print(df.head(2))\n",
    "print(df.tail(3))\n",
    "print(df.describe())"
   ]
  },
  {
   "cell_type": "code",
   "execution_count": 131,
   "id": "73a80d58-7313-474f-a2c2-0963f5bf2e43",
   "metadata": {},
   "outputs": [
    {
     "name": "stdout",
     "output_type": "stream",
     "text": [
      "df: \n",
      "             icecream_sales  weather_coded  customers  icecream_sales_lag2\n",
      "2021-04-30              30              0       2000                  NaN\n",
      "2021-05-31              40              1       2100                  NaN\n",
      "2021-06-30              35              0       1500                 30.0\n",
      "2021-07-31             130              1       8000                 40.0\n",
      "2021-08-31             120              1       7200                 35.0\n",
      "2021-09-30              60              0       2000                130.0 \n",
      " \n",
      "df: \n",
      "             icecream_sales  weather_coded  customers  icecream_sales_lag2  \\\n",
      "2021-04-30              30              0       2000                  NaN   \n",
      "2021-05-31              40              1       2100                  NaN   \n",
      "2021-06-30              35              0       1500                 30.0   \n",
      "2021-07-31             130              1       8000                 40.0   \n",
      "2021-08-31             120              1       7200                 35.0   \n",
      "2021-09-30              60              0       2000                130.0   \n",
      "\n",
      "           weather  \n",
      "2021-04-30     bad  \n",
      "2021-05-31    good  \n",
      "2021-06-30     bad  \n",
      "2021-07-31    good  \n",
      "2021-08-31    good  \n",
      "2021-09-30     bad   \n",
      " \n",
      "group_means: \n",
      "          icecream_sales  weather_coded    customers  icecream_sales_lag2\n",
      "weather                                                                 \n",
      "bad           41.666667            0.0  1833.333333                 80.0\n",
      "good          96.666667            1.0  5766.666667                 37.5 \n",
      " \n"
     ]
    }
   ],
   "source": [
    "# Lagged varaibles & categorical variables:\n",
    "\n",
    "#########################################################\n",
    "# define a pandas DataFrame:\n",
    "icecream_sales = np.array([30, 40, 35, 130, 120, 60])\n",
    "weather_coded = np.array([0, 1, 0, 1, 1, 0])\n",
    "customers = np.array([2000, 2100, 1500, 8000, 7200, 2000])\n",
    "\n",
    "df = pd.DataFrame({\n",
    "    'icecream_sales': icecream_sales,\n",
    "    'weather_coded': weather_coded,\n",
    "    'customers': customers\n",
    "})\n",
    "\n",
    "# define and assign an index (six ends ofmonth starting in April, 2021)\n",
    "# (details will be discussed later in Ch.10 Time Series Data)\n",
    "ourIndex = pd.date_range(start='04/2021', freq='M', periods=6)\n",
    "df.set_index(ourIndex, inplace=True)\n",
    "##########################################################\n",
    "\n",
    "# include sales two months ago:\n",
    "df['icecream_sales_lag2'] = df['icecream_sales'].shift(2)\n",
    "print(f'df: \\n {df} \\n ')\n",
    "\n",
    "# use a pandas Categorial object to attach labels (0= bad; 1= good)\n",
    "df['weather'] = pd.Categorical.from_codes(codes=df['weather_coded'],\n",
    "                                          categories=['bad', 'good'])\n",
    "print(f'df: \\n {df} \\n ')\n",
    "\n",
    "# mean sales for weather catergoy:\n",
    "group_means = df.groupby('weather').mean()\n",
    "print(f'group_means: \\n {group_means} \\n ')\n"
   ]
  },
  {
   "attachments": {},
   "cell_type": "markdown",
   "id": "34d4bbd0-805c-4ffd-a34b-d6b5a4e62bd6",
   "metadata": {},
   "source": [
    "# External Data\n",
    "\n",
    "## **_Wooldridge Textbook Data Package_**\n"
   ]
  },
  {
   "cell_type": "code",
   "execution_count": 132,
   "id": "103dfdb6-da91-4a0a-9f31-63a0eb6e7e94",
   "metadata": {},
   "outputs": [
    {
     "name": "stdout",
     "output_type": "stream",
     "text": [
      "Requirement already satisfied: wooldridge in c:\\programdata\\anaconda3\\lib\\site-packages (0.4.4)\n",
      "Requirement already satisfied: pandas in c:\\programdata\\anaconda3\\lib\\site-packages (from wooldridge) (1.4.2)\n",
      "Requirement already satisfied: numpy>=1.18.5 in c:\\programdata\\anaconda3\\lib\\site-packages (from pandas->wooldridge) (1.21.5)\n",
      "Requirement already satisfied: pytz>=2020.1 in c:\\programdata\\anaconda3\\lib\\site-packages (from pandas->wooldridge) (2021.3)\n",
      "Requirement already satisfied: python-dateutil>=2.8.1 in c:\\programdata\\anaconda3\\lib\\site-packages (from pandas->wooldridge) (2.8.2)\n",
      "Requirement already satisfied: six>=1.5 in c:\\programdata\\anaconda3\\lib\\site-packages (from python-dateutil>=2.8.1->pandas->wooldridge) (1.16.0)\n"
     ]
    }
   ],
   "source": [
    "!pip install wooldridge"
   ]
  },
  {
   "cell_type": "code",
   "execution_count": 136,
   "id": "1c53a196-2ad3-41c7-81df-14452ec786d5",
   "metadata": {},
   "outputs": [
    {
     "name": "stdout",
     "output_type": "stream",
     "text": [
      "type(wage1): <class 'pandas.core.frame.DataFrame'> \n",
      "wage1.head(10): \n",
      "     wage  educ  exper  tenure  nonwhite  female  married  numdep  smsa  \\\n",
      "0   3.10    11      2       0         0       1        0       2     1   \n",
      "1   3.24    12     22       2         0       1        1       3     1   \n",
      "2   3.00    11      2       0         0       0        0       2     0   \n",
      "3   6.00     8     44      28         0       0        1       0     1   \n",
      "4   5.30    12      7       2         0       0        1       1     0   \n",
      "5   8.75    16      9       8         0       0        1       0     1   \n",
      "6  11.25    18     15       7         0       0        0       0     1   \n",
      "7   5.00    12      5       3         0       1        0       0     1   \n",
      "8   3.60    12     26       4         0       1        0       2     1   \n",
      "9  18.18    17     22      21         0       0        1       0     1   \n",
      "\n",
      "   northcen  ...  trcommpu  trade  services  profserv  profocc  clerocc  \\\n",
      "0         0  ...         0      0         0         0        0        0   \n",
      "1         0  ...         0      0         1         0        0        0   \n",
      "2         0  ...         0      1         0         0        0        0   \n",
      "3         0  ...         0      0         0         0        0        1   \n",
      "4         0  ...         0      0         0         0        0        0   \n",
      "5         0  ...         0      0         0         1        1        0   \n",
      "6         0  ...         0      1         0         0        1        0   \n",
      "7         0  ...         0      0         0         0        1        0   \n",
      "8         0  ...         0      1         0         0        1        0   \n",
      "9         0  ...         0      0         0         0        1        0   \n",
      "\n",
      "   servocc     lwage  expersq  tenursq  \n",
      "0        0  1.131402        4        0  \n",
      "1        1  1.175573      484        4  \n",
      "2        0  1.098612        4        0  \n",
      "3        0  1.791759     1936      784  \n",
      "4        0  1.667707       49        4  \n",
      "5        0  2.169054       81       64  \n",
      "6        0  2.420368      225       49  \n",
      "7        0  1.609438       25        9  \n",
      "8        0  1.280934      676       16  \n",
      "9        0  2.900322      484      441  \n",
      "\n",
      "[10 rows x 24 columns] \n",
      " \n",
      "wage1.describe() \n",
      "              wage        educ      exper      tenure    nonwhite      female  \\\n",
      "count  526.000000  526.000000  526.00000  526.000000  526.000000  526.000000   \n",
      "mean     5.896103   12.562738   17.01711    5.104563    0.102662    0.479087   \n",
      "std      3.693086    2.769022   13.57216    7.224462    0.303805    0.500038   \n",
      "min      0.530000    0.000000    1.00000    0.000000    0.000000    0.000000   \n",
      "25%      3.330000   12.000000    5.00000    0.000000    0.000000    0.000000   \n",
      "50%      4.650000   12.000000   13.50000    2.000000    0.000000    0.000000   \n",
      "75%      6.880000   14.000000   26.00000    7.000000    0.000000    1.000000   \n",
      "max     24.980000   18.000000   51.00000   44.000000    1.000000    1.000000   \n",
      "\n",
      "          married      numdep        smsa    northcen  ...    trcommpu  \\\n",
      "count  526.000000  526.000000  526.000000  526.000000  ...  526.000000   \n",
      "mean     0.608365    1.043726    0.722433    0.250951  ...    0.043726   \n",
      "std      0.488580    1.261891    0.448225    0.433973  ...    0.204680   \n",
      "min      0.000000    0.000000    0.000000    0.000000  ...    0.000000   \n",
      "25%      0.000000    0.000000    0.000000    0.000000  ...    0.000000   \n",
      "50%      1.000000    1.000000    1.000000    0.000000  ...    0.000000   \n",
      "75%      1.000000    2.000000    1.000000    0.750000  ...    0.000000   \n",
      "max      1.000000    6.000000    1.000000    1.000000  ...    1.000000   \n",
      "\n",
      "            trade    services    profserv     profocc     clerocc     servocc  \\\n",
      "count  526.000000  526.000000  526.000000  526.000000  526.000000  526.000000   \n",
      "mean     0.287072    0.100760    0.258555    0.366920    0.167300    0.140684   \n",
      "std      0.452826    0.301298    0.438257    0.482423    0.373599    0.348027   \n",
      "min      0.000000    0.000000    0.000000    0.000000    0.000000    0.000000   \n",
      "25%      0.000000    0.000000    0.000000    0.000000    0.000000    0.000000   \n",
      "50%      0.000000    0.000000    0.000000    0.000000    0.000000    0.000000   \n",
      "75%      1.000000    0.000000    1.000000    1.000000    0.000000    0.000000   \n",
      "max      1.000000    1.000000    1.000000    1.000000    1.000000    1.000000   \n",
      "\n",
      "            lwage      expersq      tenursq  \n",
      "count  526.000000   526.000000   526.000000  \n",
      "mean     1.623268   473.435361    78.150190  \n",
      "std      0.531538   616.044772   199.434664  \n",
      "min     -0.634878     1.000000     0.000000  \n",
      "25%      1.202972    25.000000     0.000000  \n",
      "50%      1.536867   182.500000     4.000000  \n",
      "75%      1.928619   676.000000    49.000000  \n",
      "max      3.218076  2601.000000  1936.000000  \n",
      "\n",
      "[8 rows x 24 columns] \n",
      "\n"
     ]
    }
   ],
   "source": [
    "import wooldridge as woo\n",
    "\n",
    "# load data:\n",
    "wage1 = woo.dataWoo('wage1')\n",
    "\n",
    "# get type\n",
    "print(f'type(wage1): {type(wage1)} ')\n",
    "\n",
    "# get an overview:\n",
    "print(f'wage1.head(10): \\n {wage1.head(10)} \\n ')\n",
    "\n",
    "print(f'wage1.describe() \\n {wage1.describe()} \\n')\n"
   ]
  },
  {
   "cell_type": "code",
   "execution_count": 4,
   "id": "13c972e3-a515-4559-9fa4-df3f2147b41c",
   "metadata": {},
   "outputs": [
    {
     "name": "stdout",
     "output_type": "stream",
     "text": [
      "df1: \n",
      "    year  product1  product2  product3\n",
      "0  2008         0         1         2\n",
      "1  2009         3         2         4\n",
      "2  2010         6         3         4\n",
      "3  2011         9         5         2\n",
      "4  2012         7         9         5\n",
      "5  2013         8         6         2 \n",
      " \n"
     ]
    }
   ],
   "source": [
    "import pandas as pd\n",
    "# import txt with pandas:\n",
    "df1 = pd.read_table('sales.txt', delimiter=' ')\n",
    "print(f'df1: \\n {df1} \\n ')"
   ]
  },
  {
   "cell_type": "code",
   "execution_count": 7,
   "id": "265e9b8c-c55b-46d7-b2dd-90896e562e8f",
   "metadata": {},
   "outputs": [
    {
     "name": "stdout",
     "output_type": "stream",
     "text": [
      "df2: \n",
      "   year  product1  product2  product3\n",
      "0  2008         0         1         2\n",
      "1  2009         3         2         4\n",
      "2  2010         6         3         4\n",
      "3  2011         9         5         2\n",
      "4  2012         7         9         5\n",
      "5  2013         8         6         2 \n",
      " \n"
     ]
    }
   ],
   "source": [
    "# import csv with pandas\n",
    "df2 = pd.read_csv('sales.csv')\n",
    "print(f'df2: \\n{df2} \\n ')"
   ]
  },
  {
   "cell_type": "code",
   "execution_count": 168,
   "id": "508c0c3e-a026-4bcb-9a12-317fdfd78507",
   "metadata": {},
   "outputs": [
    {
     "name": "stdout",
     "output_type": "stream",
     "text": [
      "df3: \n",
      "   year  product1  product2  product3\n",
      "0  2008         0         1         2\n",
      "1  2009         3         2         4\n",
      "2  2010         6         3         4\n",
      "3  2011         9         5         2\n",
      "4  2012         7         9         5\n",
      "5  2013         8         6         2 \n",
      " \n"
     ]
    }
   ],
   "source": [
    "# import csv with pandas\n",
    "df3 = pd.read_csv('sales1.csv',\n",
    "                  delimiter=',',\n",
    "                  header=None,\n",
    "                  names=['year', 'product1', 'product2', 'product3'])\n",
    "print(f'df3: \\n{df3} \\n ')"
   ]
  },
  {
   "cell_type": "code",
   "execution_count": 170,
   "id": "0b5818f4-f5d7-4882-8a79-4c30eec5b741",
   "metadata": {},
   "outputs": [
    {
     "name": "stdout",
     "output_type": "stream",
     "text": [
      "df4: \n",
      "    year  product1  product2  product3\n",
      "0  2008         0         1         2\n",
      "1  2009         3         2         4\n",
      "2  2010         6         3         4\n",
      "3  2011         9         5         2\n",
      "4  2012         7         9         5\n",
      "5  2013         8         6         2\n",
      "6  2014        10         8         2 \n",
      "\n"
     ]
    },
    {
     "name": "stderr",
     "output_type": "stream",
     "text": [
      "C:\\Users\\kcheong1\\AppData\\Local\\Temp\\ipykernel_13220\\3720106316.py:2: FutureWarning: The frame.append method is deprecated and will be removed from pandas in a future version. Use pandas.concat instead.\n",
      "  df4=df1.append({'year':2014, 'product1':10, 'product2':8, 'product3':2}, ignore_index=True)\n"
     ]
    }
   ],
   "source": [
    "# add a row to df1:\n",
    "df4 = df1.append({\n",
    "    'year': 2014,\n",
    "    'product1': 10,\n",
    "    'product2': 8,\n",
    "    'product3': 2\n",
    "},\n",
    "                 ignore_index=True)\n",
    "print(f'df4: \\n {df4} \\n')\n",
    "\n",
    "# ignore_index=True: remove the existing index but add new index in the receiving DataFrame"
   ]
  },
  {
   "cell_type": "code",
   "execution_count": 173,
   "id": "7e6d4a73-e45c-4a2f-96ba-48b7ffbd73dd",
   "metadata": {},
   "outputs": [],
   "source": [
    "# export with pandas:\n",
    "df4.to_csv('sales2.csv')\n"
   ]
  },
  {
   "cell_type": "code",
   "execution_count": 175,
   "id": "f8e7ada0-07ec-46d2-ab59-13acbeddc461",
   "metadata": {},
   "outputs": [],
   "source": [
    "# export to Excel format:\n",
    "df4.to_excel('sales2.xlsx')"
   ]
  },
  {
   "cell_type": "code",
   "execution_count": 178,
   "id": "f5df265e-1ff0-437f-bf39-22f553080cb4",
   "metadata": {},
   "outputs": [
    {
     "name": "stdout",
     "output_type": "stream",
     "text": [
      "df5: \n",
      "   Unnamed: 0  year  product1  product2  product3\n",
      "0           0  2008         0         1         2\n",
      "1           1  2009         3         2         4\n",
      "2           2  2010         6         3         4\n",
      "3           3  2011         9         5         2\n",
      "4           4  2012         7         9         5\n",
      "5           5  2013         8         6         2\n",
      "6           6  2014        10         8         2 \n",
      " \n"
     ]
    }
   ],
   "source": [
    "# import Excel with pandas\n",
    "df5 = pd.read_excel('sales2.xlsx')\n",
    "print(f'df5: \\n{df5} \\n ')\n"
   ]
  },
  {
   "cell_type": "code",
   "execution_count": 185,
   "id": "9316f67f-6394-4ebd-8b9e-438e13864586",
   "metadata": {},
   "outputs": [
    {
     "name": "stdout",
     "output_type": "stream",
     "text": [
      "df6: \n",
      "    year  product1  product2  product3\n",
      "0  2008         0         1         2\n",
      "1  2009         3         2         4\n",
      "2  2010         6         3         4\n",
      "3  2011         9         5         2\n",
      "4  2012         7         9         5\n",
      "5  2013         8         6         2\n",
      "6  2014        10         8         2 \n",
      "\n"
     ]
    }
   ],
   "source": [
    "df6 = df5.drop(df5.columns[0], axis=1)\n",
    "print(f'df6: \\n {df6} \\n')"
   ]
  },
  {
   "attachments": {},
   "cell_type": "markdown",
   "id": "eeed9873-6ef0-4e22-a6ee-3bc1e15f8705",
   "metadata": {},
   "source": [
    "# **_Basic Graphics_**\n",
    "\n",
    "## **_\"A picture paints a thousand words.\"_**\n"
   ]
  },
  {
   "cell_type": "code",
   "execution_count": 190,
   "id": "49e5ba41-7361-4cdb-b01a-bd11e52913fa",
   "metadata": {},
   "outputs": [
    {
     "data": {
      "image/png": "[encoded data removed]",
      "text/plain": [
       "<Figure size 432x288 with 1 Axes>"
      ]
     },
     "metadata": {
      "needs_background": "light"
     },
     "output_type": "display_data"
    }
   ],
   "source": [
    "import matplotlib.pyplot as plt\n",
    "\n",
    "# create data:\n",
    "x = [1, 3, 4, 7, 8, 9]\n",
    "y = [0, 3, 6, 9, 7, 8]\n",
    "\n",
    "#plot and save:\n",
    "plt.plot(x, y, color='black')\n",
    "plt.savefig('Graphs-Basics-a.pdf')\n"
   ]
  },
  {
   "cell_type": "code",
   "execution_count": 198,
   "id": "8e8b1fe0-709a-454e-bca1-7fb43d9e1b98",
   "metadata": {},
   "outputs": [
    {
     "data": {
      "image/png": "[encoded data removed]",
      "text/plain": [
       "<Figure size 432x288 with 1 Axes>"
      ]
     },
     "metadata": {
      "needs_background": "light"
     },
     "output_type": "display_data"
    }
   ],
   "source": [
    "# saving in anothe folder\n",
    "plt.plot(x, y, color='black')\n",
    "plt.savefig(\n",
    "    'D:/sMyDocs/162 Linear Econometrics for Finance 2022 zFall 2/02.0 Python Notebook from TAs/Graphs-Basics-a.pdf'\n",
    ")\n"
   ]
  },
  {
   "cell_type": "code",
   "execution_count": 199,
   "id": "af768b55-d564-4fbe-98cd-adcc6f8bc4ba",
   "metadata": {},
   "outputs": [],
   "source": [
    "plt.close()"
   ]
  },
  {
   "cell_type": "code",
   "execution_count": 215,
   "id": "9a0d40fd-e394-4109-b7ba-112cb33dabba",
   "metadata": {},
   "outputs": [
    {
     "data": {
      "text/plain": [
       "[<matplotlib.lines.Line2D at 0x19232118040>]"
      ]
     },
     "execution_count": 215,
     "metadata": {},
     "output_type": "execute_result"
    },
    {
     "data": {
      "image/png": "[encoded data removed]",
      "text/plain": [
       "<Figure size 432x288 with 1 Axes>"
      ]
     },
     "metadata": {
      "needs_background": "light"
     },
     "output_type": "display_data"
    }
   ],
   "source": [
    "#plt.plot(x, y, color='black', linestyle='--')\n",
    "#plt.close()\n",
    "#plt.plot(x, y, color='black', linestyle=':')\n",
    "#plt.close()\n",
    "#plt.plot(x, y, color='black', linewidth=3)\n",
    "#plt.close()\n",
    "#plt.plot(x, y, color='black', marker='o')\n",
    "#plt.close()\n",
    "plt.plot(x, y, color='black', marker='v', linestyle='')\n",
    "#plt.close()\n",
    "#plt.plot(x, y, color='blue', marker='*', linestyle=':')\n"
   ]
  },
  {
   "attachments": {},
   "cell_type": "markdown",
   "id": "8134e04e-9ae8-4944-9301-b3091e52a2e4",
   "metadata": {
    "tags": []
   },
   "source": [
    "# Graphing Functions\n",
    "\n",
    "## _using scipy.stats_\n"
   ]
  },
  {
   "cell_type": "code",
   "execution_count": 228,
   "id": "7f347554-e45c-4d50-b9c7-a61fe7ee6631",
   "metadata": {},
   "outputs": [
    {
     "data": {
      "text/plain": [
       "[<matplotlib.lines.Line2D at 0x192331fc730>]"
      ]
     },
     "execution_count": 228,
     "metadata": {},
     "output_type": "execute_result"
    },
    {
     "data": {
      "image/png": "[encoded data removed]",
      "text/plain": [
       "<Figure size 432x288 with 1 Axes>"
      ]
     },
     "metadata": {
      "needs_background": "light"
     },
     "output_type": "display_data"
    }
   ],
   "source": [
    "import scipy.stats as stats\n",
    "import numpy as np\n",
    "import matplotlib.pyplot as plt\n",
    "\n",
    "# support of quadratic functuon\n",
    "# (create an array of 100 equispaced elements from -3 to 2):\n",
    "x1 = np.linspace(-3, 2, num=100)\n",
    "# function values for all these values:\n",
    "y1 = x1**2\n",
    "\n",
    "# plot quadratic functions:\n",
    "plt.plot(x1, y1, linestyle='-')\n",
    "# saving in the current directory\n",
    "#plt.savefig('Graphs-quad.pdf')\n",
    "\n",
    "#saving in another directory\n",
    "plt.savefig(\n",
    "    'C:/Users/kcheong1/Fall_2022_Python_1/HB Textbook-KSC/Graphs-quad.pdf')\n",
    "#plt.savefig('D:/sMyDocs/162 Linear Econometrics for Finance 2022 zFall 2/02.0 Python Notebook from TAs/Graphs-quad.pdf')\n",
    "\n",
    "# same for normal density:\n",
    "x2 = np.linspace(-4, 4, num=10)\n",
    "y2 = stats.norm.pdf(x2)\n",
    "\n",
    "# plot normal density\n",
    "plt.plot(x2, y2, marker='*')\n"
   ]
  },
  {
   "cell_type": "code",
   "execution_count": 251,
   "id": "93a25d28-dd85-4c57-81ab-906d6ade8650",
   "metadata": {},
   "outputs": [
    {
     "data": {
      "image/png": "[encoded data removed]",
      "text/plain": [
       "<Figure size 432x288 with 1 Axes>"
      ]
     },
     "metadata": {
      "needs_background": "light"
     },
     "output_type": "display_data"
    }
   ],
   "source": [
    "# Overlaying multiple plots with options\n",
    "\n",
    "import scipy.stats as stats\n",
    "import numpy as np\n",
    "import matplotlib.pyplot as plt\n",
    "\n",
    "# support for all normal densities:\n",
    "x = np.linspace(-4, 4, num=100)\n",
    "\n",
    "# get different density evaluations:\n",
    "y1 = stats.norm.pdf(x, 0, 1)\n",
    "y2 = stats.norm.pdf(x, 1, 0.5)\n",
    "y3 = stats.norm.pdf(x, 0, 2)\n",
    "\n",
    "# plot:\n",
    "plt.plot(x, y1, linestyle='-', color='black', label='standard normal')\n",
    "plt.plot(x, y2, linestyle='--', color='0.3',\n",
    "         label='mu=1, sigma=0.5')  #0=black, 1=white\n",
    "plt.plot(x, y3, linestyle=':', color='0.7', label='$\\mu=0$, $\\sigma=2$')\n",
    "plt.xlim(-5, 3)\n",
    "plt.title('Normal Densities')\n",
    "plt.ylabel('$\\phi(x)$')\n",
    "plt.xlabel('x')\n",
    "plt.legend()\n",
    "\n",
    "plt.axhline(y=0.2)\n",
    "plt.axvline(x=0, linestyle=':', color='magenta')\n",
    "\n",
    "plt.savefig(\n",
    "    'C:/Users/kcheong1/Fall_2022_Python_1/HB Textbook-KSC/Graphs-Normal Densities.pdf'\n",
    ")\n",
    "\n",
    "plt.savefig(\n",
    "    'C:/Users/kcheong1/Fall_2022_Python_1/HB Textbook-KSC/Graphs-Normal Densities.png'\n",
    ")\n"
   ]
  },
  {
   "cell_type": "code",
   "execution_count": 255,
   "id": "fcb42a59-859b-42fb-a34f-c7fe6214ee9c",
   "metadata": {},
   "outputs": [
    {
     "data": {
      "image/png": "[encoded data removed]",
      "text/plain": [
       "<Figure size 288x432 with 1 Axes>"
      ]
     },
     "metadata": {
      "needs_background": "light"
     },
     "output_type": "display_data"
    }
   ],
   "source": [
    "# Figure Size Control\n",
    "\n",
    "import scipy.stats as stats\n",
    "import numpy as np\n",
    "import matplotlib.pyplot as plt\n",
    "\n",
    "# support for all normal densities:\n",
    "x = np.linspace(-4, 4, num=100)\n",
    "\n",
    "# get different density evaluations:\n",
    "y1 = stats.norm.pdf(x, 0, 1)\n",
    "y2 = stats.norm.pdf(x, 1, 0.5)\n",
    "y3 = stats.norm.pdf(x, 0, 2)\n",
    "\n",
    "# plot (a):\n",
    "plt.figure(figsize=(4, 6))\n",
    "plt.plot(x, y1, linestyle='-', color='black', label='standard normal')\n",
    "plt.plot(x, y2, linestyle='--', color='0.3',\n",
    "         label='mu=1, sigma=0.5')  #0=black, 1=white\n",
    "plt.plot(x, y3, linestyle=':', color='0.7', label='$\\mu=0$, $\\sigma=2$')\n",
    "plt.xlim(-5, 3)\n",
    "plt.title('Normal Densities')\n",
    "plt.ylabel('$\\phi(x)$')\n",
    "plt.xlabel('x')\n",
    "plt.legend()\n",
    "\n",
    "plt.axhline(y=0.2)\n",
    "plt.axvline(x=0, linestyle=':', color='magenta')\n",
    "\n",
    "plt.savefig(\n",
    "    'C:/Users/kcheong1/Fall_2022_Python_1/HB Textbook-KSC/Graphs-Normal Densities2.pdf'\n",
    ")\n",
    "plt.savefig(\n",
    "    'C:/Users/kcheong1/Fall_2022_Python_1/HB Textbook-KSC/Graphs-Normal Densities2.png'\n",
    ")\n"
   ]
  },
  {
   "cell_type": "code",
   "execution_count": 256,
   "id": "90390723-66c8-4209-9a06-338695690a86",
   "metadata": {},
   "outputs": [
    {
     "data": {
      "image/png": "[encoded data removed]",
      "text/plain": [
       "<Figure size 432x288 with 1 Axes>"
      ]
     },
     "metadata": {
      "needs_background": "light"
     },
     "output_type": "display_data"
    }
   ],
   "source": [
    "# plot (b):\n",
    "plt.figure(figsize=(6, 4))\n",
    "plt.plot(x, y1, linestyle='-', color='black', label='standard normal')\n",
    "plt.plot(x, y2, linestyle='--', color='0.3',\n",
    "         label='mu=1, sigma=0.5')  #0=black, 1=white\n",
    "plt.plot(x, y3, linestyle=':', color='0.7', label='$\\mu=0$, $\\sigma=2$')\n",
    "plt.xlim(-5, 3)\n",
    "plt.title('Normal Densities')\n",
    "plt.ylabel('$\\phi(x)$')\n",
    "plt.xlabel('x')\n",
    "plt.legend()\n",
    "\n",
    "plt.axhline(y=0.2)\n",
    "plt.axvline(x=0, linestyle=':', color='magenta')\n",
    "\n",
    "plt.savefig(\n",
    "    'C:/Users/kcheong1/Fall_2022_Python_1/HB Textbook-KSC/Graphs-Normal Densities3.pdf'\n",
    ")\n",
    "\n",
    "plt.savefig(\n",
    "    'C:/Users/kcheong1/Fall_2022_Python_1/HB Textbook-KSC/Graphs-Normal Densities3.png'\n",
    ")\n"
   ]
  },
  {
   "attachments": {},
   "cell_type": "markdown",
   "id": "4ba2f1a3-c9a8-4076-a79a-1e8739169149",
   "metadata": {},
   "source": [
    "# Descriptive Statistics\n"
   ]
  },
  {
   "cell_type": "code",
   "execution_count": 376,
   "id": "5f2bfb71-ea94-4308-8527-c1495f96a8b6",
   "metadata": {},
   "outputs": [
    {
     "name": "stdout",
     "output_type": "stream",
     "text": [
      "{<class 'pandas.core.frame.DataFrame'>}\n",
      "\n",
      "  \n",
      "\n",
      "<class 'pandas.core.frame.DataFrame'>\n",
      "RangeIndex: 209 entries, 0 to 208\n",
      "Data columns (total 12 columns):\n",
      " #   Column    Non-Null Count  Dtype  \n",
      "---  ------    --------------  -----  \n",
      " 0   salary    209 non-null    int64  \n",
      " 1   pcsalary  209 non-null    int64  \n",
      " 2   sales     209 non-null    float64\n",
      " 3   roe       209 non-null    float64\n",
      " 4   pcroe     209 non-null    float64\n",
      " 5   ros       209 non-null    int64  \n",
      " 6   indus     209 non-null    int64  \n",
      " 7   finance   209 non-null    int64  \n",
      " 8   consprod  209 non-null    int64  \n",
      " 9   utility   209 non-null    int64  \n",
      " 10  lsalary   209 non-null    float64\n",
      " 11  lsales    209 non-null    float64\n",
      "dtypes: float64(5), int64(7)\n",
      "memory usage: 19.7 KB\n",
      "\n",
      "  \n",
      "\n"
     ]
    },
    {
     "data": {
      "text/html": [
       "<div>\n",
       "<style scoped>\n",
       "    .dataframe tbody tr th:only-of-type {\n",
       "        vertical-align: middle;\n",
       "    }\n",
       "\n",
       "    .dataframe tbody tr th {\n",
       "        vertical-align: top;\n",
       "    }\n",
       "\n",
       "    .dataframe thead th {\n",
       "        text-align: right;\n",
       "    }\n",
       "</style>\n",
       "<table border=\"1\" class=\"dataframe\">\n",
       "  <thead>\n",
       "    <tr style=\"text-align: right;\">\n",
       "      <th></th>\n",
       "      <th>salary</th>\n",
       "      <th>pcsalary</th>\n",
       "      <th>sales</th>\n",
       "      <th>roe</th>\n",
       "      <th>pcroe</th>\n",
       "      <th>ros</th>\n",
       "      <th>indus</th>\n",
       "      <th>finance</th>\n",
       "      <th>consprod</th>\n",
       "      <th>utility</th>\n",
       "      <th>lsalary</th>\n",
       "      <th>lsales</th>\n",
       "    </tr>\n",
       "  </thead>\n",
       "  <tbody>\n",
       "    <tr>\n",
       "      <th>count</th>\n",
       "      <td>209.000000</td>\n",
       "      <td>209.000000</td>\n",
       "      <td>209.000000</td>\n",
       "      <td>209.000000</td>\n",
       "      <td>209.000000</td>\n",
       "      <td>209.000000</td>\n",
       "      <td>209.000000</td>\n",
       "      <td>209.000000</td>\n",
       "      <td>209.000000</td>\n",
       "      <td>209.000000</td>\n",
       "      <td>209.000000</td>\n",
       "      <td>209.000000</td>\n",
       "    </tr>\n",
       "    <tr>\n",
       "      <th>mean</th>\n",
       "      <td>1281.119617</td>\n",
       "      <td>13.282297</td>\n",
       "      <td>6923.793282</td>\n",
       "      <td>17.184211</td>\n",
       "      <td>10.800478</td>\n",
       "      <td>61.803828</td>\n",
       "      <td>0.320574</td>\n",
       "      <td>0.220096</td>\n",
       "      <td>0.287081</td>\n",
       "      <td>0.172249</td>\n",
       "      <td>6.950386</td>\n",
       "      <td>8.292265</td>\n",
       "    </tr>\n",
       "    <tr>\n",
       "      <th>std</th>\n",
       "      <td>1372.345308</td>\n",
       "      <td>32.633921</td>\n",
       "      <td>10633.271088</td>\n",
       "      <td>8.518509</td>\n",
       "      <td>97.219399</td>\n",
       "      <td>68.177052</td>\n",
       "      <td>0.467818</td>\n",
       "      <td>0.415306</td>\n",
       "      <td>0.453486</td>\n",
       "      <td>0.378503</td>\n",
       "      <td>0.566374</td>\n",
       "      <td>1.013161</td>\n",
       "    </tr>\n",
       "    <tr>\n",
       "      <th>min</th>\n",
       "      <td>223.000000</td>\n",
       "      <td>-61.000000</td>\n",
       "      <td>175.199997</td>\n",
       "      <td>0.500000</td>\n",
       "      <td>-98.900002</td>\n",
       "      <td>-58.000000</td>\n",
       "      <td>0.000000</td>\n",
       "      <td>0.000000</td>\n",
       "      <td>0.000000</td>\n",
       "      <td>0.000000</td>\n",
       "      <td>5.407172</td>\n",
       "      <td>5.165928</td>\n",
       "    </tr>\n",
       "    <tr>\n",
       "      <th>25%</th>\n",
       "      <td>736.000000</td>\n",
       "      <td>-1.000000</td>\n",
       "      <td>2210.300049</td>\n",
       "      <td>12.400000</td>\n",
       "      <td>-21.200001</td>\n",
       "      <td>21.000000</td>\n",
       "      <td>0.000000</td>\n",
       "      <td>0.000000</td>\n",
       "      <td>0.000000</td>\n",
       "      <td>0.000000</td>\n",
       "      <td>6.601230</td>\n",
       "      <td>7.700883</td>\n",
       "    </tr>\n",
       "    <tr>\n",
       "      <th>50%</th>\n",
       "      <td>1039.000000</td>\n",
       "      <td>9.000000</td>\n",
       "      <td>3705.199951</td>\n",
       "      <td>15.500000</td>\n",
       "      <td>-3.000000</td>\n",
       "      <td>52.000000</td>\n",
       "      <td>0.000000</td>\n",
       "      <td>0.000000</td>\n",
       "      <td>0.000000</td>\n",
       "      <td>0.000000</td>\n",
       "      <td>6.946014</td>\n",
       "      <td>8.217492</td>\n",
       "    </tr>\n",
       "    <tr>\n",
       "      <th>75%</th>\n",
       "      <td>1407.000000</td>\n",
       "      <td>20.000000</td>\n",
       "      <td>7177.000000</td>\n",
       "      <td>20.000000</td>\n",
       "      <td>19.500000</td>\n",
       "      <td>81.000000</td>\n",
       "      <td>1.000000</td>\n",
       "      <td>0.000000</td>\n",
       "      <td>1.000000</td>\n",
       "      <td>0.000000</td>\n",
       "      <td>7.249215</td>\n",
       "      <td>8.878636</td>\n",
       "    </tr>\n",
       "    <tr>\n",
       "      <th>max</th>\n",
       "      <td>14822.000000</td>\n",
       "      <td>212.000000</td>\n",
       "      <td>97649.898438</td>\n",
       "      <td>56.299999</td>\n",
       "      <td>977.000000</td>\n",
       "      <td>418.000000</td>\n",
       "      <td>1.000000</td>\n",
       "      <td>1.000000</td>\n",
       "      <td>1.000000</td>\n",
       "      <td>1.000000</td>\n",
       "      <td>9.603868</td>\n",
       "      <td>11.489144</td>\n",
       "    </tr>\n",
       "  </tbody>\n",
       "</table>\n",
       "</div>"
      ],
      "text/plain": [
       "             salary    pcsalary         sales         roe       pcroe  \\\n",
       "count    209.000000  209.000000    209.000000  209.000000  209.000000   \n",
       "mean    1281.119617   13.282297   6923.793282   17.184211   10.800478   \n",
       "std     1372.345308   32.633921  10633.271088    8.518509   97.219399   \n",
       "min      223.000000  -61.000000    175.199997    0.500000  -98.900002   \n",
       "25%      736.000000   -1.000000   2210.300049   12.400000  -21.200001   \n",
       "50%     1039.000000    9.000000   3705.199951   15.500000   -3.000000   \n",
       "75%     1407.000000   20.000000   7177.000000   20.000000   19.500000   \n",
       "max    14822.000000  212.000000  97649.898438   56.299999  977.000000   \n",
       "\n",
       "              ros       indus     finance    consprod     utility     lsalary  \\\n",
       "count  209.000000  209.000000  209.000000  209.000000  209.000000  209.000000   \n",
       "mean    61.803828    0.320574    0.220096    0.287081    0.172249    6.950386   \n",
       "std     68.177052    0.467818    0.415306    0.453486    0.378503    0.566374   \n",
       "min    -58.000000    0.000000    0.000000    0.000000    0.000000    5.407172   \n",
       "25%     21.000000    0.000000    0.000000    0.000000    0.000000    6.601230   \n",
       "50%     52.000000    0.000000    0.000000    0.000000    0.000000    6.946014   \n",
       "75%     81.000000    1.000000    0.000000    1.000000    0.000000    7.249215   \n",
       "max    418.000000    1.000000    1.000000    1.000000    1.000000    9.603868   \n",
       "\n",
       "           lsales  \n",
       "count  209.000000  \n",
       "mean     8.292265  \n",
       "std      1.013161  \n",
       "min      5.165928  \n",
       "25%      7.700883  \n",
       "50%      8.217492  \n",
       "75%      8.878636  \n",
       "max     11.489144  "
      ]
     },
     "execution_count": 376,
     "metadata": {},
     "output_type": "execute_result"
    }
   ],
   "source": [
    "import wooldridge as woo\n",
    "import numpy as np\n",
    "import pandas as pd\n",
    "\n",
    "affairs = woo.data('affairs')  # format learned from pipi.org/Wooldridge\n",
    "#affairs=woo.dataWoo('affairs') # this is an old format; still works\n",
    "\n",
    "print({type(ceosal1)})\n",
    "print('\\n  \\n')\n",
    "ceosal1.info()\n",
    "print('\\n  \\n')\n",
    "ceosal1.describe()"
   ]
  },
  {
   "cell_type": "code",
   "execution_count": 407,
   "id": "a5f7e8ea-4022-4a03-9c4a-77c2b9a545d5",
   "metadata": {},
   "outputs": [
    {
     "name": "stdout",
     "output_type": "stream",
     "text": [
      "             salary    pcsalary         sales         roe       pcroe  \\\n",
      "count    209.000000  209.000000    209.000000  209.000000  209.000000   \n",
      "mean    1281.119617   13.282297   6923.793282   17.184211   10.800478   \n",
      "std     1372.345308   32.633921  10633.271088    8.518509   97.219399   \n",
      "min      223.000000  -61.000000    175.199997    0.500000  -98.900002   \n",
      "25%      736.000000   -1.000000   2210.300049   12.400000  -21.200001   \n",
      "50%     1039.000000    9.000000   3705.199951   15.500000   -3.000000   \n",
      "75%     1407.000000   20.000000   7177.000000   20.000000   19.500000   \n",
      "max    14822.000000  212.000000  97649.898438   56.299999  977.000000   \n",
      "\n",
      "              ros       indus     finance    consprod     utility     lsalary  \\\n",
      "count  209.000000  209.000000  209.000000  209.000000  209.000000  209.000000   \n",
      "mean    61.803828    0.320574    0.220096    0.287081    0.172249    6.950386   \n",
      "std     68.177052    0.467818    0.415306    0.453486    0.378503    0.566374   \n",
      "min    -58.000000    0.000000    0.000000    0.000000    0.000000    5.407172   \n",
      "25%     21.000000    0.000000    0.000000    0.000000    0.000000    6.601230   \n",
      "50%     52.000000    0.000000    0.000000    0.000000    0.000000    6.946014   \n",
      "75%     81.000000    1.000000    0.000000    1.000000    0.000000    7.249215   \n",
      "max    418.000000    1.000000    1.000000    1.000000    1.000000    9.603868   \n",
      "\n",
      "           lsales  \n",
      "count  209.000000  \n",
      "mean     8.292265  \n",
      "std      1.013161  \n",
      "min      5.165928  \n",
      "25%      7.700883  \n",
      "50%      8.217492  \n",
      "75%      8.878636  \n",
      "max     11.489144  \n",
      "\n",
      " mean of roe: 17.18421050521175 \n",
      "\n",
      "\n",
      " median of roe: 15.5 \n",
      "\n",
      "\n",
      " sample variance of roe: 72.56498977473412 \n",
      "\n",
      "\n",
      " sample SD of roe: 8.518508659074904 \n",
      "\n",
      "\n",
      " median of roe: 15.5 \n",
      "\n",
      "\n",
      " 10% quantile of roe: 8.979999923706055 \n",
      "\n",
      "\n",
      " 90% qunatile of roe: 26.799999237060547 \n",
      "\n",
      "\n",
      " min of roe: 0.5 \n",
      "\n",
      "\n",
      " max of roe: 56.29999923706055 \n",
      "\n",
      "\n",
      " covariance: \n",
      "[[7.25649898e+01 1.34253840e+03]\n",
      " [1.34253840e+03 1.88333164e+06]] \n",
      "\n",
      "\n",
      " correlation: \n",
      "[[1.         0.11484173]\n",
      " [0.11484173 1.        ]] \n",
      "\n"
     ]
    }
   ],
   "source": [
    "print(ceosal1.describe())\n",
    "\n",
    "print(f'\\n mean of roe: {np.mean(roe)} \\n')\n",
    "print(f'\\n median of roe: {np.median(roe)} \\n')\n",
    "print(f'\\n sample variance of roe: {np.var(roe, ddof=1)} \\n')  # dof=N- ddof\n",
    "print(f'\\n sample SD of roe: {np.std(roe, ddof=1)} \\n')  # dof=N- ddof\n",
    "print(f'\\n median of roe: {np.quantile(roe, 0.5)} \\n')  # quantitle value\n",
    "print(f'\\n 10% quantile of roe: {np.quantile(roe, 0.1)} \\n'\n",
    "      )  # 10% quantitle value\n",
    "print(f'\\n 90% qunatile of roe: {np.quantile(roe, 0.9)} \\n'\n",
    "      )  # 90% quantitle value\n",
    "print(f'\\n min of roe: {np.quantile(roe, 0.0)} \\n')  # quantitle value\n",
    "print(f'\\n max of roe: {np.quantile(roe, 1.0)} \\n')  # quantitle value\n",
    "\n",
    "salary = ceosal1['salary']\n",
    "print(f'\\n covariance: \\n{np.cov(roe, salary)} \\n')\n",
    "print(f'\\n correlation: \\n{np.corrcoef(roe, salary)} \\n')"
   ]
  },
  {
   "cell_type": "code",
   "execution_count": 300,
   "id": "474f7804-d018-4dd4-ab54-24e553501aee",
   "metadata": {},
   "outputs": [
    {
     "name": "stdout",
     "output_type": "stream",
     "text": [
      "(array(['average', 'happy', 'unhappy', 'very happy', 'very unhappy'],\n",
      "      dtype=object), array([ 93, 194,  66, 232,  16], dtype=int64))\n",
      " \n",
      " ['average' 'happy' 'unhappy' 'very happy' 'very unhappy'] \n",
      "\n",
      "['average' 'happy' 'unhappy' 'very happy' 'very unhappy']\n",
      "unique_elem_np: \n",
      " ['average' 'happy' 'unhappy' 'very happy' 'very unhappy']\n",
      "counts_np: [ 93 194  66 232  16] \n",
      "\n",
      "\n",
      "['average' 'happy' 'unhappy' 'very happy' 'very unhappy']\n",
      "[ 93 194  66 232  16] \n",
      "\n"
     ]
    }
   ],
   "source": [
    "import wooldridge as woo\n",
    "import numpy as np\n",
    "import pandas as pd\n",
    "\n",
    "affairs = woo.data('affairs')\n",
    "\n",
    "# This data set include categorical variables, such as ratemarr and kids\n",
    "\n",
    "# adjust codings to [0 - 4] (categoricals require a start from 0 => very happy= 4 & very unhappy= 0):\n",
    "affairs['ratemarr'] = affairs['ratemarr'] - 1\n",
    "\n",
    "# use a pandas Categorical pbject to attach lables for \"haskids\":\n",
    "affairs['haskids'] = pd.Categorical.from_codes(affairs['kids'],\n",
    "                                               categories=['no', 'yes'])\n",
    "\n",
    "# use a pandas Categorical pbject to attach lables for \"marriage\":\n",
    "mlab = ['very unhappy', 'unhappy', 'average', 'happy', 'very happy']\n",
    "affairs['marriage'] = pd.Categorical.from_codes(affairs['ratemarr'],\n",
    "                                                categories=mlab)\n",
    "\n",
    "# frequency table in numpy (alpahbetical order of elements):\n",
    "ft_np = np.unique(affairs['marriage'], return_counts=True)\n",
    "print(ft_np)\n",
    "\n",
    "ft_np2 = np.unique(affairs['marriage'], return_counts=False)\n",
    "print(f' \\n {ft_np2} \\n')\n",
    "\n",
    "unique_elem_np = ft_np[0]\n",
    "print(unique_elem_np)\n",
    "\n",
    "counts_np = ft_np[1]\n",
    "\n",
    "print(f'unique_elem_np: \\n {unique_elem_np}')\n",
    "print(f'counts_np: {counts_np} \\n')\n",
    "\n",
    "print(f'\\n{unique_elem_np}')\n",
    "print(f'{counts_np} \\n')"
   ]
  },
  {
   "cell_type": "code",
   "execution_count": 281,
   "id": "88bb7503-7482-4549-b6e9-8d41cf918088",
   "metadata": {},
   "outputs": [
    {
     "name": "stdout",
     "output_type": "stream",
     "text": [
      "ft_d: \n",
      "very happy      232\n",
      "happy           194\n",
      "average          93\n",
      "unhappy          66\n",
      "very unhappy     16\n",
      "Name: marriage, dtype: int64\n",
      "\n"
     ]
    }
   ],
   "source": [
    "# frequency table in pandas:\n",
    "ft_pd = affairs['marriage'].value_counts()\n",
    "print(f'ft_d: \\n{ft_pd}\\n')"
   ]
  },
  {
   "cell_type": "code",
   "execution_count": 284,
   "id": "6fcd87fa-1ec4-4751-a09b-0f79e5542801",
   "metadata": {},
   "outputs": [
    {
     "name": "stdout",
     "output_type": "stream",
     "text": [
      "ft_pd2: \n",
      "haskids              \n",
      "no       very happy       96\n",
      "         happy            40\n",
      "         average          24\n",
      "         unhappy           8\n",
      "         very unhappy      3\n",
      "yes      happy           154\n",
      "         very happy      136\n",
      "         average          69\n",
      "         unhappy          58\n",
      "         very unhappy     13\n",
      "Name: marriage, dtype: int64\n",
      "\n"
     ]
    }
   ],
   "source": [
    "# frequency table with groupby:\n",
    "ft_pd2 = affairs['marriage'].groupby(affairs['haskids']).value_counts()\n",
    "print(f'ft_pd2: \\n{ft_pd2}\\n')\n"
   ]
  },
  {
   "cell_type": "code",
   "execution_count": 292,
   "id": "6a4cf4d0-0cae-4f6d-a1fa-4b67baac2770",
   "metadata": {},
   "outputs": [
    {
     "name": "stdout",
     "output_type": "stream",
     "text": [
      "haskids       no  yes\n",
      "marriage             \n",
      "very unhappy   3   13\n",
      "unhappy        8   58\n",
      "average       24   69\n",
      "happy         40  154\n",
      "very happy    96  136\n",
      "haskids        no  yes  All\n",
      "marriage                   \n",
      "very unhappy    3   13   16\n",
      "unhappy         8   58   66\n",
      "average        24   69   93\n",
      "happy          40  154  194\n",
      "very happy     96  136  232\n",
      "All           171  430  601\n",
      "haskids       no  yes\n",
      "marriage             \n",
      "very unhappy   3   13\n",
      "unhappy        8   58\n",
      "average       24   69\n",
      "happy         40  154\n",
      "very happy    96  136\n"
     ]
    }
   ],
   "source": [
    "# contingecy table in pandas:\n",
    "ct_all_abs = pd.crosstab(affairs['marriage'], affairs['haskids'])\n",
    "print(ct_all_abs)\n",
    "\n",
    "ct_all_abs = pd.crosstab(affairs['marriage'], affairs['haskids'], margins=True)\n",
    "print(ct_all_abs)\n",
    "\n",
    "ct_all_abs = pd.crosstab(affairs['marriage'],\n",
    "                         affairs['haskids'],\n",
    "                         margins=False)\n",
    "print(ct_all_abs)\n"
   ]
  },
  {
   "cell_type": "code",
   "execution_count": 297,
   "id": "f5c0a8cd-5579-46ef-b3c8-d931c261e1fe",
   "metadata": {},
   "outputs": [
    {
     "name": "stdout",
     "output_type": "stream",
     "text": [
      "ct_all_rel \n",
      " haskids             no       yes       All\n",
      "marriage                                  \n",
      "very unhappy  0.004992  0.021631  0.026622\n",
      "unhappy       0.013311  0.096506  0.109817\n",
      "average       0.039933  0.114809  0.154742\n",
      "happy         0.066556  0.256240  0.322795\n",
      "very happy    0.159734  0.226290  0.386023\n",
      "All           0.284526  0.715474  1.000000\n",
      "\n",
      "ct_rwo_rel \n",
      " haskids             no       yes\n",
      "marriage                        \n",
      "very unhappy  0.187500  0.812500\n",
      "unhappy       0.121212  0.878788\n",
      "average       0.258065  0.741935\n",
      "happy         0.206186  0.793814\n",
      "very happy    0.413793  0.586207\n",
      "All           0.284526  0.715474\n",
      "\n",
      "ct_col_rel \n",
      " haskids             no       yes       All\n",
      "marriage                                  \n",
      "very unhappy  0.017544  0.030233  0.026622\n",
      "unhappy       0.046784  0.134884  0.109817\n",
      "average       0.140351  0.160465  0.154742\n",
      "happy         0.233918  0.358140  0.322795\n",
      "very happy    0.561404  0.316279  0.386023\n",
      "\n"
     ]
    }
   ],
   "source": [
    "# shares in total:\n",
    "ct_all_rel = pd.crosstab(affairs['marriage'],\n",
    "                         affairs['haskids'],\n",
    "                         normalize='all',\n",
    "                         margins=True)\n",
    "print(f'ct_all_rel \\n {ct_all_rel}\\n')\n",
    "\n",
    "# shares within a row ('marriage'):\n",
    "ct_row_rel = pd.crosstab(affairs['marriage'],\n",
    "                         affairs['haskids'],\n",
    "                         normalize='index',\n",
    "                         margins=True)\n",
    "print(f'ct_rwo_rel \\n {ct_row_rel}\\n')\n",
    "\n",
    "# shares within a column ('haskids')\n",
    "ct_col_rel = pd.crosstab(affairs['marriage'],\n",
    "                         affairs['haskids'],\n",
    "                         normalize='columns',\n",
    "                         margins=True)\n",
    "print(f'ct_col_rel \\n {ct_col_rel}\\n')\n"
   ]
  },
  {
   "attachments": {},
   "cell_type": "markdown",
   "id": "02b7cd65-a4c8-4408-9974-4bedaec84626",
   "metadata": {},
   "source": [
    "# Charts & Figures\n"
   ]
  },
  {
   "cell_type": "code",
   "execution_count": 298,
   "id": "3fd4ab1c-79d7-47df-b197-b692af221c1f",
   "metadata": {},
   "outputs": [],
   "source": [
    "import wooldridge as woo\n",
    "import numpy as np\n",
    "import pandas as pd\n",
    "import matplotlib.pyplot as plt"
   ]
  },
  {
   "cell_type": "code",
   "execution_count": 302,
   "id": "1313fcc6-45b2-4f78-90a5-a948f3f94d6e",
   "metadata": {},
   "outputs": [],
   "source": [
    "# Same data set and same initial work\n",
    "\n",
    "affairs = woo.data('affairs')\n",
    "# adjust codings to [0 - 4] (categoricals require a start from 0 => very happy= 4 & very unhappy= 0):\n",
    "affairs['ratemarr'] = affairs['ratemarr'] - 1\n",
    "\n",
    "# use a pandas Categorical pbject to attach lables for \"haskids\":\n",
    "affairs['haskids'] = pd.Categorical.from_codes(affairs['kids'],\n",
    "                                               categories=['no', 'yes'])\n",
    "\n",
    "# use a pandas Categorical pbject to attach lables for \"marriage\":\n",
    "mlab = ['very unhappy', 'unhappy', 'average', 'happy', 'very happy']\n",
    "affairs['marriage'] = pd.Categorical.from_codes(affairs['ratemarr'],\n",
    "                                                categories=mlab)\n",
    "\n",
    "# counts for all graphs:\n",
    "counts = affairs['marriage'].value_counts()\n",
    "counts_bykids = affairs['marriage'].groupby(affairs['haskids']).value_counts()\n",
    "counts_yes = counts_bykids['yes']\n",
    "counts_no = counts_bykids['no']\n"
   ]
  },
  {
   "cell_type": "code",
   "execution_count": 306,
   "id": "856998f4-8745-4e35-9fa3-8f77f68f2a16",
   "metadata": {},
   "outputs": [
    {
     "data": {
      "text/plain": [
       "([<matplotlib.patches.Wedge at 0x192384a2d60>,\n",
       "  <matplotlib.patches.Wedge at 0x192384b0190>,\n",
       "  <matplotlib.patches.Wedge at 0x192384b0670>,\n",
       "  <matplotlib.patches.Wedge at 0x192384b0b50>,\n",
       "  <matplotlib.patches.Wedge at 0x192384bb070>],\n",
       " [Text(0.38551239610497706, 1.030233076759526, 'very unhappy'),\n",
       "  Text(-1.0515328393543526, -0.3229221078826498, 'unhappy'),\n",
       "  Text(0.2479751092027909, -1.0716848161730501, 'average'),\n",
       "  Text(0.9587957908517588, -0.5391758817352188, 'happy'),\n",
       "  Text(1.0961549481565562, -0.0918930336418256, 'very happy')])"
      ]
     },
     "execution_count": 306,
     "metadata": {},
     "output_type": "execute_result"
    },
    {
     "data": {
      "image/png": "[encoded data removed]",
      "text/plain": [
       "<Figure size 432x288 with 1 Axes>"
      ]
     },
     "metadata": {},
     "output_type": "display_data"
    }
   ],
   "source": [
    "# (a) pie charts\n",
    "grey_colors = ['0.3', '0.4', '0.5', '0.6', '0.7']\n",
    "plt.pie(counts, labels=mlab, colors=grey_colors)\n",
    "plt.close()"
   ]
  },
  {
   "cell_type": "code",
   "execution_count": 316,
   "id": "21cdd711-8782-4e60-a0dc-b7eebd494ede",
   "metadata": {},
   "outputs": [
    {
     "data": {
      "text/plain": [
       "([<matplotlib.axis.YTick at 0x192349e7130>,\n",
       "  <matplotlib.axis.YTick at 0x192349e7c10>,\n",
       "  <matplotlib.axis.YTick at 0x192349ed130>,\n",
       "  <matplotlib.axis.YTick at 0x192347ff850>,\n",
       "  <matplotlib.axis.YTick at 0x19234819b80>],\n",
       " [Text(0, 0, 'very unhappy'),\n",
       "  Text(0, 1, 'unhappy'),\n",
       "  Text(0, 2, 'average'),\n",
       "  Text(0, 3, 'happy'),\n",
       "  Text(0, 4, 'very happy')])"
      ]
     },
     "execution_count": 316,
     "metadata": {},
     "output_type": "execute_result"
    },
    {
     "data": {
      "image/png": "[encoded data removed]",
      "text/plain": [
       "<Figure size 432x288 with 1 Axes>"
      ]
     },
     "metadata": {
      "needs_background": "light"
     },
     "output_type": "display_data"
    }
   ],
   "source": [
    "# (b) horizontal bar chart:\n",
    "y_pos = [0, 1, 2, 3, 4]  # the y locations for the bars\n",
    "plt.barh(y_pos, counts, color='blue')\n",
    "#plt.yticks(y_pos, mlab, rotation=60) # add and adjust labeling\n",
    "plt.yticks(y_pos, mlab, rotation=45)\n"
   ]
  },
  {
   "cell_type": "code",
   "execution_count": 318,
   "id": "5b00c208-4600-446a-ae88-78b37670955d",
   "metadata": {},
   "outputs": [
    {
     "data": {
      "text/plain": [
       "<BarContainer object of 5 artists>"
      ]
     },
     "execution_count": 318,
     "metadata": {},
     "output_type": "execute_result"
    },
    {
     "data": {
      "image/png": "[encoded data removed]",
      "text/plain": [
       "<Figure size 432x288 with 1 Axes>"
      ]
     },
     "metadata": {
      "needs_background": "light"
     },
     "output_type": "display_data"
    }
   ],
   "source": [
    "# (c) stacked bar plot:\n",
    "x_pos = [0, 1, 2, 3, 4]  # the x locations for the bars\n",
    "plt.bar(x_pos, counts_yes, width=0.4, color='0.6', label='yes')\n"
   ]
  },
  {
   "cell_type": "code",
   "execution_count": 324,
   "id": "f534bdd0-551e-4f71-b751-ddd7b77043a1",
   "metadata": {},
   "outputs": [
    {
     "data": {
      "text/plain": [
       "<matplotlib.legend.Legend at 0x192363ee2b0>"
      ]
     },
     "execution_count": 324,
     "metadata": {},
     "output_type": "execute_result"
    },
    {
     "data": {
      "image/png": "[encoded data removed]",
      "text/plain": [
       "<Figure size 432x288 with 1 Axes>"
      ]
     },
     "metadata": {
      "needs_background": "light"
     },
     "output_type": "display_data"
    }
   ],
   "source": [
    "# (c) stacked bar plot (continued):\n",
    "x_pos = [0, 1, 2, 3, 4]  # the x locations for the bars\n",
    "plt.bar(x_pos, counts_yes, width=0.4, color='0.6', label='Yes')\n",
    "\n",
    "# now add \"no\" bars on top\n",
    "plt.bar(x_pos,\n",
    "        counts_no,\n",
    "        width=0.6,\n",
    "        bottom=counts_yes,\n",
    "        color='0.3',\n",
    "        label='No')\n",
    "\n",
    "plt.ylabel('Counts')\n",
    "plt.xticks(x_pos, mlab)  # adding labels on x axis\n",
    "plt.legend()"
   ]
  },
  {
   "cell_type": "code",
   "execution_count": 331,
   "id": "93e1ccc4-7a57-4867-8cc0-d58b0696751f",
   "metadata": {},
   "outputs": [
    {
     "data": {
      "text/plain": [
       "<matplotlib.legend.Legend at 0x19235107670>"
      ]
     },
     "execution_count": 331,
     "metadata": {},
     "output_type": "execute_result"
    },
    {
     "data": {
      "image/png": "[encoded data removed]",
      "text/plain": [
       "<Figure size 432x288 with 1 Axes>"
      ]
     },
     "metadata": {
      "needs_background": "light"
     },
     "output_type": "display_data"
    }
   ],
   "source": [
    "# (d) grouped bar plot\n",
    "x_pos_leftbars = [-0.2, 0.8, 1.8, 2.8, 3.8]\n",
    "x_pos_rightbars = [0.2, 1.2, 2.2, 3.2, 4.2]\n",
    "\n",
    "plt.bar(x_pos_leftbars, counts_yes, width=0.4, color='0.6', label='Yes')\n",
    "plt.bar(x_pos_rightbars, counts_no, width=0.5, color='0.3', label='No')\n",
    "\n",
    "plt.ylabel('Counts')\n",
    "plt.xticks(x_pos, mlab)  # adding labels on x axis\n",
    "plt.legend()"
   ]
  },
  {
   "attachments": {},
   "cell_type": "markdown",
   "id": "7f19a984-cfe9-4764-a3a7-ebdf2093cc36",
   "metadata": {},
   "source": [
    "# Histogram\n"
   ]
  },
  {
   "cell_type": "code",
   "execution_count": 337,
   "id": "9495dff9-e172-4fdf-b951-09cfa7793d48",
   "metadata": {},
   "outputs": [
    {
     "data": {
      "text/plain": [
       "Text(0.5, 0, 'Return on Equity (roe)')"
      ]
     },
     "execution_count": 337,
     "metadata": {},
     "output_type": "execute_result"
    },
    {
     "data": {
      "image/png": "[encoded data removed]",
      "text/plain": [
       "<Figure size 432x288 with 1 Axes>"
      ]
     },
     "metadata": {
      "needs_background": "light"
     },
     "output_type": "display_data"
    }
   ],
   "source": [
    "import wooldridge as woo\n",
    "import matplotlib.pyplot as plt\n",
    "\n",
    "ceosal1 = woo.data('ceosal1')\n",
    "\n",
    "# extract roe (return on equity)\n",
    "roe = ceosal1['roe']\n",
    "\n",
    "# histogram with counts:\n",
    "plt.hist(roe, color='yellow')\n",
    "plt.ylabel('Counts')\n",
    "plt.xlabel('Return on Equity (roe)')\n"
   ]
  },
  {
   "cell_type": "code",
   "execution_count": 339,
   "id": "68f16cd7-3375-4823-9f95-dd7124f083dc",
   "metadata": {},
   "outputs": [
    {
     "data": {
      "text/plain": [
       "Text(0.5, 0, 'Return on Equity (roe)')"
      ]
     },
     "execution_count": 339,
     "metadata": {},
     "output_type": "execute_result"
    },
    {
     "data": {
      "image/png": "[encoded data removed]",
      "text/plain": [
       "<Figure size 432x288 with 1 Axes>"
      ]
     },
     "metadata": {
      "needs_background": "light"
     },
     "output_type": "display_data"
    }
   ],
   "source": [
    "# histogram with density:\n",
    "plt.hist(roe, color='green', density=True)\n",
    "plt.ylabel('density')\n",
    "plt.xlabel('Return on Equity (roe)')"
   ]
  },
  {
   "cell_type": "code",
   "execution_count": 374,
   "id": "5496d020-65ec-47f4-926c-1b5bf7a7a398",
   "metadata": {},
   "outputs": [
    {
     "data": {
      "text/plain": [
       "Text(0.5, 0, 'Return on Equity (roe)')"
      ]
     },
     "execution_count": 374,
     "metadata": {},
     "output_type": "execute_result"
    },
    {
     "data": {
      "image/png": "[encoded data removed]",
      "text/plain": [
       "<Figure size 432x288 with 1 Axes>"
      ]
     },
     "metadata": {
      "needs_background": "light"
     },
     "output_type": "display_data"
    }
   ],
   "source": [
    "# histogram with density and explcit breaks:\n",
    "breaks = [0, 5, 10, 15, 20, 25, 30, 35, 40, 45, 50, 55, 60]\n",
    "plt.hist(roe, color='green', bins=breaks, density=True)\n",
    "plt.ylabel('density')\n",
    "plt.xlabel('Return on Equity (roe)')"
   ]
  },
  {
   "cell_type": "code",
   "execution_count": 373,
   "id": "ac307062-c7fa-416b-8e39-4b03c96649d8",
   "metadata": {},
   "outputs": [
    {
     "data": {
      "text/plain": [
       "Text(0.5, 0, 'Return on Equity (roe)')"
      ]
     },
     "execution_count": 373,
     "metadata": {},
     "output_type": "execute_result"
    },
    {
     "data": {
      "image/png": "[encoded data removed]",
      "text/plain": [
       "<Figure size 432x288 with 1 Axes>"
      ]
     },
     "metadata": {
      "needs_background": "light"
     },
     "output_type": "display_data"
    }
   ],
   "source": [
    "# histogram with density and explcit breaks:\n",
    "breaks = [0, 3, 30, 100]\n",
    "plt.hist(roe, color='green', bins=breaks, density=True)\n",
    "plt.ylabel('density')\n",
    "plt.xlabel('Return on Equity (roe)')"
   ]
  },
  {
   "cell_type": "code",
   "execution_count": 383,
   "id": "962edd5f-3006-4fce-b613-2e5be5b45164",
   "metadata": {},
   "outputs": [
    {
     "data": {
      "text/plain": [
       "[<matplotlib.lines.Line2D at 0x1923a3eea90>]"
      ]
     },
     "execution_count": 383,
     "metadata": {},
     "output_type": "execute_result"
    },
    {
     "data": {
      "image/png": "[encoded data removed]",
      "text/plain": [
       "<Figure size 432x288 with 1 Axes>"
      ]
     },
     "metadata": {
      "needs_background": "light"
     },
     "output_type": "display_data"
    }
   ],
   "source": [
    "# Kernal Density (continuous replacement of discrete histogram)\n",
    "\n",
    "import wooldridge as woo\n",
    "import statsmodels.api as sm\n",
    "import matplotlib.pyplot as plt\n",
    "\n",
    "ceosal1 = woo.data('ceosal1')\n",
    "roe = ceosal1['roe']\n",
    "\n",
    "# estimate kernel density\n",
    "kde = sm.nonparametric.KDEUnivariate(roe)\n",
    "kde.fit()\n",
    "\n",
    "plt.plot(kde.support, kde.density, color='black', linewidth=2)\n"
   ]
  },
  {
   "cell_type": "code",
   "execution_count": 386,
   "id": "f52c8ef2-4641-4922-901d-373ea66e49e4",
   "metadata": {},
   "outputs": [
    {
     "data": {
      "text/plain": [
       "Text(0.5, 0, 'Return on Equity (roe)')"
      ]
     },
     "execution_count": 386,
     "metadata": {},
     "output_type": "execute_result"
    },
    {
     "data": {
      "image/png": "[encoded data removed]",
      "text/plain": [
       "<Figure size 432x288 with 1 Axes>"
      ]
     },
     "metadata": {
      "needs_background": "light"
     },
     "output_type": "display_data"
    }
   ],
   "source": [
    "# superimpose the histogram estimate kernel density on the histogram\n",
    "\n",
    "kde = sm.nonparametric.KDEUnivariate(roe)\n",
    "kde.fit()\n",
    "\n",
    "plt.plot(kde.support, kde.density, color='black', linewidth=2)\n",
    "plt.hist(roe, color='0.5', density=True)\n",
    "\n",
    "plt.ylabel('density')\n",
    "plt.xlabel('Return on Equity (roe)')\n"
   ]
  },
  {
   "attachments": {},
   "cell_type": "markdown",
   "id": "ff7e98f6-525b-48e2-8698-4a697059485f",
   "metadata": {},
   "source": [
    "# Statistical Inference - Confidence Interval\n"
   ]
  },
  {
   "cell_type": "code",
   "execution_count": 412,
   "id": "a3ddc21e-537a-42fd-9c94-2ea382f3423d",
   "metadata": {},
   "outputs": [
    {
     "name": "stdout",
     "output_type": "stream",
     "text": [
      "-0.1936300609350276   -0.07193010504007613 \n",
      " \n",
      "-0.21275050976771254   -0.052809656207391184 \n",
      " \n"
     ]
    }
   ],
   "source": [
    "import numpy as np\n",
    "import scipy.stats as stats\n",
    "import wooldridge as woo\n",
    "\n",
    "audit = woo.data('audit')\n",
    "y = audit['y']\n",
    "\n",
    "# ingredients to CI formula:\n",
    "avgy = np.mean(y)\n",
    "n = len(y)\n",
    "sdy = np.std(y, ddof=1)\n",
    "se = sdy / np.sqrt(n)\n",
    "c95 = stats.norm.ppf(0.975)  # percent point function (inverse of cdf)\n",
    "c99 = stats.norm.ppf(0.995)\n",
    "\n",
    "# 95% confidence interval:\n",
    "lowerCI95 = avgy - c95 * se\n",
    "upperCI95 = avgy + c95 * se\n",
    "print(f'{lowerCI95}', '  ' f'{upperCI95} \\n ')\n",
    "\n",
    "# 99% confidence interval:\n",
    "lowerCI99 = avgy - c99 * se\n",
    "upperCI99 = avgy + c99 * se\n",
    "print(f'{lowerCI99}', '  ' f'{upperCI99} \\n ')\n"
   ]
  },
  {
   "attachments": {},
   "cell_type": "markdown",
   "id": "8f093b30-d928-49f8-9ebf-f23034abf00d",
   "metadata": {},
   "source": [
    "# t Tests\n"
   ]
  },
  {
   "attachments": {},
   "cell_type": "markdown",
   "id": "db1ec792-34d8-433e-a316-2c316ffbb2df",
   "metadata": {},
   "source": [
    "## Critical Values\n"
   ]
  },
  {
   "cell_type": "code",
   "execution_count": 415,
   "id": "d8227d97-323f-4ff4-92d4-1cf51d763909",
   "metadata": {},
   "outputs": [
    {
     "name": "stdout",
     "output_type": "stream",
     "text": [
      "Critical t value table: \n",
      "   alpha_one_tailed  alpha_two_tailed        CV\n",
      "0             0.100             0.200  1.327728\n",
      "1             0.050             0.100  1.729133\n",
      "2             0.025             0.050  2.093024\n",
      "3             0.010             0.020  2.539483\n",
      "4             0.005             0.010  2.860935\n",
      "5             0.001             0.002  3.579400\n",
      "\n"
     ]
    }
   ],
   "source": [
    "import numpy as np\n",
    "import pandas as pd\n",
    "import scipy.stats as stats\n",
    "\n",
    "# degrees of freedom = n-1\n",
    "df = 19\n",
    "\n",
    "# significance levels:\n",
    "alpha_one_tailed = np.array([0.1, 0.05, 0.025, 0.01, 0.005, 0.001])\n",
    "alpha_two_tailed = alpha_one_tailed * 2\n",
    "\n",
    "# critical values\n",
    "CV = stats.t.ppf(1 - alpha_one_tailed, df)\n",
    "table = pd.DataFrame({\n",
    "    'alpha_one_tailed': alpha_one_tailed,\n",
    "    'alpha_two_tailed': alpha_two_tailed,\n",
    "    'CV': CV\n",
    "})\n",
    "print(f'Critical t value table: \\n{table}\\n')\n"
   ]
  },
  {
   "attachments": {},
   "cell_type": "markdown",
   "id": "50398af2-a1c3-4fd7-9375-95c6f14fcb63",
   "metadata": {},
   "source": [
    "# one tail t test (H0: beta=0; HA: beta<0)\n"
   ]
  },
  {
   "cell_type": "code",
   "execution_count": 430,
   "id": "886740fd-359f-477e-9b2d-16d404d69ae0",
   "metadata": {},
   "outputs": [
    {
     "name": "stdout",
     "output_type": "stream",
     "text": [
      "\n",
      "  \n",
      "\n",
      "<class 'pandas.core.frame.DataFrame'>\n",
      "RangeIndex: 241 entries, 0 to 240\n",
      "Data columns (total 3 columns):\n",
      " #   Column  Non-Null Count  Dtype\n",
      "---  ------  --------------  -----\n",
      " 0   w       241 non-null    int64\n",
      " 1   b       241 non-null    int64\n",
      " 2   y       241 non-null    int64\n",
      "dtypes: int64(3)\n",
      "memory usage: 5.8 KB\n",
      "\n",
      "  \n",
      "\n"
     ]
    },
    {
     "data": {
      "text/html": [
       "<div>\n",
       "<style scoped>\n",
       "    .dataframe tbody tr th:only-of-type {\n",
       "        vertical-align: middle;\n",
       "    }\n",
       "\n",
       "    .dataframe tbody tr th {\n",
       "        vertical-align: top;\n",
       "    }\n",
       "\n",
       "    .dataframe thead th {\n",
       "        text-align: right;\n",
       "    }\n",
       "</style>\n",
       "<table border=\"1\" class=\"dataframe\">\n",
       "  <thead>\n",
       "    <tr style=\"text-align: right;\">\n",
       "      <th></th>\n",
       "      <th>w</th>\n",
       "      <th>b</th>\n",
       "      <th>y</th>\n",
       "    </tr>\n",
       "  </thead>\n",
       "  <tbody>\n",
       "    <tr>\n",
       "      <th>count</th>\n",
       "      <td>241.000000</td>\n",
       "      <td>241.000000</td>\n",
       "      <td>241.000000</td>\n",
       "    </tr>\n",
       "    <tr>\n",
       "      <th>mean</th>\n",
       "      <td>0.356846</td>\n",
       "      <td>0.224066</td>\n",
       "      <td>-0.132780</td>\n",
       "    </tr>\n",
       "    <tr>\n",
       "      <th>std</th>\n",
       "      <td>0.480066</td>\n",
       "      <td>0.417834</td>\n",
       "      <td>0.481971</td>\n",
       "    </tr>\n",
       "    <tr>\n",
       "      <th>min</th>\n",
       "      <td>0.000000</td>\n",
       "      <td>0.000000</td>\n",
       "      <td>-1.000000</td>\n",
       "    </tr>\n",
       "    <tr>\n",
       "      <th>25%</th>\n",
       "      <td>0.000000</td>\n",
       "      <td>0.000000</td>\n",
       "      <td>0.000000</td>\n",
       "    </tr>\n",
       "    <tr>\n",
       "      <th>50%</th>\n",
       "      <td>0.000000</td>\n",
       "      <td>0.000000</td>\n",
       "      <td>0.000000</td>\n",
       "    </tr>\n",
       "    <tr>\n",
       "      <th>75%</th>\n",
       "      <td>1.000000</td>\n",
       "      <td>0.000000</td>\n",
       "      <td>0.000000</td>\n",
       "    </tr>\n",
       "    <tr>\n",
       "      <th>max</th>\n",
       "      <td>1.000000</td>\n",
       "      <td>1.000000</td>\n",
       "      <td>1.000000</td>\n",
       "    </tr>\n",
       "  </tbody>\n",
       "</table>\n",
       "</div>"
      ],
      "text/plain": [
       "                w           b           y\n",
       "count  241.000000  241.000000  241.000000\n",
       "mean     0.356846    0.224066   -0.132780\n",
       "std      0.480066    0.417834    0.481971\n",
       "min      0.000000    0.000000   -1.000000\n",
       "25%      0.000000    0.000000    0.000000\n",
       "50%      0.000000    0.000000    0.000000\n",
       "75%      1.000000    0.000000    0.000000\n",
       "max      1.000000    1.000000    1.000000"
      ]
     },
     "execution_count": 430,
     "metadata": {},
     "output_type": "execute_result"
    }
   ],
   "source": [
    "# automated computation of t value for H0 (mu=0):\n",
    "import numpy as np\n",
    "import pandas as pd\n",
    "import scipy.stats as stats\n",
    "import wooldridge as woo\n",
    "\n",
    "print('\\n  \\n')\n",
    "audit.info()\n",
    "print('\\n  \\n')\n",
    "audit.describe()\n"
   ]
  },
  {
   "cell_type": "code",
   "execution_count": 429,
   "id": "d53f40db-bbcb-487f-9b81-7ce72f5e6891",
   "metadata": {},
   "outputs": [
    {
     "data": {
      "text/plain": [
       "Ttest_1sampResult(statistic=-4.276816348963646, pvalue=2.738541562225998e-05)"
      ]
     },
     "execution_count": 429,
     "metadata": {},
     "output_type": "execute_result"
    }
   ],
   "source": [
    "audit = woo.data('audit')\n",
    "y = audit['y']\n",
    "\n",
    "stats.ttest_1samp(y, popmean=0)  # one group of sample\n"
   ]
  },
  {
   "cell_type": "code",
   "execution_count": 421,
   "id": "bdf8b0ec-4897-46db-b8e6-c18d4f4450f4",
   "metadata": {},
   "outputs": [
    {
     "name": "stdout",
     "output_type": "stream",
     "text": [
      "t_auto: -4.276816348963646 \n",
      "\n",
      "p_auto: 1.369270781112999e-05 \n",
      "\n"
     ]
    }
   ],
   "source": [
    "# The above automated results: t value is correct but p value is two-sided.\n",
    "# let us get p value for one-sided p value:\n",
    "\n",
    "test_auto = stats.ttest_1samp(y, popmean=0)  # one group of sample\n",
    "t_auto = test_auto.statistic  # access test statistic\n",
    "p_auto = test_auto.pvalue  # access two-sided p value\n",
    "\n",
    "print(f't_auto: {t_auto} \\n')\n",
    "print(f'p_auto: {p_auto /2 } \\n')\n"
   ]
  },
  {
   "cell_type": "code",
   "execution_count": 431,
   "id": "8c71243a-fece-4efa-aba5-cfe74f5108d1",
   "metadata": {},
   "outputs": [
    {
     "name": "stdout",
     "output_type": "stream",
     "text": [
      "t value: -4.27681634896364 \n",
      "\n",
      "Critical t value table: \n",
      "   alpha_one_tailed        CV\n",
      "0             0.100  1.285089\n",
      "1             0.050  1.651227\n",
      "2             0.025  1.969898\n",
      "3             0.010  2.341985\n",
      "4             0.005  2.596469\n",
      "5             0.001  3.124536\n",
      "\n"
     ]
    }
   ],
   "source": [
    "# Manual computation of critical t values:\n",
    "\n",
    "import pandas as pd\n",
    "\n",
    "audit.describe()\n",
    "\n",
    "# ingredients to CI formula:\n",
    "avgy = np.mean(y)\n",
    "n = len(y)\n",
    "sdy = np.std(y, ddof=1)\n",
    "se = sdy / np.sqrt(n)\n",
    "t_manual = avgy / se\n",
    "print(f't value: {t_manual} \\n')\n",
    "\n",
    "c95 = stats.norm.ppf(0.975)  # percent point function (inverse of cdf)\n",
    "c99 = stats.norm.ppf(0.995)\n",
    "\n",
    "# critical t values for dof = n-1 = 240:\n",
    "alpha_one_tailed = np.array([0.1, 0.05, 0.025, 0.01, 0.005, 0.001])\n",
    "CV = stats.t.ppf(1 - alpha_one_tailed, 240)\n",
    "table = pd.DataFrame({'alpha_one_tailed': alpha_one_tailed, 'CV': CV})\n",
    "print(f'Critical t value table: \\n{table}\\n')\n"
   ]
  },
  {
   "cell_type": "code",
   "execution_count": null,
   "id": "a9a59d8c-3944-420c-8b7e-a6ea34b247a9",
   "metadata": {},
   "outputs": [],
   "source": [
    "# t value = -4.27 < negative critical t for any alpha, therefore, we reject H0 in favor of HA."
   ]
  },
  {
   "attachments": {},
   "cell_type": "markdown",
   "id": "f73115d5-cc14-48f5-bf00-20c340a1793f",
   "metadata": {},
   "source": [
    "# File Directory\n"
   ]
  },
  {
   "cell_type": "code",
   "execution_count": 1,
   "id": "bcdbdd65-dd52-4bc7-8f94-2ee6bac2d87a",
   "metadata": {},
   "outputs": [
    {
     "data": {
      "text/plain": [
       "'C:\\\\Users\\\\kcheong1\\\\Fall_2022_Python_1'"
      ]
     },
     "execution_count": 1,
     "metadata": {},
     "output_type": "execute_result"
    }
   ],
   "source": [
    "#Find the current working directory:\n",
    "import os\n",
    "\n",
    "os.getcwd()"
   ]
  },
  {
   "cell_type": "code",
   "execution_count": null,
   "id": "da217363-c7bf-4bc2-9671-244cd88386b4",
   "metadata": {},
   "outputs": [],
   "source": [
    "# import Excel with pandas\n",
    "data = pd.read_excel('sales2')\n",
    "print(f'data: \\n{data} \\n ')\n"
   ]
  },
  {
   "attachments": {},
   "cell_type": "markdown",
   "id": "0c589b79-fa82-4499-a46b-41d969dd793c",
   "metadata": {},
   "source": [
    "=> FileNot Found Error\n"
   ]
  },
  {
   "cell_type": "code",
   "execution_count": 449,
   "id": "5492486a-63ec-4e5e-9436-8a8d7abadd42",
   "metadata": {},
   "outputs": [
    {
     "name": "stdout",
     "output_type": "stream",
     "text": [
      "data: \n",
      "   Unnamed: 0  year  product1  product2  product3\n",
      "0           0  2008         0         1         2\n",
      "1           1  2009         3         2         4\n",
      "2           2  2010         6         3         4\n",
      "3           3  2011         9         5         2\n",
      "4           4  2012         7         9         5\n",
      "5           5  2013         8         6         2\n",
      "6           6  2014        10         8         2 \n",
      " \n"
     ]
    }
   ],
   "source": [
    "# import Excel with pandas\n",
    "data = pd.read_excel(\n",
    "    'C:\\\\Users\\\\kcheong1\\\\Fall_2022_Python_1\\HB Textbook-KSC\\sales2.xlsx')\n",
    "print(f'data: \\n{data} \\n ')\n"
   ]
  },
  {
   "cell_type": "code",
   "execution_count": 446,
   "id": "9aab2f45-5c9f-4b37-961f-87d19df03a64",
   "metadata": {},
   "outputs": [
    {
     "data": {
      "text/plain": [
       "'C:\\\\Users\\\\kcheong1\\\\Fall_2022_Python_1\\\\HB Textbook-KSC'"
      ]
     },
     "execution_count": 446,
     "metadata": {},
     "output_type": "execute_result"
    }
   ],
   "source": [
    "#Change the directory\n",
    "os.chdir(\"C:\\\\Users\\\\kcheong1\\\\Fall_2022_Python_1\\HB Textbook-KSC\")\n",
    "os.getcwd()"
   ]
  },
  {
   "cell_type": "code",
   "execution_count": 450,
   "id": "3045367c-3f2b-459b-865a-1b937f14ffeb",
   "metadata": {},
   "outputs": [
    {
     "name": "stdout",
     "output_type": "stream",
     "text": [
      "data2: \n",
      "   Unnamed: 0  year  product1  product2  product3\n",
      "0           0  2008         0         1         2\n",
      "1           1  2009         3         2         4\n",
      "2           2  2010         6         3         4\n",
      "3           3  2011         9         5         2\n",
      "4           4  2012         7         9         5\n",
      "5           5  2013         8         6         2\n",
      "6           6  2014        10         8         2 \n",
      " \n"
     ]
    }
   ],
   "source": [
    "data2 = pd.read_excel('sales2.xlsx')\n",
    "print(f'data2: \\n{data2} \\n ')"
   ]
  },
  {
   "cell_type": "code",
   "execution_count": null,
   "id": "64954c25-bfb5-4e49-bef8-c829321137d3",
   "metadata": {},
   "outputs": [],
   "source": []
  }
 ],
 "metadata": {
  "kernelspec": {
   "display_name": "Python 3 (ipykernel)",
   "language": "python",
   "name": "python3"
  },
  "language_info": {
   "codemirror_mode": {
    "name": "ipython",
    "version": 3
   },
   "file_extension": ".py",
   "mimetype": "text/x-python",
   "name": "python",
   "nbconvert_exporter": "python",
   "pygments_lexer": "ipython3",
   "version": "3.9.13"
  }
 },
 "nbformat": 4,
 "nbformat_minor": 5
}
