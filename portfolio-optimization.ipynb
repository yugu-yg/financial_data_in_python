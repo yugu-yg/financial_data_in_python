{
 "cells": [
  {
   "attachments": {},
   "cell_type": "markdown",
   "id": "7960cc42-7f17-4b2d-b113-d54c40907194",
   "metadata": {},
   "source": [
    "# Portfolio Optimization\n",
    "\n",
    "### Part 1: Collect and Analyze Data\n",
    "\n",
    "1. Obtain risk-free rates from Ken French's data library using `pandas_datareader` and use these data to calculate log excess returns for each industry-month. As a reminder, log excess returns are defined as log returns minus log risk-free rate.\n",
    "2. Calculate and display average returns and their volatilities in the 1980-2021 sample.\n",
    "3. Calculate the covariance matrix\n",
    "\n",
    "### Part 2: Find Optimal Portfolio\n",
    "\n",
    "Let $\\mathbf{\\mu}$ represent a vector of expected excess returns and $\\Sigma$ represent the covariance matrix. Then a portfolio with weights $\\mathbf{w}$ has a Sharpe ratio of:\n",
    "$$ SR(\\mathbf{w}) = \\frac{\\mathbf{w}' \\times \\mathbf{\\mu}}{ \\sqrt{\\mathbf{w}'\\times \\Sigma \\times \\mathbf{w}} }$$\n",
    "where $'$ denotes a transpose (`.transpose()` in numpy) and $\\times$ denotes matrix multiplication (`@` in numpy).\n",
    "\n",
    "The optimal long-only portfolio is one that maximizes the Sharpe Ratio subject to all weights being between 0 and 1 and all weights summing to 1. In other words, the optimal portfolio $\\mathbf{w}^\\ast$ is given by:\n",
    "$$ \\mathbf{w}^\\ast = \\arg \\max*{\\mathbf{w}} SR(\\mathbf{w}) \\text{ such that } \\mathbf{0}\\_N \\leq \\mathbf{w} \\leq \\mathbf{1}\\_N \\text{ and } \\mathbf{1}\\_N' \\times \\mathbf{w} = 1 $$\n",
    "where $\\mathbf{0}_N$ is an $N$-element vector of zeros, $\\mathbf{1}_N$ is an $N$-element vector of ones, and transpose and matrix multiplication are as previously defined. Note that $\\mathbf{1}_N' \\times \\mathbf{w} = 1$ constraint is equivalent to $\\sum*{i=1}^N w_i = 1$. I wrote it in matrix form to make the next part easier.\n",
    "\n",
    "1. Use `scipy`'s `minimize()` function to find the optimal portfolio assuming future expected returns and covariances will be the same as in the past.\n",
    "2. Which industries does the optimal portfolio take a non-zero position in? Report the weights for these industries only.\n",
    "3. Report the Sharpe Ratio of the optimal portfolio i.e. the maximum Sharpe Ratio you can achieve \"in-sample\" (i.e. using past data).\n",
    "\n",
    "Hint: use the `bounds` argument of `minimize()` to make sure your weights are between 0 and 1. Use the `constraints` argument to set a `LinearConstraint` that ensures that $\\mathbf{1}_N' \\times \\mathbf{w} = 1$. To use these arguments, import `Bounds` and `LinearConstraint` from `scipy.optimize`.\n",
    "\n",
    "- Set `Bounds`'s `lb` and `ub` arguments to set lower and upper bounds respectively.\n",
    "- To configure `LinearConstraint`'s `A`, `lb` and `ub`, think about it as defining the following inequalities $lb \\leq A' \\times \\mathbf{w} \\leq ub$. Compare to your desired constraint $\\mathbf{1}_N' \\times \\mathbf{w} = 1$.\n",
    "\n",
    "### Part 3 (Optional; Bonus): Infer the Market's Expected Returns\n",
    "\n",
    "If all investors use mean-variance analysis with the best available information to allocate their portfolio, then they all should choose the same portfolio i.e. invest the same fractions of the risky part of their portfolio in a given industry. In equilibrium, this demand of investors for assets must equal their supply. This means that the market cap shares of each industry that we observe in the data (market cap share = market cap of an industry / total market cap of all industries) are in fact the portfolio weights chosen by optimizing investors.\n",
    "\n",
    "To see why this is the case, imagine there were only two industries A and B. Every investor uses the same information as every other investor to calculate their optimal portfolio and decides to allocate 35% into A and 65% into B. This means that 35% of all the invested money in the world should be in A and 65% should be in B. In other words, the market cap of A divided by the total market cap of A and B should be 35%.\n",
    "\n",
    "We can use this result to determine the returns on each industry expected by investors. In other words, we can work backwards. Rather than making our own assumptions about expected returns and computing optimal weights given that assumption, we take the weights in the data and figure out what investors must expect future returns to be to have chosen these weights. Inverting mean-variance analysis to calculate expected returns from weights rather than weights from expected returns was the idea of [Fischer Black and Robert Litterman](https://en.wikipedia.org/wiki/Black%E2%80%93Litterman_model).\n",
    "\n",
    "Given covariance matrix $\\Sigma$, the optimal portfolio weights (allowing for short positions) as a function of expected excess returns $\\mathbf{\\mu}$ are given by the simple formula:\n",
    "$$ \\mathbf{w}\\_t(\\mathbf{\\mu}) = \\frac{\\Sigma^{-1}\\mathbf{\\mu}}{ \\mathbf{1}\\_N' \\Sigma^{-1} \\mathbf{\\mu} } $$\n",
    "where $^{-1}$ refers to the matrix inverse, which can be calculated using the `numpy.linalg.inv()` function.\n",
    "\n",
    "_Note: the reason you could not use this formula in Part 2 is that it allows for short positions (i.e. negative weights), whereas in Part 2 I asked you to form a long-only portfolio._\n",
    "\n",
    "1. Compute industry market cap shares in the data in the last month of the sample. Denote them as $\\mathbf{w}_d$.\n",
    "2. Use `scipy.optimize`'s `fsolve()` function to solve for the value of $\\mathbf{\\mu}$ that solves $ \\mathbf{w}\\_t(\\mathbf{\\mu}) = \\mathbf{w}\\_d$.\n",
    "3. Store historical average returns and the Black-Litterman expected returns in the same `DataFrame`. Compare the results. Which industries do investors expect to perform better than in the past? What about worse?\n"
   ]
  },
  {
   "attachments": {},
   "cell_type": "markdown",
   "id": "cc17d47f",
   "metadata": {},
   "source": [
    "### Part 1\n"
   ]
  },
  {
   "cell_type": "code",
   "execution_count": null,
   "id": "171412a5",
   "metadata": {},
   "outputs": [],
   "source": [
    "import numpy as np\n",
    "import pandas as pd\n",
    "import pandas_datareader.data as web"
   ]
  },
  {
   "attachments": {},
   "cell_type": "markdown",
   "id": "fe39ba82",
   "metadata": {},
   "source": [
    "1.\n"
   ]
  },
  {
   "cell_type": "code",
   "execution_count": 8,
   "id": "e6ff2c5f",
   "metadata": {
    "scrolled": true
   },
   "outputs": [
    {
     "data": {
      "text/html": [
       "<div>\n",
       "<style scoped>\n",
       "    .dataframe tbody tr th:only-of-type {\n",
       "        vertical-align: middle;\n",
       "    }\n",
       "\n",
       "    .dataframe tbody tr th {\n",
       "        vertical-align: top;\n",
       "    }\n",
       "\n",
       "    .dataframe thead th {\n",
       "        text-align: right;\n",
       "    }\n",
       "</style>\n",
       "<table border=\"1\" class=\"dataframe\">\n",
       "  <thead>\n",
       "    <tr style=\"text-align: right;\">\n",
       "      <th></th>\n",
       "      <th>industry</th>\n",
       "      <th>vwret</th>\n",
       "      <th>ewret</th>\n",
       "      <th>nfirms</th>\n",
       "      <th>avgsize</th>\n",
       "    </tr>\n",
       "    <tr>\n",
       "      <th>Date</th>\n",
       "      <th></th>\n",
       "      <th></th>\n",
       "      <th></th>\n",
       "      <th></th>\n",
       "      <th></th>\n",
       "    </tr>\n",
       "  </thead>\n",
       "  <tbody>\n",
       "    <tr>\n",
       "      <th>1926-07</th>\n",
       "      <td>NoDur</td>\n",
       "      <td>1.45</td>\n",
       "      <td>1.16</td>\n",
       "      <td>90</td>\n",
       "      <td>31.58</td>\n",
       "    </tr>\n",
       "    <tr>\n",
       "      <th>1926-08</th>\n",
       "      <td>NoDur</td>\n",
       "      <td>3.97</td>\n",
       "      <td>5.00</td>\n",
       "      <td>90</td>\n",
       "      <td>32.00</td>\n",
       "    </tr>\n",
       "    <tr>\n",
       "      <th>1926-09</th>\n",
       "      <td>NoDur</td>\n",
       "      <td>1.14</td>\n",
       "      <td>0.03</td>\n",
       "      <td>90</td>\n",
       "      <td>33.18</td>\n",
       "    </tr>\n",
       "    <tr>\n",
       "      <th>1926-10</th>\n",
       "      <td>NoDur</td>\n",
       "      <td>-1.24</td>\n",
       "      <td>-2.55</td>\n",
       "      <td>90</td>\n",
       "      <td>33.32</td>\n",
       "    </tr>\n",
       "    <tr>\n",
       "      <th>1926-11</th>\n",
       "      <td>NoDur</td>\n",
       "      <td>5.20</td>\n",
       "      <td>6.00</td>\n",
       "      <td>90</td>\n",
       "      <td>32.83</td>\n",
       "    </tr>\n",
       "  </tbody>\n",
       "</table>\n",
       "</div>"
      ],
      "text/plain": [
       "        industry  vwret  ewret  nfirms  avgsize\n",
       "Date                                           \n",
       "1926-07    NoDur   1.45   1.16      90    31.58\n",
       "1926-08    NoDur   3.97   5.00      90    32.00\n",
       "1926-09    NoDur   1.14   0.03      90    33.18\n",
       "1926-10    NoDur  -1.24  -2.55      90    33.32\n",
       "1926-11    NoDur   5.20   6.00      90    32.83"
      ]
     },
     "execution_count": 8,
     "metadata": {},
     "output_type": "execute_result"
    }
   ],
   "source": [
    "# read csv data\n",
    "df_csv = pd.read_csv(\"industry_returns.csv\")\n",
    "df_csv = df_csv.set_index(\"Date\")\n",
    "df_csv.index = pd.to_datetime(df_csv.index).to_period('M')\n",
    "df_csv.head()"
   ]
  },
  {
   "cell_type": "code",
   "execution_count": null,
   "id": "9e4681a5",
   "metadata": {
    "scrolled": false
   },
   "outputs": [
    {
     "data": {
      "text/html": [
       "<div>\n",
       "<style scoped>\n",
       "    .dataframe tbody tr th:only-of-type {\n",
       "        vertical-align: middle;\n",
       "    }\n",
       "\n",
       "    .dataframe tbody tr th {\n",
       "        vertical-align: top;\n",
       "    }\n",
       "\n",
       "    .dataframe thead th {\n",
       "        text-align: right;\n",
       "    }\n",
       "</style>\n",
       "<table border=\"1\" class=\"dataframe\">\n",
       "  <thead>\n",
       "    <tr style=\"text-align: right;\">\n",
       "      <th></th>\n",
       "      <th>Mkt-RF</th>\n",
       "      <th>SMB</th>\n",
       "      <th>HML</th>\n",
       "      <th>RF</th>\n",
       "    </tr>\n",
       "    <tr>\n",
       "      <th>Date</th>\n",
       "      <th></th>\n",
       "      <th></th>\n",
       "      <th></th>\n",
       "      <th></th>\n",
       "    </tr>\n",
       "  </thead>\n",
       "  <tbody>\n",
       "    <tr>\n",
       "      <th>1980-01</th>\n",
       "      <td>5.51</td>\n",
       "      <td>1.62</td>\n",
       "      <td>1.75</td>\n",
       "      <td>0.80</td>\n",
       "    </tr>\n",
       "    <tr>\n",
       "      <th>1980-02</th>\n",
       "      <td>-1.22</td>\n",
       "      <td>-1.85</td>\n",
       "      <td>0.61</td>\n",
       "      <td>0.89</td>\n",
       "    </tr>\n",
       "    <tr>\n",
       "      <th>1980-03</th>\n",
       "      <td>-12.90</td>\n",
       "      <td>-6.64</td>\n",
       "      <td>-1.01</td>\n",
       "      <td>1.21</td>\n",
       "    </tr>\n",
       "    <tr>\n",
       "      <th>1980-04</th>\n",
       "      <td>3.97</td>\n",
       "      <td>1.05</td>\n",
       "      <td>1.06</td>\n",
       "      <td>1.26</td>\n",
       "    </tr>\n",
       "    <tr>\n",
       "      <th>1980-05</th>\n",
       "      <td>5.26</td>\n",
       "      <td>2.13</td>\n",
       "      <td>0.38</td>\n",
       "      <td>0.81</td>\n",
       "    </tr>\n",
       "  </tbody>\n",
       "</table>\n",
       "</div>"
      ],
      "text/plain": [
       "         Mkt-RF   SMB   HML    RF\n",
       "Date                             \n",
       "1980-01    5.51  1.62  1.75  0.80\n",
       "1980-02   -1.22 -1.85  0.61  0.89\n",
       "1980-03  -12.90 -6.64 -1.01  1.21\n",
       "1980-04    3.97  1.05  1.06  1.26\n",
       "1980-05    5.26  2.13  0.38  0.81"
      ]
     },
     "execution_count": 9,
     "metadata": {},
     "output_type": "execute_result"
    }
   ],
   "source": [
    "# read Ken French's data library\n",
    "data = web.DataReader('F-F_Research_Data_Factors',\n",
    "                         'famafrench',\n",
    "                         start='1980-01',\n",
    "                         end='2021-12')\n",
    "df_lib = data[0]\n",
    "df_lib.index = df_lib.index.to_timestamp().to_period('M')\n",
    "df_lib.head()"
   ]
  },
  {
   "cell_type": "code",
   "execution_count": 10,
   "id": "422b7f04",
   "metadata": {},
   "outputs": [
    {
     "data": {
      "text/html": [
       "<div>\n",
       "<style scoped>\n",
       "    .dataframe tbody tr th:only-of-type {\n",
       "        vertical-align: middle;\n",
       "    }\n",
       "\n",
       "    .dataframe tbody tr th {\n",
       "        vertical-align: top;\n",
       "    }\n",
       "\n",
       "    .dataframe thead th {\n",
       "        text-align: right;\n",
       "    }\n",
       "</style>\n",
       "<table border=\"1\" class=\"dataframe\">\n",
       "  <thead>\n",
       "    <tr style=\"text-align: right;\">\n",
       "      <th></th>\n",
       "      <th>industry</th>\n",
       "      <th>vwret</th>\n",
       "      <th>ewret</th>\n",
       "      <th>nfirms</th>\n",
       "      <th>avgsize</th>\n",
       "      <th>Mkt-RF</th>\n",
       "      <th>SMB</th>\n",
       "      <th>HML</th>\n",
       "      <th>RF</th>\n",
       "    </tr>\n",
       "    <tr>\n",
       "      <th>Date</th>\n",
       "      <th></th>\n",
       "      <th></th>\n",
       "      <th></th>\n",
       "      <th></th>\n",
       "      <th></th>\n",
       "      <th></th>\n",
       "      <th></th>\n",
       "      <th></th>\n",
       "      <th></th>\n",
       "    </tr>\n",
       "  </thead>\n",
       "  <tbody>\n",
       "    <tr>\n",
       "      <th>1980-01</th>\n",
       "      <td>NoDur</td>\n",
       "      <td>3.12</td>\n",
       "      <td>7.84</td>\n",
       "      <td>385</td>\n",
       "      <td>177.72</td>\n",
       "      <td>5.51</td>\n",
       "      <td>1.62</td>\n",
       "      <td>1.75</td>\n",
       "      <td>0.80</td>\n",
       "    </tr>\n",
       "    <tr>\n",
       "      <th>1980-01</th>\n",
       "      <td>Durbl</td>\n",
       "      <td>9.06</td>\n",
       "      <td>11.69</td>\n",
       "      <td>150</td>\n",
       "      <td>321.83</td>\n",
       "      <td>5.51</td>\n",
       "      <td>1.62</td>\n",
       "      <td>1.75</td>\n",
       "      <td>0.80</td>\n",
       "    </tr>\n",
       "    <tr>\n",
       "      <th>1980-01</th>\n",
       "      <td>Manuf</td>\n",
       "      <td>7.06</td>\n",
       "      <td>11.90</td>\n",
       "      <td>816</td>\n",
       "      <td>242.32</td>\n",
       "      <td>5.51</td>\n",
       "      <td>1.62</td>\n",
       "      <td>1.75</td>\n",
       "      <td>0.80</td>\n",
       "    </tr>\n",
       "    <tr>\n",
       "      <th>1980-01</th>\n",
       "      <td>Enrgy</td>\n",
       "      <td>14.15</td>\n",
       "      <td>19.13</td>\n",
       "      <td>191</td>\n",
       "      <td>953.31</td>\n",
       "      <td>5.51</td>\n",
       "      <td>1.62</td>\n",
       "      <td>1.75</td>\n",
       "      <td>0.80</td>\n",
       "    </tr>\n",
       "    <tr>\n",
       "      <th>1980-01</th>\n",
       "      <td>HiTec</td>\n",
       "      <td>7.37</td>\n",
       "      <td>14.81</td>\n",
       "      <td>382</td>\n",
       "      <td>246.88</td>\n",
       "      <td>5.51</td>\n",
       "      <td>1.62</td>\n",
       "      <td>1.75</td>\n",
       "      <td>0.80</td>\n",
       "    </tr>\n",
       "    <tr>\n",
       "      <th>...</th>\n",
       "      <td>...</td>\n",
       "      <td>...</td>\n",
       "      <td>...</td>\n",
       "      <td>...</td>\n",
       "      <td>...</td>\n",
       "      <td>...</td>\n",
       "      <td>...</td>\n",
       "      <td>...</td>\n",
       "      <td>...</td>\n",
       "    </tr>\n",
       "    <tr>\n",
       "      <th>2021-12</th>\n",
       "      <td>Telcm</td>\n",
       "      <td>3.90</td>\n",
       "      <td>-0.30</td>\n",
       "      <td>52</td>\n",
       "      <td>25946.89</td>\n",
       "      <td>3.10</td>\n",
       "      <td>-1.66</td>\n",
       "      <td>3.28</td>\n",
       "      <td>0.01</td>\n",
       "    </tr>\n",
       "    <tr>\n",
       "      <th>2021-12</th>\n",
       "      <td>Shops</td>\n",
       "      <td>1.29</td>\n",
       "      <td>1.97</td>\n",
       "      <td>279</td>\n",
       "      <td>18911.07</td>\n",
       "      <td>3.10</td>\n",
       "      <td>-1.66</td>\n",
       "      <td>3.28</td>\n",
       "      <td>0.01</td>\n",
       "    </tr>\n",
       "    <tr>\n",
       "      <th>2021-12</th>\n",
       "      <td>Hlth</td>\n",
       "      <td>6.72</td>\n",
       "      <td>-5.53</td>\n",
       "      <td>810</td>\n",
       "      <td>5055.56</td>\n",
       "      <td>3.10</td>\n",
       "      <td>-1.66</td>\n",
       "      <td>3.28</td>\n",
       "      <td>0.01</td>\n",
       "    </tr>\n",
       "    <tr>\n",
       "      <th>2021-12</th>\n",
       "      <td>Utils</td>\n",
       "      <td>8.57</td>\n",
       "      <td>8.46</td>\n",
       "      <td>73</td>\n",
       "      <td>16214.25</td>\n",
       "      <td>3.10</td>\n",
       "      <td>-1.66</td>\n",
       "      <td>3.28</td>\n",
       "      <td>0.01</td>\n",
       "    </tr>\n",
       "    <tr>\n",
       "      <th>2021-12</th>\n",
       "      <td>Other</td>\n",
       "      <td>4.96</td>\n",
       "      <td>1.83</td>\n",
       "      <td>1223</td>\n",
       "      <td>8765.78</td>\n",
       "      <td>3.10</td>\n",
       "      <td>-1.66</td>\n",
       "      <td>3.28</td>\n",
       "      <td>0.01</td>\n",
       "    </tr>\n",
       "  </tbody>\n",
       "</table>\n",
       "<p>5040 rows × 9 columns</p>\n",
       "</div>"
      ],
      "text/plain": [
       "        industry  vwret  ewret  nfirms   avgsize  Mkt-RF   SMB   HML    RF\n",
       "Date                                                                      \n",
       "1980-01    NoDur   3.12   7.84     385    177.72    5.51  1.62  1.75  0.80\n",
       "1980-01    Durbl   9.06  11.69     150    321.83    5.51  1.62  1.75  0.80\n",
       "1980-01    Manuf   7.06  11.90     816    242.32    5.51  1.62  1.75  0.80\n",
       "1980-01    Enrgy  14.15  19.13     191    953.31    5.51  1.62  1.75  0.80\n",
       "1980-01    HiTec   7.37  14.81     382    246.88    5.51  1.62  1.75  0.80\n",
       "...          ...    ...    ...     ...       ...     ...   ...   ...   ...\n",
       "2021-12    Telcm   3.90  -0.30      52  25946.89    3.10 -1.66  3.28  0.01\n",
       "2021-12    Shops   1.29   1.97     279  18911.07    3.10 -1.66  3.28  0.01\n",
       "2021-12    Hlth    6.72  -5.53     810   5055.56    3.10 -1.66  3.28  0.01\n",
       "2021-12    Utils   8.57   8.46      73  16214.25    3.10 -1.66  3.28  0.01\n",
       "2021-12    Other   4.96   1.83    1223   8765.78    3.10 -1.66  3.28  0.01\n",
       "\n",
       "[5040 rows x 9 columns]"
      ]
     },
     "metadata": {},
     "output_type": "display_data"
    }
   ],
   "source": [
    "# merge two datasets\n",
    "df = df_csv.merge(df_lib, how='inner', left_index=True, right_index=True)\n",
    "display(df)"
   ]
  },
  {
   "cell_type": "code",
   "execution_count": 11,
   "id": "9495bc42",
   "metadata": {},
   "outputs": [
    {
     "data": {
      "text/plain": [
       "Date\n",
       "1980-01    0.067510\n",
       "1980-01    0.102589\n",
       "1980-01    0.104467\n",
       "1980-01    0.167077\n",
       "1980-01    0.130140\n",
       "             ...   \n",
       "2021-12   -0.003105\n",
       "2021-12    0.019408\n",
       "2021-12   -0.056988\n",
       "2021-12    0.081111\n",
       "2021-12    0.018035\n",
       "Freq: M, Name: excess_ew, Length: 5040, dtype: float64"
      ]
     },
     "metadata": {},
     "output_type": "display_data"
    },
    {
     "data": {
      "text/plain": [
       "Date\n",
       "1980-01    0.022755\n",
       "1980-01    0.078760\n",
       "1980-01    0.060251\n",
       "1980-01    0.124375\n",
       "1980-01    0.063142\n",
       "             ...   \n",
       "2021-12    0.038159\n",
       "2021-12    0.012718\n",
       "2021-12    0.064938\n",
       "2021-12    0.082125\n",
       "2021-12    0.048309\n",
       "Freq: M, Name: excess_vw, Length: 5040, dtype: float64"
      ]
     },
     "metadata": {},
     "output_type": "display_data"
    }
   ],
   "source": [
    "# calculate the excess returns\n",
    "df[\"excess_ew\"] = np.log(1 + df[\"ewret\"] / 100) - np.log(1 + df[\"RF\"] / 100)\n",
    "df[\"excess_vw\"] = np.log(1 + df[\"vwret\"] / 100) - np.log(1 + df[\"RF\"] / 100)\n",
    "display(df[\"excess_ew\"])\n",
    "display(df[\"excess_vw\"])"
   ]
  },
  {
   "attachments": {},
   "cell_type": "markdown",
   "id": "fa4ac5ba",
   "metadata": {},
   "source": [
    "2.\n"
   ]
  },
  {
   "cell_type": "code",
   "execution_count": 12,
   "id": "61c63089",
   "metadata": {},
   "outputs": [
    {
     "data": {
      "text/plain": [
       "industry\n",
       "Durbl    0.005084\n",
       "Enrgy   -0.000069\n",
       "HiTec    0.007670\n",
       "Hlth     0.008384\n",
       "Manuf    0.006659\n",
       "NoDur    0.006490\n",
       "Other    0.006921\n",
       "Shops    0.006153\n",
       "Telcm    0.006019\n",
       "Utils    0.007669\n",
       "Name: excess_ew, dtype: float64"
      ]
     },
     "metadata": {},
     "output_type": "display_data"
    },
    {
     "data": {
      "text/plain": [
       "industry\n",
       "Durbl    0.070704\n",
       "Enrgy    0.096446\n",
       "HiTec    0.080354\n",
       "Hlth     0.075048\n",
       "Manuf    0.060670\n",
       "NoDur    0.050720\n",
       "Other    0.051079\n",
       "Shops    0.061892\n",
       "Telcm    0.075684\n",
       "Utils    0.034445\n",
       "Name: excess_ew, dtype: float64"
      ]
     },
     "metadata": {},
     "output_type": "display_data"
    }
   ],
   "source": [
    "ewret_average = df.groupby('industry')['excess_ew'].mean()\n",
    "ewret_volatilities = df.groupby('industry')['excess_ew'].std()\n",
    "\n",
    "# The average returns and volatilities for ewret\n",
    "display(ewret_average)\n",
    "display(ewret_volatilities)"
   ]
  },
  {
   "cell_type": "code",
   "execution_count": 13,
   "id": "7deb2bd5",
   "metadata": {},
   "outputs": [
    {
     "data": {
      "text/plain": [
       "industry\n",
       "Durbl    0.006320\n",
       "Enrgy    0.004458\n",
       "HiTec    0.006546\n",
       "Hlth     0.007483\n",
       "Manuf    0.006600\n",
       "NoDur    0.007737\n",
       "Other    0.005813\n",
       "Shops    0.007873\n",
       "Telcm    0.005424\n",
       "Utils    0.005745\n",
       "Name: excess_vw, dtype: float64"
      ]
     },
     "metadata": {},
     "output_type": "display_data"
    },
    {
     "data": {
      "text/plain": [
       "industry\n",
       "Durbl    0.072099\n",
       "Enrgy    0.063672\n",
       "HiTec    0.067041\n",
       "Hlth     0.045792\n",
       "Manuf    0.050444\n",
       "NoDur    0.041118\n",
       "Other    0.052876\n",
       "Shops    0.049812\n",
       "Telcm    0.049336\n",
       "Utils    0.039296\n",
       "Name: excess_vw, dtype: float64"
      ]
     },
     "metadata": {},
     "output_type": "display_data"
    }
   ],
   "source": [
    "vwret_average = df.groupby('industry')['excess_vw'].mean()\n",
    "vwret_volatilities = df.groupby('industry')['excess_vw'].std()\n",
    "\n",
    "# The average returns and volatilities for vwret\n",
    "display(vwret_average)\n",
    "display(vwret_volatilities)"
   ]
  },
  {
   "attachments": {},
   "cell_type": "markdown",
   "id": "33742d2e",
   "metadata": {},
   "source": [
    "3.\n"
   ]
  },
  {
   "cell_type": "code",
   "execution_count": 14,
   "id": "810ea501",
   "metadata": {},
   "outputs": [
    {
     "name": "stdout",
     "output_type": "stream",
     "text": [
      "industry     Durbl     Enrgy     HiTec     Hlth      Manuf     NoDur  \\\n",
      "industry                                                               \n",
      "Durbl     0.004999  0.004361  0.004650  0.004189  0.004036  0.003274   \n",
      "Enrgy     0.004361  0.009302  0.004137  0.003933  0.004187  0.002966   \n",
      "HiTec     0.004650  0.004137  0.006457  0.005312  0.004122  0.003296   \n",
      "Hlth      0.004189  0.003933  0.005312  0.005632  0.003672  0.003005   \n",
      "Manuf     0.004036  0.004187  0.004122  0.003672  0.003681  0.002859   \n",
      "NoDur     0.003274  0.002966  0.003296  0.003005  0.002859  0.002572   \n",
      "Other     0.003282  0.003222  0.003286  0.003030  0.002888  0.002385   \n",
      "Shops     0.004074  0.003623  0.004162  0.003733  0.003475  0.002973   \n",
      "Telcm     0.004234  0.003828  0.005385  0.004437  0.003706  0.003057   \n",
      "Utils     0.001148  0.001545  0.000976  0.000998  0.001109  0.000921   \n",
      "\n",
      "industry     Other     Shops     Telcm     Utils  \n",
      "industry                                          \n",
      "Durbl     0.003282  0.004074  0.004234  0.001148  \n",
      "Enrgy     0.003222  0.003623  0.003828  0.001545  \n",
      "HiTec     0.003286  0.004162  0.005385  0.000976  \n",
      "Hlth      0.003030  0.003733  0.004437  0.000998  \n",
      "Manuf     0.002888  0.003475  0.003706  0.001109  \n",
      "NoDur     0.002385  0.002973  0.003057  0.000921  \n",
      "Other     0.002609  0.002906  0.003020  0.000952  \n",
      "Shops     0.002906  0.003831  0.003807  0.001012  \n",
      "Telcm     0.003020  0.003807  0.005728  0.001020  \n",
      "Utils     0.000952  0.001012  0.001020  0.001186  \n"
     ]
    }
   ],
   "source": [
    "# the covariance matrix for ewret\n",
    "df_cov_ewret = df.pivot(columns='industry', values='excess_ew')\n",
    "cov_matrix_ewret = df_cov_ewret.cov()\n",
    "print(cov_matrix_ewret)"
   ]
  },
  {
   "cell_type": "code",
   "execution_count": 15,
   "id": "0be8f0ed",
   "metadata": {},
   "outputs": [
    {
     "name": "stdout",
     "output_type": "stream",
     "text": [
      "industry     Durbl     Enrgy     HiTec     Hlth      Manuf     NoDur  \\\n",
      "industry                                                               \n",
      "Durbl     0.005198  0.002244  0.003208  0.001711  0.002925  0.001753   \n",
      "Enrgy     0.002244  0.004054  0.001789  0.001152  0.002031  0.001225   \n",
      "HiTec     0.003208  0.001789  0.004494  0.001759  0.002519  0.001448   \n",
      "Hlth      0.001711  0.001152  0.001759  0.002097  0.001569  0.001387   \n",
      "Manuf     0.002925  0.002031  0.002519  0.001569  0.002545  0.001605   \n",
      "NoDur     0.001753  0.001225  0.001448  0.001387  0.001605  0.001691   \n",
      "Other     0.002971  0.001971  0.002451  0.001678  0.002374  0.001684   \n",
      "Shops     0.002597  0.001337  0.002381  0.001550  0.002051  0.001598   \n",
      "Telcm     0.002077  0.001348  0.002121  0.001315  0.001651  0.001293   \n",
      "Utils     0.001011  0.001225  0.000672  0.000807  0.000961  0.000927   \n",
      "\n",
      "industry     Other     Shops     Telcm     Utils  \n",
      "industry                                          \n",
      "Durbl     0.002971  0.002597  0.002077  0.001011  \n",
      "Enrgy     0.001971  0.001337  0.001348  0.001225  \n",
      "HiTec     0.002451  0.002381  0.002121  0.000672  \n",
      "Hlth      0.001678  0.001550  0.001315  0.000807  \n",
      "Manuf     0.002374  0.002051  0.001651  0.000961  \n",
      "NoDur     0.001684  0.001598  0.001293  0.000927  \n",
      "Other     0.002796  0.002153  0.001820  0.001028  \n",
      "Shops     0.002153  0.002481  0.001612  0.000754  \n",
      "Telcm     0.001820  0.001612  0.002434  0.000850  \n",
      "Utils     0.001028  0.000754  0.000850  0.001544  \n"
     ]
    }
   ],
   "source": [
    "# the covariance matrix for vwret\n",
    "df_cov_vwret = df.pivot(columns='industry', values='excess_vw')\n",
    "cov_matrix_vwret = df_cov_vwret.cov()\n",
    "print(cov_matrix_vwret)"
   ]
  },
  {
   "attachments": {},
   "cell_type": "markdown",
   "id": "85afb8fc",
   "metadata": {},
   "source": [
    "### Part 2\n"
   ]
  },
  {
   "cell_type": "code",
   "execution_count": 16,
   "id": "c96767f8",
   "metadata": {},
   "outputs": [],
   "source": [
    "from scipy.optimize import minimize, Bounds, LinearConstraint\n",
    "import math\n",
    "import matplotlib.pyplot as plt"
   ]
  },
  {
   "attachments": {},
   "cell_type": "markdown",
   "id": "40fd282c",
   "metadata": {},
   "source": [
    "1.\n"
   ]
  },
  {
   "cell_type": "code",
   "execution_count": 17,
   "id": "233f3d58",
   "metadata": {},
   "outputs": [],
   "source": [
    "# find the optimal portfolio\n",
    "def func(W, expected_returns, cov):\n",
    "    SR = W.T @ expected_returns / math.sqrt(W.T @ cov @ W)\n",
    "    return -SR\n",
    "\n",
    "\n",
    "def optimize(expected_returns, cov, size):\n",
    "    W = np.ones((size, 1)) * (1.0 / size)\n",
    "    bounds = Bounds(0, 1)\n",
    "    A = np.ones((size, 1))\n",
    "    linear_constraints = LinearConstraint(A.T, 1, 1)\n",
    "\n",
    "    opt_weights = minimize(func,\n",
    "                           x0=W,\n",
    "                           args=(expected_returns, cov),\n",
    "                           method='SLSQP',\n",
    "                           bounds=bounds,\n",
    "                           constraints=linear_constraints)\n",
    "\n",
    "    return opt_weights['x']"
   ]
  },
  {
   "cell_type": "code",
   "execution_count": 21,
   "id": "7a1db7a2",
   "metadata": {},
   "outputs": [
    {
     "name": "stdout",
     "output_type": "stream",
     "text": [
      "[0.00000000e+00 0.00000000e+00 0.00000000e+00 6.26069156e-02\n",
      " 0.00000000e+00 8.10257159e-16 1.54644549e-15 0.00000000e+00\n",
      " 0.00000000e+00 9.37393084e-01]\n",
      "[0.00000000e+00 4.15401222e-17 2.25251719e-17 1.75805307e-01\n",
      " 0.00000000e+00 4.53890625e-01 6.77363160e-18 9.98610340e-02\n",
      " 0.00000000e+00 2.70443033e-01]\n"
     ]
    },
    {
     "name": "stderr",
     "output_type": "stream",
     "text": [
      "C:\\Users\\58336\\AppData\\Local\\Temp\\ipykernel_9620\\3113632264.py:13: DeprecationWarning: Use of `minimize` with `x0.ndim != 1` is deprecated. Currently, singleton dimensions will be removed from `x0`, but an error will be raised in SciPy 1.11.0.\n",
      "  opt_weights = minimize(func,\n",
      "C:\\Users\\58336\\AppData\\Local\\Temp\\ipykernel_9620\\3113632264.py:13: DeprecationWarning: Use of `minimize` with `x0.ndim != 1` is deprecated. Currently, singleton dimensions will be removed from `x0`, but an error will be raised in SciPy 1.11.0.\n",
      "  opt_weights = minimize(func,\n"
     ]
    }
   ],
   "source": [
    "cov_matrix_ew_excess = df.pivot(columns='industry', values='excess_ew').cov()\n",
    "cov_matrix_ew_excess = cov_matrix_ew_excess.to_numpy()\n",
    "cov_matrix_vw_excess = df.pivot(columns='industry', values='excess_vw').cov()\n",
    "cov_matrix_vw_excess = cov_matrix_vw_excess.to_numpy()\n",
    "\n",
    "ew_average = df.groupby('industry')[\"excess_ew\"].mean()\n",
    "vw_average = df.groupby('industry')[\"excess_vw\"].mean()\n",
    "\n",
    "ew_average = np.array(ew_average).reshape(10, 1)\n",
    "vw_average = np.array(vw_average).reshape(10, 1)\n",
    "\n",
    "opt_weights_ew = optimize(ew_average, cov_matrix_ew_excess, 10)\n",
    "opt_weights_vw = optimize(vw_average, cov_matrix_vw_excess, 10)\n",
    "\n",
    "print(opt_weights_ew)\n",
    "print(opt_weights_vw)"
   ]
  },
  {
   "cell_type": "code",
   "execution_count": 22,
   "id": "57afeeac",
   "metadata": {},
   "outputs": [
    {
     "data": {
      "text/plain": [
       "<BarContainer object of 10 artists>"
      ]
     },
     "execution_count": 22,
     "metadata": {},
     "output_type": "execute_result"
    },
    {
     "data": {
      "image/png": "[encoded data removed]",
      "text/plain": [
       "<Figure size 640x480 with 1 Axes>"
      ]
     },
     "metadata": {},
     "output_type": "display_data"
    }
   ],
   "source": [
    "plt.bar(range(1, 11), opt_weights_ew)"
   ]
  },
  {
   "cell_type": "code",
   "execution_count": 23,
   "id": "e39d49ae",
   "metadata": {},
   "outputs": [
    {
     "data": {
      "text/plain": [
       "<BarContainer object of 10 artists>"
      ]
     },
     "execution_count": 23,
     "metadata": {},
     "output_type": "execute_result"
    },
    {
     "data": {
      "image/png": "[encoded data removed]",
      "text/plain": [
       "<Figure size 640x480 with 1 Axes>"
      ]
     },
     "metadata": {},
     "output_type": "display_data"
    }
   ],
   "source": [
    "plt.bar(range(1, 11), opt_weights_vw)"
   ]
  },
  {
   "attachments": {},
   "cell_type": "markdown",
   "id": "621b0758",
   "metadata": {},
   "source": [
    "2.\n"
   ]
  },
  {
   "cell_type": "code",
   "execution_count": 24,
   "id": "95793d93",
   "metadata": {},
   "outputs": [
    {
     "name": "stdout",
     "output_type": "stream",
     "text": [
      "['Hlth', 'NoDur', 'Other', 'Utils']\n",
      "['Enrgy', 'HiTec', 'Hlth', 'NoDur', 'Other', 'Shops', 'Utils']\n"
     ]
    }
   ],
   "source": [
    "# report non-zero portfolio industry\n",
    "def report_industry(industry, weights):\n",
    "    res = []\n",
    "    for i in range(10):\n",
    "        if (weights[i] > 0):\n",
    "            res.append(industry[i])\n",
    "\n",
    "    print(res)\n",
    "\n",
    "\n",
    "industry = [\n",
    "    'Durbl', 'Enrgy', 'HiTec', 'Hlth', 'Manuf', 'NoDur', 'Other', 'Shops',\n",
    "    'Telcm', 'Utils'\n",
    "]\n",
    "report_industry(industry, opt_weights_ew)\n",
    "report_industry(industry, opt_weights_vw)"
   ]
  },
  {
   "attachments": {},
   "cell_type": "markdown",
   "id": "3d20eec9",
   "metadata": {},
   "source": [
    "3.\n"
   ]
  },
  {
   "cell_type": "code",
   "execution_count": 25,
   "id": "86faed0d",
   "metadata": {},
   "outputs": [
    {
     "name": "stdout",
     "output_type": "stream",
     "text": [
      "[0.22440455]\n",
      "[0.19590949]\n"
     ]
    }
   ],
   "source": [
    "# maximum Sharpe Ratio\n",
    "max_SR_ew = -func(opt_weights_ew, ew_average, cov_matrix_ew_excess)\n",
    "print(max_SR_ew)\n",
    "\n",
    "max_SR_vw = -func(opt_weights_vw, ew_average, cov_matrix_vw_excess)\n",
    "print(max_SR_vw)"
   ]
  },
  {
   "attachments": {},
   "cell_type": "markdown",
   "id": "ddae8af4",
   "metadata": {},
   "source": [
    "### Part 3\n"
   ]
  },
  {
   "cell_type": "code",
   "execution_count": 26,
   "id": "964ddb95",
   "metadata": {},
   "outputs": [],
   "source": [
    "import scipy.optimize"
   ]
  },
  {
   "attachments": {},
   "cell_type": "markdown",
   "id": "8d83a805",
   "metadata": {},
   "source": [
    "1.\n"
   ]
  },
  {
   "cell_type": "code",
   "execution_count": 27,
   "id": "b20ebe78",
   "metadata": {},
   "outputs": [
    {
     "name": "stdout",
     "output_type": "stream",
     "text": [
      "[0.03440041 0.03196023 0.07741833 0.02162361 0.36587637 0.02795258\n",
      " 0.10930839 0.08483742 0.02452183 0.22210084]\n"
     ]
    }
   ],
   "source": [
    "#calculate industry market cap share\n",
    "df_last_month = df[df.index == '2021-12']\n",
    "nfirms = df_last_month[\"nfirms\"].to_numpy()\n",
    "avgsize = df_last_month[\"avgsize\"].to_numpy()\n",
    "\n",
    "w_d = nfirms * avgsize\n",
    "w_d = w_d / sum(w_d)\n",
    "print(w_d)"
   ]
  },
  {
   "attachments": {},
   "cell_type": "markdown",
   "id": "068224a5",
   "metadata": {},
   "source": [
    "2.\n"
   ]
  },
  {
   "cell_type": "code",
   "execution_count": 28,
   "id": "014c1b9b",
   "metadata": {},
   "outputs": [],
   "source": [
    "def func_2(x, w_d, cov):\n",
    "    A = np.ones((10, 1))\n",
    "    w_t = (np.linalg.inv(cov) @ x) / (A.T @ np.linalg.inv(cov) @ x)\n",
    "    return w_t - w_d\n",
    "\n",
    "\n",
    "def solve_expected_returns(x0, cov, w_d):\n",
    "    x = scipy.optimize.fsolve(func_2, x0=x0, args=(w_d, cov))\n",
    "\n",
    "    return x"
   ]
  },
  {
   "cell_type": "code",
   "execution_count": 29,
   "id": "fe63686d",
   "metadata": {},
   "outputs": [
    {
     "name": "stdout",
     "output_type": "stream",
     "text": [
      "[0.00906706 0.00652531 0.00800854 0.00518717 0.00753683 0.00524971\n",
      " 0.00757433 0.00658422 0.00560882 0.00388657]\n"
     ]
    }
   ],
   "source": [
    "expected_returns_vw = solve_expected_returns(vw_average, cov_matrix_vw_excess,\n",
    "                                             w_d)\n",
    "print(expected_returns_vw)"
   ]
  },
  {
   "attachments": {},
   "cell_type": "markdown",
   "id": "5d9e0917",
   "metadata": {},
   "source": [
    "3.\n"
   ]
  },
  {
   "cell_type": "code",
   "execution_count": 30,
   "id": "8a867bb3",
   "metadata": {},
   "outputs": [
    {
     "data": {
      "text/html": [
       "<div>\n",
       "<style scoped>\n",
       "    .dataframe tbody tr th:only-of-type {\n",
       "        vertical-align: middle;\n",
       "    }\n",
       "\n",
       "    .dataframe tbody tr th {\n",
       "        vertical-align: top;\n",
       "    }\n",
       "\n",
       "    .dataframe thead th {\n",
       "        text-align: right;\n",
       "    }\n",
       "</style>\n",
       "<table border=\"1\" class=\"dataframe\">\n",
       "  <thead>\n",
       "    <tr style=\"text-align: right;\">\n",
       "      <th></th>\n",
       "      <th>historical average returns</th>\n",
       "      <th>expected average returns</th>\n",
       "    </tr>\n",
       "  </thead>\n",
       "  <tbody>\n",
       "    <tr>\n",
       "      <th>Durbl</th>\n",
       "      <td>0.006320</td>\n",
       "      <td>0.009067</td>\n",
       "    </tr>\n",
       "    <tr>\n",
       "      <th>Enrgy</th>\n",
       "      <td>0.004458</td>\n",
       "      <td>0.006525</td>\n",
       "    </tr>\n",
       "    <tr>\n",
       "      <th>HiTec</th>\n",
       "      <td>0.006546</td>\n",
       "      <td>0.008009</td>\n",
       "    </tr>\n",
       "    <tr>\n",
       "      <th>Hlth</th>\n",
       "      <td>0.007483</td>\n",
       "      <td>0.005187</td>\n",
       "    </tr>\n",
       "    <tr>\n",
       "      <th>Manuf</th>\n",
       "      <td>0.006600</td>\n",
       "      <td>0.007537</td>\n",
       "    </tr>\n",
       "    <tr>\n",
       "      <th>NoDur</th>\n",
       "      <td>0.007737</td>\n",
       "      <td>0.005250</td>\n",
       "    </tr>\n",
       "    <tr>\n",
       "      <th>Other</th>\n",
       "      <td>0.005813</td>\n",
       "      <td>0.007574</td>\n",
       "    </tr>\n",
       "    <tr>\n",
       "      <th>Shops</th>\n",
       "      <td>0.007873</td>\n",
       "      <td>0.006584</td>\n",
       "    </tr>\n",
       "    <tr>\n",
       "      <th>Telcm</th>\n",
       "      <td>0.005424</td>\n",
       "      <td>0.005609</td>\n",
       "    </tr>\n",
       "    <tr>\n",
       "      <th>Utils</th>\n",
       "      <td>0.005745</td>\n",
       "      <td>0.003887</td>\n",
       "    </tr>\n",
       "  </tbody>\n",
       "</table>\n",
       "</div>"
      ],
      "text/plain": [
       "       historical average returns  expected average returns\n",
       "Durbl                    0.006320                  0.009067\n",
       "Enrgy                    0.004458                  0.006525\n",
       "HiTec                    0.006546                  0.008009\n",
       "Hlth                     0.007483                  0.005187\n",
       "Manuf                    0.006600                  0.007537\n",
       "NoDur                    0.007737                  0.005250\n",
       "Other                    0.005813                  0.007574\n",
       "Shops                    0.007873                  0.006584\n",
       "Telcm                    0.005424                  0.005609\n",
       "Utils                    0.005745                  0.003887"
      ]
     },
     "execution_count": 30,
     "metadata": {},
     "output_type": "execute_result"
    }
   ],
   "source": [
    "df_res_vw = pd.DataFrame(data={\n",
    "    'historical average returns': vw_average[:, 0],\n",
    "    'expected average returns': expected_returns_vw\n",
    "},\n",
    "                         index=industry)\n",
    "df_res_vw"
   ]
  }
 ],
 "metadata": {
  "kernelspec": {
   "display_name": "Python 3 (ipykernel)",
   "language": "python",
   "name": "python3"
  },
  "language_info": {
   "codemirror_mode": {
    "name": "ipython",
    "version": 3
   },
   "file_extension": ".py",
   "mimetype": "text/x-python",
   "name": "python",
   "nbconvert_exporter": "python",
   "pygments_lexer": "ipython3",
   "version": "3.9.12 (main, Apr  4 2022, 05:22:27) [MSC v.1916 64 bit (AMD64)]"
  },
  "vscode": {
   "interpreter": {
    "hash": "b09ec625f77bf4fd762565a912b97636504ad6ec901eb2d0f4cf5a7de23e1ee5"
   }
  }
 },
 "nbformat": 4,
 "nbformat_minor": 5
}
